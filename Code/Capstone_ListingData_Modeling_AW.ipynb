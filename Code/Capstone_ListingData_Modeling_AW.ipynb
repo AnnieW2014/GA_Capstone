{
 "cells": [
  {
   "cell_type": "markdown",
   "id": "cf14df8f-b369-4937-96b7-4bac6cd4e580",
   "metadata": {},
   "source": [
    "# Stage 1 Model: predict listing price based on listing features"
   ]
  },
  {
   "cell_type": "code",
   "execution_count": 1,
   "id": "8e1b3980-503d-4f4b-878c-feb221e74182",
   "metadata": {},
   "outputs": [],
   "source": [
    "import numpy as np\n",
    "import pandas as pd\n",
    "import matplotlib.pyplot as plt\n",
    "import seaborn as sns\n",
    "\n",
    "from sklearn.preprocessing import StandardScaler, OneHotEncoder\n",
    "from sklearn.ensemble import RandomForestRegressor\n",
    "from sklearn.model_selection import train_test_split, cross_val_score, GridSearchCV\n",
    "from sklearn.pipeline import Pipeline\n",
    "from sklearn import metrics\n",
    "\n",
    "from xgboost import XGBRegressor\n",
    "import category_encoders as ce\n",
    "import datetime\n",
    "import joblib"
   ]
  },
  {
   "cell_type": "markdown",
   "id": "9f4a9f83-b873-4e76-a394-fef1fe8195b2",
   "metadata": {},
   "source": [
    "[Python - How to Save and Load ML Models](https://www.kaggle.com/prmohanty/python-how-to-save-and-load-ml-models)"
   ]
  },
  {
   "cell_type": "markdown",
   "id": "46d3d2a7-d961-49e9-809e-81e58b9282b9",
   "metadata": {},
   "source": [
    "## Finalize features and target variable\n",
    "- target variable is price"
   ]
  },
  {
   "cell_type": "code",
   "execution_count": 440,
   "id": "b2fff364-9971-4224-a16e-491aabfe3775",
   "metadata": {},
   "outputs": [
    {
     "name": "stdout",
     "output_type": "stream",
     "text": [
      "(9825, 39)\n"
     ]
    },
    {
     "data": {
      "text/html": [
       "<div>\n",
       "<style scoped>\n",
       "    .dataframe tbody tr th:only-of-type {\n",
       "        vertical-align: middle;\n",
       "    }\n",
       "\n",
       "    .dataframe tbody tr th {\n",
       "        vertical-align: top;\n",
       "    }\n",
       "\n",
       "    .dataframe thead th {\n",
       "        text-align: right;\n",
       "    }\n",
       "</style>\n",
       "<table border=\"1\" class=\"dataframe\">\n",
       "  <thead>\n",
       "    <tr style=\"text-align: right;\">\n",
       "      <th></th>\n",
       "      <th>neighborhood_recoded</th>\n",
       "      <th>county</th>\n",
       "      <th>property_type_recoded</th>\n",
       "      <th>accommodates</th>\n",
       "      <th>bedrooms</th>\n",
       "      <th>beds</th>\n",
       "      <th>bathrooms</th>\n",
       "      <th>bathroom_type</th>\n",
       "      <th>minimum_nights</th>\n",
       "      <th>maximum_nights</th>\n",
       "      <th>...</th>\n",
       "      <th>neighborhood_overview_f</th>\n",
       "      <th>host_about_f</th>\n",
       "      <th>host_response_time_f</th>\n",
       "      <th>host_response_rate_f</th>\n",
       "      <th>host_acceptance_rate_f</th>\n",
       "      <th>host_neighbourhood_f</th>\n",
       "      <th>price</th>\n",
       "      <th>availability_30</th>\n",
       "      <th>availability_60</th>\n",
       "      <th>availability_90</th>\n",
       "    </tr>\n",
       "  </thead>\n",
       "  <tbody>\n",
       "    <tr>\n",
       "      <th>0</th>\n",
       "      <td>Western Addition</td>\n",
       "      <td>San Francisco</td>\n",
       "      <td>Entire serviced apartment</td>\n",
       "      <td>3</td>\n",
       "      <td>1.0</td>\n",
       "      <td>2.0</td>\n",
       "      <td>1.0</td>\n",
       "      <td>private</td>\n",
       "      <td>2</td>\n",
       "      <td>30</td>\n",
       "      <td>...</td>\n",
       "      <td>1</td>\n",
       "      <td>1</td>\n",
       "      <td>1</td>\n",
       "      <td>1</td>\n",
       "      <td>1</td>\n",
       "      <td>1</td>\n",
       "      <td>161.0</td>\n",
       "      <td>7</td>\n",
       "      <td>7</td>\n",
       "      <td>10</td>\n",
       "    </tr>\n",
       "    <tr>\n",
       "      <th>1</th>\n",
       "      <td>Bernal Heights</td>\n",
       "      <td>San Francisco</td>\n",
       "      <td>Entire rental unit</td>\n",
       "      <td>5</td>\n",
       "      <td>2.0</td>\n",
       "      <td>3.0</td>\n",
       "      <td>1.0</td>\n",
       "      <td>private</td>\n",
       "      <td>30</td>\n",
       "      <td>60</td>\n",
       "      <td>...</td>\n",
       "      <td>1</td>\n",
       "      <td>1</td>\n",
       "      <td>1</td>\n",
       "      <td>1</td>\n",
       "      <td>1</td>\n",
       "      <td>1</td>\n",
       "      <td>235.0</td>\n",
       "      <td>30</td>\n",
       "      <td>60</td>\n",
       "      <td>90</td>\n",
       "    </tr>\n",
       "    <tr>\n",
       "      <th>2</th>\n",
       "      <td>Haight Ashbury</td>\n",
       "      <td>San Francisco</td>\n",
       "      <td>Private room in rental unit</td>\n",
       "      <td>2</td>\n",
       "      <td>1.0</td>\n",
       "      <td>1.0</td>\n",
       "      <td>4.0</td>\n",
       "      <td>shared</td>\n",
       "      <td>32</td>\n",
       "      <td>60</td>\n",
       "      <td>...</td>\n",
       "      <td>1</td>\n",
       "      <td>1</td>\n",
       "      <td>1</td>\n",
       "      <td>1</td>\n",
       "      <td>1</td>\n",
       "      <td>1</td>\n",
       "      <td>56.0</td>\n",
       "      <td>30</td>\n",
       "      <td>60</td>\n",
       "      <td>90</td>\n",
       "    </tr>\n",
       "    <tr>\n",
       "      <th>3</th>\n",
       "      <td>Haight Ashbury</td>\n",
       "      <td>San Francisco</td>\n",
       "      <td>Private room in rental unit</td>\n",
       "      <td>2</td>\n",
       "      <td>1.0</td>\n",
       "      <td>1.0</td>\n",
       "      <td>4.0</td>\n",
       "      <td>shared</td>\n",
       "      <td>32</td>\n",
       "      <td>90</td>\n",
       "      <td>...</td>\n",
       "      <td>0</td>\n",
       "      <td>1</td>\n",
       "      <td>1</td>\n",
       "      <td>1</td>\n",
       "      <td>1</td>\n",
       "      <td>1</td>\n",
       "      <td>56.0</td>\n",
       "      <td>30</td>\n",
       "      <td>60</td>\n",
       "      <td>90</td>\n",
       "    </tr>\n",
       "    <tr>\n",
       "      <th>4</th>\n",
       "      <td>Western Addition</td>\n",
       "      <td>San Francisco</td>\n",
       "      <td>Entire condominium (condo)</td>\n",
       "      <td>4</td>\n",
       "      <td>2.0</td>\n",
       "      <td>2.0</td>\n",
       "      <td>1.5</td>\n",
       "      <td>private</td>\n",
       "      <td>7</td>\n",
       "      <td>111</td>\n",
       "      <td>...</td>\n",
       "      <td>0</td>\n",
       "      <td>1</td>\n",
       "      <td>1</td>\n",
       "      <td>1</td>\n",
       "      <td>1</td>\n",
       "      <td>1</td>\n",
       "      <td>895.0</td>\n",
       "      <td>29</td>\n",
       "      <td>59</td>\n",
       "      <td>89</td>\n",
       "    </tr>\n",
       "  </tbody>\n",
       "</table>\n",
       "<p>5 rows × 39 columns</p>\n",
       "</div>"
      ],
      "text/plain": [
       "  neighborhood_recoded         county        property_type_recoded  \\\n",
       "0     Western Addition  San Francisco    Entire serviced apartment   \n",
       "1       Bernal Heights  San Francisco           Entire rental unit   \n",
       "2       Haight Ashbury  San Francisco  Private room in rental unit   \n",
       "3       Haight Ashbury  San Francisco  Private room in rental unit   \n",
       "4     Western Addition  San Francisco   Entire condominium (condo)   \n",
       "\n",
       "   accommodates  bedrooms  beds  bathrooms bathroom_type  minimum_nights  \\\n",
       "0             3       1.0   2.0        1.0       private               2   \n",
       "1             5       2.0   3.0        1.0       private              30   \n",
       "2             2       1.0   1.0        4.0        shared              32   \n",
       "3             2       1.0   1.0        4.0        shared              32   \n",
       "4             4       2.0   2.0        1.5       private               7   \n",
       "\n",
       "   maximum_nights  ...  neighborhood_overview_f  host_about_f  \\\n",
       "0              30  ...                        1             1   \n",
       "1              60  ...                        1             1   \n",
       "2              60  ...                        1             1   \n",
       "3              90  ...                        0             1   \n",
       "4             111  ...                        0             1   \n",
       "\n",
       "   host_response_time_f  host_response_rate_f  host_acceptance_rate_f  \\\n",
       "0                     1                     1                       1   \n",
       "1                     1                     1                       1   \n",
       "2                     1                     1                       1   \n",
       "3                     1                     1                       1   \n",
       "4                     1                     1                       1   \n",
       "\n",
       "   host_neighbourhood_f  price  availability_30  availability_60  \\\n",
       "0                     1  161.0                7                7   \n",
       "1                     1  235.0               30               60   \n",
       "2                     1   56.0               30               60   \n",
       "3                     1   56.0               30               60   \n",
       "4                     1  895.0               29               59   \n",
       "\n",
       "   availability_90  \n",
       "0               10  \n",
       "1               90  \n",
       "2               90  \n",
       "3               90  \n",
       "4               89  \n",
       "\n",
       "[5 rows x 39 columns]"
      ]
     },
     "execution_count": 440,
     "metadata": {},
     "output_type": "execute_result"
    }
   ],
   "source": [
    "df = pd.read_csv('../../Large_Data/Listings_combined_cleaned.csv')\n",
    "print(df.shape)\n",
    "df.head()"
   ]
  },
  {
   "cell_type": "code",
   "execution_count": 441,
   "id": "aa239681-13eb-4acc-984f-42284ee5e344",
   "metadata": {},
   "outputs": [
    {
     "data": {
      "text/plain": [
       "Index(['neighborhood_recoded', 'county', 'property_type_recoded',\n",
       "       'accommodates', 'bedrooms', 'beds', 'bathrooms', 'bathroom_type',\n",
       "       'minimum_nights', 'maximum_nights', 'Wifi', 'Dedicated_workspace',\n",
       "       'Patio_or_balcony', 'Backyard', 'BBQ_grill', 'Outdoor_furniture',\n",
       "       'Indoor_fireplace', 'Private_entrance', 'Pool', 'review_scores_rating',\n",
       "       'review_scores_accuracy', 'review_scores_cleanliness',\n",
       "       'review_scores_checkin', 'review_scores_communication',\n",
       "       'review_scores_location', 'review_scores_value', 'number_of_reviews',\n",
       "       'number_of_reviews_ltm', 'number_of_reviews_l30d',\n",
       "       'neighborhood_overview_f', 'host_about_f', 'host_response_time_f',\n",
       "       'host_response_rate_f', 'host_acceptance_rate_f',\n",
       "       'host_neighbourhood_f', 'price', 'availability_30', 'availability_60',\n",
       "       'availability_90'],\n",
       "      dtype='object')"
      ]
     },
     "execution_count": 441,
     "metadata": {},
     "output_type": "execute_result"
    }
   ],
   "source": [
    "df.columns"
   ]
  },
  {
   "cell_type": "code",
   "execution_count": 442,
   "id": "26db4537-a475-4f2b-8f3a-7e45e1c67fe2",
   "metadata": {},
   "outputs": [
    {
     "data": {
      "text/plain": [
       "((7368, 36), (7368,), (2457, 36), (2457,))"
      ]
     },
     "execution_count": 442,
     "metadata": {},
     "output_type": "execute_result"
    }
   ],
   "source": [
    "# create X and y\n",
    "X = df.drop(columns=['price','availability_30', 'availability_60','availability_90'])\n",
    "y = df['price']\n",
    "\n",
    "# create a 'random' column in X\n",
    "X['random'] = np.random.random(X.shape[0])\n",
    "\n",
    "# build the model\n",
    "m1_pipe_xgb_base_random = Pipeline([\n",
    "    ('ohe', ce.one_hot.OneHotEncoder(use_cat_names=True, handle_unknown='value')),\n",
    "    ('xgb', XGBRegressor(n_estimators=400, max_depth=4, eta=0.03, reg_lambda=30, reg_alpha=30, random_state=42, n_jobs=-1))\n",
    "])\n",
    "\n",
    "X_train, X_test, y_train, y_test = train_test_split(X, y, test_size=0.25, random_state=42)\n",
    "X_train.shape, y_train.shape, X_test.shape, y_test.shape"
   ]
  },
  {
   "cell_type": "code",
   "execution_count": 443,
   "id": "5912f134-89f4-4bad-a0a1-8dd22c3babc8",
   "metadata": {},
   "outputs": [
    {
     "data": {
      "text/plain": [
       "(7368, 99)"
      ]
     },
     "execution_count": 443,
     "metadata": {},
     "output_type": "execute_result"
    }
   ],
   "source": [
    "# get the data shape after one hot encoding \n",
    "\n",
    "# https://contrib.scikit-learn.org/category_encoders/onehot.html\n",
    "ohe = ce.one_hot.OneHotEncoder(use_cat_names=True, handle_unknown='value')\n",
    "\n",
    "X_train_ohe = ohe.fit_transform(X_train, use_cat_names=True)\n",
    "X_train_ohe.shape"
   ]
  },
  {
   "cell_type": "code",
   "execution_count": 444,
   "id": "ef3b38f4-0e85-4676-af62-d48c197db46c",
   "metadata": {},
   "outputs": [
    {
     "name": "stdout",
     "output_type": "stream",
     "text": [
      "(9825, 39)\n"
     ]
    },
    {
     "data": {
      "text/html": [
       "<div>\n",
       "<style scoped>\n",
       "    .dataframe tbody tr th:only-of-type {\n",
       "        vertical-align: middle;\n",
       "    }\n",
       "\n",
       "    .dataframe tbody tr th {\n",
       "        vertical-align: top;\n",
       "    }\n",
       "\n",
       "    .dataframe thead th {\n",
       "        text-align: right;\n",
       "    }\n",
       "</style>\n",
       "<table border=\"1\" class=\"dataframe\">\n",
       "  <thead>\n",
       "    <tr style=\"text-align: right;\">\n",
       "      <th></th>\n",
       "      <th>neighborhood_recoded</th>\n",
       "      <th>county</th>\n",
       "      <th>property_type_recoded</th>\n",
       "      <th>accommodates</th>\n",
       "      <th>bedrooms</th>\n",
       "      <th>beds</th>\n",
       "      <th>bathrooms</th>\n",
       "      <th>bathroom_type</th>\n",
       "      <th>minimum_nights</th>\n",
       "      <th>maximum_nights</th>\n",
       "      <th>...</th>\n",
       "      <th>neighborhood_overview_f</th>\n",
       "      <th>host_about_f</th>\n",
       "      <th>host_response_time_f</th>\n",
       "      <th>host_response_rate_f</th>\n",
       "      <th>host_acceptance_rate_f</th>\n",
       "      <th>host_neighbourhood_f</th>\n",
       "      <th>price</th>\n",
       "      <th>availability_30</th>\n",
       "      <th>availability_60</th>\n",
       "      <th>availability_90</th>\n",
       "    </tr>\n",
       "  </thead>\n",
       "  <tbody>\n",
       "    <tr>\n",
       "      <th>0</th>\n",
       "      <td>Western Addition</td>\n",
       "      <td>San Francisco</td>\n",
       "      <td>Entire serviced apartment</td>\n",
       "      <td>3</td>\n",
       "      <td>1.0</td>\n",
       "      <td>2.0</td>\n",
       "      <td>1.0</td>\n",
       "      <td>private</td>\n",
       "      <td>2</td>\n",
       "      <td>30</td>\n",
       "      <td>...</td>\n",
       "      <td>1</td>\n",
       "      <td>1</td>\n",
       "      <td>1</td>\n",
       "      <td>1</td>\n",
       "      <td>1</td>\n",
       "      <td>1</td>\n",
       "      <td>161.0</td>\n",
       "      <td>7</td>\n",
       "      <td>7</td>\n",
       "      <td>10</td>\n",
       "    </tr>\n",
       "    <tr>\n",
       "      <th>1</th>\n",
       "      <td>Bernal Heights</td>\n",
       "      <td>San Francisco</td>\n",
       "      <td>Entire rental unit</td>\n",
       "      <td>5</td>\n",
       "      <td>2.0</td>\n",
       "      <td>3.0</td>\n",
       "      <td>1.0</td>\n",
       "      <td>private</td>\n",
       "      <td>30</td>\n",
       "      <td>60</td>\n",
       "      <td>...</td>\n",
       "      <td>1</td>\n",
       "      <td>1</td>\n",
       "      <td>1</td>\n",
       "      <td>1</td>\n",
       "      <td>1</td>\n",
       "      <td>1</td>\n",
       "      <td>235.0</td>\n",
       "      <td>30</td>\n",
       "      <td>60</td>\n",
       "      <td>90</td>\n",
       "    </tr>\n",
       "    <tr>\n",
       "      <th>2</th>\n",
       "      <td>Haight Ashbury</td>\n",
       "      <td>San Francisco</td>\n",
       "      <td>Private room in rental unit</td>\n",
       "      <td>2</td>\n",
       "      <td>1.0</td>\n",
       "      <td>1.0</td>\n",
       "      <td>4.0</td>\n",
       "      <td>shared</td>\n",
       "      <td>32</td>\n",
       "      <td>60</td>\n",
       "      <td>...</td>\n",
       "      <td>1</td>\n",
       "      <td>1</td>\n",
       "      <td>1</td>\n",
       "      <td>1</td>\n",
       "      <td>1</td>\n",
       "      <td>1</td>\n",
       "      <td>56.0</td>\n",
       "      <td>30</td>\n",
       "      <td>60</td>\n",
       "      <td>90</td>\n",
       "    </tr>\n",
       "    <tr>\n",
       "      <th>3</th>\n",
       "      <td>Haight Ashbury</td>\n",
       "      <td>San Francisco</td>\n",
       "      <td>Private room in rental unit</td>\n",
       "      <td>2</td>\n",
       "      <td>1.0</td>\n",
       "      <td>1.0</td>\n",
       "      <td>4.0</td>\n",
       "      <td>shared</td>\n",
       "      <td>32</td>\n",
       "      <td>90</td>\n",
       "      <td>...</td>\n",
       "      <td>0</td>\n",
       "      <td>1</td>\n",
       "      <td>1</td>\n",
       "      <td>1</td>\n",
       "      <td>1</td>\n",
       "      <td>1</td>\n",
       "      <td>56.0</td>\n",
       "      <td>30</td>\n",
       "      <td>60</td>\n",
       "      <td>90</td>\n",
       "    </tr>\n",
       "    <tr>\n",
       "      <th>4</th>\n",
       "      <td>Western Addition</td>\n",
       "      <td>San Francisco</td>\n",
       "      <td>Entire condominium (condo)</td>\n",
       "      <td>4</td>\n",
       "      <td>2.0</td>\n",
       "      <td>2.0</td>\n",
       "      <td>1.5</td>\n",
       "      <td>private</td>\n",
       "      <td>7</td>\n",
       "      <td>111</td>\n",
       "      <td>...</td>\n",
       "      <td>0</td>\n",
       "      <td>1</td>\n",
       "      <td>1</td>\n",
       "      <td>1</td>\n",
       "      <td>1</td>\n",
       "      <td>1</td>\n",
       "      <td>895.0</td>\n",
       "      <td>29</td>\n",
       "      <td>59</td>\n",
       "      <td>89</td>\n",
       "    </tr>\n",
       "  </tbody>\n",
       "</table>\n",
       "<p>5 rows × 39 columns</p>\n",
       "</div>"
      ],
      "text/plain": [
       "  neighborhood_recoded         county        property_type_recoded  \\\n",
       "0     Western Addition  San Francisco    Entire serviced apartment   \n",
       "1       Bernal Heights  San Francisco           Entire rental unit   \n",
       "2       Haight Ashbury  San Francisco  Private room in rental unit   \n",
       "3       Haight Ashbury  San Francisco  Private room in rental unit   \n",
       "4     Western Addition  San Francisco   Entire condominium (condo)   \n",
       "\n",
       "   accommodates  bedrooms  beds  bathrooms bathroom_type  minimum_nights  \\\n",
       "0             3       1.0   2.0        1.0       private               2   \n",
       "1             5       2.0   3.0        1.0       private              30   \n",
       "2             2       1.0   1.0        4.0        shared              32   \n",
       "3             2       1.0   1.0        4.0        shared              32   \n",
       "4             4       2.0   2.0        1.5       private               7   \n",
       "\n",
       "   maximum_nights  ...  neighborhood_overview_f  host_about_f  \\\n",
       "0              30  ...                        1             1   \n",
       "1              60  ...                        1             1   \n",
       "2              60  ...                        1             1   \n",
       "3              90  ...                        0             1   \n",
       "4             111  ...                        0             1   \n",
       "\n",
       "   host_response_time_f  host_response_rate_f  host_acceptance_rate_f  \\\n",
       "0                     1                     1                       1   \n",
       "1                     1                     1                       1   \n",
       "2                     1                     1                       1   \n",
       "3                     1                     1                       1   \n",
       "4                     1                     1                       1   \n",
       "\n",
       "   host_neighbourhood_f  price  availability_30  availability_60  \\\n",
       "0                     1  161.0                7                7   \n",
       "1                     1  235.0               30               60   \n",
       "2                     1   56.0               30               60   \n",
       "3                     1   56.0               30               60   \n",
       "4                     1  895.0               29               59   \n",
       "\n",
       "   availability_90  \n",
       "0               10  \n",
       "1               90  \n",
       "2               90  \n",
       "3               90  \n",
       "4               89  \n",
       "\n",
       "[5 rows x 39 columns]"
      ]
     },
     "execution_count": 444,
     "metadata": {},
     "output_type": "execute_result"
    }
   ],
   "source": [
    "# create train for EDA\n",
    "train = df.loc[df.index.isin(X.index), :]\n",
    "print(train.shape)\n",
    "train.head()"
   ]
  },
  {
   "cell_type": "code",
   "execution_count": 445,
   "id": "d90fc1d2-9b09-4f4d-8396-61a34251996e",
   "metadata": {},
   "outputs": [
    {
     "data": {
      "text/html": [
       "<div>\n",
       "<style scoped>\n",
       "    .dataframe tbody tr th:only-of-type {\n",
       "        vertical-align: middle;\n",
       "    }\n",
       "\n",
       "    .dataframe tbody tr th {\n",
       "        vertical-align: top;\n",
       "    }\n",
       "\n",
       "    .dataframe thead th {\n",
       "        text-align: right;\n",
       "    }\n",
       "</style>\n",
       "<table border=\"1\" class=\"dataframe\">\n",
       "  <thead>\n",
       "    <tr style=\"text-align: right;\">\n",
       "      <th></th>\n",
       "      <th>neighborhood_recoded</th>\n",
       "      <th>county</th>\n",
       "      <th>property_type_recoded</th>\n",
       "      <th>accommodates</th>\n",
       "      <th>bedrooms</th>\n",
       "      <th>beds</th>\n",
       "      <th>bathrooms</th>\n",
       "      <th>bathroom_type</th>\n",
       "      <th>minimum_nights</th>\n",
       "      <th>maximum_nights</th>\n",
       "      <th>...</th>\n",
       "      <th>number_of_reviews</th>\n",
       "      <th>number_of_reviews_ltm</th>\n",
       "      <th>number_of_reviews_l30d</th>\n",
       "      <th>neighborhood_overview_f</th>\n",
       "      <th>host_about_f</th>\n",
       "      <th>host_response_time_f</th>\n",
       "      <th>host_response_rate_f</th>\n",
       "      <th>host_acceptance_rate_f</th>\n",
       "      <th>host_neighbourhood_f</th>\n",
       "      <th>random</th>\n",
       "    </tr>\n",
       "  </thead>\n",
       "  <tbody>\n",
       "    <tr>\n",
       "      <th>4852</th>\n",
       "      <td>Redwood City</td>\n",
       "      <td>San Mateo</td>\n",
       "      <td>Private room in residential home</td>\n",
       "      <td>4</td>\n",
       "      <td>2.0</td>\n",
       "      <td>2.0</td>\n",
       "      <td>1.0</td>\n",
       "      <td>shared</td>\n",
       "      <td>15</td>\n",
       "      <td>1125</td>\n",
       "      <td>...</td>\n",
       "      <td>63</td>\n",
       "      <td>0</td>\n",
       "      <td>0</td>\n",
       "      <td>1</td>\n",
       "      <td>0</td>\n",
       "      <td>1</td>\n",
       "      <td>1</td>\n",
       "      <td>1</td>\n",
       "      <td>1</td>\n",
       "      <td>0.312090</td>\n",
       "    </tr>\n",
       "    <tr>\n",
       "      <th>4052</th>\n",
       "      <td>Noe Valley</td>\n",
       "      <td>San Francisco</td>\n",
       "      <td>Private room in residential home</td>\n",
       "      <td>2</td>\n",
       "      <td>1.0</td>\n",
       "      <td>1.0</td>\n",
       "      <td>1.5</td>\n",
       "      <td>shared</td>\n",
       "      <td>2</td>\n",
       "      <td>7</td>\n",
       "      <td>...</td>\n",
       "      <td>6</td>\n",
       "      <td>6</td>\n",
       "      <td>2</td>\n",
       "      <td>0</td>\n",
       "      <td>1</td>\n",
       "      <td>0</td>\n",
       "      <td>0</td>\n",
       "      <td>0</td>\n",
       "      <td>1</td>\n",
       "      <td>0.772553</td>\n",
       "    </tr>\n",
       "    <tr>\n",
       "      <th>8104</th>\n",
       "      <td>San Jose</td>\n",
       "      <td>Santa Clara</td>\n",
       "      <td>Private room in residential home</td>\n",
       "      <td>2</td>\n",
       "      <td>1.0</td>\n",
       "      <td>1.0</td>\n",
       "      <td>3.0</td>\n",
       "      <td>shared</td>\n",
       "      <td>2</td>\n",
       "      <td>1125</td>\n",
       "      <td>...</td>\n",
       "      <td>67</td>\n",
       "      <td>18</td>\n",
       "      <td>1</td>\n",
       "      <td>1</td>\n",
       "      <td>1</td>\n",
       "      <td>1</td>\n",
       "      <td>1</td>\n",
       "      <td>1</td>\n",
       "      <td>1</td>\n",
       "      <td>0.476920</td>\n",
       "    </tr>\n",
       "    <tr>\n",
       "      <th>1396</th>\n",
       "      <td>Bernal Heights</td>\n",
       "      <td>San Francisco</td>\n",
       "      <td>Private room in guest suite</td>\n",
       "      <td>2</td>\n",
       "      <td>1.0</td>\n",
       "      <td>1.0</td>\n",
       "      <td>1.0</td>\n",
       "      <td>private</td>\n",
       "      <td>2</td>\n",
       "      <td>14</td>\n",
       "      <td>...</td>\n",
       "      <td>141</td>\n",
       "      <td>11</td>\n",
       "      <td>3</td>\n",
       "      <td>0</td>\n",
       "      <td>0</td>\n",
       "      <td>0</td>\n",
       "      <td>0</td>\n",
       "      <td>0</td>\n",
       "      <td>1</td>\n",
       "      <td>0.010673</td>\n",
       "    </tr>\n",
       "    <tr>\n",
       "      <th>7150</th>\n",
       "      <td>San Jose</td>\n",
       "      <td>Santa Clara</td>\n",
       "      <td>Private room in residential home</td>\n",
       "      <td>2</td>\n",
       "      <td>1.0</td>\n",
       "      <td>1.0</td>\n",
       "      <td>1.0</td>\n",
       "      <td>private</td>\n",
       "      <td>1</td>\n",
       "      <td>2</td>\n",
       "      <td>...</td>\n",
       "      <td>105</td>\n",
       "      <td>3</td>\n",
       "      <td>0</td>\n",
       "      <td>1</td>\n",
       "      <td>1</td>\n",
       "      <td>1</td>\n",
       "      <td>1</td>\n",
       "      <td>1</td>\n",
       "      <td>0</td>\n",
       "      <td>0.595309</td>\n",
       "    </tr>\n",
       "  </tbody>\n",
       "</table>\n",
       "<p>5 rows × 36 columns</p>\n",
       "</div>"
      ],
      "text/plain": [
       "     neighborhood_recoded         county             property_type_recoded  \\\n",
       "4852         Redwood City      San Mateo  Private room in residential home   \n",
       "4052           Noe Valley  San Francisco  Private room in residential home   \n",
       "8104             San Jose    Santa Clara  Private room in residential home   \n",
       "1396       Bernal Heights  San Francisco       Private room in guest suite   \n",
       "7150             San Jose    Santa Clara  Private room in residential home   \n",
       "\n",
       "      accommodates  bedrooms  beds  bathrooms bathroom_type  minimum_nights  \\\n",
       "4852             4       2.0   2.0        1.0        shared              15   \n",
       "4052             2       1.0   1.0        1.5        shared               2   \n",
       "8104             2       1.0   1.0        3.0        shared               2   \n",
       "1396             2       1.0   1.0        1.0       private               2   \n",
       "7150             2       1.0   1.0        1.0       private               1   \n",
       "\n",
       "      maximum_nights  ...  number_of_reviews  number_of_reviews_ltm  \\\n",
       "4852            1125  ...                 63                      0   \n",
       "4052               7  ...                  6                      6   \n",
       "8104            1125  ...                 67                     18   \n",
       "1396              14  ...                141                     11   \n",
       "7150               2  ...                105                      3   \n",
       "\n",
       "      number_of_reviews_l30d  neighborhood_overview_f  host_about_f  \\\n",
       "4852                       0                        1             0   \n",
       "4052                       2                        0             1   \n",
       "8104                       1                        1             1   \n",
       "1396                       3                        0             0   \n",
       "7150                       0                        1             1   \n",
       "\n",
       "      host_response_time_f  host_response_rate_f  host_acceptance_rate_f  \\\n",
       "4852                     1                     1                       1   \n",
       "4052                     0                     0                       0   \n",
       "8104                     1                     1                       1   \n",
       "1396                     0                     0                       0   \n",
       "7150                     1                     1                       1   \n",
       "\n",
       "      host_neighbourhood_f    random  \n",
       "4852                     1  0.312090  \n",
       "4052                     1  0.772553  \n",
       "8104                     1  0.476920  \n",
       "1396                     1  0.010673  \n",
       "7150                     0  0.595309  \n",
       "\n",
       "[5 rows x 36 columns]"
      ]
     },
     "execution_count": 445,
     "metadata": {},
     "output_type": "execute_result"
    }
   ],
   "source": [
    "X_train.head()"
   ]
  },
  {
   "cell_type": "markdown",
   "id": "e89fd63f-4e77-480a-9655-e2188157664d",
   "metadata": {},
   "source": [
    "## EDA"
   ]
  },
  {
   "cell_type": "code",
   "execution_count": 446,
   "id": "e95c659a-4432-41de-9721-7554bc467cc2",
   "metadata": {},
   "outputs": [
    {
     "data": {
      "text/html": [
       "<div>\n",
       "<style scoped>\n",
       "    .dataframe tbody tr th:only-of-type {\n",
       "        vertical-align: middle;\n",
       "    }\n",
       "\n",
       "    .dataframe tbody tr th {\n",
       "        vertical-align: top;\n",
       "    }\n",
       "\n",
       "    .dataframe thead th {\n",
       "        text-align: right;\n",
       "    }\n",
       "</style>\n",
       "<table border=\"1\" class=\"dataframe\">\n",
       "  <thead>\n",
       "    <tr style=\"text-align: right;\">\n",
       "      <th></th>\n",
       "      <th>accommodates</th>\n",
       "      <th>bedrooms</th>\n",
       "      <th>beds</th>\n",
       "      <th>bathrooms</th>\n",
       "      <th>minimum_nights</th>\n",
       "      <th>maximum_nights</th>\n",
       "      <th>review_scores_rating</th>\n",
       "      <th>review_scores_accuracy</th>\n",
       "      <th>review_scores_cleanliness</th>\n",
       "      <th>review_scores_checkin</th>\n",
       "      <th>...</th>\n",
       "      <th>neighborhood_overview_f</th>\n",
       "      <th>host_about_f</th>\n",
       "      <th>host_response_time_f</th>\n",
       "      <th>host_response_rate_f</th>\n",
       "      <th>host_acceptance_rate_f</th>\n",
       "      <th>host_neighbourhood_f</th>\n",
       "      <th>price</th>\n",
       "      <th>availability_30</th>\n",
       "      <th>availability_60</th>\n",
       "      <th>availability_90</th>\n",
       "    </tr>\n",
       "  </thead>\n",
       "  <tbody>\n",
       "    <tr>\n",
       "      <th>count</th>\n",
       "      <td>9825.000000</td>\n",
       "      <td>9825.000000</td>\n",
       "      <td>9825.000000</td>\n",
       "      <td>9825.000000</td>\n",
       "      <td>9825.000000</td>\n",
       "      <td>9825.000000</td>\n",
       "      <td>9825.000000</td>\n",
       "      <td>9825.000000</td>\n",
       "      <td>9825.000000</td>\n",
       "      <td>9825.000000</td>\n",
       "      <td>...</td>\n",
       "      <td>9825.000000</td>\n",
       "      <td>9825.000000</td>\n",
       "      <td>9825.000000</td>\n",
       "      <td>9825.000000</td>\n",
       "      <td>9825.000000</td>\n",
       "      <td>9825.000000</td>\n",
       "      <td>9825.000000</td>\n",
       "      <td>9825.000000</td>\n",
       "      <td>9825.000000</td>\n",
       "      <td>9825.000000</td>\n",
       "    </tr>\n",
       "    <tr>\n",
       "      <th>mean</th>\n",
       "      <td>3.480305</td>\n",
       "      <td>1.593181</td>\n",
       "      <td>2.028702</td>\n",
       "      <td>1.416896</td>\n",
       "      <td>13.044784</td>\n",
       "      <td>569.837150</td>\n",
       "      <td>4.764960</td>\n",
       "      <td>4.814749</td>\n",
       "      <td>4.757261</td>\n",
       "      <td>4.880370</td>\n",
       "      <td>...</td>\n",
       "      <td>0.731501</td>\n",
       "      <td>0.707277</td>\n",
       "      <td>0.828601</td>\n",
       "      <td>0.828601</td>\n",
       "      <td>0.861272</td>\n",
       "      <td>0.875623</td>\n",
       "      <td>178.069313</td>\n",
       "      <td>11.231552</td>\n",
       "      <td>27.325293</td>\n",
       "      <td>46.218626</td>\n",
       "    </tr>\n",
       "    <tr>\n",
       "      <th>std</th>\n",
       "      <td>2.415604</td>\n",
       "      <td>0.975522</td>\n",
       "      <td>1.569959</td>\n",
       "      <td>0.826013</td>\n",
       "      <td>30.318371</td>\n",
       "      <td>514.153885</td>\n",
       "      <td>0.407623</td>\n",
       "      <td>0.379128</td>\n",
       "      <td>0.420152</td>\n",
       "      <td>0.327301</td>\n",
       "      <td>...</td>\n",
       "      <td>0.443201</td>\n",
       "      <td>0.455035</td>\n",
       "      <td>0.376877</td>\n",
       "      <td>0.376877</td>\n",
       "      <td>0.345680</td>\n",
       "      <td>0.330027</td>\n",
       "      <td>148.448029</td>\n",
       "      <td>11.269745</td>\n",
       "      <td>22.415682</td>\n",
       "      <td>32.691111</td>\n",
       "    </tr>\n",
       "    <tr>\n",
       "      <th>min</th>\n",
       "      <td>1.000000</td>\n",
       "      <td>1.000000</td>\n",
       "      <td>0.000000</td>\n",
       "      <td>0.000000</td>\n",
       "      <td>1.000000</td>\n",
       "      <td>1.000000</td>\n",
       "      <td>1.000000</td>\n",
       "      <td>0.000000</td>\n",
       "      <td>0.000000</td>\n",
       "      <td>0.000000</td>\n",
       "      <td>...</td>\n",
       "      <td>0.000000</td>\n",
       "      <td>0.000000</td>\n",
       "      <td>0.000000</td>\n",
       "      <td>0.000000</td>\n",
       "      <td>0.000000</td>\n",
       "      <td>0.000000</td>\n",
       "      <td>10.000000</td>\n",
       "      <td>0.000000</td>\n",
       "      <td>0.000000</td>\n",
       "      <td>0.000000</td>\n",
       "    </tr>\n",
       "    <tr>\n",
       "      <th>25%</th>\n",
       "      <td>2.000000</td>\n",
       "      <td>1.000000</td>\n",
       "      <td>1.000000</td>\n",
       "      <td>1.000000</td>\n",
       "      <td>2.000000</td>\n",
       "      <td>30.000000</td>\n",
       "      <td>4.710000</td>\n",
       "      <td>4.790000</td>\n",
       "      <td>4.690000</td>\n",
       "      <td>4.890000</td>\n",
       "      <td>...</td>\n",
       "      <td>0.000000</td>\n",
       "      <td>0.000000</td>\n",
       "      <td>1.000000</td>\n",
       "      <td>1.000000</td>\n",
       "      <td>1.000000</td>\n",
       "      <td>1.000000</td>\n",
       "      <td>81.000000</td>\n",
       "      <td>0.000000</td>\n",
       "      <td>1.000000</td>\n",
       "      <td>13.000000</td>\n",
       "    </tr>\n",
       "    <tr>\n",
       "      <th>50%</th>\n",
       "      <td>2.000000</td>\n",
       "      <td>1.000000</td>\n",
       "      <td>1.000000</td>\n",
       "      <td>1.000000</td>\n",
       "      <td>3.000000</td>\n",
       "      <td>365.000000</td>\n",
       "      <td>4.880000</td>\n",
       "      <td>4.930000</td>\n",
       "      <td>4.890000</td>\n",
       "      <td>4.970000</td>\n",
       "      <td>...</td>\n",
       "      <td>1.000000</td>\n",
       "      <td>1.000000</td>\n",
       "      <td>1.000000</td>\n",
       "      <td>1.000000</td>\n",
       "      <td>1.000000</td>\n",
       "      <td>1.000000</td>\n",
       "      <td>134.000000</td>\n",
       "      <td>8.000000</td>\n",
       "      <td>27.000000</td>\n",
       "      <td>51.000000</td>\n",
       "    </tr>\n",
       "    <tr>\n",
       "      <th>75%</th>\n",
       "      <td>4.000000</td>\n",
       "      <td>2.000000</td>\n",
       "      <td>3.000000</td>\n",
       "      <td>2.000000</td>\n",
       "      <td>30.000000</td>\n",
       "      <td>1125.000000</td>\n",
       "      <td>5.000000</td>\n",
       "      <td>5.000000</td>\n",
       "      <td>5.000000</td>\n",
       "      <td>5.000000</td>\n",
       "      <td>...</td>\n",
       "      <td>1.000000</td>\n",
       "      <td>1.000000</td>\n",
       "      <td>1.000000</td>\n",
       "      <td>1.000000</td>\n",
       "      <td>1.000000</td>\n",
       "      <td>1.000000</td>\n",
       "      <td>219.000000</td>\n",
       "      <td>22.000000</td>\n",
       "      <td>49.000000</td>\n",
       "      <td>78.000000</td>\n",
       "    </tr>\n",
       "    <tr>\n",
       "      <th>max</th>\n",
       "      <td>16.000000</td>\n",
       "      <td>9.000000</td>\n",
       "      <td>27.000000</td>\n",
       "      <td>10.000000</td>\n",
       "      <td>1125.000000</td>\n",
       "      <td>1125.000000</td>\n",
       "      <td>5.000000</td>\n",
       "      <td>5.000000</td>\n",
       "      <td>5.000000</td>\n",
       "      <td>5.000000</td>\n",
       "      <td>...</td>\n",
       "      <td>1.000000</td>\n",
       "      <td>1.000000</td>\n",
       "      <td>1.000000</td>\n",
       "      <td>1.000000</td>\n",
       "      <td>1.000000</td>\n",
       "      <td>1.000000</td>\n",
       "      <td>1000.000000</td>\n",
       "      <td>30.000000</td>\n",
       "      <td>60.000000</td>\n",
       "      <td>90.000000</td>\n",
       "    </tr>\n",
       "  </tbody>\n",
       "</table>\n",
       "<p>8 rows × 26 columns</p>\n",
       "</div>"
      ],
      "text/plain": [
       "       accommodates     bedrooms         beds    bathrooms  minimum_nights  \\\n",
       "count   9825.000000  9825.000000  9825.000000  9825.000000     9825.000000   \n",
       "mean       3.480305     1.593181     2.028702     1.416896       13.044784   \n",
       "std        2.415604     0.975522     1.569959     0.826013       30.318371   \n",
       "min        1.000000     1.000000     0.000000     0.000000        1.000000   \n",
       "25%        2.000000     1.000000     1.000000     1.000000        2.000000   \n",
       "50%        2.000000     1.000000     1.000000     1.000000        3.000000   \n",
       "75%        4.000000     2.000000     3.000000     2.000000       30.000000   \n",
       "max       16.000000     9.000000    27.000000    10.000000     1125.000000   \n",
       "\n",
       "       maximum_nights  review_scores_rating  review_scores_accuracy  \\\n",
       "count     9825.000000           9825.000000             9825.000000   \n",
       "mean       569.837150              4.764960                4.814749   \n",
       "std        514.153885              0.407623                0.379128   \n",
       "min          1.000000              1.000000                0.000000   \n",
       "25%         30.000000              4.710000                4.790000   \n",
       "50%        365.000000              4.880000                4.930000   \n",
       "75%       1125.000000              5.000000                5.000000   \n",
       "max       1125.000000              5.000000                5.000000   \n",
       "\n",
       "       review_scores_cleanliness  review_scores_checkin  ...  \\\n",
       "count                9825.000000            9825.000000  ...   \n",
       "mean                    4.757261               4.880370  ...   \n",
       "std                     0.420152               0.327301  ...   \n",
       "min                     0.000000               0.000000  ...   \n",
       "25%                     4.690000               4.890000  ...   \n",
       "50%                     4.890000               4.970000  ...   \n",
       "75%                     5.000000               5.000000  ...   \n",
       "max                     5.000000               5.000000  ...   \n",
       "\n",
       "       neighborhood_overview_f  host_about_f  host_response_time_f  \\\n",
       "count              9825.000000   9825.000000           9825.000000   \n",
       "mean                  0.731501      0.707277              0.828601   \n",
       "std                   0.443201      0.455035              0.376877   \n",
       "min                   0.000000      0.000000              0.000000   \n",
       "25%                   0.000000      0.000000              1.000000   \n",
       "50%                   1.000000      1.000000              1.000000   \n",
       "75%                   1.000000      1.000000              1.000000   \n",
       "max                   1.000000      1.000000              1.000000   \n",
       "\n",
       "       host_response_rate_f  host_acceptance_rate_f  host_neighbourhood_f  \\\n",
       "count           9825.000000             9825.000000           9825.000000   \n",
       "mean               0.828601                0.861272              0.875623   \n",
       "std                0.376877                0.345680              0.330027   \n",
       "min                0.000000                0.000000              0.000000   \n",
       "25%                1.000000                1.000000              1.000000   \n",
       "50%                1.000000                1.000000              1.000000   \n",
       "75%                1.000000                1.000000              1.000000   \n",
       "max                1.000000                1.000000              1.000000   \n",
       "\n",
       "             price  availability_30  availability_60  availability_90  \n",
       "count  9825.000000      9825.000000      9825.000000      9825.000000  \n",
       "mean    178.069313        11.231552        27.325293        46.218626  \n",
       "std     148.448029        11.269745        22.415682        32.691111  \n",
       "min      10.000000         0.000000         0.000000         0.000000  \n",
       "25%      81.000000         0.000000         1.000000        13.000000  \n",
       "50%     134.000000         8.000000        27.000000        51.000000  \n",
       "75%     219.000000        22.000000        49.000000        78.000000  \n",
       "max    1000.000000        30.000000        60.000000        90.000000  \n",
       "\n",
       "[8 rows x 26 columns]"
      ]
     },
     "execution_count": 446,
     "metadata": {},
     "output_type": "execute_result"
    }
   ],
   "source": [
    "train.describe()"
   ]
  },
  {
   "cell_type": "code",
   "execution_count": 447,
   "id": "8a446107-08f7-4b11-9d3e-6345095c2a57",
   "metadata": {},
   "outputs": [
    {
     "data": {
      "text/plain": [
       "178.06931297709923"
      ]
     },
     "execution_count": 447,
     "metadata": {},
     "output_type": "execute_result"
    }
   ],
   "source": [
    "train['price'].mean()"
   ]
  },
  {
   "cell_type": "code",
   "execution_count": 448,
   "id": "f1cc7627-d772-4e67-ab3d-858402850df0",
   "metadata": {},
   "outputs": [
    {
     "name": "stdout",
     "output_type": "stream",
     "text": [
      "178.07\n",
      "county\n",
      "San Francisco    196.22\n",
      "San Mateo        189.75\n",
      "Santa Clara      151.16\n",
      "Name: price, dtype: float64\n"
     ]
    }
   ],
   "source": [
    "# Price\n",
    "\n",
    "print(round(train['price'].mean(),2))\n",
    "print(round(train.groupby('county')['price'].mean(), 2))"
   ]
  },
  {
   "cell_type": "code",
   "execution_count": 468,
   "id": "0c6e9521-e68f-4523-85c3-ae30b38044c7",
   "metadata": {},
   "outputs": [
    {
     "data": {
      "image/png": "[encoded data removed]",
      "text/plain": [
       "<Figure size 360x216 with 1 Axes>"
      ]
     },
     "metadata": {
      "needs_background": "light"
     },
     "output_type": "display_data"
    }
   ],
   "source": [
    "plt.figure(figsize=(5,3))\n",
    "train['price'].hist()\n",
    "plt.title('Price', fontsize=14);\n",
    "\n",
    "plt.savefig('../Plots/price_hist.png')"
   ]
  },
  {
   "cell_type": "code",
   "execution_count": 302,
   "id": "32519036-4995-4aa8-906a-4153923a47d8",
   "metadata": {},
   "outputs": [
    {
     "data": {
      "image/png": "[encoded data removed]",
      "text/plain": [
       "<Figure size 1008x216 with 3 Axes>"
      ]
     },
     "metadata": {
      "needs_background": "light"
     },
     "output_type": "display_data"
    }
   ],
   "source": [
    "train.hist(column='price', by='county', figsize=(14,3), \n",
    "           layout=(1,3), xrot=0, legend=False, \n",
    "           sharex=True, sharey=True)\n",
    "plt.suptitle('Price by county', x=0.5, y=1.1, fontsize=16)\n",
    ";\n",
    "\n",
    "plt.savefig('../Plots/price_bycounty_hist2.png', bbox_inches='tight')"
   ]
  },
  {
   "cell_type": "code",
   "execution_count": 275,
   "id": "1abbfa62-5cbb-4581-b87b-a31049d9f04f",
   "metadata": {},
   "outputs": [
    {
     "data": {
      "image/png": "[encoded data removed]",
      "text/plain": [
       "<Figure size 432x288 with 1 Axes>"
      ]
     },
     "metadata": {
      "needs_background": "light"
     },
     "output_type": "display_data"
    }
   ],
   "source": [
    "train.groupby('county')['price'].hist(alpha=0.3, legend=True)\n",
    "plt.legend()\n",
    "plt.title('Price by county', fontsize=16)\n",
    "plt.xlabel('price per night');\n",
    "\n",
    "plt.savefig('../Plots/price_bycounty_hist.png')"
   ]
  },
  {
   "cell_type": "markdown",
   "id": "e1fd22f6-3d53-49dd-8782-f1fb00820d78",
   "metadata": {},
   "source": [
    "**Observation**: \n",
    "1. The overall average price is \\\\$178. Most listings are below $300.\n",
    "2. The average price is highest in San Francisco and lowest in Santa Clara."
   ]
  },
  {
   "cell_type": "code",
   "execution_count": 303,
   "id": "642b7ece-0cde-4e85-85ab-af2218aef956",
   "metadata": {},
   "outputs": [
    {
     "data": {
      "image/png": "[encoded data removed]",
      "text/plain": [
       "<Figure size 432x864 with 2 Axes>"
      ]
     },
     "metadata": {
      "needs_background": "light"
     },
     "output_type": "display_data"
    }
   ],
   "source": [
    "plt.figure(figsize=(6,12))\n",
    "sns.heatmap(train.corr()[['price']].sort_values('price',ascending=False), annot=True, cmap='coolwarm', vmin=-1, vmax=1)\n",
    "; \n",
    "plt.savefig('../Plots/corr_price_features_heat.png', bbox_inches='tight')"
   ]
  },
  {
   "cell_type": "code",
   "execution_count": 304,
   "id": "93934faf-9565-4200-8ee7-dbbc7b95efa8",
   "metadata": {},
   "outputs": [
    {
     "data": {
      "image/png": "[encoded data removed]",
      "text/plain": [
       "<Figure size 720x576 with 2 Axes>"
      ]
     },
     "metadata": {
      "needs_background": "light"
     },
     "output_type": "display_data"
    }
   ],
   "source": [
    "mask = np.zeros_like(train[['accommodates','bedrooms','beds','bathrooms','bathroom_type','minimum_nights','maximum_nights']].corr())\n",
    "mask[np.triu_indices_from(mask)] = True\n",
    "\n",
    "plt.figure(figsize=(10,8))\n",
    "sns.heatmap(train[['accommodates','bedrooms','beds','bathrooms','bathroom_type','minimum_nights','maximum_nights']].corr(), \n",
    "            mask=mask, annot=True, cmap='coolwarm', vmin=-1, vmax=1);\n",
    "\n",
    "plt.savefig('../Plots/corr_sizes_nights_heat.png', bbox_inches='tight')"
   ]
  },
  {
   "cell_type": "code",
   "execution_count": 427,
   "id": "d641d8c0-0cd9-47ca-8a3b-688ed3333013",
   "metadata": {},
   "outputs": [
    {
     "data": {
      "image/png": "[encoded data removed]",
      "text/plain": [
       "<Figure size 864x288 with 3 Axes>"
      ]
     },
     "metadata": {
      "needs_background": "light"
     },
     "output_type": "display_data"
    }
   ],
   "source": [
    "figure, axes = plt.subplots(1, 3, figsize=(12,4), sharex=True)\n",
    "\n",
    "ax1 = sns.regplot(x='bedrooms',     y='price', data=train, ax=axes[0], line_kws={'color':'orange'})\n",
    "ax2 = sns.regplot(x='beds',         y='price', data=train, ax=axes[1], line_kws={'color':'orange'})\n",
    "ax3 = sns.regplot(x='accommodates', y='price', data=train, ax=axes[2], line_kws={'color':'orange'})\n",
    "\n",
    "plt.suptitle('Price and size related features', fontsize=14); \n",
    "\n",
    "plt.savefig('../Plots/corr_price_sizes_regplot.png', bbox_inches='tight')"
   ]
  },
  {
   "cell_type": "markdown",
   "id": "0f08498a-664d-415d-b00a-98e5803fc3bb",
   "metadata": {},
   "source": [
    "**Observations**: \n",
    "1. Listing price is correlated with the number of bedrooms and beds and the number of people it can accommodate. \n",
    "2. The number of beds, bedrooms and people the unit can accommodate are highly correlated."
   ]
  },
  {
   "cell_type": "code",
   "execution_count": 425,
   "id": "6072f502-8acf-4014-94cb-7e6949422cce",
   "metadata": {},
   "outputs": [
    {
     "data": {
      "image/png": "[encoded data removed]",
      "text/plain": [
       "<Figure size 576x576 with 4 Axes>"
      ]
     },
     "metadata": {
      "needs_background": "light"
     },
     "output_type": "display_data"
    }
   ],
   "source": [
    "figure, axes = plt.subplots(2, 2, figsize=(8,8), sharex=True, sharey=True)\n",
    "\n",
    "ax1 = sns.regplot(x='review_scores_rating',      y='price', data=train, ax=axes[0,0], line_kws={'color':'orange'})\n",
    "ax2 = sns.regplot(x='review_scores_cleanliness', y='price', data=train, ax=axes[0,1], line_kws={'color':'orange'})\n",
    "ax3 = sns.regplot(x='review_scores_location',       y='price', data=train, ax=axes[1,0], line_kws={'color':'orange'})\n",
    "ax3 = sns.regplot(x='review_scores_value',       y='price', data=train, ax=axes[1,1], line_kws={'color':'orange'})\n",
    "\n",
    "plt.suptitle('Price and review scores', fontsize=14); \n",
    "\n",
    "plt.savefig('../Plots/corr_price_reviewscores_regplot.png', bbox_inches='tight')"
   ]
  },
  {
   "cell_type": "code",
   "execution_count": null,
   "id": "c6cb4b3d-34ae-4b57-9583-56ba8e4350a2",
   "metadata": {},
   "outputs": [],
   "source": [
    "# price by categorical "
   ]
  },
  {
   "cell_type": "code",
   "execution_count": 291,
   "id": "888034e9-ea6b-40ce-a5da-b3942b63ed55",
   "metadata": {},
   "outputs": [
    {
     "data": {
      "image/png": "[encoded data removed]",
      "text/plain": [
       "<Figure size 576x432 with 1 Axes>"
      ]
     },
     "metadata": {
      "needs_background": "light"
     },
     "output_type": "display_data"
    }
   ],
   "source": [
    "plt.figure(figsize=(8, 6))\n",
    "sns.barplot(y='property_type_recoded', x='price', data=train, orient='h');"
   ]
  },
  {
   "cell_type": "code",
   "execution_count": 309,
   "id": "cf35f5b3-6cf3-44c3-a2c3-0dc56a84bd2c",
   "metadata": {},
   "outputs": [
    {
     "data": {
      "image/png": "[encoded data removed]",
      "text/plain": [
       "<Figure size 576x576 with 1 Axes>"
      ]
     },
     "metadata": {
      "needs_background": "light"
     },
     "output_type": "display_data"
    }
   ],
   "source": [
    "plt.figure(figsize=(8,8))\n",
    "train.groupby('property_type_recoded').mean()['price'].sort_values(ascending=True).plot.barh()\n",
    "plt.ylabel('property type')\n",
    "plt.title('Price by property type', fontsize=16); \n",
    "\n",
    "plt.savefig('../Plots/price_propertytype_barh.png', bbox_inches='tight')"
   ]
  },
  {
   "cell_type": "code",
   "execution_count": 308,
   "id": "a6029076-a1e2-4bd6-baa1-5476b2696459",
   "metadata": {},
   "outputs": [
    {
     "data": {
      "image/png": "[encoded data removed]",
      "text/plain": [
       "<Figure size 288x288 with 1 Axes>"
      ]
     },
     "metadata": {
      "needs_background": "light"
     },
     "output_type": "display_data"
    }
   ],
   "source": [
    "plt.figure(figsize=(4,4))\n",
    "train.groupby('neighborhood_recoded').mean()['price'].sort_values(ascending=True).tail(10).plot.barh()\n",
    "plt.title('Price by neighborhood: Top 10', fontsize=16)\n",
    "plt.ylabel(None); \n",
    "\n",
    "plt.savefig('../Plots/price_neighborhood_top10_barh.png', bbox_inches='tight')"
   ]
  },
  {
   "cell_type": "markdown",
   "id": "d94ed668-2ed9-40ca-9a17-136699aadd4c",
   "metadata": {},
   "source": [
    "## Modeling"
   ]
  },
  {
   "cell_type": "code",
   "execution_count": 8,
   "id": "541b299c-87c3-44ab-9910-6049414b6ece",
   "metadata": {},
   "outputs": [
    {
     "name": "stdout",
     "output_type": "stream",
     "text": [
      "(7368, 36)\n"
     ]
    },
    {
     "data": {
      "text/html": [
       "<div>\n",
       "<style scoped>\n",
       "    .dataframe tbody tr th:only-of-type {\n",
       "        vertical-align: middle;\n",
       "    }\n",
       "\n",
       "    .dataframe tbody tr th {\n",
       "        vertical-align: top;\n",
       "    }\n",
       "\n",
       "    .dataframe thead th {\n",
       "        text-align: right;\n",
       "    }\n",
       "</style>\n",
       "<table border=\"1\" class=\"dataframe\">\n",
       "  <thead>\n",
       "    <tr style=\"text-align: right;\">\n",
       "      <th></th>\n",
       "      <th>neighborhood_recoded</th>\n",
       "      <th>county</th>\n",
       "      <th>property_type_recoded</th>\n",
       "      <th>accommodates</th>\n",
       "      <th>bedrooms</th>\n",
       "      <th>beds</th>\n",
       "      <th>bathrooms</th>\n",
       "      <th>bathroom_type</th>\n",
       "      <th>minimum_nights</th>\n",
       "      <th>maximum_nights</th>\n",
       "      <th>...</th>\n",
       "      <th>number_of_reviews</th>\n",
       "      <th>number_of_reviews_ltm</th>\n",
       "      <th>number_of_reviews_l30d</th>\n",
       "      <th>neighborhood_overview_f</th>\n",
       "      <th>host_about_f</th>\n",
       "      <th>host_response_time_f</th>\n",
       "      <th>host_response_rate_f</th>\n",
       "      <th>host_acceptance_rate_f</th>\n",
       "      <th>host_neighbourhood_f</th>\n",
       "      <th>random</th>\n",
       "    </tr>\n",
       "  </thead>\n",
       "  <tbody>\n",
       "    <tr>\n",
       "      <th>4852</th>\n",
       "      <td>Redwood City</td>\n",
       "      <td>San Mateo</td>\n",
       "      <td>Private room in residential home</td>\n",
       "      <td>4</td>\n",
       "      <td>2.0</td>\n",
       "      <td>2.0</td>\n",
       "      <td>1.0</td>\n",
       "      <td>shared</td>\n",
       "      <td>15</td>\n",
       "      <td>1125</td>\n",
       "      <td>...</td>\n",
       "      <td>63</td>\n",
       "      <td>0</td>\n",
       "      <td>0</td>\n",
       "      <td>1</td>\n",
       "      <td>0</td>\n",
       "      <td>1</td>\n",
       "      <td>1</td>\n",
       "      <td>1</td>\n",
       "      <td>1</td>\n",
       "      <td>0.671808</td>\n",
       "    </tr>\n",
       "    <tr>\n",
       "      <th>4052</th>\n",
       "      <td>Noe Valley</td>\n",
       "      <td>San Francisco</td>\n",
       "      <td>Private room in residential home</td>\n",
       "      <td>2</td>\n",
       "      <td>1.0</td>\n",
       "      <td>1.0</td>\n",
       "      <td>1.5</td>\n",
       "      <td>shared</td>\n",
       "      <td>2</td>\n",
       "      <td>7</td>\n",
       "      <td>...</td>\n",
       "      <td>6</td>\n",
       "      <td>6</td>\n",
       "      <td>2</td>\n",
       "      <td>0</td>\n",
       "      <td>1</td>\n",
       "      <td>0</td>\n",
       "      <td>0</td>\n",
       "      <td>0</td>\n",
       "      <td>1</td>\n",
       "      <td>0.046063</td>\n",
       "    </tr>\n",
       "    <tr>\n",
       "      <th>8104</th>\n",
       "      <td>San Jose</td>\n",
       "      <td>Santa Clara</td>\n",
       "      <td>Private room in residential home</td>\n",
       "      <td>2</td>\n",
       "      <td>1.0</td>\n",
       "      <td>1.0</td>\n",
       "      <td>3.0</td>\n",
       "      <td>shared</td>\n",
       "      <td>2</td>\n",
       "      <td>1125</td>\n",
       "      <td>...</td>\n",
       "      <td>67</td>\n",
       "      <td>18</td>\n",
       "      <td>1</td>\n",
       "      <td>1</td>\n",
       "      <td>1</td>\n",
       "      <td>1</td>\n",
       "      <td>1</td>\n",
       "      <td>1</td>\n",
       "      <td>1</td>\n",
       "      <td>0.014837</td>\n",
       "    </tr>\n",
       "    <tr>\n",
       "      <th>1396</th>\n",
       "      <td>Bernal Heights</td>\n",
       "      <td>San Francisco</td>\n",
       "      <td>Private room in guest suite</td>\n",
       "      <td>2</td>\n",
       "      <td>1.0</td>\n",
       "      <td>1.0</td>\n",
       "      <td>1.0</td>\n",
       "      <td>private</td>\n",
       "      <td>2</td>\n",
       "      <td>14</td>\n",
       "      <td>...</td>\n",
       "      <td>141</td>\n",
       "      <td>11</td>\n",
       "      <td>3</td>\n",
       "      <td>0</td>\n",
       "      <td>0</td>\n",
       "      <td>0</td>\n",
       "      <td>0</td>\n",
       "      <td>0</td>\n",
       "      <td>1</td>\n",
       "      <td>0.310689</td>\n",
       "    </tr>\n",
       "    <tr>\n",
       "      <th>7150</th>\n",
       "      <td>San Jose</td>\n",
       "      <td>Santa Clara</td>\n",
       "      <td>Private room in residential home</td>\n",
       "      <td>2</td>\n",
       "      <td>1.0</td>\n",
       "      <td>1.0</td>\n",
       "      <td>1.0</td>\n",
       "      <td>private</td>\n",
       "      <td>1</td>\n",
       "      <td>2</td>\n",
       "      <td>...</td>\n",
       "      <td>105</td>\n",
       "      <td>3</td>\n",
       "      <td>0</td>\n",
       "      <td>1</td>\n",
       "      <td>1</td>\n",
       "      <td>1</td>\n",
       "      <td>1</td>\n",
       "      <td>1</td>\n",
       "      <td>0</td>\n",
       "      <td>0.625515</td>\n",
       "    </tr>\n",
       "  </tbody>\n",
       "</table>\n",
       "<p>5 rows × 36 columns</p>\n",
       "</div>"
      ],
      "text/plain": [
       "     neighborhood_recoded         county             property_type_recoded  \\\n",
       "4852         Redwood City      San Mateo  Private room in residential home   \n",
       "4052           Noe Valley  San Francisco  Private room in residential home   \n",
       "8104             San Jose    Santa Clara  Private room in residential home   \n",
       "1396       Bernal Heights  San Francisco       Private room in guest suite   \n",
       "7150             San Jose    Santa Clara  Private room in residential home   \n",
       "\n",
       "      accommodates  bedrooms  beds  bathrooms bathroom_type  minimum_nights  \\\n",
       "4852             4       2.0   2.0        1.0        shared              15   \n",
       "4052             2       1.0   1.0        1.5        shared               2   \n",
       "8104             2       1.0   1.0        3.0        shared               2   \n",
       "1396             2       1.0   1.0        1.0       private               2   \n",
       "7150             2       1.0   1.0        1.0       private               1   \n",
       "\n",
       "      maximum_nights  ...  number_of_reviews  number_of_reviews_ltm  \\\n",
       "4852            1125  ...                 63                      0   \n",
       "4052               7  ...                  6                      6   \n",
       "8104            1125  ...                 67                     18   \n",
       "1396              14  ...                141                     11   \n",
       "7150               2  ...                105                      3   \n",
       "\n",
       "      number_of_reviews_l30d  neighborhood_overview_f  host_about_f  \\\n",
       "4852                       0                        1             0   \n",
       "4052                       2                        0             1   \n",
       "8104                       1                        1             1   \n",
       "1396                       3                        0             0   \n",
       "7150                       0                        1             1   \n",
       "\n",
       "      host_response_time_f  host_response_rate_f  host_acceptance_rate_f  \\\n",
       "4852                     1                     1                       1   \n",
       "4052                     0                     0                       0   \n",
       "8104                     1                     1                       1   \n",
       "1396                     0                     0                       0   \n",
       "7150                     1                     1                       1   \n",
       "\n",
       "      host_neighbourhood_f    random  \n",
       "4852                     1  0.671808  \n",
       "4052                     1  0.046063  \n",
       "8104                     1  0.014837  \n",
       "1396                     1  0.310689  \n",
       "7150                     0  0.625515  \n",
       "\n",
       "[5 rows x 36 columns]"
      ]
     },
     "execution_count": 8,
     "metadata": {},
     "output_type": "execute_result"
    }
   ],
   "source": [
    "print(X_train.shape)\n",
    "X_train.head()"
   ]
  },
  {
   "cell_type": "code",
   "execution_count": 9,
   "id": "4b06f844-c253-4f15-8e55-1fc27865805e",
   "metadata": {},
   "outputs": [],
   "source": [
    "# save m1_X_train\n",
    "X_train.to_csv('../Data/m1_X_train.csv')"
   ]
  },
  {
   "cell_type": "code",
   "execution_count": 10,
   "id": "4feafe18-3eb6-4c08-9564-2a1128ebc58f",
   "metadata": {},
   "outputs": [
    {
     "data": {
      "text/plain": [
       "(7368, 99)"
      ]
     },
     "execution_count": 10,
     "metadata": {},
     "output_type": "execute_result"
    }
   ],
   "source": []
  },
  {
   "cell_type": "code",
   "execution_count": 11,
   "id": "de9f9b99-2af4-4873-9786-c06d3414ffe0",
   "metadata": {},
   "outputs": [],
   "source": [
    "#X_train_ohe.columns"
   ]
  },
  {
   "cell_type": "markdown",
   "id": "1d1063af-2f50-4f86-a90c-43ee0755f602",
   "metadata": {},
   "source": [
    "### Baseline model"
   ]
  },
  {
   "cell_type": "code",
   "execution_count": 12,
   "id": "dc03f363-74cf-4066-8ee7-085809dc79f8",
   "metadata": {},
   "outputs": [
    {
     "name": "stdout",
     "output_type": "stream",
     "text": [
      "Average listing price (train): 177.53\n",
      "price_pred_base_mse_train: 21698.0376\n",
      "\n",
      "Average listing price (test): 179.68\n",
      "price_pred_base_mse_test: 23040.302\n"
     ]
    }
   ],
   "source": [
    "# train set\n",
    "print(f'Average listing price (train): {round(y_train.mean(), 2)}')\n",
    "price_pred_base_train = np.full((y_train.shape[0], 1), y_train.mean())\n",
    "\n",
    "price_pred_base_mse_train = metrics.mean_squared_error(y_train, price_pred_base_train)\n",
    "print(f'price_pred_base_mse_train: {round(price_pred_base_mse_train, 4)}')\n",
    "print()\n",
    "\n",
    "# test set\n",
    "print(f'Average listing price (test): {round(y_test.mean(), 2)}')\n",
    "price_pred_base_test = np.full((y_test.shape[0], 1), y_test.mean())\n",
    "\n",
    "price_pred_base_mse_test = metrics.mean_squared_error(y_test, price_pred_base_test)\n",
    "print(f'price_pred_base_mse_test: {round(price_pred_base_mse_test, 4)}')"
   ]
  },
  {
   "cell_type": "markdown",
   "id": "05ca74ae-5ea0-4683-9c77-331c8d94c65e",
   "metadata": {},
   "source": [
    "### Random Forest regressor"
   ]
  },
  {
   "cell_type": "markdown",
   "id": "5967a798-281f-4961-8a2e-63d55d3d204c",
   "metadata": {},
   "source": [
    "#### Default parameter values"
   ]
  },
  {
   "cell_type": "code",
   "execution_count": 13,
   "id": "9b77578d-b8e5-4962-9328-9923fde0496e",
   "metadata": {},
   "outputs": [
    {
     "name": "stdout",
     "output_type": "stream",
     "text": [
      "m1_pipe_rf_base_R2_train:  0.9497\n",
      "m1_pipe_rf_base_R2_test:  0.6574\n",
      "m1_pipe_rf_base_mse_train 1090.7954\n",
      "m1_pipe_rf_base_mse_test 7894.4594\n"
     ]
    }
   ],
   "source": [
    "m1_pipe_rf_base = Pipeline([\n",
    "    ('ohe', ce.one_hot.OneHotEncoder(use_cat_names=True, handle_unknown='value')),\n",
    "    ('rf', RandomForestRegressor(random_state=42, n_jobs=-1))\n",
    "])\n",
    "\n",
    "m1_pipe_rf_base.fit(X_train, y_train)\n",
    "m1_pipe_rf_base_pred_train = m1_pipe_rf_base.predict(X_train)\n",
    "m1_pipe_rf_base_pred_test = m1_pipe_rf_base.predict(X_test)\n",
    "\n",
    "m1_pipe_rf_base_R2_train = m1_pipe_rf_base.score(X_train, y_train)\n",
    "m1_pipe_rf_base_R2_test = m1_pipe_rf_base.score(X_test, y_test)\n",
    "print('m1_pipe_rf_base_R2_train: ', round(m1_pipe_rf_base_R2_train, 4))\n",
    "print('m1_pipe_rf_base_R2_test: ', round(m1_pipe_rf_base_R2_test, 4))\n",
    "\n",
    "m1_pipe_rf_base_mse_train = metrics.mean_squared_error(y_train, m1_pipe_rf_base_pred_train)\n",
    "m1_pipe_rf_base_mse_test = metrics.mean_squared_error(y_test, m1_pipe_rf_base_pred_test)\n",
    "print('m1_pipe_rf_base_mse_train', round(m1_pipe_rf_base_mse_train, 4))\n",
    "print('m1_pipe_rf_base_mse_test', round(m1_pipe_rf_base_mse_test, 4))"
   ]
  },
  {
   "cell_type": "markdown",
   "id": "e3159afe-1a64-46d1-9153-e91a86cfd702",
   "metadata": {},
   "source": [
    "**Observation**: The model is overfit."
   ]
  },
  {
   "cell_type": "code",
   "execution_count": 15,
   "id": "6b52eab7-4e9b-4388-ad14-b591e1742ab9",
   "metadata": {},
   "outputs": [
    {
     "data": {
      "text/html": [
       "<div>\n",
       "<style scoped>\n",
       "    .dataframe tbody tr th:only-of-type {\n",
       "        vertical-align: middle;\n",
       "    }\n",
       "\n",
       "    .dataframe tbody tr th {\n",
       "        vertical-align: top;\n",
       "    }\n",
       "\n",
       "    .dataframe thead th {\n",
       "        text-align: right;\n",
       "    }\n",
       "</style>\n",
       "<table border=\"1\" class=\"dataframe\">\n",
       "  <thead>\n",
       "    <tr style=\"text-align: right;\">\n",
       "      <th></th>\n",
       "      <th>feature</th>\n",
       "      <th>importance</th>\n",
       "    </tr>\n",
       "  </thead>\n",
       "  <tbody>\n",
       "    <tr>\n",
       "      <th>66</th>\n",
       "      <td>bedrooms</td>\n",
       "      <td>0.392925</td>\n",
       "    </tr>\n",
       "    <tr>\n",
       "      <th>68</th>\n",
       "      <td>bathrooms</td>\n",
       "      <td>0.066267</td>\n",
       "    </tr>\n",
       "    <tr>\n",
       "      <th>71</th>\n",
       "      <td>minimum_nights</td>\n",
       "      <td>0.038149</td>\n",
       "    </tr>\n",
       "    <tr>\n",
       "      <th>98</th>\n",
       "      <td>random</td>\n",
       "      <td>0.030087</td>\n",
       "    </tr>\n",
       "    <tr>\n",
       "      <th>82</th>\n",
       "      <td>review_scores_rating</td>\n",
       "      <td>0.029460</td>\n",
       "    </tr>\n",
       "    <tr>\n",
       "      <th>88</th>\n",
       "      <td>review_scores_value</td>\n",
       "      <td>0.028554</td>\n",
       "    </tr>\n",
       "    <tr>\n",
       "      <th>87</th>\n",
       "      <td>review_scores_location</td>\n",
       "      <td>0.025528</td>\n",
       "    </tr>\n",
       "    <tr>\n",
       "      <th>89</th>\n",
       "      <td>number_of_reviews</td>\n",
       "      <td>0.024506</td>\n",
       "    </tr>\n",
       "    <tr>\n",
       "      <th>65</th>\n",
       "      <td>accommodates</td>\n",
       "      <td>0.023891</td>\n",
       "    </tr>\n",
       "    <tr>\n",
       "      <th>72</th>\n",
       "      <td>maximum_nights</td>\n",
       "      <td>0.023606</td>\n",
       "    </tr>\n",
       "  </tbody>\n",
       "</table>\n",
       "</div>"
      ],
      "text/plain": [
       "                   feature  importance\n",
       "66                bedrooms    0.392925\n",
       "68               bathrooms    0.066267\n",
       "71          minimum_nights    0.038149\n",
       "98                  random    0.030087\n",
       "82    review_scores_rating    0.029460\n",
       "88     review_scores_value    0.028554\n",
       "87  review_scores_location    0.025528\n",
       "89       number_of_reviews    0.024506\n",
       "65            accommodates    0.023891\n",
       "72          maximum_nights    0.023606"
      ]
     },
     "execution_count": 15,
     "metadata": {},
     "output_type": "execute_result"
    }
   ],
   "source": [
    "m1_pipe_rf_base_feature_importance = pd.DataFrame({'feature': m1_pipe_rf_base['ohe'].get_feature_names(),\n",
    "                                         'importance': m1_pipe_rf_base['rf'].feature_importances_})\n",
    "\n",
    "m1_pipe_rf_base_feature_importance.to_csv('../Data/m1_pipe_rf_base_feature_importance.csv', index=False)\n",
    "m1_pipe_rf_base_feature_importance.sort_values('importance', ascending=False).head(10)"
   ]
  },
  {
   "cell_type": "markdown",
   "id": "6d323849-ce8a-45a8-9b27-2ac87880cc9e",
   "metadata": {},
   "source": [
    "**Observation**: There are only 3 features that seem more important than the 'random' variable. This looks weird."
   ]
  },
  {
   "cell_type": "markdown",
   "id": "c96a912a-99d0-4d0c-be99-93c0fa1bca42",
   "metadata": {},
   "source": [
    "#### GridSearchCV"
   ]
  },
  {
   "cell_type": "markdown",
   "id": "087dca8f-c96d-460d-95bb-3176b2b0c635",
   "metadata": {},
   "source": [
    "##### with all features"
   ]
  },
  {
   "cell_type": "code",
   "execution_count": 18,
   "id": "baa0e25f-e121-4f5e-bca3-b77c54933c62",
   "metadata": {},
   "outputs": [
    {
     "name": "stdout",
     "output_type": "stream",
     "text": [
      "2022-02-05 08:14:08.508316\n",
      "2022-02-05 08:20:54.998836\n",
      "m1_gs_rf_R2_train:  0.8152\n",
      "m1_gs_rf_R2_test:   0.6465\n",
      "m1_gs_rf_mse_train:  4010.0584\n",
      "m1_gs_rf_mse_test:   8145.2011\n"
     ]
    },
    {
     "data": {
      "text/plain": [
       "Pipeline(steps=[('ohe',\n",
       "                 OneHotEncoder(cols=['neighborhood_recoded', 'county',\n",
       "                                     'property_type_recoded', 'bathroom_type'],\n",
       "                               use_cat_names=True)),\n",
       "                ('rf',\n",
       "                 RandomForestRegressor(max_depth=14, max_features=60,\n",
       "                                       min_samples_leaf=5, min_samples_split=10,\n",
       "                                       n_estimators=600, n_jobs=-1,\n",
       "                                       random_state=42))])"
      ]
     },
     "execution_count": 18,
     "metadata": {},
     "output_type": "execute_result"
    }
   ],
   "source": [
    "# build the model\n",
    "m1_pipe_rf = Pipeline([\n",
    "    ('ohe', ce.one_hot.OneHotEncoder(use_cat_names=True, handle_unknown='value')),\n",
    "    ('rf', RandomForestRegressor(random_state=42, n_jobs=-1))\n",
    "])\n",
    "\n",
    "m1_pipe_rf_params = {\n",
    "    'rf__n_estimators': [400, 500, 600],\n",
    "    'rf__max_depth': [6, 8, 10, 14],\n",
    "    'rf__min_samples_split': [10, 20],\n",
    "    'rf__min_samples_leaf': [5],\n",
    "    #'rf__ccp_alpha': [0.0, 0.05, 0.1],\n",
    "    'rf__max_features': [30, 60]\n",
    "}\n",
    "    \n",
    "m1_gs_rf = GridSearchCV(m1_pipe_rf,\n",
    "                        m1_pipe_rf_params,\n",
    "                        cv=5)\n",
    "\n",
    "# train the model\n",
    "print(datetime.datetime.now())\n",
    "m1_gs_rf.fit(X_train, y_train)\n",
    "print(datetime.datetime.now())\n",
    "\n",
    "# predict\n",
    "m1_gs_rf_pred_train = m1_gs_rf.predict(X_train)\n",
    "m1_gs_rf_pred_test = m1_gs_rf.predict(X_test)\n",
    "\n",
    "# evaluate\n",
    "m1_gs_rf_R2_train = m1_gs_rf.score(X_train, y_train)\n",
    "m1_gs_rf_R2_test = m1_gs_rf.score(X_test, y_test)\n",
    "print('m1_gs_rf_R2_train: ', round(m1_gs_rf_R2_train, 4))\n",
    "print('m1_gs_rf_R2_test:  ', round(m1_gs_rf_R2_test, 4))\n",
    "\n",
    "m1_gs_rf_mse_train = metrics.mean_squared_error(y_train, m1_gs_rf_pred_train)\n",
    "m1_gs_rf_mse_test = metrics.mean_squared_error(y_test, m1_gs_rf_pred_test)\n",
    "print('m1_gs_rf_mse_train: ', round(m1_gs_rf_mse_train, 4))\n",
    "print('m1_gs_rf_mse_test:  ', round(m1_gs_rf_mse_test, 4))\n",
    "\n",
    "m1_gs_rf.best_estimator_"
   ]
  },
  {
   "cell_type": "code",
   "execution_count": 22,
   "id": "accb1c30-a1a7-42fe-9257-530ff222ba77",
   "metadata": {},
   "outputs": [
    {
     "data": {
      "text/html": [
       "<div>\n",
       "<style scoped>\n",
       "    .dataframe tbody tr th:only-of-type {\n",
       "        vertical-align: middle;\n",
       "    }\n",
       "\n",
       "    .dataframe tbody tr th {\n",
       "        vertical-align: top;\n",
       "    }\n",
       "\n",
       "    .dataframe thead th {\n",
       "        text-align: right;\n",
       "    }\n",
       "</style>\n",
       "<table border=\"1\" class=\"dataframe\">\n",
       "  <thead>\n",
       "    <tr style=\"text-align: right;\">\n",
       "      <th></th>\n",
       "      <th>feature</th>\n",
       "      <th>importance</th>\n",
       "    </tr>\n",
       "  </thead>\n",
       "  <tbody>\n",
       "    <tr>\n",
       "      <th>66</th>\n",
       "      <td>bedrooms</td>\n",
       "      <td>0.347872</td>\n",
       "    </tr>\n",
       "    <tr>\n",
       "      <th>65</th>\n",
       "      <td>accommodates</td>\n",
       "      <td>0.125251</td>\n",
       "    </tr>\n",
       "    <tr>\n",
       "      <th>68</th>\n",
       "      <td>bathrooms</td>\n",
       "      <td>0.064252</td>\n",
       "    </tr>\n",
       "    <tr>\n",
       "      <th>67</th>\n",
       "      <td>beds</td>\n",
       "      <td>0.037408</td>\n",
       "    </tr>\n",
       "    <tr>\n",
       "      <th>71</th>\n",
       "      <td>minimum_nights</td>\n",
       "      <td>0.035539</td>\n",
       "    </tr>\n",
       "    <tr>\n",
       "      <th>82</th>\n",
       "      <td>review_scores_rating</td>\n",
       "      <td>0.028545</td>\n",
       "    </tr>\n",
       "    <tr>\n",
       "      <th>88</th>\n",
       "      <td>review_scores_value</td>\n",
       "      <td>0.025348</td>\n",
       "    </tr>\n",
       "    <tr>\n",
       "      <th>87</th>\n",
       "      <td>review_scores_location</td>\n",
       "      <td>0.024471</td>\n",
       "    </tr>\n",
       "    <tr>\n",
       "      <th>69</th>\n",
       "      <td>bathroom_type_shared</td>\n",
       "      <td>0.023052</td>\n",
       "    </tr>\n",
       "    <tr>\n",
       "      <th>72</th>\n",
       "      <td>maximum_nights</td>\n",
       "      <td>0.022982</td>\n",
       "    </tr>\n",
       "    <tr>\n",
       "      <th>90</th>\n",
       "      <td>number_of_reviews_ltm</td>\n",
       "      <td>0.021364</td>\n",
       "    </tr>\n",
       "    <tr>\n",
       "      <th>70</th>\n",
       "      <td>bathroom_type_private</td>\n",
       "      <td>0.020877</td>\n",
       "    </tr>\n",
       "    <tr>\n",
       "      <th>84</th>\n",
       "      <td>review_scores_cleanliness</td>\n",
       "      <td>0.020003</td>\n",
       "    </tr>\n",
       "    <tr>\n",
       "      <th>89</th>\n",
       "      <td>number_of_reviews</td>\n",
       "      <td>0.019844</td>\n",
       "    </tr>\n",
       "    <tr>\n",
       "      <th>98</th>\n",
       "      <td>random</td>\n",
       "      <td>0.019775</td>\n",
       "    </tr>\n",
       "    <tr>\n",
       "      <th>48</th>\n",
       "      <td>property_type_recoded_Private room in resident...</td>\n",
       "      <td>0.016666</td>\n",
       "    </tr>\n",
       "    <tr>\n",
       "      <th>46</th>\n",
       "      <td>county_San Francisco</td>\n",
       "      <td>0.015469</td>\n",
       "    </tr>\n",
       "    <tr>\n",
       "      <th>83</th>\n",
       "      <td>review_scores_accuracy</td>\n",
       "      <td>0.012860</td>\n",
       "    </tr>\n",
       "    <tr>\n",
       "      <th>53</th>\n",
       "      <td>property_type_recoded_Entire residential home</td>\n",
       "      <td>0.010962</td>\n",
       "    </tr>\n",
       "    <tr>\n",
       "      <th>86</th>\n",
       "      <td>review_scores_communication</td>\n",
       "      <td>0.009958</td>\n",
       "    </tr>\n",
       "  </tbody>\n",
       "</table>\n",
       "</div>"
      ],
      "text/plain": [
       "                                              feature  importance\n",
       "66                                           bedrooms    0.347872\n",
       "65                                       accommodates    0.125251\n",
       "68                                          bathrooms    0.064252\n",
       "67                                               beds    0.037408\n",
       "71                                     minimum_nights    0.035539\n",
       "82                               review_scores_rating    0.028545\n",
       "88                                review_scores_value    0.025348\n",
       "87                             review_scores_location    0.024471\n",
       "69                               bathroom_type_shared    0.023052\n",
       "72                                     maximum_nights    0.022982\n",
       "90                              number_of_reviews_ltm    0.021364\n",
       "70                              bathroom_type_private    0.020877\n",
       "84                          review_scores_cleanliness    0.020003\n",
       "89                                  number_of_reviews    0.019844\n",
       "98                                             random    0.019775\n",
       "48  property_type_recoded_Private room in resident...    0.016666\n",
       "46                               county_San Francisco    0.015469\n",
       "83                             review_scores_accuracy    0.012860\n",
       "53      property_type_recoded_Entire residential home    0.010962\n",
       "86                        review_scores_communication    0.009958"
      ]
     },
     "execution_count": 22,
     "metadata": {},
     "output_type": "execute_result"
    }
   ],
   "source": [
    "# feature importance\n",
    "m1_gs_rf_feature_importance = pd.DataFrame({'feature': m1_gs_rf.best_estimator_['ohe'].get_feature_names(),\n",
    "                                         'importance': m1_gs_rf.best_estimator_['rf'].feature_importances_})\n",
    "\n",
    "m1_gs_rf_feature_importance.to_csv('../Data/m1_gs_rf_feature_importance.csv', index=False)\n",
    "m1_gs_rf_feature_importance.sort_values('importance', ascending=False).head(20)\n",
    "\n",
    "# There are 14 features that are more important than the 'random' feature"
   ]
  },
  {
   "cell_type": "code",
   "execution_count": 21,
   "id": "7642be6c-92f9-473a-bef5-0367bd556079",
   "metadata": {},
   "outputs": [
    {
     "data": {
      "text/plain": [
       "(0.8086121404710693, 0.0)"
      ]
     },
     "execution_count": 21,
     "metadata": {},
     "output_type": "execute_result"
    }
   ],
   "source": [
    "# correlation between actual and predicted prices\n",
    "\n",
    "import scipy\n",
    "scipy.stats.pearsonr(y_test, m1_gs_rf_pred_test)"
   ]
  },
  {
   "cell_type": "markdown",
   "id": "2c3987a2-245d-4c49-a8e1-f52f6f3a3f65",
   "metadata": {},
   "source": [
    "##### with top 50 features"
   ]
  },
  {
   "cell_type": "code",
   "execution_count": 25,
   "id": "158b05d1-a0f2-4421-a0c5-3cc4e7fa6198",
   "metadata": {},
   "outputs": [
    {
     "name": "stdout",
     "output_type": "stream",
     "text": [
      "2022-02-05 09:05:22.274964\n",
      "2022-02-05 09:12:52.702961\n",
      "m1_gs_rf_top_R2_train:  0.8126\n",
      "m1_gs_rf_top_R2_test:   0.646\n",
      "m1_gs_rf_top_mse_train:  4065.5202\n",
      "m1_gs_rf_top_mse_test:   8155.9516\n"
     ]
    },
    {
     "data": {
      "text/plain": [
       "Pipeline(steps=[('ohe', OneHotEncoder(cols=[], use_cat_names=True)),\n",
       "                ('rf',\n",
       "                 RandomForestRegressor(max_depth=14, max_features=30,\n",
       "                                       min_samples_leaf=5, min_samples_split=10,\n",
       "                                       n_estimators=600, n_jobs=-1,\n",
       "                                       random_state=42))])"
      ]
     },
     "execution_count": 25,
     "metadata": {},
     "output_type": "execute_result"
    }
   ],
   "source": [
    "# retrain the model after dropping features based on importance\n",
    "\n",
    "# top-50 feature list\n",
    "feature_list = m1_gs_rf_feature_importance.sort_values('importance', ascending=False).head(51)['feature']\n",
    "feature_list = [feature for feature in feature_list if feature != 'random']\n",
    "\n",
    "# create the X_train with only these features\n",
    "ohe = ce.one_hot.OneHotEncoder(use_cat_names=True, handle_unknown='value')\n",
    "X_train_ohe = ohe.fit_transform(X_train)\n",
    "X_train_ohe_top = X_train_ohe[feature_list].copy()\n",
    "\n",
    "X_test_ohe = ohe.transform(X_test)\n",
    "X_test_ohe_top = X_test_ohe[feature_list].copy()\n",
    "\n",
    "\n",
    "\n",
    "# build the model\n",
    "m1_pipe_rf_top = Pipeline([\n",
    "    ('ohe', ce.one_hot.OneHotEncoder(use_cat_names=True, handle_unknown='value')),\n",
    "    ('rf', RandomForestRegressor(random_state=42, n_jobs=-1))\n",
    "])\n",
    "\n",
    "m1_pipe_rf_top_params = {\n",
    "    'rf__n_estimators': [400, 500, 600],\n",
    "    'rf__max_depth': [6, 8, 10, 14],\n",
    "    'rf__min_samples_split': [10, 20],\n",
    "    'rf__min_samples_leaf': [5],\n",
    "    #'rf__ccp_alpha': [0.0, 0.05, 0.1],\n",
    "    'rf__max_features': [30, 50]\n",
    "}\n",
    "    \n",
    "m1_gs_rf_top = GridSearchCV(m1_pipe_rf_top,\n",
    "                        m1_pipe_rf_top_params,\n",
    "                        cv=5)\n",
    "\n",
    "# train the model\n",
    "print(datetime.datetime.now())\n",
    "m1_gs_rf_top.fit(X_train_ohe_top, y_train)\n",
    "print(datetime.datetime.now())\n",
    "\n",
    "# predict\n",
    "m1_gs_rf_top_pred_train = m1_gs_rf_top.predict(X_train_ohe_top)\n",
    "m1_gs_rf_top_pred_test = m1_gs_rf_top.predict(X_test_ohe_top)\n",
    "\n",
    "# evaluate\n",
    "m1_gs_rf_top_R2_train = m1_gs_rf_top.score(X_train_ohe_top, y_train)\n",
    "m1_gs_rf_top_R2_test = m1_gs_rf_top.score(X_test_ohe_top, y_test)\n",
    "print('m1_gs_rf_top_R2_train: ', round(m1_gs_rf_top_R2_train, 4))\n",
    "print('m1_gs_rf_top_R2_test:  ', round(m1_gs_rf_top_R2_test, 4))\n",
    "\n",
    "m1_gs_rf_top_mse_train = metrics.mean_squared_error(y_train, m1_gs_rf_top_pred_train)\n",
    "m1_gs_rf_top_mse_test = metrics.mean_squared_error(y_test, m1_gs_rf_top_pred_test)\n",
    "print('m1_gs_rf_top_mse_train: ', round(m1_gs_rf_top_mse_train, 4))\n",
    "print('m1_gs_rf_top_mse_test:  ', round(m1_gs_rf_top_mse_test, 4))\n",
    "\n",
    "m1_gs_rf_top.best_estimator_"
   ]
  },
  {
   "cell_type": "markdown",
   "id": "974cc144-a370-4796-8c8c-0e8a7f0ceb28",
   "metadata": {},
   "source": [
    "**Observation**: The model with the top 50 features performed similarly as the model with all of the features."
   ]
  },
  {
   "cell_type": "markdown",
   "id": "cd22730c-427c-4925-a97b-e151ef1e9cdf",
   "metadata": {},
   "source": [
    "#### Save m1_gs_rf and m1_gs_rf_top50 model with Joblib"
   ]
  },
  {
   "cell_type": "code",
   "execution_count": 247,
   "id": "738aab67-6d91-4b24-b07e-b0e9b57e5ebd",
   "metadata": {},
   "outputs": [
    {
     "data": {
      "text/plain": [
       "['../Models/m1_gs_rf_top.pkl']"
      ]
     },
     "execution_count": 247,
     "metadata": {},
     "output_type": "execute_result"
    }
   ],
   "source": [
    "import joblib\n",
    "\n",
    "# save m1_gs_rf and m1_gs_rf_top\n",
    "joblib.dump(m1_gs_rf, '../Models/m1_gs_rf.pkl')\n",
    "joblib.dump(m1_gs_rf, '../Models/m1_gs_rf_top.pkl')\n",
    "\n",
    "# reload \n",
    "#m1_gs_rf_joblib = joblib.load(m1_gs_rf_joblib_filename)\n",
    "\n",
    "# predict & evaluate\n",
    "#m1_gs_rf_joblib_pred_test = m1_gs_rf_joblib.predict(X_test)\n",
    "#m1_gs_rf_joblib.score(X_test, y_test)"
   ]
  },
  {
   "cell_type": "markdown",
   "id": "79d7cb03-3db7-4444-9395-abb1c35f8736",
   "metadata": {},
   "source": [
    "### XGBoost "
   ]
  },
  {
   "cell_type": "markdown",
   "id": "2e7f96c5-0f33-46d4-ae0d-db0a23d9dd01",
   "metadata": {},
   "source": [
    "#### Default parameter values"
   ]
  },
  {
   "cell_type": "code",
   "execution_count": 29,
   "id": "3e4ab90c-7258-4470-84da-2457896647d4",
   "metadata": {},
   "outputs": [
    {
     "data": {
      "text/plain": [
       "Index(['neighborhood_recoded', 'county', 'property_type_recoded',\n",
       "       'accommodates', 'bedrooms', 'beds', 'bathrooms', 'bathroom_type',\n",
       "       'minimum_nights', 'maximum_nights', 'Wifi', 'Dedicated_workspace',\n",
       "       'Patio_or_balcony', 'Backyard', 'BBQ_grill', 'Outdoor_furniture',\n",
       "       'Indoor_fireplace', 'Private_entrance', 'Pool', 'review_scores_rating',\n",
       "       'review_scores_accuracy', 'review_scores_cleanliness',\n",
       "       'review_scores_checkin', 'review_scores_communication',\n",
       "       'review_scores_location', 'review_scores_value', 'number_of_reviews',\n",
       "       'number_of_reviews_ltm', 'number_of_reviews_l30d',\n",
       "       'neighborhood_overview_f', 'host_about_f', 'host_response_time_f',\n",
       "       'host_response_rate_f', 'host_acceptance_rate_f',\n",
       "       'host_neighbourhood_f', 'random'],\n",
       "      dtype='object')"
      ]
     },
     "execution_count": 29,
     "metadata": {},
     "output_type": "execute_result"
    }
   ],
   "source": [
    "X_train.columns"
   ]
  },
  {
   "cell_type": "code",
   "execution_count": 27,
   "id": "24960b21-5708-4bc2-8202-d1e72e08bafd",
   "metadata": {},
   "outputs": [
    {
     "name": "stdout",
     "output_type": "stream",
     "text": [
      "m1_pipe_xgb_base_R2_train:  0.9448\n",
      "m1_pipe_xgb_base_R2_test:  0.6569\n",
      "m1_pipe_xgb_base_mse_train:  1197.3008\n",
      "m1_pipe_xgb_base_mse_test:  7905.0643\n"
     ]
    },
    {
     "data": {
      "text/plain": [
       "['../Models/m1_pipe_xgb_base_joblib.pkl']"
      ]
     },
     "execution_count": 27,
     "metadata": {},
     "output_type": "execute_result"
    }
   ],
   "source": [
    "m1_pipe_xgb_base = Pipeline([\n",
    "    ('ohe', ce.one_hot.OneHotEncoder(use_cat_names=True, handle_unknown='value')),\n",
    "    ('xgb', XGBRegressor(random_state=42, n_jobs=1))\n",
    "])\n",
    "\n",
    "m1_pipe_xgb_base.fit(X_train, y_train)\n",
    "\n",
    "m1_pipe_xgb_base_pred_train = m1_pipe_xgb_base.predict(X_train)\n",
    "m1_pipe_xgb_base_pred_test = m1_pipe_xgb_base.predict(X_test)\n",
    "\n",
    "\n",
    "m1_pipe_xgb_base_R2_train = m1_pipe_xgb_base.score(X_train, y_train)\n",
    "m1_pipe_xgb_base_R2_test = m1_pipe_xgb_base.score(X_test, y_test)\n",
    "print('m1_pipe_xgb_base_R2_train: ', round(m1_pipe_xgb_base_R2_train, 4))\n",
    "print('m1_pipe_xgb_base_R2_test: ', round(m1_pipe_xgb_base_R2_test, 4))\n",
    "\n",
    "m1_pipe_xgb_base_mse_train = metrics.mean_squared_error(y_train, m1_pipe_xgb_base_pred_train)\n",
    "m1_pipe_xgb_base_mse_test = metrics.mean_squared_error(y_test, m1_pipe_xgb_base_pred_test)\n",
    "print('m1_pipe_xgb_base_mse_train: ', round(m1_pipe_xgb_base_mse_train, 4))\n",
    "print('m1_pipe_xgb_base_mse_test: ', round(m1_pipe_xgb_base_mse_test, 4))\n",
    "\n"
   ]
  },
  {
   "cell_type": "code",
   "execution_count": 248,
   "id": "06f1fc71-687a-48a2-b826-547b94ede464",
   "metadata": {},
   "outputs": [
    {
     "data": {
      "text/plain": [
       "['../Models/m1_pipe_xgb_base_joblib.pkl']"
      ]
     },
     "execution_count": 248,
     "metadata": {},
     "output_type": "execute_result"
    }
   ],
   "source": [
    "# save m1_gs_rf\n",
    "\n",
    "# import joblib\n",
    "joblib.dump(m1_pipe_xgb_base, '../Models/m1_pipe_xgb_base_joblib.pkl')"
   ]
  },
  {
   "cell_type": "code",
   "execution_count": 30,
   "id": "c8541a87-2105-4f11-8f02-fa9dffe2bc5b",
   "metadata": {},
   "outputs": [
    {
     "data": {
      "text/html": [
       "<div>\n",
       "<style scoped>\n",
       "    .dataframe tbody tr th:only-of-type {\n",
       "        vertical-align: middle;\n",
       "    }\n",
       "\n",
       "    .dataframe tbody tr th {\n",
       "        vertical-align: top;\n",
       "    }\n",
       "\n",
       "    .dataframe thead th {\n",
       "        text-align: right;\n",
       "    }\n",
       "</style>\n",
       "<table border=\"1\" class=\"dataframe\">\n",
       "  <thead>\n",
       "    <tr style=\"text-align: right;\">\n",
       "      <th></th>\n",
       "      <th>feature</th>\n",
       "      <th>importance</th>\n",
       "    </tr>\n",
       "  </thead>\n",
       "  <tbody>\n",
       "    <tr>\n",
       "      <th>66</th>\n",
       "      <td>bedrooms</td>\n",
       "      <td>0.247459</td>\n",
       "    </tr>\n",
       "    <tr>\n",
       "      <th>69</th>\n",
       "      <td>bathroom_type_shared</td>\n",
       "      <td>0.058778</td>\n",
       "    </tr>\n",
       "    <tr>\n",
       "      <th>47</th>\n",
       "      <td>county_Santa Clara</td>\n",
       "      <td>0.039802</td>\n",
       "    </tr>\n",
       "    <tr>\n",
       "      <th>46</th>\n",
       "      <td>county_San Francisco</td>\n",
       "      <td>0.035981</td>\n",
       "    </tr>\n",
       "    <tr>\n",
       "      <th>68</th>\n",
       "      <td>bathrooms</td>\n",
       "      <td>0.031624</td>\n",
       "    </tr>\n",
       "    <tr>\n",
       "      <th>48</th>\n",
       "      <td>property_type_recoded_Private room in resident...</td>\n",
       "      <td>0.023782</td>\n",
       "    </tr>\n",
       "    <tr>\n",
       "      <th>24</th>\n",
       "      <td>neighborhood_recoded_Russian Hill</td>\n",
       "      <td>0.023647</td>\n",
       "    </tr>\n",
       "    <tr>\n",
       "      <th>71</th>\n",
       "      <td>minimum_nights</td>\n",
       "      <td>0.018377</td>\n",
       "    </tr>\n",
       "    <tr>\n",
       "      <th>79</th>\n",
       "      <td>Indoor_fireplace</td>\n",
       "      <td>0.015001</td>\n",
       "    </tr>\n",
       "    <tr>\n",
       "      <th>65</th>\n",
       "      <td>accommodates</td>\n",
       "      <td>0.013322</td>\n",
       "    </tr>\n",
       "    <tr>\n",
       "      <th>55</th>\n",
       "      <td>property_type_recoded_Entire loft</td>\n",
       "      <td>0.012317</td>\n",
       "    </tr>\n",
       "    <tr>\n",
       "      <th>23</th>\n",
       "      <td>neighborhood_recoded_Nob Hill</td>\n",
       "      <td>0.012247</td>\n",
       "    </tr>\n",
       "    <tr>\n",
       "      <th>81</th>\n",
       "      <td>Pool</td>\n",
       "      <td>0.012140</td>\n",
       "    </tr>\n",
       "    <tr>\n",
       "      <th>82</th>\n",
       "      <td>review_scores_rating</td>\n",
       "      <td>0.012054</td>\n",
       "    </tr>\n",
       "    <tr>\n",
       "      <th>87</th>\n",
       "      <td>review_scores_location</td>\n",
       "      <td>0.011983</td>\n",
       "    </tr>\n",
       "    <tr>\n",
       "      <th>16</th>\n",
       "      <td>neighborhood_recoded_Marina</td>\n",
       "      <td>0.011819</td>\n",
       "    </tr>\n",
       "    <tr>\n",
       "      <th>32</th>\n",
       "      <td>neighborhood_recoded_Pacific Heights</td>\n",
       "      <td>0.011188</td>\n",
       "    </tr>\n",
       "    <tr>\n",
       "      <th>51</th>\n",
       "      <td>property_type_recoded_Room in boutique hotel</td>\n",
       "      <td>0.011122</td>\n",
       "    </tr>\n",
       "    <tr>\n",
       "      <th>19</th>\n",
       "      <td>neighborhood_recoded_Inner Richmond</td>\n",
       "      <td>0.010430</td>\n",
       "    </tr>\n",
       "    <tr>\n",
       "      <th>73</th>\n",
       "      <td>Wifi</td>\n",
       "      <td>0.009615</td>\n",
       "    </tr>\n",
       "    <tr>\n",
       "      <th>88</th>\n",
       "      <td>review_scores_value</td>\n",
       "      <td>0.009573</td>\n",
       "    </tr>\n",
       "  </tbody>\n",
       "</table>\n",
       "</div>"
      ],
      "text/plain": [
       "                                              feature  importance\n",
       "66                                           bedrooms    0.247459\n",
       "69                               bathroom_type_shared    0.058778\n",
       "47                                 county_Santa Clara    0.039802\n",
       "46                               county_San Francisco    0.035981\n",
       "68                                          bathrooms    0.031624\n",
       "48  property_type_recoded_Private room in resident...    0.023782\n",
       "24                  neighborhood_recoded_Russian Hill    0.023647\n",
       "71                                     minimum_nights    0.018377\n",
       "79                                   Indoor_fireplace    0.015001\n",
       "65                                       accommodates    0.013322\n",
       "55                  property_type_recoded_Entire loft    0.012317\n",
       "23                      neighborhood_recoded_Nob Hill    0.012247\n",
       "81                                               Pool    0.012140\n",
       "82                               review_scores_rating    0.012054\n",
       "87                             review_scores_location    0.011983\n",
       "16                        neighborhood_recoded_Marina    0.011819\n",
       "32               neighborhood_recoded_Pacific Heights    0.011188\n",
       "51       property_type_recoded_Room in boutique hotel    0.011122\n",
       "19                neighborhood_recoded_Inner Richmond    0.010430\n",
       "73                                               Wifi    0.009615\n",
       "88                                review_scores_value    0.009573"
      ]
     },
     "execution_count": 30,
     "metadata": {},
     "output_type": "execute_result"
    }
   ],
   "source": [
    "# feature importance\n",
    "m1_pipe_xgb_base_feature_importance = pd.DataFrame({'feature': m1_pipe_xgb_base['ohe'].get_feature_names(),\n",
    "                                             'importance': m1_pipe_xgb_base['xgb'].feature_importances_})\n",
    "\n",
    "m1_pipe_xgb_base_feature_importance.to_csv('../Data/m1_pipe_xgb_base_feature_importance.csv')\n",
    "m1_pipe_xgb_base_feature_importance.sort_values('importance', ascending=False).head(21)\n",
    "\n",
    "# There are 59 features that are more important than the 'random' column."
   ]
  },
  {
   "cell_type": "markdown",
   "id": "f0679a86-90ed-402e-a64b-dde3b4b1dd57",
   "metadata": {},
   "source": [
    "**Observation**: R2 for the test set is slightly higher than the random forest models but the model is more overfitted than those models, as its R2 for the train set is much higher.\n",
    "\n",
    "**Decision**: Drop some features based on feature importance."
   ]
  },
  {
   "cell_type": "code",
   "execution_count": 36,
   "id": "3a8f4399-701b-41ef-bbbd-9d821f5773a4",
   "metadata": {},
   "outputs": [
    {
     "name": "stdout",
     "output_type": "stream",
     "text": [
      "2022-02-05 09:47:47.664965\n",
      "2022-02-05 09:47:50.207980\n",
      "\n",
      "m1_pipe_xgb_base_top_R2_train:  0.7166\n",
      "m1_pipe_xgb_base_top_R2_test:  0.6564\n",
      "m1_pipe_xgb_base_top_mse_train 6149.8961\n",
      "m1_pipe_xgb_base_top_mse_test 7916.0522\n"
     ]
    }
   ],
   "source": [
    "# retrain the model with top 60 features \n",
    "\n",
    "# top-60 feature list\n",
    "feature_list = m1_pipe_xgb_base_feature_importance.sort_values('importance', ascending=False).head(61)['feature']\n",
    "# feature_list = [feature for feature in feature_list if feature != 'random']\n",
    "\n",
    "# create the X_train with only these features\n",
    "ohe = ce.one_hot.OneHotEncoder(use_cat_names=True, handle_unknown='value')\n",
    "X_train_ohe = ohe.fit_transform(X_train)\n",
    "X_train_ohe_top = X_train_ohe[feature_list].copy()\n",
    "\n",
    "X_test_ohe = ohe.transform(X_test)\n",
    "X_test_ohe_top = X_test_ohe[feature_list].copy()\n",
    "\n",
    "# build this model\n",
    "m1_pipe_xgb_base_top = Pipeline([\n",
    "    #('ohe', ce.one_hot.OneHotEncoder(use_cat_names=True, handle_unknown='value')),\n",
    "    ('xgb', XGBRegressor(n_estimators=400, max_depth=4, eta=0.03, reg_lambda=30, reg_alpha=30, \n",
    "                                  random_state=42, n_jobs=-1))\n",
    "])\n",
    "\n",
    "# train model\n",
    "print(datetime.datetime.now())\n",
    "m1_pipe_xgb_base_top.fit(X_train_ohe_top, y_train)\n",
    "print(datetime.datetime.now())\n",
    "print()\n",
    "\n",
    "# predict\n",
    "m1_pipe_xgb_base_top_pred_train = m1_pipe_xgb_base_top.predict(X_train_ohe_top)\n",
    "m1_pipe_xgb_base_top_pred_test = m1_pipe_xgb_base_top.predict(X_test_ohe_top)\n",
    "\n",
    "# evaluate\n",
    "m1_pipe_xgb_base_top_R2_train = m1_pipe_xgb_base_top.score(X_train_ohe_top, y_train)\n",
    "m1_pipe_xgb_base_top_R2_test = m1_pipe_xgb_base_top.score(X_test_ohe_top, y_test)\n",
    "print('m1_pipe_xgb_base_top_R2_train: ', round(m1_pipe_xgb_base_top_R2_train, 4))\n",
    "print('m1_pipe_xgb_base_top_R2_test: ', round(m1_pipe_xgb_base_top_R2_test, 4))\n",
    "\n",
    "m1_pipe_xgb_base_top_mse_train = metrics.mean_squared_error(y_train, m1_pipe_xgb_base_top_pred_train)\n",
    "m1_pipe_xgb_base_top_mse_test = metrics.mean_squared_error(y_test, m1_pipe_xgb_base_top_pred_test)\n",
    "print('m1_pipe_xgb_base_top_mse_train', round(m1_pipe_xgb_base_top_mse_train, 4))\n",
    "print('m1_pipe_xgb_base_top_mse_test', round(m1_pipe_xgb_base_top_mse_test, 4))\n"
   ]
  },
  {
   "cell_type": "code",
   "execution_count": 38,
   "id": "238a2a88-7218-4a88-b879-769669ad619c",
   "metadata": {},
   "outputs": [
    {
     "data": {
      "text/html": [
       "<div>\n",
       "<style scoped>\n",
       "    .dataframe tbody tr th:only-of-type {\n",
       "        vertical-align: middle;\n",
       "    }\n",
       "\n",
       "    .dataframe tbody tr th {\n",
       "        vertical-align: top;\n",
       "    }\n",
       "\n",
       "    .dataframe thead th {\n",
       "        text-align: right;\n",
       "    }\n",
       "</style>\n",
       "<table border=\"1\" class=\"dataframe\">\n",
       "  <thead>\n",
       "    <tr style=\"text-align: right;\">\n",
       "      <th></th>\n",
       "      <th>feature</th>\n",
       "      <th>importance</th>\n",
       "    </tr>\n",
       "  </thead>\n",
       "  <tbody>\n",
       "    <tr>\n",
       "      <th>66</th>\n",
       "      <td>bedrooms</td>\n",
       "      <td>0.392505</td>\n",
       "    </tr>\n",
       "    <tr>\n",
       "      <th>65</th>\n",
       "      <td>accommodates</td>\n",
       "      <td>0.064387</td>\n",
       "    </tr>\n",
       "    <tr>\n",
       "      <th>69</th>\n",
       "      <td>bathroom_type_shared</td>\n",
       "      <td>0.057862</td>\n",
       "    </tr>\n",
       "    <tr>\n",
       "      <th>48</th>\n",
       "      <td>property_type_recoded_Private room in resident...</td>\n",
       "      <td>0.032250</td>\n",
       "    </tr>\n",
       "    <tr>\n",
       "      <th>46</th>\n",
       "      <td>county_San Francisco</td>\n",
       "      <td>0.031958</td>\n",
       "    </tr>\n",
       "    <tr>\n",
       "      <th>47</th>\n",
       "      <td>county_Santa Clara</td>\n",
       "      <td>0.023798</td>\n",
       "    </tr>\n",
       "    <tr>\n",
       "      <th>68</th>\n",
       "      <td>bathrooms</td>\n",
       "      <td>0.022296</td>\n",
       "    </tr>\n",
       "    <tr>\n",
       "      <th>79</th>\n",
       "      <td>Indoor_fireplace</td>\n",
       "      <td>0.019577</td>\n",
       "    </tr>\n",
       "    <tr>\n",
       "      <th>71</th>\n",
       "      <td>minimum_nights</td>\n",
       "      <td>0.017855</td>\n",
       "    </tr>\n",
       "    <tr>\n",
       "      <th>82</th>\n",
       "      <td>review_scores_rating</td>\n",
       "      <td>0.014829</td>\n",
       "    </tr>\n",
       "  </tbody>\n",
       "</table>\n",
       "</div>"
      ],
      "text/plain": [
       "                                              feature  importance\n",
       "66                                           bedrooms    0.392505\n",
       "65                                       accommodates    0.064387\n",
       "69                               bathroom_type_shared    0.057862\n",
       "48  property_type_recoded_Private room in resident...    0.032250\n",
       "46                               county_San Francisco    0.031958\n",
       "47                                 county_Santa Clara    0.023798\n",
       "68                                          bathrooms    0.022296\n",
       "79                                   Indoor_fireplace    0.019577\n",
       "71                                     minimum_nights    0.017855\n",
       "82                               review_scores_rating    0.014829"
      ]
     },
     "execution_count": 38,
     "metadata": {},
     "output_type": "execute_result"
    }
   ],
   "source": [
    "# feature importance\n",
    "m1_pipe_xgb_base_top_feature_importance = pd.DataFrame({'feature': feature_list,\n",
    "                                             'importance': m1_pipe_xgb_base_top['xgb'].feature_importances_})\n",
    "\n",
    "m1_pipe_xgb_base_top_feature_importance.to_csv('../Data/m1_pipe_xgb_base_top_feature_importance.csv')\n",
    "m1_pipe_xgb_base_top_feature_importance.sort_values('importance', ascending=False).head(10)\n",
    "\n",
    "# There are 55 features that are more important than 'random'."
   ]
  },
  {
   "cell_type": "markdown",
   "id": "47fd4710-879e-4a6c-ac86-cfb44f9c464b",
   "metadata": {},
   "source": [
    "#### GridSearchCV"
   ]
  },
  {
   "cell_type": "markdown",
   "id": "4ac75453-fb11-41bd-9f6a-49e771b616b5",
   "metadata": {},
   "source": [
    "##### with all features"
   ]
  },
  {
   "cell_type": "code",
   "execution_count": 39,
   "id": "48a19fdc-406e-4125-b569-a9af8c7c8f80",
   "metadata": {},
   "outputs": [
    {
     "name": "stdout",
     "output_type": "stream",
     "text": [
      "2022-02-05 09:50:04.830292\n",
      "2022-02-05 10:17:29.372368\n",
      "\n",
      "m1_gs_xgb_R2_train: 0.8449272486632081\n",
      "m1_gs_xgb_R2_test: 0.6907390421490873\n",
      "m1_gs_xgb_mse_train: 3364.774384684616\n",
      "m1_gs_xgb_mse_test: 7125.465865878826\n"
     ]
    },
    {
     "data": {
      "text/plain": [
       "Pipeline(steps=[('ohe',\n",
       "                 OneHotEncoder(cols=['neighborhood_recoded', 'county',\n",
       "                                     'property_type_recoded', 'bathroom_type'],\n",
       "                               use_cat_names=True)),\n",
       "                ('xgb',\n",
       "                 XGBRegressor(base_score=0.5, booster='gbtree',\n",
       "                              colsample_bylevel=1, colsample_bynode=1,\n",
       "                              colsample_bytree=1, enable_categorical=False,\n",
       "                              eta=0.05, gamma=0, gpu_id=-1,\n",
       "                              importance_type=None, interaction_constraints='',\n",
       "                              learning_rate=0.0500000007, max_delta_step=0,\n",
       "                              max_depth=6, min_child_weight=1, missing=nan,\n",
       "                              monotone_constraints='()', n_estimators=500,\n",
       "                              n_jobs=-1, num_parallel_tree=1, predictor='auto',\n",
       "                              random_state=42, reg_alpha=0, reg_lambda=20,\n",
       "                              scale_pos_weight=1, subsample=1,\n",
       "                              tree_method='exact', validate_parameters=1,\n",
       "                              verbosity=None))])"
      ]
     },
     "execution_count": 39,
     "metadata": {},
     "output_type": "execute_result"
    }
   ],
   "source": [
    "# build the model\n",
    "m1_pipe_xgb = Pipeline([\n",
    "    ('ohe', ce.one_hot.OneHotEncoder(use_cat_names=True, handle_unknown='value')),\n",
    "    ('xgb', XGBRegressor(random_state=42, n_jobs=-1))\n",
    "])\n",
    "\n",
    "m1_pipe_xgb_params = {\n",
    "    'xgb__n_estimators': [300,400,500],\n",
    "    'xgb__eta': [0.02, 0.03, 0.05],\n",
    "    'xgb__reg_lambda': [20, 30],\n",
    "    #'xgb__reglalpha': [20, 30],\n",
    "    'xgb__max_depth': [4,5,6,7]\n",
    "}\n",
    "\n",
    "m1_gs_xgb = GridSearchCV(m1_pipe_xgb,\n",
    "                         m1_pipe_xgb_params, \n",
    "                         cv = 5)\n",
    "\n",
    "# train the model\n",
    "print(datetime.datetime.now())\n",
    "m1_gs_xgb.fit(X_train, y_train)\n",
    "print(datetime.datetime.now())\n",
    "print()\n",
    "\n",
    "# predict\n",
    "m1_gs_xgb_pred_train = m1_gs_xgb.predict(X_train)\n",
    "m1_gs_xgb_pred_test = m1_gs_xgb.predict(X_test)\n",
    "\n",
    "# evaluate\n",
    "m1_gs_xgb_R2_train = m1_gs_xgb.score(X_train, y_train)\n",
    "m1_gs_xgb_R2_test = m1_gs_xgb.score(X_test, y_test)\n",
    "print(f'm1_gs_xgb_R2_train: {round(m1_gs_xgb_R2_train, 4)}')\n",
    "print(f'm1_gs_xgb_R2_test: {round(m1_gs_xgb_R2_test, 4)}')\n",
    "\n",
    "m1_gs_xgb_mse_train = metrics.mean_squared_error(y_train, m1_gs_xgb_pred_train)\n",
    "m1_gs_xgb_mse_test = metrics.mean_squared_error(y_test, m1_gs_xgb_pred_test)\n",
    "print(f'm1_gs_xgb_mse_train: {round(m1_gs_xgb_mse_train)}')\n",
    "print(f'm1_gs_xgb_mse_test: {round(m1_gs_xgb_mse_test)}')\n",
    "\n",
    "m1_gs_xgb.best_estimator_"
   ]
  },
  {
   "cell_type": "code",
   "execution_count": 40,
   "id": "0700b57a-49cd-40af-924a-a3387b642a83",
   "metadata": {},
   "outputs": [
    {
     "data": {
      "text/html": [
       "<div>\n",
       "<style scoped>\n",
       "    .dataframe tbody tr th:only-of-type {\n",
       "        vertical-align: middle;\n",
       "    }\n",
       "\n",
       "    .dataframe tbody tr th {\n",
       "        vertical-align: top;\n",
       "    }\n",
       "\n",
       "    .dataframe thead th {\n",
       "        text-align: right;\n",
       "    }\n",
       "</style>\n",
       "<table border=\"1\" class=\"dataframe\">\n",
       "  <thead>\n",
       "    <tr style=\"text-align: right;\">\n",
       "      <th></th>\n",
       "      <th>feature</th>\n",
       "      <th>importance</th>\n",
       "    </tr>\n",
       "  </thead>\n",
       "  <tbody>\n",
       "    <tr>\n",
       "      <th>66</th>\n",
       "      <td>bedrooms</td>\n",
       "      <td>0.355864</td>\n",
       "    </tr>\n",
       "    <tr>\n",
       "      <th>46</th>\n",
       "      <td>county_San Francisco</td>\n",
       "      <td>0.038140</td>\n",
       "    </tr>\n",
       "    <tr>\n",
       "      <th>65</th>\n",
       "      <td>accommodates</td>\n",
       "      <td>0.035429</td>\n",
       "    </tr>\n",
       "    <tr>\n",
       "      <th>69</th>\n",
       "      <td>bathroom_type_shared</td>\n",
       "      <td>0.033174</td>\n",
       "    </tr>\n",
       "    <tr>\n",
       "      <th>68</th>\n",
       "      <td>bathrooms</td>\n",
       "      <td>0.028085</td>\n",
       "    </tr>\n",
       "    <tr>\n",
       "      <th>47</th>\n",
       "      <td>county_Santa Clara</td>\n",
       "      <td>0.022299</td>\n",
       "    </tr>\n",
       "    <tr>\n",
       "      <th>48</th>\n",
       "      <td>property_type_recoded_Private room in resident...</td>\n",
       "      <td>0.016714</td>\n",
       "    </tr>\n",
       "    <tr>\n",
       "      <th>11</th>\n",
       "      <td>neighborhood_recoded_Santa Clara</td>\n",
       "      <td>0.014667</td>\n",
       "    </tr>\n",
       "    <tr>\n",
       "      <th>21</th>\n",
       "      <td>neighborhood_recoded_San Mateo Unincorporated ...</td>\n",
       "      <td>0.013412</td>\n",
       "    </tr>\n",
       "    <tr>\n",
       "      <th>71</th>\n",
       "      <td>minimum_nights</td>\n",
       "      <td>0.012584</td>\n",
       "    </tr>\n",
       "    <tr>\n",
       "      <th>32</th>\n",
       "      <td>neighborhood_recoded_Pacific Heights</td>\n",
       "      <td>0.012529</td>\n",
       "    </tr>\n",
       "    <tr>\n",
       "      <th>20</th>\n",
       "      <td>neighborhood_recoded_Palo Alto</td>\n",
       "      <td>0.011979</td>\n",
       "    </tr>\n",
       "    <tr>\n",
       "      <th>22</th>\n",
       "      <td>neighborhood_recoded_Castro/Upper Market</td>\n",
       "      <td>0.011540</td>\n",
       "    </tr>\n",
       "    <tr>\n",
       "      <th>81</th>\n",
       "      <td>Pool</td>\n",
       "      <td>0.010913</td>\n",
       "    </tr>\n",
       "    <tr>\n",
       "      <th>73</th>\n",
       "      <td>Wifi</td>\n",
       "      <td>0.010842</td>\n",
       "    </tr>\n",
       "    <tr>\n",
       "      <th>10</th>\n",
       "      <td>neighborhood_recoded_East Palo Alto</td>\n",
       "      <td>0.010575</td>\n",
       "    </tr>\n",
       "    <tr>\n",
       "      <th>30</th>\n",
       "      <td>neighborhood_recoded_Western Addition</td>\n",
       "      <td>0.010499</td>\n",
       "    </tr>\n",
       "    <tr>\n",
       "      <th>36</th>\n",
       "      <td>neighborhood_recoded_South San Francisco</td>\n",
       "      <td>0.010234</td>\n",
       "    </tr>\n",
       "    <tr>\n",
       "      <th>2</th>\n",
       "      <td>neighborhood_recoded_San Jose</td>\n",
       "      <td>0.009586</td>\n",
       "    </tr>\n",
       "    <tr>\n",
       "      <th>28</th>\n",
       "      <td>neighborhood_recoded_Sunnyvale</td>\n",
       "      <td>0.009474</td>\n",
       "    </tr>\n",
       "  </tbody>\n",
       "</table>\n",
       "</div>"
      ],
      "text/plain": [
       "                                              feature  importance\n",
       "66                                           bedrooms    0.355864\n",
       "46                               county_San Francisco    0.038140\n",
       "65                                       accommodates    0.035429\n",
       "69                               bathroom_type_shared    0.033174\n",
       "68                                          bathrooms    0.028085\n",
       "47                                 county_Santa Clara    0.022299\n",
       "48  property_type_recoded_Private room in resident...    0.016714\n",
       "11                   neighborhood_recoded_Santa Clara    0.014667\n",
       "21  neighborhood_recoded_San Mateo Unincorporated ...    0.013412\n",
       "71                                     minimum_nights    0.012584\n",
       "32               neighborhood_recoded_Pacific Heights    0.012529\n",
       "20                     neighborhood_recoded_Palo Alto    0.011979\n",
       "22           neighborhood_recoded_Castro/Upper Market    0.011540\n",
       "81                                               Pool    0.010913\n",
       "73                                               Wifi    0.010842\n",
       "10                neighborhood_recoded_East Palo Alto    0.010575\n",
       "30              neighborhood_recoded_Western Addition    0.010499\n",
       "36           neighborhood_recoded_South San Francisco    0.010234\n",
       "2                       neighborhood_recoded_San Jose    0.009586\n",
       "28                     neighborhood_recoded_Sunnyvale    0.009474"
      ]
     },
     "execution_count": 40,
     "metadata": {},
     "output_type": "execute_result"
    }
   ],
   "source": [
    "# feature importance\n",
    "m1_gs_xgb_feature_importance = pd.DataFrame({'feature': m1_gs_xgb.best_estimator_['ohe'].get_feature_names(),\n",
    "                                         'importance': m1_gs_xgb.best_estimator_['xgb'].feature_importances_})\n",
    "\n",
    "m1_gs_xgb_feature_importance.to_csv('../Data/m1_gs_xgb_feature_importance.csv')\n",
    "m1_gs_xgb_feature_importance.sort_values('importance', ascending=False).head(20)\n",
    "\n",
    "# There are 71 features that are more important than the 'random' column."
   ]
  },
  {
   "cell_type": "code",
   "execution_count": 249,
   "id": "c6275bf1-3f39-47be-bab9-bf4bd5948a3c",
   "metadata": {},
   "outputs": [
    {
     "data": {
      "text/plain": [
       "['../Models/m1_gs_xgb.pkl']"
      ]
     },
     "execution_count": 249,
     "metadata": {},
     "output_type": "execute_result"
    }
   ],
   "source": [
    "# Save this model\n",
    "joblib.dump(m1_gs_xgb, '../Models/m1_gs_xgb.pkl')"
   ]
  },
  {
   "cell_type": "markdown",
   "id": "1ceefd19-8f74-4a50-a391-68f0b2a2433d",
   "metadata": {},
   "source": [
    "##### with top 50 features"
   ]
  },
  {
   "cell_type": "code",
   "execution_count": 46,
   "id": "04fed163-cf8a-4978-becc-e9024e5081d2",
   "metadata": {},
   "outputs": [
    {
     "name": "stdout",
     "output_type": "stream",
     "text": [
      "2022-02-05 11:04:39.907782\n",
      "2022-02-05 11:22:16.369313\n",
      "\n",
      "m1_gs_xgb_top_R2_train: 0.8001587639524999\n",
      "m1_gs_xgb_top_R2_test: 0.6849093850581075\n",
      "m1_gs_xgb_top_mse_train: 4336.162647917143\n",
      "m1_gs_xgb_top_mse_test: 7259.78292581492\n"
     ]
    },
    {
     "data": {
      "text/plain": [
       "Pipeline(steps=[('ohe',\n",
       "                 OneHotEncoder(cols=['neighborhood_recoded', 'county',\n",
       "                                     'property_type_recoded', 'bathroom_type'],\n",
       "                               use_cat_names=True)),\n",
       "                ('xgb',\n",
       "                 XGBRegressor(base_score=0.5, booster='gbtree',\n",
       "                              colsample_bylevel=1, colsample_bynode=1,\n",
       "                              colsample_bytree=1, enable_categorical=False,\n",
       "                              eta=0.05, gamma=0, gpu_id=-1,\n",
       "                              importance_type=None, interaction_constraints='',\n",
       "                              learning_rate=0.0500000007, max_delta_step=0,\n",
       "                              max_depth=6, min_child_weight=1, missing=nan,\n",
       "                              monotone_constraints='()', n_estimators=500,\n",
       "                              n_jobs=-1, num_parallel_tree=1, predictor='auto',\n",
       "                              random_state=42, reg_alpha=0, reg_lambda=20,\n",
       "                              scale_pos_weight=1, subsample=1,\n",
       "                              tree_method='exact', validate_parameters=1,\n",
       "                              verbosity=None))])"
      ]
     },
     "execution_count": 46,
     "metadata": {},
     "output_type": "execute_result"
    }
   ],
   "source": [
    "# retrain the model with top 50 features \n",
    "\n",
    "# top-50 feature list\n",
    "feature_list = m1_gs_xgb_feature_importance.sort_values('importance', ascending=False).head(51)['feature']\n",
    "#feature_list = [feature for feature in feature_list if feature != 'random']\n",
    "\n",
    "\n",
    "# create the X_train with only these features\n",
    "ohe = ce.one_hot.OneHotEncoder(use_cat_names=True, handle_unknown='value')\n",
    "X_train_ohe = ohe.fit_transform(X_train)\n",
    "X_train_ohe_top = X_train_ohe[feature_list].copy()\n",
    "\n",
    "X_test_ohe = ohe.transform(X_test)\n",
    "X_test_ohe_top = X_test_ohe[feature_list].copy()\n",
    "\n",
    "\n",
    "# build the model\n",
    "m1_pipe_xgb_top = Pipeline([\n",
    "    #('ohe', ce.one_hot.OneHotEncoder(use_cat_names=True, handle_unknown='value')),\n",
    "    ('xgb', XGBRegressor(random_state=42, n_jobs=-1))\n",
    "])\n",
    "\n",
    "m1_gs_xgb_top_params = {\n",
    "    'xgb__n_estimators': [300,400,500],\n",
    "    'xgb__eta': [0.02, 0.03, 0.05],\n",
    "    'xgb__reg_lambda': [20, 30],\n",
    "    #'xgb__reglalpha': [20, 30],\n",
    "    'xgb__max_depth': [4,5,6,7]\n",
    "}\n",
    "\n",
    "m1_gs_xgb_top = GridSearchCV(m1_pipe_xgb_top,\n",
    "                         m1_gs_xgb_top_params, \n",
    "                         cv = 5)\n",
    "\n",
    "# train the model\n",
    "print(datetime.datetime.now())\n",
    "m1_gs_xgb_top.fit(X_train_ohe_top, y_train)\n",
    "print(datetime.datetime.now())\n",
    "print()\n",
    "\n",
    "# predict\n",
    "m1_gs_xgb_top_pred_train = m1_gs_xgb_top.predict(X_train_ohe_top)\n",
    "m1_gs_xgb_top_pred_test = m1_gs_xgb_top.predict(X_test_ohe_top)\n",
    "\n",
    "# evaluate\n",
    "m1_gs_xgb_top_R2_train = m1_gs_xgb_top.score(X_train_ohe_top, y_train)\n",
    "m1_gs_xgb_top_R2_test = m1_gs_xgb_top.score(X_test_ohe_top, y_test)\n",
    "print(f'm1_gs_xgb_top_R2_train: {m1_gs_xgb_top_R2_train}')\n",
    "print(f'm1_gs_xgb_top_R2_test: {m1_gs_xgb_top_R2_test}')\n",
    "\n",
    "m1_gs_xgb_top_mse_train = metrics.mean_squared_error(y_train, m1_gs_xgb_top_pred_train)\n",
    "m1_gs_xgb_top_mse_test = metrics.mean_squared_error(y_test, m1_gs_xgb_top_pred_test)\n",
    "print(f'm1_gs_xgb_top_mse_train: {m1_gs_xgb_top_mse_train}')\n",
    "print(f'm1_gs_xgb_top_mse_test: {m1_gs_xgb_top_mse_test}')\n",
    "\n",
    "m1_gs_xgb.best_estimator_"
   ]
  },
  {
   "cell_type": "code",
   "execution_count": 49,
   "id": "629fee95-b8c9-4fe2-be96-1e5a7eeb2071",
   "metadata": {},
   "outputs": [
    {
     "data": {
      "text/html": [
       "<div>\n",
       "<style scoped>\n",
       "    .dataframe tbody tr th:only-of-type {\n",
       "        vertical-align: middle;\n",
       "    }\n",
       "\n",
       "    .dataframe tbody tr th {\n",
       "        vertical-align: top;\n",
       "    }\n",
       "\n",
       "    .dataframe thead th {\n",
       "        text-align: right;\n",
       "    }\n",
       "</style>\n",
       "<table border=\"1\" class=\"dataframe\">\n",
       "  <thead>\n",
       "    <tr style=\"text-align: right;\">\n",
       "      <th></th>\n",
       "      <th>feature</th>\n",
       "      <th>importance</th>\n",
       "    </tr>\n",
       "  </thead>\n",
       "  <tbody>\n",
       "    <tr>\n",
       "      <th>0</th>\n",
       "      <td>bedrooms</td>\n",
       "      <td>0.268157</td>\n",
       "    </tr>\n",
       "    <tr>\n",
       "      <th>3</th>\n",
       "      <td>bathroom_type_shared</td>\n",
       "      <td>0.058463</td>\n",
       "    </tr>\n",
       "    <tr>\n",
       "      <th>2</th>\n",
       "      <td>accommodates</td>\n",
       "      <td>0.038477</td>\n",
       "    </tr>\n",
       "    <tr>\n",
       "      <th>1</th>\n",
       "      <td>county_San Francisco</td>\n",
       "      <td>0.037378</td>\n",
       "    </tr>\n",
       "    <tr>\n",
       "      <th>4</th>\n",
       "      <td>bathrooms</td>\n",
       "      <td>0.029558</td>\n",
       "    </tr>\n",
       "    <tr>\n",
       "      <th>6</th>\n",
       "      <td>property_type_recoded_Private room in resident...</td>\n",
       "      <td>0.025859</td>\n",
       "    </tr>\n",
       "    <tr>\n",
       "      <th>20</th>\n",
       "      <td>neighborhood_recoded_Russian Hill</td>\n",
       "      <td>0.024170</td>\n",
       "    </tr>\n",
       "    <tr>\n",
       "      <th>8</th>\n",
       "      <td>neighborhood_recoded_San Mateo Unincorporated ...</td>\n",
       "      <td>0.021557</td>\n",
       "    </tr>\n",
       "    <tr>\n",
       "      <th>18</th>\n",
       "      <td>neighborhood_recoded_San Jose</td>\n",
       "      <td>0.020661</td>\n",
       "    </tr>\n",
       "    <tr>\n",
       "      <th>10</th>\n",
       "      <td>neighborhood_recoded_Pacific Heights</td>\n",
       "      <td>0.019952</td>\n",
       "    </tr>\n",
       "    <tr>\n",
       "      <th>7</th>\n",
       "      <td>neighborhood_recoded_Santa Clara</td>\n",
       "      <td>0.019561</td>\n",
       "    </tr>\n",
       "    <tr>\n",
       "      <th>50</th>\n",
       "      <td>neighborhood_recoded_Potrero Hill</td>\n",
       "      <td>0.018747</td>\n",
       "    </tr>\n",
       "    <tr>\n",
       "      <th>11</th>\n",
       "      <td>neighborhood_recoded_Palo Alto</td>\n",
       "      <td>0.018599</td>\n",
       "    </tr>\n",
       "    <tr>\n",
       "      <th>16</th>\n",
       "      <td>neighborhood_recoded_Western Addition</td>\n",
       "      <td>0.018339</td>\n",
       "    </tr>\n",
       "    <tr>\n",
       "      <th>32</th>\n",
       "      <td>neighborhood_recoded_Campbell</td>\n",
       "      <td>0.016575</td>\n",
       "    </tr>\n",
       "    <tr>\n",
       "      <th>12</th>\n",
       "      <td>neighborhood_recoded_Castro/Upper Market</td>\n",
       "      <td>0.015766</td>\n",
       "    </tr>\n",
       "    <tr>\n",
       "      <th>5</th>\n",
       "      <td>county_Santa Clara</td>\n",
       "      <td>0.015709</td>\n",
       "    </tr>\n",
       "    <tr>\n",
       "      <th>38</th>\n",
       "      <td>property_type_recoded_Entire guest suite</td>\n",
       "      <td>0.015080</td>\n",
       "    </tr>\n",
       "    <tr>\n",
       "      <th>25</th>\n",
       "      <td>neighborhood_recoded_Bernal Heights</td>\n",
       "      <td>0.014596</td>\n",
       "    </tr>\n",
       "    <tr>\n",
       "      <th>14</th>\n",
       "      <td>Wifi</td>\n",
       "      <td>0.013550</td>\n",
       "    </tr>\n",
       "  </tbody>\n",
       "</table>\n",
       "</div>"
      ],
      "text/plain": [
       "                                              feature  importance\n",
       "0                                            bedrooms    0.268157\n",
       "3                                bathroom_type_shared    0.058463\n",
       "2                                        accommodates    0.038477\n",
       "1                                county_San Francisco    0.037378\n",
       "4                                           bathrooms    0.029558\n",
       "6   property_type_recoded_Private room in resident...    0.025859\n",
       "20                  neighborhood_recoded_Russian Hill    0.024170\n",
       "8   neighborhood_recoded_San Mateo Unincorporated ...    0.021557\n",
       "18                      neighborhood_recoded_San Jose    0.020661\n",
       "10               neighborhood_recoded_Pacific Heights    0.019952\n",
       "7                    neighborhood_recoded_Santa Clara    0.019561\n",
       "50                  neighborhood_recoded_Potrero Hill    0.018747\n",
       "11                     neighborhood_recoded_Palo Alto    0.018599\n",
       "16              neighborhood_recoded_Western Addition    0.018339\n",
       "32                      neighborhood_recoded_Campbell    0.016575\n",
       "12           neighborhood_recoded_Castro/Upper Market    0.015766\n",
       "5                                  county_Santa Clara    0.015709\n",
       "38           property_type_recoded_Entire guest suite    0.015080\n",
       "25                neighborhood_recoded_Bernal Heights    0.014596\n",
       "14                                               Wifi    0.013550"
      ]
     },
     "execution_count": 49,
     "metadata": {},
     "output_type": "execute_result"
    }
   ],
   "source": [
    "# feature importance\n",
    "m1_gs_xgb_top_feature_importance = pd.DataFrame({'feature': X_train_ohe_top.columns,\n",
    "                                         'importance': m1_gs_xgb_top.best_estimator_['xgb'].feature_importances_})\n",
    "\n",
    "m1_gs_xgb_top_feature_importance.to_csv('../Data/m1_gs_xgb_top_feature_importance.csv')\n",
    "m1_gs_xgb_top_feature_importance.sort_values('importance', ascending=False).head(20)\n",
    "\n",
    "# The 'random' column is not included in this list as it's less important than those features in the list."
   ]
  },
  {
   "cell_type": "code",
   "execution_count": 144,
   "id": "5ad5e282-4fbf-4f01-8ce8-72602a31776d",
   "metadata": {},
   "outputs": [],
   "source": [
    "X_train_ohe_top.to_csv('../Data/m1_X_train_ohe_top.csv', index=False)"
   ]
  },
  {
   "cell_type": "code",
   "execution_count": 251,
   "id": "1009fc46-a5e5-480b-a183-8350de4f5df9",
   "metadata": {},
   "outputs": [
    {
     "data": {
      "text/plain": [
       "['../Models/m1_gs_xgb_top.pkl']"
      ]
     },
     "execution_count": 251,
     "metadata": {},
     "output_type": "execute_result"
    }
   ],
   "source": [
    "# Save this model\n",
    "joblib.dump(m1_gs_xgb_top, '../Models/m1_gs_xgb_top.pkl')"
   ]
  },
  {
   "cell_type": "markdown",
   "id": "1a1dbc99-9907-49fa-aab1-162ee6a9d108",
   "metadata": {},
   "source": [
    "**Observation**: The XGBoost + GridSearchCV model with the top-50 important features has a comparable R2 for the test set but lower for the train set compared to the same model with all of the features.\n",
    "\n",
    "**Decision**: This model (m1_gs_xgb_top: XGBoost + GridSearchCV model with the top-50) will be used to predict listing price."
   ]
  },
  {
   "cell_type": "markdown",
   "id": "b9d572f1-0321-4701-a2e3-1053a919cd95",
   "metadata": {},
   "source": [
    "## Predict with mock input data"
   ]
  },
  {
   "cell_type": "code",
   "execution_count": 117,
   "id": "c7f95e54-375a-4ec6-a54e-3ee22bcb5dc0",
   "metadata": {},
   "outputs": [
    {
     "name": "stdout",
     "output_type": "stream",
     "text": [
      "shape of the input data after ohe: (1, 35)\n",
      "shape of the required input data: (1, 51)\n",
      "shape of useful input data: (1, 21))\n",
      "shape of the fillin data (to meet the model requirement): (1, 30)\n",
      "the shape of the input data ready for modeling: (1, 51)\n"
     ]
    },
    {
     "data": {
      "text/html": [
       "<div>\n",
       "<style scoped>\n",
       "    .dataframe tbody tr th:only-of-type {\n",
       "        vertical-align: middle;\n",
       "    }\n",
       "\n",
       "    .dataframe tbody tr th {\n",
       "        vertical-align: top;\n",
       "    }\n",
       "\n",
       "    .dataframe thead th {\n",
       "        text-align: right;\n",
       "    }\n",
       "</style>\n",
       "<table border=\"1\" class=\"dataframe\">\n",
       "  <thead>\n",
       "    <tr style=\"text-align: right;\">\n",
       "      <th></th>\n",
       "      <th>bedrooms</th>\n",
       "      <th>county_San Francisco</th>\n",
       "      <th>accommodates</th>\n",
       "      <th>bathrooms</th>\n",
       "      <th>minimum_nights</th>\n",
       "      <th>Pool</th>\n",
       "      <th>Wifi</th>\n",
       "      <th>neighborhood_recoded_Russian Hill</th>\n",
       "      <th>Indoor_fireplace</th>\n",
       "      <th>review_scores_value</th>\n",
       "      <th>...</th>\n",
       "      <th>neighborhood_recoded_San Jose</th>\n",
       "      <th>neighborhood_recoded_Sunnyvale</th>\n",
       "      <th>neighborhood_recoded_Bernal Heights</th>\n",
       "      <th>neighborhood_recoded_San Mateo Unincorporated Areas</th>\n",
       "      <th>neighborhood_recoded_Campbell</th>\n",
       "      <th>property_type_recoded_Private room in residential home</th>\n",
       "      <th>neighborhood_recoded_Bayview</th>\n",
       "      <th>county_Santa Clara</th>\n",
       "      <th>neighborhood_recoded_South of Market</th>\n",
       "      <th>neighborhood_recoded_South San Francisco</th>\n",
       "    </tr>\n",
       "  </thead>\n",
       "  <tbody>\n",
       "    <tr>\n",
       "      <th>0</th>\n",
       "      <td>3</td>\n",
       "      <td>1</td>\n",
       "      <td>6</td>\n",
       "      <td>2.5</td>\n",
       "      <td>1</td>\n",
       "      <td>1</td>\n",
       "      <td>1</td>\n",
       "      <td>1</td>\n",
       "      <td>0</td>\n",
       "      <td>4.8</td>\n",
       "      <td>...</td>\n",
       "      <td>0.0</td>\n",
       "      <td>0.0</td>\n",
       "      <td>0.0</td>\n",
       "      <td>0.0</td>\n",
       "      <td>0.0</td>\n",
       "      <td>0.0</td>\n",
       "      <td>0.0</td>\n",
       "      <td>0.0</td>\n",
       "      <td>0.0</td>\n",
       "      <td>0.0</td>\n",
       "    </tr>\n",
       "  </tbody>\n",
       "</table>\n",
       "<p>1 rows × 51 columns</p>\n",
       "</div>"
      ],
      "text/plain": [
       "   bedrooms  county_San Francisco  accommodates  bathrooms  minimum_nights  \\\n",
       "0         3                     1             6        2.5               1   \n",
       "\n",
       "   Pool  Wifi  neighborhood_recoded_Russian Hill  Indoor_fireplace  \\\n",
       "0     1     1                                  1                 0   \n",
       "\n",
       "   review_scores_value  ...  neighborhood_recoded_San Jose  \\\n",
       "0                  4.8  ...                            0.0   \n",
       "\n",
       "   neighborhood_recoded_Sunnyvale  neighborhood_recoded_Bernal Heights  \\\n",
       "0                             0.0                                  0.0   \n",
       "\n",
       "   neighborhood_recoded_San Mateo Unincorporated Areas  \\\n",
       "0                                                0.0     \n",
       "\n",
       "   neighborhood_recoded_Campbell  \\\n",
       "0                            0.0   \n",
       "\n",
       "   property_type_recoded_Private room in residential home  \\\n",
       "0                                                0.0        \n",
       "\n",
       "   neighborhood_recoded_Bayview  county_Santa Clara  \\\n",
       "0                           0.0                 0.0   \n",
       "\n",
       "   neighborhood_recoded_South of Market  \\\n",
       "0                                   0.0   \n",
       "\n",
       "   neighborhood_recoded_South San Francisco  \n",
       "0                                       0.0  \n",
       "\n",
       "[1 rows x 51 columns]"
      ]
     },
     "execution_count": 117,
     "metadata": {},
     "output_type": "execute_result"
    }
   ],
   "source": [
    "# Create mock input data and format it as needed by the model\n",
    "input_data = {'county': 'San Francisco',\n",
    "              'neighborhood_recoded': 'Russian Hill', \n",
    "              'property_type_recoded': 'Entire residential home', \n",
    "              'accommodates': 6, \n",
    "              'bedrooms': 3, \n",
    "              'beds': 3,\n",
    "              'bathrooms': 2.5, \n",
    "              'bathroom_type': 'private', \n",
    "              'minimum_nights': 1, \n",
    "              'maximum_nights': 3,\n",
    "              'Wifi': 1, \n",
    "              'Dedicated_workspace': 0,\n",
    "              'Private_entrance': 0, \n",
    "              'Patio_or_balcony': 1, \n",
    "              'Backyard': 1, \n",
    "              'BBQ_grill': 1, \n",
    "              'Outdoor_furniture': 1,\n",
    "              'Indoor_fireplace': 0, \n",
    "              'Pool': 1, \n",
    "              'review_scores_rating': 4.8,\n",
    "              'review_scores_accuracy': 4.8, \n",
    "              'review_scores_cleanliness': 4.8,\n",
    "              'review_scores_checkin': 4.8,\n",
    "              'review_scores_communication': 4.8,\n",
    "              'review_scores_location': 4.8, \n",
    "              'review_scores_value': 4.8, \n",
    "              'number_of_reviews': 4.8,\n",
    "              'number_of_reviews_ltm': 20, \n",
    "              'number_of_reviews_l30d': 5,\n",
    "              'neighborhood_overview_f': 1, \n",
    "              'host_about_f': 1, \n",
    "              'host_response_time_f': 0,\n",
    "              'host_response_rate_f': 0, \n",
    "              'host_acceptance_rate_f': 0,\n",
    "              'host_neighbourhood_f': 0\n",
    "}\n",
    "input_data_df = pd.DataFrame(input_data, index=[0])\n",
    "\n",
    "# one hot encoding - even though the shape and values don't change, the column names do change\n",
    "ohe = ce.one_hot.OneHotEncoder(use_cat_names=True, handle_unknown='value')\n",
    "input_data_df_ohe = ohe.fit_transform(input_data_df)\n",
    "print(f'shape of the input data after ohe: {input_data_df_ohe.shape}')\n",
    "# input_data_df_ohe\n",
    "print(f'shape of the required input data: (1, {X_train_ohe_top.shape[1]})')\n",
    "\n",
    "# take the columns in the input data that are needed in the model\n",
    "input_data_df_ohe_useful = input_data_df_ohe[X_train_ohe_top.columns.intersection(input_data_df_ohe.columns)]\n",
    "print(f'shape of useful input data: {input_data_df_ohe_useful.shape})')\n",
    "\n",
    "# create feature_list_left - the columns which are in prediction model but not in the input data\n",
    "# because they are all ohe columns, they are just filled with 0 \n",
    "feature_list_left = set(X_train_ohe_top.columns).difference(input_data_df_ohe.columns)\n",
    "fillin_data_df = pd.DataFrame(np.zeros([1, len(feature_list_left)]), columns=feature_list_left, index=[0])\n",
    "print(f'shape of the fillin data (to meet the model requirement): {fillin_data_df.shape}')\n",
    "\n",
    "input_data_df_final = pd.concat((input_data_df_ohe_useful, fillin_data_df), axis=1)\n",
    "print(f'the shape of the input data ready for modeling: {input_data_df_final.shape}')\n",
    "input_data_df_final"
   ]
  },
  {
   "cell_type": "code",
   "execution_count": 118,
   "id": "66619781-833c-4757-bb9d-454ef792dd6e",
   "metadata": {},
   "outputs": [
    {
     "name": "stdout",
     "output_type": "stream",
     "text": [
      "The predicted listing price is 273.29 dollars.\n"
     ]
    }
   ],
   "source": [
    "# load m1_gs_rf\n",
    "m1_gs_xgb_top_joblib = joblib.load('../Models/m1_gs_xgb_top.pkl')\n",
    "\n",
    "# predict\n",
    "m1_gs_xgb_top_joblib_pred_input = m1_gs_xgb_top_joblib.predict(input_data_df_final)[0]\n",
    "print('The predicted listing price is', round(m1_gs_xgb_top_joblib_pred_input, 2), 'dollars.')"
   ]
  },
  {
   "cell_type": "code",
   "execution_count": null,
   "id": "9e577c06-ee64-4e09-8065-1f3d84d5547d",
   "metadata": {},
   "outputs": [],
   "source": []
  },
  {
   "cell_type": "markdown",
   "id": "de4b4dc4-0a46-4c44-bcb1-ee4689a9900e",
   "metadata": {},
   "source": [
    "# Stage 2 Model: predict 30-day vacancy \n",
    "- with unit features, listing price and predicted price"
   ]
  },
  {
   "cell_type": "code",
   "execution_count": 449,
   "id": "98baa935-57d0-49da-8871-3ea3c553eafe",
   "metadata": {},
   "outputs": [],
   "source": [
    "import numpy as np\n",
    "import pandas as pd\n",
    "import matplotlib.pyplot as plt\n",
    "import seaborn as sns\n",
    "\n",
    "from sklearn.preprocessing import StandardScaler, OneHotEncoder\n",
    "from sklearn.ensemble import RandomForestRegressor\n",
    "from sklearn.model_selection import train_test_split, cross_val_score, GridSearchCV\n",
    "from sklearn.pipeline import Pipeline\n",
    "from sklearn import metrics\n",
    "\n",
    "from xgboost import XGBRegressor\n",
    "\n",
    "import category_encoders as ce\n",
    "import datetime \n",
    "import joblib"
   ]
  },
  {
   "cell_type": "markdown",
   "id": "42a257da-e078-47fb-9a81-6cb7f3d5e986",
   "metadata": {},
   "source": [
    "## Finalize features and label"
   ]
  },
  {
   "cell_type": "code",
   "execution_count": 450,
   "id": "5ce7bced-5ac6-491f-8e04-07de2a644586",
   "metadata": {},
   "outputs": [
    {
     "name": "stdout",
     "output_type": "stream",
     "text": [
      "(9825, 39)\n",
      "(7368, 51)\n"
     ]
    }
   ],
   "source": [
    "df = pd.read_csv('../../Large_Data/Listings_combined_cleaned.csv')\n",
    "print(df.shape)\n",
    "#df.head()\n",
    "\n",
    "temp = pd.read_csv('../Data/m1_X_train_ohe_top.csv')\n",
    "print(temp.shape)\n",
    "#temp.head()"
   ]
  },
  {
   "cell_type": "code",
   "execution_count": 451,
   "id": "59fa3361-f7d1-4367-bf73-7d54b8a79b21",
   "metadata": {},
   "outputs": [
    {
     "data": {
      "text/plain": [
       "Index(['neighborhood_recoded', 'county', 'property_type_recoded',\n",
       "       'accommodates', 'bedrooms', 'beds', 'bathrooms', 'bathroom_type',\n",
       "       'minimum_nights', 'maximum_nights', 'Wifi', 'Dedicated_workspace',\n",
       "       'Patio_or_balcony', 'Backyard', 'BBQ_grill', 'Outdoor_furniture',\n",
       "       'Indoor_fireplace', 'Private_entrance', 'Pool', 'review_scores_rating',\n",
       "       'review_scores_accuracy', 'review_scores_cleanliness',\n",
       "       'review_scores_checkin', 'review_scores_communication',\n",
       "       'review_scores_location', 'review_scores_value', 'number_of_reviews',\n",
       "       'number_of_reviews_ltm', 'number_of_reviews_l30d',\n",
       "       'neighborhood_overview_f', 'host_about_f', 'host_response_time_f',\n",
       "       'host_response_rate_f', 'host_acceptance_rate_f',\n",
       "       'host_neighbourhood_f', 'price', 'availability_30', 'availability_60',\n",
       "       'availability_90'],\n",
       "      dtype='object')"
      ]
     },
     "execution_count": 451,
     "metadata": {},
     "output_type": "execute_result"
    }
   ],
   "source": [
    "df.columns"
   ]
  },
  {
   "cell_type": "markdown",
   "id": "504431f6-6a58-42a2-8bbb-f89225053335",
   "metadata": {},
   "source": [
    "#### Create price_pred "
   ]
  },
  {
   "cell_type": "code",
   "execution_count": 452,
   "id": "a02a60f7-cd46-465f-9ad3-b6428ff2fd00",
   "metadata": {},
   "outputs": [
    {
     "name": "stdout",
     "output_type": "stream",
     "text": [
      "(9825, 102)\n",
      "(9825, 51)\n"
     ]
    }
   ],
   "source": [
    "# create df_ohe to create price_pred\n",
    "ohe = ce.one_hot.OneHotEncoder(use_cat_names=True, handle_unknown='value')\n",
    "df_ohe = ohe.fit_transform(df)\n",
    "#df_ohe\n",
    "print(df_ohe.shape)\n",
    "\n",
    "# take the columns that are needed in the model\n",
    "#df_to_predict_price = df_ohe[df_ohe.columns.intersection(temp.columns)]\n",
    "df_to_predict_price = df_ohe[temp.columns]\n",
    "print(df_to_predict_price.shape)\n",
    "\n",
    "\n",
    "# load m1_gs_\n",
    "m1_gs_xgb_top_joblib = joblib.load('../Models/m1_gs_xgb_top.pkl')\n",
    "\n",
    "# predict price\n",
    "df['price_pred'] = m1_gs_xgb_top_joblib.predict(df_to_predict_price)\n",
    "#df[['price','price_pred']]\n",
    "#print(metrics.r2_score(df['price'], df['price_pred']))\n",
    "#print(metrics.mean_squared_error(df['price'], df['price_pred']))"
   ]
  },
  {
   "cell_type": "code",
   "execution_count": 453,
   "id": "404adfa3-6cdf-4b5c-b84c-2ad6a7afc678",
   "metadata": {},
   "outputs": [
    {
     "name": "stdout",
     "output_type": "stream",
     "text": [
      "Number of rows with availability_30 as 0: 0.3378117048346056\n",
      "Number of rows if dropping availabilty_30 ==0: 6506\n"
     ]
    }
   ],
   "source": [
    "print(f'Number of rows with availability_30 as 0: {(df[\"availability_30\"]==0).mean()}')\n",
    "print(f'Number of rows if dropping availabilty_30 ==0: {(df[\"availability_30\"]>0).sum()}')"
   ]
  },
  {
   "cell_type": "markdown",
   "id": "01e516ba-9110-4ac9-9f4f-5ca6ebfc998f",
   "metadata": {},
   "source": [
    "**Decision**: Becauase the tool is for hosts to adjust their listing price to reduce 30-day vacancy, those with no vacancy in 30 days will be dropped from the data. "
   ]
  },
  {
   "cell_type": "code",
   "execution_count": 454,
   "id": "4b7f72de-195b-4577-8683-85c7fb311f68",
   "metadata": {},
   "outputs": [
    {
     "data": {
      "text/plain": [
       "(6506, 40)"
      ]
     },
     "execution_count": 454,
     "metadata": {},
     "output_type": "execute_result"
    }
   ],
   "source": [
    "df_m2 = df.loc[df['availability_30'] > 0,:]\n",
    "df_m2.shape"
   ]
  },
  {
   "cell_type": "code",
   "execution_count": 455,
   "id": "34752e3a-0495-44df-bef4-5a5f766d42a3",
   "metadata": {},
   "outputs": [
    {
     "data": {
      "text/plain": [
       "((4879, 38), (4879,), (1627, 38), (1627,))"
      ]
     },
     "execution_count": 455,
     "metadata": {},
     "output_type": "execute_result"
    }
   ],
   "source": [
    "X = df_m2.drop(columns=['availability_30','availability_60','availability_90'])\n",
    "y = df_m2['availability_30']\n",
    "\n",
    "# create a 'random' column in X\n",
    "X['random'] = np.random.random(X.shape[0])\n",
    "\n",
    "X_train, X_test, y_train, y_test = train_test_split(X, y, test_size=0.25, random_state=42)\n",
    "X_train.shape, y_train.shape, X_test.shape, y_test.shape"
   ]
  },
  {
   "cell_type": "code",
   "execution_count": 456,
   "id": "1319e3ba-87e7-4267-b70a-cc289b4f0a0f",
   "metadata": {},
   "outputs": [
    {
     "name": "stdout",
     "output_type": "stream",
     "text": [
      "(4879, 40)\n"
     ]
    },
    {
     "data": {
      "text/html": [
       "<div>\n",
       "<style scoped>\n",
       "    .dataframe tbody tr th:only-of-type {\n",
       "        vertical-align: middle;\n",
       "    }\n",
       "\n",
       "    .dataframe tbody tr th {\n",
       "        vertical-align: top;\n",
       "    }\n",
       "\n",
       "    .dataframe thead th {\n",
       "        text-align: right;\n",
       "    }\n",
       "</style>\n",
       "<table border=\"1\" class=\"dataframe\">\n",
       "  <thead>\n",
       "    <tr style=\"text-align: right;\">\n",
       "      <th></th>\n",
       "      <th>neighborhood_recoded</th>\n",
       "      <th>county</th>\n",
       "      <th>property_type_recoded</th>\n",
       "      <th>accommodates</th>\n",
       "      <th>bedrooms</th>\n",
       "      <th>beds</th>\n",
       "      <th>bathrooms</th>\n",
       "      <th>bathroom_type</th>\n",
       "      <th>minimum_nights</th>\n",
       "      <th>maximum_nights</th>\n",
       "      <th>...</th>\n",
       "      <th>host_about_f</th>\n",
       "      <th>host_response_time_f</th>\n",
       "      <th>host_response_rate_f</th>\n",
       "      <th>host_acceptance_rate_f</th>\n",
       "      <th>host_neighbourhood_f</th>\n",
       "      <th>price</th>\n",
       "      <th>availability_30</th>\n",
       "      <th>availability_60</th>\n",
       "      <th>availability_90</th>\n",
       "      <th>price_pred</th>\n",
       "    </tr>\n",
       "  </thead>\n",
       "  <tbody>\n",
       "    <tr>\n",
       "      <th>0</th>\n",
       "      <td>Western Addition</td>\n",
       "      <td>San Francisco</td>\n",
       "      <td>Entire serviced apartment</td>\n",
       "      <td>3</td>\n",
       "      <td>1.0</td>\n",
       "      <td>2.0</td>\n",
       "      <td>1.0</td>\n",
       "      <td>private</td>\n",
       "      <td>2</td>\n",
       "      <td>30</td>\n",
       "      <td>...</td>\n",
       "      <td>1</td>\n",
       "      <td>1</td>\n",
       "      <td>1</td>\n",
       "      <td>1</td>\n",
       "      <td>1</td>\n",
       "      <td>161.0</td>\n",
       "      <td>7</td>\n",
       "      <td>7</td>\n",
       "      <td>10</td>\n",
       "      <td>211.823959</td>\n",
       "    </tr>\n",
       "    <tr>\n",
       "      <th>1</th>\n",
       "      <td>Bernal Heights</td>\n",
       "      <td>San Francisco</td>\n",
       "      <td>Entire rental unit</td>\n",
       "      <td>5</td>\n",
       "      <td>2.0</td>\n",
       "      <td>3.0</td>\n",
       "      <td>1.0</td>\n",
       "      <td>private</td>\n",
       "      <td>30</td>\n",
       "      <td>60</td>\n",
       "      <td>...</td>\n",
       "      <td>1</td>\n",
       "      <td>1</td>\n",
       "      <td>1</td>\n",
       "      <td>1</td>\n",
       "      <td>1</td>\n",
       "      <td>235.0</td>\n",
       "      <td>30</td>\n",
       "      <td>60</td>\n",
       "      <td>90</td>\n",
       "      <td>215.543976</td>\n",
       "    </tr>\n",
       "    <tr>\n",
       "      <th>2</th>\n",
       "      <td>Haight Ashbury</td>\n",
       "      <td>San Francisco</td>\n",
       "      <td>Private room in rental unit</td>\n",
       "      <td>2</td>\n",
       "      <td>1.0</td>\n",
       "      <td>1.0</td>\n",
       "      <td>4.0</td>\n",
       "      <td>shared</td>\n",
       "      <td>32</td>\n",
       "      <td>60</td>\n",
       "      <td>...</td>\n",
       "      <td>1</td>\n",
       "      <td>1</td>\n",
       "      <td>1</td>\n",
       "      <td>1</td>\n",
       "      <td>1</td>\n",
       "      <td>56.0</td>\n",
       "      <td>30</td>\n",
       "      <td>60</td>\n",
       "      <td>90</td>\n",
       "      <td>62.858585</td>\n",
       "    </tr>\n",
       "    <tr>\n",
       "      <th>3</th>\n",
       "      <td>Haight Ashbury</td>\n",
       "      <td>San Francisco</td>\n",
       "      <td>Private room in rental unit</td>\n",
       "      <td>2</td>\n",
       "      <td>1.0</td>\n",
       "      <td>1.0</td>\n",
       "      <td>4.0</td>\n",
       "      <td>shared</td>\n",
       "      <td>32</td>\n",
       "      <td>90</td>\n",
       "      <td>...</td>\n",
       "      <td>1</td>\n",
       "      <td>1</td>\n",
       "      <td>1</td>\n",
       "      <td>1</td>\n",
       "      <td>1</td>\n",
       "      <td>56.0</td>\n",
       "      <td>30</td>\n",
       "      <td>60</td>\n",
       "      <td>90</td>\n",
       "      <td>51.960720</td>\n",
       "    </tr>\n",
       "    <tr>\n",
       "      <th>4</th>\n",
       "      <td>Western Addition</td>\n",
       "      <td>San Francisco</td>\n",
       "      <td>Entire condominium (condo)</td>\n",
       "      <td>4</td>\n",
       "      <td>2.0</td>\n",
       "      <td>2.0</td>\n",
       "      <td>1.5</td>\n",
       "      <td>private</td>\n",
       "      <td>7</td>\n",
       "      <td>111</td>\n",
       "      <td>...</td>\n",
       "      <td>1</td>\n",
       "      <td>1</td>\n",
       "      <td>1</td>\n",
       "      <td>1</td>\n",
       "      <td>1</td>\n",
       "      <td>895.0</td>\n",
       "      <td>29</td>\n",
       "      <td>59</td>\n",
       "      <td>89</td>\n",
       "      <td>472.194519</td>\n",
       "    </tr>\n",
       "  </tbody>\n",
       "</table>\n",
       "<p>5 rows × 40 columns</p>\n",
       "</div>"
      ],
      "text/plain": [
       "  neighborhood_recoded         county        property_type_recoded  \\\n",
       "0     Western Addition  San Francisco    Entire serviced apartment   \n",
       "1       Bernal Heights  San Francisco           Entire rental unit   \n",
       "2       Haight Ashbury  San Francisco  Private room in rental unit   \n",
       "3       Haight Ashbury  San Francisco  Private room in rental unit   \n",
       "4     Western Addition  San Francisco   Entire condominium (condo)   \n",
       "\n",
       "   accommodates  bedrooms  beds  bathrooms bathroom_type  minimum_nights  \\\n",
       "0             3       1.0   2.0        1.0       private               2   \n",
       "1             5       2.0   3.0        1.0       private              30   \n",
       "2             2       1.0   1.0        4.0        shared              32   \n",
       "3             2       1.0   1.0        4.0        shared              32   \n",
       "4             4       2.0   2.0        1.5       private               7   \n",
       "\n",
       "   maximum_nights  ...  host_about_f  host_response_time_f  \\\n",
       "0              30  ...             1                     1   \n",
       "1              60  ...             1                     1   \n",
       "2              60  ...             1                     1   \n",
       "3              90  ...             1                     1   \n",
       "4             111  ...             1                     1   \n",
       "\n",
       "   host_response_rate_f  host_acceptance_rate_f  host_neighbourhood_f  price  \\\n",
       "0                     1                       1                     1  161.0   \n",
       "1                     1                       1                     1  235.0   \n",
       "2                     1                       1                     1   56.0   \n",
       "3                     1                       1                     1   56.0   \n",
       "4                     1                       1                     1  895.0   \n",
       "\n",
       "   availability_30  availability_60  availability_90  price_pred  \n",
       "0                7                7               10  211.823959  \n",
       "1               30               60               90  215.543976  \n",
       "2               30               60               90   62.858585  \n",
       "3               30               60               90   51.960720  \n",
       "4               29               59               89  472.194519  \n",
       "\n",
       "[5 rows x 40 columns]"
      ]
     },
     "execution_count": 456,
     "metadata": {},
     "output_type": "execute_result"
    }
   ],
   "source": [
    "train = df_m2.loc[df_m2.index.isin(X_train.index), :].sort_index()\n",
    "print(train.shape)\n",
    "train.head()  # include the 3 availability columns\n",
    "\n",
    "# double check\n",
    "# X_train.sort_index().index\n",
    "# y_train.sort_index().index\n",
    "# train.index"
   ]
  },
  {
   "cell_type": "code",
   "execution_count": 457,
   "id": "7ef84a69-2a1d-4253-8859-591b5a416bd4",
   "metadata": {},
   "outputs": [],
   "source": [
    "# X_train.head()"
   ]
  },
  {
   "cell_type": "code",
   "execution_count": 458,
   "id": "b889bb9d-d9e1-4dd4-a09e-28274be4863e",
   "metadata": {},
   "outputs": [
    {
     "name": "stdout",
     "output_type": "stream",
     "text": [
      "(4879, 101)\n",
      "(1627, 101)\n"
     ]
    }
   ],
   "source": [
    "# get df shape after dummification\n",
    "ohe = ce.one_hot.OneHotEncoder(use_cat_names=True, handle_unknown='value')\n",
    "X_train_ohe = ohe.fit_transform(X_train)\n",
    "#X_train_ohe\n",
    "print(X_train_ohe.shape)\n",
    "\n",
    "X_test_ohe = ohe.transform(X_test)\n",
    "print(X_test_ohe.shape)"
   ]
  },
  {
   "cell_type": "markdown",
   "id": "aab7a486-ac92-410e-9de7-a5934f3008fb",
   "metadata": {},
   "source": [
    "## EDA"
   ]
  },
  {
   "cell_type": "markdown",
   "id": "b6f460a4-e6bb-4385-9aa8-2a9701d7de74",
   "metadata": {},
   "source": [
    "#### Features"
   ]
  },
  {
   "cell_type": "code",
   "execution_count": 372,
   "id": "f4990a74-9615-4f55-beae-397632e7d288",
   "metadata": {},
   "outputs": [
    {
     "data": {
      "image/png": "[encoded data removed]",
      "text/plain": [
       "<Figure size 1152x576 with 8 Axes>"
      ]
     },
     "metadata": {
      "needs_background": "light"
     },
     "output_type": "display_data"
    }
   ],
   "source": [
    "# review scores\n",
    "col_review_score = X_train.columns[X_train.columns.str.contains('review_scores_')]\n",
    "\n",
    "fig, axes = plt.subplots(2,4, figsize=(16,8), sharey=True)\n",
    "ax1 = X_train['review_scores_rating'].plot(kind='hist', ax=axes[0,0])\n",
    "ax2 = X_train['review_scores_accuracy'].plot(kind='hist', ax=axes[0,1])\n",
    "ax3 = X_train['review_scores_cleanliness'].plot(kind='hist', ax=axes[0,2])\n",
    "ax4 = X_train['review_scores_checkin'].plot(kind='hist', ax=axes[0,3])\n",
    "ax5 = X_train['review_scores_communication'].plot(kind='hist', ax=axes[1,0])\n",
    "ax6 = X_train['review_scores_location'].plot(kind='hist', ax=axes[1,1])\n",
    "ax7 = X_train['review_scores_value'].plot(kind='hist', ax=axes[1,2])\n",
    "\n",
    "ax1.set_title('Rating')\n",
    "ax2.set_title('Accuracy')\n",
    "ax3.set_title('Cleanliness')\n",
    "ax4.set_title('Checkin')\n",
    "ax5.set_title('Communication')\n",
    "ax6.set_title('Location')\n",
    "ax7.set_title('Value')\n",
    "\n",
    "plt.suptitle('Review score distribution')\n",
    "; \n",
    "plt.savefig('../Plots/reviewscores_hist.png', bbox_inches='tight')"
   ]
  },
  {
   "cell_type": "code",
   "execution_count": 461,
   "id": "a353bb44-78fd-4040-a499-afe522540e8e",
   "metadata": {},
   "outputs": [
    {
     "data": {
      "text/html": [
       "<div>\n",
       "<style scoped>\n",
       "    .dataframe tbody tr th:only-of-type {\n",
       "        vertical-align: middle;\n",
       "    }\n",
       "\n",
       "    .dataframe tbody tr th {\n",
       "        vertical-align: top;\n",
       "    }\n",
       "\n",
       "    .dataframe thead th {\n",
       "        text-align: right;\n",
       "    }\n",
       "</style>\n",
       "<table border=\"1\" class=\"dataframe\">\n",
       "  <thead>\n",
       "    <tr style=\"text-align: right;\">\n",
       "      <th></th>\n",
       "      <th>Average</th>\n",
       "    </tr>\n",
       "  </thead>\n",
       "  <tbody>\n",
       "    <tr>\n",
       "      <th>review_scores_checkin</th>\n",
       "      <td>4.87</td>\n",
       "    </tr>\n",
       "    <tr>\n",
       "      <th>review_scores_communication</th>\n",
       "      <td>4.85</td>\n",
       "    </tr>\n",
       "    <tr>\n",
       "      <th>review_scores_location</th>\n",
       "      <td>4.81</td>\n",
       "    </tr>\n",
       "    <tr>\n",
       "      <th>review_scores_accuracy</th>\n",
       "      <td>4.80</td>\n",
       "    </tr>\n",
       "    <tr>\n",
       "      <th>review_scores_rating</th>\n",
       "      <td>4.75</td>\n",
       "    </tr>\n",
       "    <tr>\n",
       "      <th>review_scores_cleanliness</th>\n",
       "      <td>4.75</td>\n",
       "    </tr>\n",
       "    <tr>\n",
       "      <th>review_scores_value</th>\n",
       "      <td>4.68</td>\n",
       "    </tr>\n",
       "  </tbody>\n",
       "</table>\n",
       "</div>"
      ],
      "text/plain": [
       "                             Average\n",
       "review_scores_checkin           4.87\n",
       "review_scores_communication     4.85\n",
       "review_scores_location          4.81\n",
       "review_scores_accuracy          4.80\n",
       "review_scores_rating            4.75\n",
       "review_scores_cleanliness       4.75\n",
       "review_scores_value             4.68"
      ]
     },
     "execution_count": 461,
     "metadata": {},
     "output_type": "execute_result"
    }
   ],
   "source": [
    "pd.DataFrame(round(X_train[col_review_score].mean().sort_values(ascending=False), 2), columns=['Average'])"
   ]
  },
  {
   "cell_type": "code",
   "execution_count": 373,
   "id": "72c815bd-3c38-4656-bedf-6eca0c2e9391",
   "metadata": {},
   "outputs": [
    {
     "data": {
      "image/png": "[encoded data removed]",
      "text/plain": [
       "<Figure size 432x288 with 1 Axes>"
      ]
     },
     "metadata": {
      "needs_background": "light"
     },
     "output_type": "display_data"
    }
   ],
   "source": [
    "X_train[col_review_score].mean().sort_values(ascending=True).plot(kind='barh', \n",
    "                                                                  title='Average review scores');\n",
    "plt.savefig('../Plots/reviewscores_barh.png', bbox_inches='tight')\n"
   ]
  },
  {
   "cell_type": "code",
   "execution_count": 374,
   "id": "c4d29117-09bc-4236-a01c-87a60599e6ec",
   "metadata": {},
   "outputs": [
    {
     "data": {
      "text/html": [
       "<div>\n",
       "<style scoped>\n",
       "    .dataframe tbody tr th:only-of-type {\n",
       "        vertical-align: middle;\n",
       "    }\n",
       "\n",
       "    .dataframe tbody tr th {\n",
       "        vertical-align: top;\n",
       "    }\n",
       "\n",
       "    .dataframe thead th {\n",
       "        text-align: right;\n",
       "    }\n",
       "</style>\n",
       "<table border=\"1\" class=\"dataframe\">\n",
       "  <thead>\n",
       "    <tr style=\"text-align: right;\">\n",
       "      <th></th>\n",
       "      <th>Avaiability proportion</th>\n",
       "    </tr>\n",
       "  </thead>\n",
       "  <tbody>\n",
       "    <tr>\n",
       "      <th>host_acceptance_rate_f</th>\n",
       "      <td>0.892396</td>\n",
       "    </tr>\n",
       "    <tr>\n",
       "      <th>host_response_time_f</th>\n",
       "      <td>0.883788</td>\n",
       "    </tr>\n",
       "    <tr>\n",
       "      <th>host_response_rate_f</th>\n",
       "      <td>0.883788</td>\n",
       "    </tr>\n",
       "    <tr>\n",
       "      <th>host_neighbourhood_f</th>\n",
       "      <td>0.870670</td>\n",
       "    </tr>\n",
       "    <tr>\n",
       "      <th>neighborhood_overview_f</th>\n",
       "      <td>0.723099</td>\n",
       "    </tr>\n",
       "    <tr>\n",
       "      <th>host_about_f</th>\n",
       "      <td>0.698299</td>\n",
       "    </tr>\n",
       "  </tbody>\n",
       "</table>\n",
       "</div>"
      ],
      "text/plain": [
       "                         Avaiability proportion\n",
       "host_acceptance_rate_f                 0.892396\n",
       "host_response_time_f                   0.883788\n",
       "host_response_rate_f                   0.883788\n",
       "host_neighbourhood_f                   0.870670\n",
       "neighborhood_overview_f                0.723099\n",
       "host_about_f                           0.698299"
      ]
     },
     "execution_count": 374,
     "metadata": {},
     "output_type": "execute_result"
    }
   ],
   "source": [
    "# flag columns\n",
    "col_flags = ['neighborhood_overview_f','host_about_f','host_response_time_f',\n",
    "             'host_response_rate_f','host_acceptance_rate_f','host_neighbourhood_f']\n",
    "\n",
    "pd.DataFrame(X_train[col_flags].mean().sort_values(ascending=False), columns=['Avaiability proportion'])"
   ]
  },
  {
   "cell_type": "markdown",
   "id": "85099805-0c4c-487e-bb7a-7745b241828e",
   "metadata": {},
   "source": [
    "#### Target variable: 30-day vacancy"
   ]
  },
  {
   "cell_type": "markdown",
   "id": "38b1ec6f-fc99-4eea-9bb2-71f9a3e61c09",
   "metadata": {},
   "source": [
    "##### 30-day vacancy distribution"
   ]
  },
  {
   "cell_type": "code",
   "execution_count": 375,
   "id": "43ee9ccc-4c34-4075-9ee3-f20b58d2d718",
   "metadata": {},
   "outputs": [
    {
     "data": {
      "text/plain": [
       "16.950194712031156"
      ]
     },
     "execution_count": 375,
     "metadata": {},
     "output_type": "execute_result"
    }
   ],
   "source": [
    "train['availability_30'].mean()"
   ]
  },
  {
   "cell_type": "code",
   "execution_count": 470,
   "id": "c635fb7c-0434-4b0e-bdd9-1b05e09e3807",
   "metadata": {},
   "outputs": [
    {
     "data": {
      "image/png": "[encoded data removed]",
      "text/plain": [
       "<Figure size 360x216 with 1 Axes>"
      ]
     },
     "metadata": {
      "needs_background": "light"
     },
     "output_type": "display_data"
    }
   ],
   "source": [
    "plt.figure(figsize=(5,3))\n",
    "train['availability_30'].hist()\n",
    "plt.title('30-day vacancy', fontsize=14);\n",
    "\n",
    "plt.savefig('../Plots/avail30_hist.png')"
   ]
  },
  {
   "cell_type": "code",
   "execution_count": null,
   "id": "5832eef0-3176-4f9e-aad0-1db142e124fe",
   "metadata": {},
   "outputs": [],
   "source": [
    "pd.DataFrame(round(X_train[col_review_score].mean().sort_values(ascending=False), 2), columns=['Average'])"
   ]
  },
  {
   "cell_type": "code",
   "execution_count": 467,
   "id": "b43f0746-01d9-41e1-811c-9d5601789947",
   "metadata": {},
   "outputs": [
    {
     "data": {
      "text/plain": [
       "county\n",
       "San Francisco    15.621802\n",
       "San Mateo        16.968839\n",
       "Santa Clara      18.121662\n",
       "Name: availability_30, dtype: float64"
      ]
     },
     "execution_count": 467,
     "metadata": {},
     "output_type": "execute_result"
    }
   ],
   "source": [
    "train.groupby('county')['availability_30'].mean()"
   ]
  },
  {
   "cell_type": "code",
   "execution_count": 379,
   "id": "a4b41481-f15e-4aa2-b937-ec7a4521a8ac",
   "metadata": {},
   "outputs": [
    {
     "data": {
      "image/png": "[encoded data removed]",
      "text/plain": [
       "<Figure size 432x288 with 1 Axes>"
      ]
     },
     "metadata": {
      "needs_background": "light"
     },
     "output_type": "display_data"
    }
   ],
   "source": [
    "train.groupby('county')['availability_30'].hist(alpha=0.3, legend=True)\n",
    "plt.legend()\n",
    "plt.title('30-day vacancy by county', fontsize=16)\n",
    "plt.xlabel('30-day vacancy');\n",
    "\n",
    "plt.savefig('../Plots/avail30_bycounty_hist.png')"
   ]
  },
  {
   "cell_type": "code",
   "execution_count": 403,
   "id": "2d94fc2e-dbb0-4618-b6be-71558ba19029",
   "metadata": {},
   "outputs": [
    {
     "data": {
      "image/png": "[encoded data removed]",
      "text/plain": [
       "<Figure size 1008x216 with 3 Axes>"
      ]
     },
     "metadata": {
      "needs_background": "light"
     },
     "output_type": "display_data"
    }
   ],
   "source": [
    "train.hist(column='availability_30', by='county', figsize=(14,3), layout=(1,3), xrot=0, legend=False, sharex=True, sharey=True)\n",
    ";\n",
    "plt.suptitle('30-day vacancy by county', x=0.5, y=1.1, fontsize=16);\n",
    "plt.savefig('../Plots/avail30_bycounty_hist2.png', bbox_inches='tight')"
   ]
  },
  {
   "cell_type": "markdown",
   "id": "d98cee62-ca03-49c4-acaa-8bb8f6c31f82",
   "metadata": {},
   "source": [
    "**Observation**: \n",
    "1. The overall 30-day vacancy is 17 days. \n",
    "2. On average, Santa Clara's 30-day vacancy is the highest (18.1) and that of San Francisco (15.6) is the lowest."
   ]
  },
  {
   "cell_type": "markdown",
   "id": "8cba551f-fd90-4d8d-8647-71094580d512",
   "metadata": {},
   "source": [
    "##### 30-day vacancy by some features"
   ]
  },
  {
   "cell_type": "code",
   "execution_count": 413,
   "id": "94e7c96b-91be-46df-9510-f584f048365c",
   "metadata": {},
   "outputs": [
    {
     "data": {
      "image/png": "[encoded data removed]",
      "text/plain": [
       "<Figure size 720x576 with 2 Axes>"
      ]
     },
     "metadata": {
      "needs_background": "light"
     },
     "output_type": "display_data"
    }
   ],
   "source": [
    "plt.figure(figsize=(10,8))\n",
    "\n",
    "mask = np.zeros_like(train[list(col_review_score) + list(col_review_count) + ['availability_30']].corr())\n",
    "mask[np.triu_indices_from(mask)] = True\n",
    "\n",
    "sns.heatmap(train[list(col_review_score) + list(col_review_count) + ['availability_30']].corr(),\n",
    "            annot=True, \n",
    "            vmin = -1,\n",
    "            vmax = 1,\n",
    "            mask = mask,\n",
    "            cmap='coolwarm');\n",
    "plt.savefig('../Plots/corr_avail30_reviewfeatures_heat_triagle.png', bbox_inches='tight')\n"
   ]
  },
  {
   "cell_type": "markdown",
   "id": "68fb8697-bc63-4799-992a-903f9a754a9d",
   "metadata": {},
   "source": [
    "**Obesrvation**: Among reviews on specific aspects, \n",
    "- listing info accuracy and perceived value are most correlated to the overall rating\n",
    "- location is least correlated to the overall rating."
   ]
  },
  {
   "cell_type": "code",
   "execution_count": 479,
   "id": "4497f257-4321-4563-bce9-be2f06c810be",
   "metadata": {},
   "outputs": [
    {
     "data": {
      "image/png": "[encoded data removed]",
      "text/plain": [
       "<Figure size 288x360 with 2 Axes>"
      ]
     },
     "metadata": {
      "needs_background": "light"
     },
     "output_type": "display_data"
    }
   ],
   "source": [
    "plt.figure(figsize=(4,5))\n",
    "\n",
    "sns.heatmap(train[list(col_review_score) + list(col_review_count) + ['availability_30']].corr()[['availability_30']].sort_values('availability_30'),\n",
    "            annot=True, \n",
    "            vmin = -1,\n",
    "            vmax = 1,\n",
    "            cmap='coolwarm')\n",
    "plt.title('Correlation with 30-day vacancy', fontsize=14);\n",
    "\n",
    "plt.savefig('../Plots/corr_avail30_reviewfeatures_heat.png', bbox_inches='tight')"
   ]
  },
  {
   "cell_type": "markdown",
   "id": "fe15d553-b47c-45cf-bd45-5825405e1df9",
   "metadata": {},
   "source": [
    "**Obesrvation**: \n",
    "1. 30-day vacancy is negative related to all review scores. This makes sense, as the listings with better reviews will look more attractive to potential guests and have less vacancy. \n",
    "> - The overall rating has the highest correlaton with the 30-day vacancy among all review related features.\n",
    "2. 30-day vacancy is negative related to all review counts. High review counts could also indicate high occupancy rate and/or high turnaround rate."
   ]
  },
  {
   "cell_type": "code",
   "execution_count": 415,
   "id": "3244cec8-7846-43f7-8bed-3af17bfc8fce",
   "metadata": {},
   "outputs": [
    {
     "data": {
      "text/html": [
       "<div>\n",
       "<style scoped>\n",
       "    .dataframe tbody tr th:only-of-type {\n",
       "        vertical-align: middle;\n",
       "    }\n",
       "\n",
       "    .dataframe tbody tr th {\n",
       "        vertical-align: top;\n",
       "    }\n",
       "\n",
       "    .dataframe thead th {\n",
       "        text-align: right;\n",
       "    }\n",
       "</style>\n",
       "<table border=\"1\" class=\"dataframe\">\n",
       "  <thead>\n",
       "    <tr style=\"text-align: right;\">\n",
       "      <th></th>\n",
       "      <th>availability_30</th>\n",
       "    </tr>\n",
       "  </thead>\n",
       "  <tbody>\n",
       "    <tr>\n",
       "      <th>availability_30</th>\n",
       "      <td>1.000000</td>\n",
       "    </tr>\n",
       "    <tr>\n",
       "      <th>host_neighbourhood_f</th>\n",
       "      <td>-0.039809</td>\n",
       "    </tr>\n",
       "    <tr>\n",
       "      <th>host_about_f</th>\n",
       "      <td>-0.060706</td>\n",
       "    </tr>\n",
       "    <tr>\n",
       "      <th>neighborhood_overview_f</th>\n",
       "      <td>-0.072104</td>\n",
       "    </tr>\n",
       "    <tr>\n",
       "      <th>host_response_time_f</th>\n",
       "      <td>-0.107242</td>\n",
       "    </tr>\n",
       "    <tr>\n",
       "      <th>host_response_rate_f</th>\n",
       "      <td>-0.107242</td>\n",
       "    </tr>\n",
       "    <tr>\n",
       "      <th>host_acceptance_rate_f</th>\n",
       "      <td>-0.130134</td>\n",
       "    </tr>\n",
       "  </tbody>\n",
       "</table>\n",
       "</div>"
      ],
      "text/plain": [
       "                         availability_30\n",
       "availability_30                 1.000000\n",
       "host_neighbourhood_f           -0.039809\n",
       "host_about_f                   -0.060706\n",
       "neighborhood_overview_f        -0.072104\n",
       "host_response_time_f           -0.107242\n",
       "host_response_rate_f           -0.107242\n",
       "host_acceptance_rate_f         -0.130134"
      ]
     },
     "execution_count": 415,
     "metadata": {},
     "output_type": "execute_result"
    }
   ],
   "source": [
    "# inclusion of some information on the listing: neighborhood overivew, host intro, host response time, etc\n",
    "train[col_flags + ['availability_30']].corr()[['availability_30']].sort_values('availability_30',ascending=False)"
   ]
  },
  {
   "cell_type": "code",
   "execution_count": 481,
   "id": "637e8e32-5f4d-4513-89ae-12d707edcf22",
   "metadata": {},
   "outputs": [
    {
     "data": {
      "image/png": "[encoded data removed]",
      "text/plain": [
       "<Figure size 288x288 with 2 Axes>"
      ]
     },
     "metadata": {
      "needs_background": "light"
     },
     "output_type": "display_data"
    }
   ],
   "source": [
    "plt.figure(figsize=(4,4))\n",
    "sns.heatmap(train[col_flags + ['availability_30']].corr()[['availability_30']].sort_values('availability_30'),\n",
    "            annot=True, \n",
    "            vmin = -1, \n",
    "            vmax = 1,\n",
    "            cmap='coolwarm')\n",
    "plt.title('Correlation with 30-day vacancy', fontsize=14);\n",
    "\n",
    "plt.savefig('../Plots/corr_avail30_flagcols_heat.png', bbox_inches='tight')"
   ]
  },
  {
   "cell_type": "markdown",
   "id": "8424eb6f-6b07-4847-9a49-3451d9f9e176",
   "metadata": {},
   "source": [
    "**Observation**: Listings with information on host acceptance rate and and response time have lower 30-day vacancy. "
   ]
  },
  {
   "cell_type": "code",
   "execution_count": null,
   "id": "8ea6b48d-60ed-43bb-8c96-d94296734c0c",
   "metadata": {},
   "outputs": [],
   "source": [
    "train.groupby('neighborhood_overview_f')['availability_30'].mean()"
   ]
  },
  {
   "cell_type": "code",
   "execution_count": null,
   "id": "f94da25d-c7d8-40ac-a0f7-9a50414bf660",
   "metadata": {},
   "outputs": [],
   "source": [
    "train.groupby('neighborhood_overview_f')['availability_30'].hist(alpha=0.3, legend=True)\n",
    "plt.title('30-day vacancy by ');"
   ]
  },
  {
   "cell_type": "code",
   "execution_count": null,
   "id": "17313521-ed92-41f7-80c6-9271b637fdc1",
   "metadata": {},
   "outputs": [],
   "source": [
    "plt.figure(figsize=(5,3))\n",
    "\n",
    "train.groupby('neighborhood_overview_f')['availability_30'].mean().plot(kind='bar', alpha=0.3, rot=0)\n",
    "plt.title('30-day vacancy')\n",
    "plt.xlabel(None)\n",
    "plt.xticks(ticks  = [0,1],\n",
    "           labels = ['no neighborhood review','with neighborhood review'])\n",
    ";"
   ]
  },
  {
   "cell_type": "code",
   "execution_count": null,
   "id": "34e9fc1f-acd7-4906-9030-75d55a4fbbef",
   "metadata": {},
   "outputs": [],
   "source": [
    "train.groupby('neighborhood_overview_f')['availability_30'].mean()"
   ]
  },
  {
   "cell_type": "code",
   "execution_count": null,
   "id": "011ece88-39cd-49dd-83cc-15bc1ac08ff1",
   "metadata": {},
   "outputs": [],
   "source": [
    "train.groupby('host_about_f')['availability_30'].mean()"
   ]
  },
  {
   "cell_type": "code",
   "execution_count": null,
   "id": "b9c95542-fe58-4a10-9e32-cff3a4cc4210",
   "metadata": {},
   "outputs": [],
   "source": [
    "plt.figure(figsize=(5,3))\n",
    "\n",
    "train.groupby('host_about_f')['availability_30'].mean().plot(kind='bar', alpha=0.3, rot=0)\n",
    "plt.title('30-day vacancy')\n",
    "plt.xlabel(None)\n",
    "plt.xticks(ticks  = [0,1],\n",
    "           labels = ['no neighborhood review','with neighborhood review'])\n",
    ";"
   ]
  },
  {
   "cell_type": "markdown",
   "id": "79006102-5383-49ca-8a31-4c3183694e47",
   "metadata": {},
   "source": [
    "## Modeling"
   ]
  },
  {
   "cell_type": "markdown",
   "id": "2d26cb12-3532-465b-8f6d-ab9413641897",
   "metadata": {},
   "source": [
    "The availabilities in the next 30, 60 and 90 days were tried as the target variable. The 30-day availability worked better for model performancewhich makes sense as its the closest future. So decided to use availability_30 as the target."
   ]
  },
  {
   "cell_type": "code",
   "execution_count": 193,
   "id": "27a9b099-be5b-468d-bca8-b29fb336ede1",
   "metadata": {},
   "outputs": [
    {
     "data": {
      "text/plain": [
       "((4879, 38), (4879,), (1627, 38), (1627,))"
      ]
     },
     "execution_count": 193,
     "metadata": {},
     "output_type": "execute_result"
    }
   ],
   "source": [
    "X_train.shape, y_train.shape, X_test.shape, y_test.shape"
   ]
  },
  {
   "cell_type": "code",
   "execution_count": 195,
   "id": "bdbcb6f9-59ea-471e-8cee-43446edab9f0",
   "metadata": {},
   "outputs": [],
   "source": [
    "# get the data shape after one hot encoding \n",
    "\n",
    "# https://contrib.scikit-learn.org/category_encoders/onehot.html\n",
    "#ohe = ce.one_hot.OneHotEncoder(use_cat_names=True, handle_unknown='value')\n",
    "#X_train_ohe = ohe.fit_transform(X_train, use_cat_names=True)\n",
    "#X_train_ohe.shape"
   ]
  },
  {
   "cell_type": "markdown",
   "id": "6c43bd8f-ece2-4329-b5b6-fcc4240754d1",
   "metadata": {},
   "source": [
    "### Baseline model"
   ]
  },
  {
   "cell_type": "code",
   "execution_count": 196,
   "id": "bf9cc659-5cd2-4b62-96e0-d7be0566e5d3",
   "metadata": {},
   "outputs": [
    {
     "name": "stdout",
     "output_type": "stream",
     "text": [
      "Average listing price (train): 16.95\n",
      "price_pred_base_mse_train: 94.7495\n",
      "\n",
      "Average listing price (test): 16.99\n",
      "price_pred_base_mse_test: 94.1358\n"
     ]
    }
   ],
   "source": [
    "# train set\n",
    "print(f'Average listing price (train): {round(y_train.mean(), 2)}')\n",
    "price_pred_base_train = np.full((y_train.shape[0], 1), y_train.mean())\n",
    "\n",
    "price_pred_base_mse_train = metrics.mean_squared_error(y_train, price_pred_base_train)\n",
    "print(f'price_pred_base_mse_train: {round(price_pred_base_mse_train, 4)}')\n",
    "print()\n",
    "\n",
    "# test set\n",
    "print(f'Average listing price (test): {round(y_test.mean(), 2)}')\n",
    "price_pred_base_test = np.full((y_test.shape[0], 1), y_test.mean())\n",
    "\n",
    "price_pred_base_mse_test = metrics.mean_squared_error(y_test, price_pred_base_test)\n",
    "print(f'price_pred_base_mse_test: {round(price_pred_base_mse_test, 4)}')\n"
   ]
  },
  {
   "cell_type": "markdown",
   "id": "ceff66a2-9c15-4863-867c-0d83f5cf136d",
   "metadata": {},
   "source": [
    "### Random Forest regressor"
   ]
  },
  {
   "cell_type": "markdown",
   "id": "3c5603fa-128c-4894-9c00-dc8790caa86b",
   "metadata": {},
   "source": [
    "#### Default parameter values"
   ]
  },
  {
   "cell_type": "code",
   "execution_count": 197,
   "id": "efa9876d-3756-45cb-897b-d0e8a2c25f0d",
   "metadata": {},
   "outputs": [
    {
     "name": "stdout",
     "output_type": "stream",
     "text": [
      "2022-02-05 18:03:51.290372\n",
      "2022-02-05 18:03:52.305850\n",
      "\n",
      "m21_pipe_rf_base_R2_train:  0.8934\n",
      "m21_pipe_rf_base_R2_test:  0.2142\n",
      "m21_pipe_rf_base_mse_train 10.1046\n",
      "m21_pipe_rf_base_mse_test 73.9753\n"
     ]
    }
   ],
   "source": [
    "m21_pipe_rf_base = Pipeline([\n",
    "    ('ohe', ce.one_hot.OneHotEncoder(use_cat_names=True, handle_unknown='value')),\n",
    "    ('rf', RandomForestRegressor(random_state=42, n_jobs=-1))\n",
    "])\n",
    "\n",
    "# train model\n",
    "print(datetime.datetime.now())\n",
    "m21_pipe_rf_base.fit(X_train, y_train)\n",
    "print(datetime.datetime.now())\n",
    "print()\n",
    "\n",
    "# predict\n",
    "m21_pipe_rf_base_pred_train = m21_pipe_rf_base.predict(X_train)\n",
    "m21_pipe_rf_base_pred_test = m21_pipe_rf_base.predict(X_test)\n",
    "\n",
    "# evaluate\n",
    "m21_pipe_rf_base_R2_train = m21_pipe_rf_base.score(X_train, y_train)\n",
    "m21_pipe_rf_base_R2_test = m21_pipe_rf_base.score(X_test, y_test)\n",
    "print('m21_pipe_rf_base_R2_train: ', round(m21_pipe_rf_base_R2_train, 4))\n",
    "print('m21_pipe_rf_base_R2_test: ', round(m21_pipe_rf_base_R2_test, 4))\n",
    "\n",
    "m21_pipe_rf_base_mse_train = metrics.mean_squared_error(y_train, m21_pipe_rf_base_pred_train)\n",
    "m21_pipe_rf_base_mse_test = metrics.mean_squared_error(y_test, m21_pipe_rf_base_pred_test)\n",
    "print('m21_pipe_rf_base_mse_train', round(m21_pipe_rf_base_mse_train, 4))\n",
    "print('m21_pipe_rf_base_mse_test', round(m21_pipe_rf_base_mse_test, 4))"
   ]
  },
  {
   "cell_type": "code",
   "execution_count": 252,
   "id": "9e7d45c7-b067-412d-a3b2-3bebe885b3f8",
   "metadata": {},
   "outputs": [
    {
     "data": {
      "text/plain": [
       "['../Models/m21_pipe_rf_base_joblib_poor.pkl']"
      ]
     },
     "execution_count": 252,
     "metadata": {},
     "output_type": "execute_result"
    }
   ],
   "source": [
    "# import joblib\n",
    "\n",
    "# Save\n",
    "m21_pipe_rf_base_joblib_filename = '../Models/m21_pipe_rf_base_joblib_poor.pkl'\n",
    "joblib.dump(m21_pipe_rf_base, m21_pipe_rf_base_joblib_filename)"
   ]
  },
  {
   "cell_type": "code",
   "execution_count": 199,
   "id": "fff7e72b-8c8b-4775-9cab-bc30dea6cfeb",
   "metadata": {},
   "outputs": [
    {
     "data": {
      "text/html": [
       "<div>\n",
       "<style scoped>\n",
       "    .dataframe tbody tr th:only-of-type {\n",
       "        vertical-align: middle;\n",
       "    }\n",
       "\n",
       "    .dataframe tbody tr th {\n",
       "        vertical-align: top;\n",
       "    }\n",
       "\n",
       "    .dataframe thead th {\n",
       "        text-align: right;\n",
       "    }\n",
       "</style>\n",
       "<table border=\"1\" class=\"dataframe\">\n",
       "  <thead>\n",
       "    <tr style=\"text-align: right;\">\n",
       "      <th></th>\n",
       "      <th>feature</th>\n",
       "      <th>importance</th>\n",
       "    </tr>\n",
       "  </thead>\n",
       "  <tbody>\n",
       "    <tr>\n",
       "      <th>90</th>\n",
       "      <td>number_of_reviews_ltm</td>\n",
       "      <td>0.123602</td>\n",
       "    </tr>\n",
       "    <tr>\n",
       "      <th>99</th>\n",
       "      <td>price_pred</td>\n",
       "      <td>0.074611</td>\n",
       "    </tr>\n",
       "    <tr>\n",
       "      <th>100</th>\n",
       "      <td>random</td>\n",
       "      <td>0.067009</td>\n",
       "    </tr>\n",
       "    <tr>\n",
       "      <th>98</th>\n",
       "      <td>price</td>\n",
       "      <td>0.063625</td>\n",
       "    </tr>\n",
       "    <tr>\n",
       "      <th>71</th>\n",
       "      <td>minimum_nights</td>\n",
       "      <td>0.054186</td>\n",
       "    </tr>\n",
       "    <tr>\n",
       "      <th>89</th>\n",
       "      <td>number_of_reviews</td>\n",
       "      <td>0.049258</td>\n",
       "    </tr>\n",
       "    <tr>\n",
       "      <th>88</th>\n",
       "      <td>review_scores_value</td>\n",
       "      <td>0.042069</td>\n",
       "    </tr>\n",
       "    <tr>\n",
       "      <th>87</th>\n",
       "      <td>review_scores_location</td>\n",
       "      <td>0.036247</td>\n",
       "    </tr>\n",
       "    <tr>\n",
       "      <th>84</th>\n",
       "      <td>review_scores_cleanliness</td>\n",
       "      <td>0.032098</td>\n",
       "    </tr>\n",
       "    <tr>\n",
       "      <th>83</th>\n",
       "      <td>review_scores_accuracy</td>\n",
       "      <td>0.031399</td>\n",
       "    </tr>\n",
       "  </tbody>\n",
       "</table>\n",
       "</div>"
      ],
      "text/plain": [
       "                       feature  importance\n",
       "90       number_of_reviews_ltm    0.123602\n",
       "99                  price_pred    0.074611\n",
       "100                     random    0.067009\n",
       "98                       price    0.063625\n",
       "71              minimum_nights    0.054186\n",
       "89           number_of_reviews    0.049258\n",
       "88         review_scores_value    0.042069\n",
       "87      review_scores_location    0.036247\n",
       "84   review_scores_cleanliness    0.032098\n",
       "83      review_scores_accuracy    0.031399"
      ]
     },
     "execution_count": 199,
     "metadata": {},
     "output_type": "execute_result"
    }
   ],
   "source": [
    "# feature importance\n",
    "m21_pipe_rf_base_feature_importance = pd.DataFrame({'feature': m21_pipe_rf_base['ohe'].get_feature_names(),\n",
    "                                             'importance': m21_pipe_rf_base['rf'].feature_importances_})\n",
    "\n",
    "m21_pipe_rf_base_feature_importance.to_csv('../Data/m21_pipe_rf_base_feature_importance.csv')\n",
    "m21_pipe_rf_base_feature_importance.sort_values('importance', ascending=False).head(10)"
   ]
  },
  {
   "cell_type": "markdown",
   "id": "77f83f17-5749-4614-9256-b9b8c85510be",
   "metadata": {},
   "source": [
    "**Observation**: \n",
    "1. Only 3 features are more important than the 'random' feature. This is very weird.\n",
    "\n",
    "**Decision**: Fit the model with these the top 20 features "
   ]
  },
  {
   "cell_type": "code",
   "execution_count": 206,
   "id": "6c5eee09-7965-446d-ab84-02c70ba2808b",
   "metadata": {},
   "outputs": [
    {
     "name": "stdout",
     "output_type": "stream",
     "text": [
      "2022-02-05 18:10:00.305473\n",
      "2022-02-05 18:10:00.831582\n",
      "\n",
      "m21_pipe_rf_base_top_R2_train:  0.8892\n",
      "m21_pipe_rf_base_top_R2_test:  0.1834\n",
      "m21_pipe_rf_base_top_mse_train 10.4959\n",
      "m21_pipe_rf_base_top_mse_test 76.875\n"
     ]
    }
   ],
   "source": [
    "# retrain with the top n features\n",
    "\n",
    "# the top-n feature list\n",
    "feature_list = m21_pipe_rf_base_feature_importance.sort_values('importance', ascending=False).head(21)['feature']\n",
    "feature_list = [feature for feature in feature_list if feature != 'random']\n",
    "\n",
    "# create the X_train with only these features\n",
    "ohe = ce.one_hot.OneHotEncoder(use_cat_names=True, handle_unknown='value')\n",
    "X_train_ohe = ohe.fit_transform(X_train)\n",
    "X_train_ohe_top = X_train_ohe[feature_list].copy()\n",
    "\n",
    "X_test_ohe = ohe.transform(X_test)\n",
    "X_test_ohe_top = X_test_ohe[feature_list].copy()\n",
    "\n",
    "# try this model\n",
    "m21_pipe_rf_base_top = Pipeline([\n",
    "    #('ohe', ce.one_hot.OneHotEncoder(use_cat_names=True, handle_unknown='value')),\n",
    "    ('rf', RandomForestRegressor(random_state=42, n_jobs=-1))\n",
    "])\n",
    "\n",
    "# train model\n",
    "print(datetime.datetime.now())\n",
    "m21_pipe_rf_base_top.fit(X_train_ohe_top, y_train)\n",
    "print(datetime.datetime.now())\n",
    "print()\n",
    "\n",
    "# predict\n",
    "m21_pipe_rf_base_top_pred_train = m21_pipe_rf_base_top.predict(X_train_ohe_top)\n",
    "m21_pipe_rf_base_top_pred_test = m21_pipe_rf_base_top.predict(X_test_ohe_top)\n",
    "\n",
    "# evaluate\n",
    "m21_pipe_rf_base_top_R2_train = m21_pipe_rf_base_top.score(X_train_ohe_top, y_train)\n",
    "m21_pipe_rf_base_top_R2_test = m21_pipe_rf_base_top.score(X_test_ohe_top, y_test)\n",
    "print('m21_pipe_rf_base_top_R2_train: ', round(m21_pipe_rf_base_top_R2_train, 4))\n",
    "print('m21_pipe_rf_base_top_R2_test: ', round(m21_pipe_rf_base_top_R2_test, 4))\n",
    "\n",
    "m21_pipe_rf_base_top_mse_train = metrics.mean_squared_error(y_train, m21_pipe_rf_base_top_pred_train)\n",
    "m21_pipe_rf_base_top_mse_test = metrics.mean_squared_error(y_test, m21_pipe_rf_base_top_pred_test)\n",
    "print('m21_pipe_rf_base_top_mse_train', round(m21_pipe_rf_base_top_mse_train, 4))\n",
    "print('m21_pipe_rf_base_top_mse_test', round(m21_pipe_rf_base_top_mse_test, 4))"
   ]
  },
  {
   "cell_type": "markdown",
   "id": "cbba0bae-476d-427e-af8e-4a2b61656351",
   "metadata": {},
   "source": [
    "**Observation**: Keeping only top 20 features doesn't improve the overfitting issue and the test R2 dropped a bit."
   ]
  },
  {
   "cell_type": "markdown",
   "id": "de391f64-b761-43eb-9e9a-c43c2eb35abd",
   "metadata": {},
   "source": [
    "#### GridSearchCV"
   ]
  },
  {
   "cell_type": "code",
   "execution_count": 208,
   "id": "ca50e710-acee-419e-8961-98f4c62712b5",
   "metadata": {},
   "outputs": [
    {
     "name": "stdout",
     "output_type": "stream",
     "text": [
      "2022-02-05 18:12:42.247072\n",
      "2022-02-05 18:16:40.483858\n"
     ]
    }
   ],
   "source": [
    "m21_pipe_rf = Pipeline([\n",
    "    ('ohe', ce.one_hot.OneHotEncoder(use_cat_names=True, handle_unknown='value')),\n",
    "    ('rf', RandomForestRegressor(random_state=42, n_jobs=-1))\n",
    "                     ])\n",
    "\n",
    "m21_pipe_rf_params = {\n",
    "    'rf__n_estimators': [400, 600],\n",
    "    'rf__max_depth': [4, 8, 12],\n",
    "    'rf__min_samples_split': [10, 20],\n",
    "    'rf__min_samples_leaf': [5,10],\n",
    "    #'rf__ccp_alpha': [0.0, 0.05, 0.1],\n",
    "    'rf__max_features': [20, 60]\n",
    "}\n",
    "\n",
    "m21_gs_rf = GridSearchCV(m21_pipe_rf,\n",
    "                        m21_pipe_rf_params,\n",
    "                        cv=5\n",
    "                       )\n",
    "\n",
    "print(datetime.datetime.now())\n",
    "\n",
    "m21_gs_rf.fit(X_train, y_train)\n",
    "\n",
    "print(datetime.datetime.now())"
   ]
  },
  {
   "cell_type": "code",
   "execution_count": 209,
   "id": "451ec033-16c9-47b9-896a-2f6b84deea12",
   "metadata": {},
   "outputs": [
    {
     "name": "stdout",
     "output_type": "stream",
     "text": [
      "m21_gs_rf_R2_train: 0.5866\n",
      "m21_gs_rf_R2_test:  0.2212\n",
      "m21_gs_rf_mse_train: 39.1741\n",
      "m21_gs_rf_mse_test:  73.3145\n"
     ]
    },
    {
     "data": {
      "text/plain": [
       "Pipeline(steps=[('ohe',\n",
       "                 OneHotEncoder(cols=['neighborhood_recoded', 'county',\n",
       "                                     'property_type_recoded', 'bathroom_type'],\n",
       "                               use_cat_names=True)),\n",
       "                ('rf',\n",
       "                 RandomForestRegressor(max_depth=12, max_features=60,\n",
       "                                       min_samples_leaf=5, min_samples_split=10,\n",
       "                                       n_estimators=600, n_jobs=-1,\n",
       "                                       random_state=42))])"
      ]
     },
     "execution_count": 209,
     "metadata": {},
     "output_type": "execute_result"
    }
   ],
   "source": [
    "m21_gs_rf_pred_train = m21_gs_rf.predict(X_train)\n",
    "m21_gs_rf_pred_test = m21_gs_rf.predict(X_test)\n",
    "\n",
    "# evaluate\n",
    "m21_gs_rf_R2_train = m21_gs_rf.score(X_train, y_train)\n",
    "m21_gs_rf_R2_test = m21_gs_rf.score(X_test, y_test)\n",
    "print('m21_gs_rf_R2_train: ' + f'{round(m21_gs_rf_R2_train, 4)}')\n",
    "print('m21_gs_rf_R2_test:  ' + f'{round(m21_gs_rf_R2_test, 4)}')\n",
    "\n",
    "m21_gs_rf_mse_train = metrics.mean_squared_error(y_train, m21_gs_rf_pred_train)\n",
    "m21_gs_rf_mse_test = metrics.mean_squared_error(y_test, m21_gs_rf_pred_test)\n",
    "print(f'm21_gs_rf_mse_train: {round(m21_gs_rf_mse_train, 4)}')\n",
    "print(f'm21_gs_rf_mse_test:  {round(m21_gs_rf_mse_test, 4)}')\n",
    "\n",
    "m21_gs_rf.best_estimator_"
   ]
  },
  {
   "cell_type": "code",
   "execution_count": 211,
   "id": "04fe9620-27b2-46ba-82e1-6a6b4cd1bb81",
   "metadata": {},
   "outputs": [
    {
     "data": {
      "text/html": [
       "<div>\n",
       "<style scoped>\n",
       "    .dataframe tbody tr th:only-of-type {\n",
       "        vertical-align: middle;\n",
       "    }\n",
       "\n",
       "    .dataframe tbody tr th {\n",
       "        vertical-align: top;\n",
       "    }\n",
       "\n",
       "    .dataframe thead th {\n",
       "        text-align: right;\n",
       "    }\n",
       "</style>\n",
       "<table border=\"1\" class=\"dataframe\">\n",
       "  <thead>\n",
       "    <tr style=\"text-align: right;\">\n",
       "      <th></th>\n",
       "      <th>feature</th>\n",
       "      <th>importance</th>\n",
       "    </tr>\n",
       "  </thead>\n",
       "  <tbody>\n",
       "    <tr>\n",
       "      <th>90</th>\n",
       "      <td>number_of_reviews_ltm</td>\n",
       "      <td>0.156926</td>\n",
       "    </tr>\n",
       "    <tr>\n",
       "      <th>99</th>\n",
       "      <td>price_pred</td>\n",
       "      <td>0.079215</td>\n",
       "    </tr>\n",
       "    <tr>\n",
       "      <th>71</th>\n",
       "      <td>minimum_nights</td>\n",
       "      <td>0.069587</td>\n",
       "    </tr>\n",
       "    <tr>\n",
       "      <th>98</th>\n",
       "      <td>price</td>\n",
       "      <td>0.059911</td>\n",
       "    </tr>\n",
       "    <tr>\n",
       "      <th>100</th>\n",
       "      <td>random</td>\n",
       "      <td>0.056097</td>\n",
       "    </tr>\n",
       "    <tr>\n",
       "      <th>89</th>\n",
       "      <td>number_of_reviews</td>\n",
       "      <td>0.047736</td>\n",
       "    </tr>\n",
       "    <tr>\n",
       "      <th>88</th>\n",
       "      <td>review_scores_value</td>\n",
       "      <td>0.043702</td>\n",
       "    </tr>\n",
       "    <tr>\n",
       "      <th>91</th>\n",
       "      <td>number_of_reviews_l30d</td>\n",
       "      <td>0.038623</td>\n",
       "    </tr>\n",
       "    <tr>\n",
       "      <th>82</th>\n",
       "      <td>review_scores_rating</td>\n",
       "      <td>0.034507</td>\n",
       "    </tr>\n",
       "    <tr>\n",
       "      <th>87</th>\n",
       "      <td>review_scores_location</td>\n",
       "      <td>0.034502</td>\n",
       "    </tr>\n",
       "  </tbody>\n",
       "</table>\n",
       "</div>"
      ],
      "text/plain": [
       "                    feature  importance\n",
       "90    number_of_reviews_ltm    0.156926\n",
       "99               price_pred    0.079215\n",
       "71           minimum_nights    0.069587\n",
       "98                    price    0.059911\n",
       "100                  random    0.056097\n",
       "89        number_of_reviews    0.047736\n",
       "88      review_scores_value    0.043702\n",
       "91   number_of_reviews_l30d    0.038623\n",
       "82     review_scores_rating    0.034507\n",
       "87   review_scores_location    0.034502"
      ]
     },
     "execution_count": 211,
     "metadata": {},
     "output_type": "execute_result"
    }
   ],
   "source": [
    "m21_gs_rf_feature_importance = pd.DataFrame({'feature': m21_gs_rf.best_estimator_['ohe'].get_feature_names(),\n",
    "                                             'importance': m21_gs_rf.best_estimator_['rf'].feature_importances_})\n",
    "\n",
    "m21_gs_rf_feature_importance.to_csv('../Data/m21_gs_rf_feature_importance.csv')\n",
    "m21_gs_rf_feature_importance.sort_values('importance', ascending=False).head(10)"
   ]
  },
  {
   "cell_type": "markdown",
   "id": "794e274c-352d-42b2-8bb9-9e38ad7730e2",
   "metadata": {},
   "source": [
    "**Observation**: \n",
    "1. With the grid search, the R2 of the train set dropped significantly and that of the test set improved a bit. \n",
    "2. The 'random' column is still ranked very high compared to other features."
   ]
  },
  {
   "cell_type": "code",
   "execution_count": 213,
   "id": "10cdeff5-c8f9-4851-a85a-30f3d04e120b",
   "metadata": {},
   "outputs": [],
   "source": [
    "# the top-20 feature list\n",
    "feature_list = m21_pipe_rf_base_feature_importance.sort_values('importance', ascending=False).head(21)['feature']\n",
    "#feature_list = [feature for feature in feature_list if feature != 'random']\n",
    "\n",
    "# create the X_train with only these features\n",
    "ohe = ce.one_hot.OneHotEncoder(use_cat_names=True, handle_unknown='value')\n",
    "X_train_ohe = ohe.fit_transform(X_train)\n",
    "X_train_ohe_top20 = X_train_ohe[feature_list].copy()\n",
    "\n",
    "X_test_ohe = ohe.transform(X_test)\n",
    "X_test_ohe_top20 = X_test_ohe[feature_list].copy()\n"
   ]
  },
  {
   "cell_type": "code",
   "execution_count": 219,
   "id": "7a2db6cf-624e-47c2-9fff-9fa24e6038cf",
   "metadata": {},
   "outputs": [
    {
     "name": "stdout",
     "output_type": "stream",
     "text": [
      "2022-02-05 20:22:56.319213\n",
      "2022-02-05 20:24:19.717411\n"
     ]
    }
   ],
   "source": [
    "m21_pipe_rf_top = Pipeline([\n",
    "    #('ohe', ce.one_hot.OneHotEncoder(use_cat_names=True, handle_unknown='value')),\n",
    "    ('rf', RandomForestRegressor(random_state=42, n_jobs=-1))\n",
    "                     ])\n",
    "\n",
    "m21_pipe_rf_top_params = {\n",
    "    'rf__n_estimators': [400, 800]\n",
    "    ,'rf__max_depth': [4, 8, 12]\n",
    "    ,'rf__min_samples_split': [10, 20]\n",
    "    ,'rf__min_samples_leaf': [5]\n",
    "    #,'rf__ccp_alpha': [0.0, 0.1]\n",
    "    #,'rf__max_features': [15,20]\n",
    "}\n",
    "\n",
    "m21_gs_rf_top = GridSearchCV(m21_pipe_rf_top,\n",
    "                        m21_pipe_rf_top_params,\n",
    "                        cv=5\n",
    "                       )\n",
    "\n",
    "print(datetime.datetime.now())\n",
    "\n",
    "m21_gs_rf_top.fit(X_train_ohe_top, y_train)\n",
    "\n",
    "print(datetime.datetime.now())"
   ]
  },
  {
   "cell_type": "code",
   "execution_count": 222,
   "id": "88a5c63a-7600-489d-ac0a-8261e65d8b3d",
   "metadata": {},
   "outputs": [
    {
     "name": "stdout",
     "output_type": "stream",
     "text": [
      "m21_gs_rf_top_R2_train: 0.5954\n",
      "m21_gs_rf_top_R2_test:  0.1943\n",
      "m21_gs_rf_top_mse_train: 38.336\n",
      "m21_gs_rf_top_mse_test:  75.8488\n"
     ]
    },
    {
     "data": {
      "text/plain": [
       "Pipeline(steps=[('ohe',\n",
       "                 OneHotEncoder(cols=['neighborhood_recoded', 'county',\n",
       "                                     'property_type_recoded', 'bathroom_type'],\n",
       "                               use_cat_names=True)),\n",
       "                ('rf',\n",
       "                 RandomForestRegressor(max_depth=12, max_features=60,\n",
       "                                       min_samples_leaf=5, min_samples_split=10,\n",
       "                                       n_estimators=600, n_jobs=-1,\n",
       "                                       random_state=42))])"
      ]
     },
     "execution_count": 222,
     "metadata": {},
     "output_type": "execute_result"
    }
   ],
   "source": [
    "m21_gs_rf_top_pred_train = m21_gs_rf_top.predict(X_train_ohe_top)\n",
    "m21_gs_rf_top_pred_test = m21_gs_rf_top.predict(X_test_ohe_top)\n",
    "\n",
    "# evaluate\n",
    "m21_gs_rf_top_R2_train = m21_gs_rf_top.score(X_train_ohe_top, y_train)\n",
    "m21_gs_rf_top_R2_test = m21_gs_rf_top.score(X_test_ohe_top, y_test)\n",
    "print('m21_gs_rf_top_R2_train: ' + f'{round(m21_gs_rf_top_R2_train, 4)}')\n",
    "print('m21_gs_rf_top_R2_test:  ' + f'{round(m21_gs_rf_top_R2_test, 4)}')\n",
    "\n",
    "m21_gs_rf_top_mse_train = metrics.mean_squared_error(y_train, m21_gs_rf_top_pred_train)\n",
    "m21_gs_rf_top_mse_test = metrics.mean_squared_error(y_test, m21_gs_rf_top_pred_test)\n",
    "print('m21_gs_rf_top_mse_train: ' + f'{round(m21_gs_rf_top_mse_train, 4)}')\n",
    "print('m21_gs_rf_top_mse_test:  ' + f'{round(m21_gs_rf_top_mse_test, 4)}')\n",
    "\n",
    "m21_gs_rf.best_estimator_"
   ]
  },
  {
   "cell_type": "markdown",
   "id": "66bfe8c4-2002-43ce-bd53-9316a3d40e7b",
   "metadata": {},
   "source": [
    "**Observation**: The performance is worse than without dropping other features."
   ]
  },
  {
   "cell_type": "markdown",
   "id": "5cb44a88-5110-4bc9-9634-89e67f0fbbc0",
   "metadata": {},
   "source": [
    "#### Save (and reload) m2_gs_rf with joblib"
   ]
  },
  {
   "cell_type": "code",
   "execution_count": 253,
   "id": "66a15173-e3d3-4285-882a-4dd0ae0ca25c",
   "metadata": {},
   "outputs": [
    {
     "data": {
      "text/plain": [
       "['../Models/m21_gs_rf_top_joblib_poor.pkl']"
      ]
     },
     "execution_count": 253,
     "metadata": {},
     "output_type": "execute_result"
    }
   ],
   "source": [
    "# import joblib\n",
    "\n",
    "# Save\n",
    "joblib.dump(m21_gs_rf_top, '../Models/m21_gs_rf_top_joblib_poor.pkl')\n",
    "\n",
    "# Reload\n",
    "# m21_gs_rf_top_joblib = joblib.load(m21_gs_rf_top_joblib_filename)\n",
    "\n",
    "# Predict & Evaluate\n",
    "# m21_gs_rf_top_joblib_pred_test = m21_gs_rf_top_joblib.predict(X_test)\n",
    "# round(m21_gs_rf_top_joblib.score(X_test_ohe_top, y_test), 4)"
   ]
  },
  {
   "cell_type": "markdown",
   "id": "1d4b01a4-2429-4445-a462-3c78cea933aa",
   "metadata": {},
   "source": [
    "### XGBoost tree regressor"
   ]
  },
  {
   "cell_type": "markdown",
   "id": "8595ec23-78c6-4917-8640-9edffde05870",
   "metadata": {},
   "source": [
    "#### Baseline - default parameter values"
   ]
  },
  {
   "cell_type": "code",
   "execution_count": 226,
   "id": "a4d3c4c8-af94-4cc6-a45b-774c68828c0b",
   "metadata": {},
   "outputs": [
    {
     "name": "stdout",
     "output_type": "stream",
     "text": [
      "m21_pipe_xgb_base_R2_train:  0.8724\n",
      "m21_pipe_xgb_base_R2_test:  0.1896\n",
      "m21_pipe_xgb_base_mse_train 12.0858\n",
      "m21_pipe_xgb_base_mse_test 76.2892\n"
     ]
    }
   ],
   "source": [
    "# Baseline model\n",
    "m21_pipe_xgb_base = Pipeline([\n",
    "    ('ohe', ce.one_hot.OneHotEncoder(use_cat_names=True, handle_unknown='value')),\n",
    "    ('xgb', XGBRegressor(max_depth=6, n_estimators=100, random_state=42, n_jobs=-1)) # by default, max_depth is 6, \n",
    "])\n",
    "\n",
    "m21_pipe_xgb_base.fit(X_train, y_train)\n",
    "m21_pipe_xgb_base_pred_train = m21_pipe_xgb_base.predict(X_train)\n",
    "m21_pipe_xgb_base_pred_test = m21_pipe_xgb_base.predict(X_test)\n",
    "\n",
    "m21_pipe_xgb_base_R2_train = m21_pipe_xgb_base.score(X_train, y_train)\n",
    "m21_pipe_xgb_base_R2_test = m21_pipe_xgb_base.score(X_test, y_test)\n",
    "print('m21_pipe_xgb_base_R2_train: ', round(m21_pipe_xgb_base_R2_train, 4))\n",
    "print('m21_pipe_xgb_base_R2_test: ', round(m21_pipe_xgb_base_R2_test, 4))\n",
    "\n",
    "m21_pipe_xgb_base_mse_train = metrics.mean_squared_error(y_train, m21_pipe_xgb_base_pred_train)\n",
    "m21_pipe_xgb_base_mse_test = metrics.mean_squared_error(y_test, m21_pipe_xgb_base_pred_test)\n",
    "print('m21_pipe_xgb_base_mse_train', round(m21_pipe_xgb_base_mse_train, 4))\n",
    "print('m21_pipe_xgb_base_mse_test', round(m21_pipe_xgb_base_mse_test, 4))"
   ]
  },
  {
   "cell_type": "code",
   "execution_count": 229,
   "id": "ece13ce4-8ccf-4045-9751-9b44d960dc86",
   "metadata": {},
   "outputs": [
    {
     "data": {
      "text/html": [
       "<div>\n",
       "<style scoped>\n",
       "    .dataframe tbody tr th:only-of-type {\n",
       "        vertical-align: middle;\n",
       "    }\n",
       "\n",
       "    .dataframe tbody tr th {\n",
       "        vertical-align: top;\n",
       "    }\n",
       "\n",
       "    .dataframe thead th {\n",
       "        text-align: right;\n",
       "    }\n",
       "</style>\n",
       "<table border=\"1\" class=\"dataframe\">\n",
       "  <thead>\n",
       "    <tr style=\"text-align: right;\">\n",
       "      <th></th>\n",
       "      <th>feature</th>\n",
       "      <th>importance</th>\n",
       "    </tr>\n",
       "  </thead>\n",
       "  <tbody>\n",
       "    <tr>\n",
       "      <th>96</th>\n",
       "      <td>host_acceptance_rate_f</td>\n",
       "      <td>0.064385</td>\n",
       "    </tr>\n",
       "    <tr>\n",
       "      <th>90</th>\n",
       "      <td>number_of_reviews_ltm</td>\n",
       "      <td>0.039708</td>\n",
       "    </tr>\n",
       "    <tr>\n",
       "      <th>46</th>\n",
       "      <td>county_San Francisco</td>\n",
       "      <td>0.027775</td>\n",
       "    </tr>\n",
       "    <tr>\n",
       "      <th>54</th>\n",
       "      <td>property_type_recoded_Room in boutique hotel</td>\n",
       "      <td>0.023661</td>\n",
       "    </tr>\n",
       "    <tr>\n",
       "      <th>71</th>\n",
       "      <td>minimum_nights</td>\n",
       "      <td>0.022754</td>\n",
       "    </tr>\n",
       "    <tr>\n",
       "      <th>81</th>\n",
       "      <td>Pool</td>\n",
       "      <td>0.022229</td>\n",
       "    </tr>\n",
       "    <tr>\n",
       "      <th>17</th>\n",
       "      <td>neighborhood_recoded_Inner Sunset</td>\n",
       "      <td>0.017947</td>\n",
       "    </tr>\n",
       "    <tr>\n",
       "      <th>78</th>\n",
       "      <td>Outdoor_furniture</td>\n",
       "      <td>0.017756</td>\n",
       "    </tr>\n",
       "    <tr>\n",
       "      <th>91</th>\n",
       "      <td>number_of_reviews_l30d</td>\n",
       "      <td>0.017446</td>\n",
       "    </tr>\n",
       "    <tr>\n",
       "      <th>69</th>\n",
       "      <td>bathroom_type_shared</td>\n",
       "      <td>0.017318</td>\n",
       "    </tr>\n",
       "  </tbody>\n",
       "</table>\n",
       "</div>"
      ],
      "text/plain": [
       "                                         feature  importance\n",
       "96                        host_acceptance_rate_f    0.064385\n",
       "90                         number_of_reviews_ltm    0.039708\n",
       "46                          county_San Francisco    0.027775\n",
       "54  property_type_recoded_Room in boutique hotel    0.023661\n",
       "71                                minimum_nights    0.022754\n",
       "81                                          Pool    0.022229\n",
       "17             neighborhood_recoded_Inner Sunset    0.017947\n",
       "78                             Outdoor_furniture    0.017756\n",
       "91                        number_of_reviews_l30d    0.017446\n",
       "69                          bathroom_type_shared    0.017318"
      ]
     },
     "execution_count": 229,
     "metadata": {},
     "output_type": "execute_result"
    }
   ],
   "source": [
    "# feature importance\n",
    "m21_pipe_xgb_base_feature_importance = pd.DataFrame({'feature': m21_pipe_xgb_base['ohe'].get_feature_names(),\n",
    "                                             'importance': m21_pipe_xgb_base['xgb'].feature_importances_})\n",
    "\n",
    "m21_pipe_xgb_base_feature_importance.to_csv('../Data/m21_pipe_xgb_base_feature_importance.csv')\n",
    "m21_pipe_xgb_base_feature_importance.sort_values('importance', ascending=False).head(10)\n",
    "\n",
    "# There are 32 features that are more important than 'random'."
   ]
  },
  {
   "cell_type": "code",
   "execution_count": 231,
   "id": "a15a88c7-d430-431a-98ce-bff840f1f12f",
   "metadata": {},
   "outputs": [
    {
     "name": "stdout",
     "output_type": "stream",
     "text": [
      "2022-02-05 20:52:04.158889\n",
      "2022-02-05 20:52:05.378615\n",
      "\n",
      "m21_pipe_xgb_base_top_R2_train:  0.3691\n",
      "m21_pipe_xgb_base_top_R2_test:  0.2109\n",
      "m21_pipe_xgb_base_top_mse_train 59.7736\n",
      "m21_pipe_xgb_base_top_mse_test 74.2844\n"
     ]
    }
   ],
   "source": [
    "# the top32 feature list\n",
    "feature_list = m21_pipe_xgb_base_feature_importance.sort_values('importance', ascending=False).head(33)['feature']\n",
    "#feature_list = [feature for feature in feature_list if feature != 'random']\n",
    "\n",
    "# create the X_train with only these features\n",
    "ohe = ce.one_hot.OneHotEncoder(use_cat_names=True, handle_unknown='value')\n",
    "X_train_ohe = ohe.fit_transform(X_train)\n",
    "X_train_ohe_top = X_train_ohe[feature_list].copy()\n",
    "\n",
    "X_test_ohe = ohe.transform(X_test)\n",
    "X_test_ohe_top = X_test_ohe[feature_list].copy()\n",
    "\n",
    "\n",
    "# try this model\n",
    "m21_pipe_xgb_base_top = Pipeline([\n",
    "    #('ohe', ce.one_hot.OneHotEncoder(use_cat_names=True, handle_unknown='value')),\n",
    "    ('xgb', XGBRegressor(n_estimators=300, max_depth=4, eta=0.05, reg_lambda=50, reg_alpha=50,random_state=42, n_jobs=-1))\n",
    "])\n",
    "\n",
    "# train model\n",
    "print(datetime.datetime.now())\n",
    "m21_pipe_xgb_base_top.fit(X_train_ohe_top, y_train)\n",
    "print(datetime.datetime.now())\n",
    "print()\n",
    "\n",
    "# predict\n",
    "m21_pipe_xgb_base_top_pred_train = m21_pipe_xgb_base_top.predict(X_train_ohe_top)\n",
    "m21_pipe_xgb_base_top_pred_test = m21_pipe_xgb_base_top.predict(X_test_ohe_top)\n",
    "\n",
    "# evaluate\n",
    "m21_pipe_xgb_base_top_R2_train = m21_pipe_xgb_base_top.score(X_train_ohe_top, y_train)\n",
    "m21_pipe_xgb_base_top_R2_test = m21_pipe_xgb_base_top.score(X_test_ohe_top, y_test)\n",
    "print('m21_pipe_xgb_base_top_R2_train: ', round(m21_pipe_xgb_base_top_R2_train, 4))\n",
    "print('m21_pipe_xgb_base_top_R2_test: ', round(m21_pipe_xgb_base_top_R2_test, 4))\n",
    "\n",
    "m21_pipe_xgb_base_top_mse_train = metrics.mean_squared_error(y_train, m21_pipe_xgb_base_top_pred_train)\n",
    "m21_pipe_xgb_base_top_mse_test = metrics.mean_squared_error(y_test, m21_pipe_xgb_base_top_pred_test)\n",
    "print('m21_pipe_xgb_base_top_mse_train', round(m21_pipe_xgb_base_top_mse_train, 4))\n",
    "print('m21_pipe_xgb_base_top_mse_test', round(m21_pipe_xgb_base_top_mse_test, 4))"
   ]
  },
  {
   "cell_type": "markdown",
   "id": "1b96c0d6-d412-452e-a8cf-a7636462aa6f",
   "metadata": {},
   "source": [
    "**Observation**: Keeping only the top 32 features reduced the overfitting significantly, though the model's R2 is still low."
   ]
  },
  {
   "cell_type": "markdown",
   "id": "085b9bd8-201a-4f88-8b37-9e1d3aa2875e",
   "metadata": {},
   "source": [
    "#### GridSearchCV"
   ]
  },
  {
   "cell_type": "code",
   "execution_count": 232,
   "id": "8623782b-0917-4c4b-bf31-ac8df2ff767f",
   "metadata": {},
   "outputs": [
    {
     "name": "stdout",
     "output_type": "stream",
     "text": [
      "2022-02-05 20:56:24.813959\n",
      "2022-02-05 21:40:05.303547\n",
      "m21_gs_xgb_R2_train: 0.5992030080772492\n",
      "m21_gs_xgb_R2_test: 0.22864507966221648\n",
      "m21_gs_xgb_mse_train: 37.975321717810075\n",
      "m21_gs_xgb_mse_test: 72.61211422384899\n"
     ]
    },
    {
     "data": {
      "text/plain": [
       "Pipeline(steps=[('ohe',\n",
       "                 OneHotEncoder(cols=['neighborhood_recoded', 'county',\n",
       "                                     'property_type_recoded', 'bathroom_type'],\n",
       "                               use_cat_names=True)),\n",
       "                ('xgb',\n",
       "                 XGBRegressor(base_score=0.5, booster='gbtree',\n",
       "                              colsample_bylevel=1, colsample_bynode=1,\n",
       "                              colsample_bytree=1, enable_categorical=False,\n",
       "                              eta=0.03, gamma=0, gpu_id=-1,\n",
       "                              importance_type=None, interaction_constraints='',\n",
       "                              learning_rate=0.0299999993, max_delta_step=0,\n",
       "                              max_depth=8, min_child_weight=1, missing=nan,\n",
       "                              monotone_constraints='()', n_estimators=300,\n",
       "                              n_jobs=-1, num_parallel_tree=1, predictor='auto',\n",
       "                              random_state=42, reg_alpha=30, reg_lambda=50,\n",
       "                              scale_pos_weight=1, subsample=1,\n",
       "                              tree_method='exact', validate_parameters=1,\n",
       "                              verbosity=None))])"
      ]
     },
     "execution_count": 232,
     "metadata": {},
     "output_type": "execute_result"
    }
   ],
   "source": [
    "# build the model\n",
    "m21_pipe_xgb = Pipeline([\n",
    "    ('ohe', ce.one_hot.OneHotEncoder(use_cat_names=True, handle_unknown='value')),\n",
    "    ('xgb', XGBRegressor(random_state=42, n_jobs=-1))\n",
    "])\n",
    "\n",
    "m21_pipe_xgb_params = {\n",
    "    #'xgb__booster': ['gbtree','gblinear'],\n",
    "    'xgb__n_estimators': [300, 400],\n",
    "    'xgb__eta': [0.01, 0.03, 0.05],\n",
    "    'xgb__reg_alpha': [30, 40, 50],\n",
    "    'xgb__reg_lambda': [30, 40, 50],\n",
    "    'xgb__max_depth': [4,6,8],\n",
    "}\n",
    "\n",
    "m21_gs_xgb = GridSearchCV(m21_pipe_xgb,\n",
    "                         m21_pipe_xgb_params, \n",
    "                         cv = 5)\n",
    "\n",
    "# train the model\n",
    "print(datetime.datetime.now())\n",
    "m21_gs_xgb.fit(X_train, y_train)\n",
    "print(datetime.datetime.now())\n",
    "\n",
    "# predict\n",
    "m21_gs_xgb_pred_train = m21_gs_xgb.predict(X_train)\n",
    "m21_gs_xgb_pred_test = m21_gs_xgb.predict(X_test)\n",
    "\n",
    "# evaluate\n",
    "m21_gs_xgb_R2_train = m21_gs_xgb.score(X_train, y_train)\n",
    "m21_gs_xgb_R2_test = m21_gs_xgb.score(X_test, y_test)\n",
    "print(f'm21_gs_xgb_R2_train: {round(m21_gs_xgb_R2_train, 4)}')\n",
    "print(f'm21_gs_xgb_R2_test: {round(m21_gs_xgb_R2_test, 4)}')\n",
    "\n",
    "m21_gs_xgb_mse_train = metrics.mean_squared_error(y_train, m21_gs_xgb_pred_train)\n",
    "m21_gs_xgb_mse_test = metrics.mean_squared_error(y_test, m21_gs_xgb_pred_test)\n",
    "print(f'm21_gs_xgb_mse_train: {round(m21_gs_xgb_mse_train, 4)}')\n",
    "print(f'm21_gs_xgb_mse_test: {round(m21_gs_xgb_mse_test)}')\n",
    "\n",
    "m21_gs_xgb.best_estimator_"
   ]
  },
  {
   "cell_type": "code",
   "execution_count": 233,
   "id": "cdf9713b-2f6e-4a9b-adc1-e53e16f41497",
   "metadata": {},
   "outputs": [
    {
     "data": {
      "text/html": [
       "<div>\n",
       "<style scoped>\n",
       "    .dataframe tbody tr th:only-of-type {\n",
       "        vertical-align: middle;\n",
       "    }\n",
       "\n",
       "    .dataframe tbody tr th {\n",
       "        vertical-align: top;\n",
       "    }\n",
       "\n",
       "    .dataframe thead th {\n",
       "        text-align: right;\n",
       "    }\n",
       "</style>\n",
       "<table border=\"1\" class=\"dataframe\">\n",
       "  <thead>\n",
       "    <tr style=\"text-align: right;\">\n",
       "      <th></th>\n",
       "      <th>feature</th>\n",
       "      <th>importance</th>\n",
       "    </tr>\n",
       "  </thead>\n",
       "  <tbody>\n",
       "    <tr>\n",
       "      <th>90</th>\n",
       "      <td>number_of_reviews_ltm</td>\n",
       "      <td>0.037494</td>\n",
       "    </tr>\n",
       "    <tr>\n",
       "      <th>96</th>\n",
       "      <td>host_acceptance_rate_f</td>\n",
       "      <td>0.036391</td>\n",
       "    </tr>\n",
       "    <tr>\n",
       "      <th>69</th>\n",
       "      <td>bathroom_type_shared</td>\n",
       "      <td>0.028763</td>\n",
       "    </tr>\n",
       "    <tr>\n",
       "      <th>17</th>\n",
       "      <td>neighborhood_recoded_Inner Sunset</td>\n",
       "      <td>0.026583</td>\n",
       "    </tr>\n",
       "    <tr>\n",
       "      <th>51</th>\n",
       "      <td>property_type_recoded_Entire rental unit</td>\n",
       "      <td>0.023729</td>\n",
       "    </tr>\n",
       "    <tr>\n",
       "      <th>46</th>\n",
       "      <td>county_San Francisco</td>\n",
       "      <td>0.020582</td>\n",
       "    </tr>\n",
       "    <tr>\n",
       "      <th>52</th>\n",
       "      <td>property_type_recoded_Entire guest suite</td>\n",
       "      <td>0.019846</td>\n",
       "    </tr>\n",
       "    <tr>\n",
       "      <th>71</th>\n",
       "      <td>minimum_nights</td>\n",
       "      <td>0.019076</td>\n",
       "    </tr>\n",
       "    <tr>\n",
       "      <th>63</th>\n",
       "      <td>property_type_recoded_Entire serviced apartment</td>\n",
       "      <td>0.016880</td>\n",
       "    </tr>\n",
       "    <tr>\n",
       "      <th>27</th>\n",
       "      <td>neighborhood_recoded_Noe Valley</td>\n",
       "      <td>0.016133</td>\n",
       "    </tr>\n",
       "    <tr>\n",
       "      <th>54</th>\n",
       "      <td>property_type_recoded_Room in boutique hotel</td>\n",
       "      <td>0.015753</td>\n",
       "    </tr>\n",
       "    <tr>\n",
       "      <th>5</th>\n",
       "      <td>neighborhood_recoded_Potrero Hill</td>\n",
       "      <td>0.015606</td>\n",
       "    </tr>\n",
       "    <tr>\n",
       "      <th>91</th>\n",
       "      <td>number_of_reviews_l30d</td>\n",
       "      <td>0.015459</td>\n",
       "    </tr>\n",
       "    <tr>\n",
       "      <th>39</th>\n",
       "      <td>neighborhood_recoded_Outer Sunset</td>\n",
       "      <td>0.014399</td>\n",
       "    </tr>\n",
       "    <tr>\n",
       "      <th>99</th>\n",
       "      <td>price_pred</td>\n",
       "      <td>0.013922</td>\n",
       "    </tr>\n",
       "    <tr>\n",
       "      <th>25</th>\n",
       "      <td>neighborhood_recoded_Parkside</td>\n",
       "      <td>0.013462</td>\n",
       "    </tr>\n",
       "    <tr>\n",
       "      <th>42</th>\n",
       "      <td>neighborhood_recoded_Inner Richmond</td>\n",
       "      <td>0.013441</td>\n",
       "    </tr>\n",
       "    <tr>\n",
       "      <th>61</th>\n",
       "      <td>property_type_recoded_Entire loft</td>\n",
       "      <td>0.013287</td>\n",
       "    </tr>\n",
       "    <tr>\n",
       "      <th>53</th>\n",
       "      <td>property_type_recoded_Entire condominium (condo)</td>\n",
       "      <td>0.013101</td>\n",
       "    </tr>\n",
       "    <tr>\n",
       "      <th>49</th>\n",
       "      <td>property_type_recoded_Entire residential home</td>\n",
       "      <td>0.013040</td>\n",
       "    </tr>\n",
       "  </tbody>\n",
       "</table>\n",
       "</div>"
      ],
      "text/plain": [
       "                                             feature  importance\n",
       "90                             number_of_reviews_ltm    0.037494\n",
       "96                            host_acceptance_rate_f    0.036391\n",
       "69                              bathroom_type_shared    0.028763\n",
       "17                 neighborhood_recoded_Inner Sunset    0.026583\n",
       "51          property_type_recoded_Entire rental unit    0.023729\n",
       "46                              county_San Francisco    0.020582\n",
       "52          property_type_recoded_Entire guest suite    0.019846\n",
       "71                                    minimum_nights    0.019076\n",
       "63   property_type_recoded_Entire serviced apartment    0.016880\n",
       "27                   neighborhood_recoded_Noe Valley    0.016133\n",
       "54      property_type_recoded_Room in boutique hotel    0.015753\n",
       "5                  neighborhood_recoded_Potrero Hill    0.015606\n",
       "91                            number_of_reviews_l30d    0.015459\n",
       "39                 neighborhood_recoded_Outer Sunset    0.014399\n",
       "99                                        price_pred    0.013922\n",
       "25                     neighborhood_recoded_Parkside    0.013462\n",
       "42               neighborhood_recoded_Inner Richmond    0.013441\n",
       "61                 property_type_recoded_Entire loft    0.013287\n",
       "53  property_type_recoded_Entire condominium (condo)    0.013101\n",
       "49     property_type_recoded_Entire residential home    0.013040"
      ]
     },
     "execution_count": 233,
     "metadata": {},
     "output_type": "execute_result"
    }
   ],
   "source": [
    "# feature importance\n",
    "m21_gs_xgb_feature_importance = pd.DataFrame({'feature': m21_gs_xgb.best_estimator_['ohe'].get_feature_names(),\n",
    "                                         'importance': m21_gs_xgb.best_estimator_['xgb'].feature_importances_})\n",
    "\n",
    "m21_gs_xgb_feature_importance.to_csv('../Data/m21_gs_xgb_feature_importance.csv')\n",
    "m21_gs_xgb_feature_importance.sort_values('importance', ascending=False).head(20)\n",
    "\n",
    "# There are 47 features that are more important than the 'random' column"
   ]
  },
  {
   "cell_type": "code",
   "execution_count": 234,
   "id": "9aa0964b-1d54-4b00-9035-5c4313efdcf2",
   "metadata": {},
   "outputs": [
    {
     "name": "stdout",
     "output_type": "stream",
     "text": [
      "2022-02-05 22:25:21.049141\n",
      "2022-02-05 22:55:20.089449\n",
      "m21_gs_xgb_top_R2_train: 0.4759\n",
      "m21_gs_xgb_top_R2_test:  0.2184\n",
      "m21_gs_xgb_top_mse_train: 49.6594\n",
      "m21_gs_xgb_top_mse_test:  73.5768\n"
     ]
    },
    {
     "data": {
      "text/plain": [
       "Pipeline(steps=[('ohe',\n",
       "                 OneHotEncoder(cols=['neighborhood_recoded', 'county',\n",
       "                                     'property_type_recoded', 'bathroom_type'],\n",
       "                               use_cat_names=True)),\n",
       "                ('xgb',\n",
       "                 XGBRegressor(base_score=0.5, booster='gbtree',\n",
       "                              colsample_bylevel=1, colsample_bynode=1,\n",
       "                              colsample_bytree=1, enable_categorical=False,\n",
       "                              eta=0.03, gamma=0, gpu_id=-1,\n",
       "                              importance_type=None, interaction_constraints='',\n",
       "                              learning_rate=0.0299999993, max_delta_step=0,\n",
       "                              max_depth=8, min_child_weight=1, missing=nan,\n",
       "                              monotone_constraints='()', n_estimators=300,\n",
       "                              n_jobs=-1, num_parallel_tree=1, predictor='auto',\n",
       "                              random_state=42, reg_alpha=30, reg_lambda=50,\n",
       "                              scale_pos_weight=1, subsample=1,\n",
       "                              tree_method='exact', validate_parameters=1,\n",
       "                              verbosity=None))])"
      ]
     },
     "execution_count": 234,
     "metadata": {},
     "output_type": "execute_result"
    }
   ],
   "source": [
    "# retrain the model with the top 45 features\n",
    "\n",
    "# the top-45feature list\n",
    "feature_list = m21_gs_xgb_feature_importance.sort_values('importance', ascending=False).head(46)['feature']\n",
    "#feature_list = [feature for feature in feature_list if feature != 'random']\n",
    "\n",
    "# create the X_train with only these features\n",
    "ohe = ce.one_hot.OneHotEncoder(use_cat_names=True, handle_unknown='value')\n",
    "X_train_ohe = ohe.fit_transform(X_train)\n",
    "X_train_ohe_top = X_train_ohe[feature_list].copy()\n",
    "\n",
    "X_test_ohe = ohe.transform(X_test)\n",
    "X_test_ohe_top = X_test_ohe[feature_list].copy()\n",
    "\n",
    "# build the model\n",
    "m21_pipe_xgb_top = Pipeline([\n",
    "    #('ohe', ce.one_hot.OneHotEncoder(use_cat_names=True, handle_unknown='value')),\n",
    "    ('xgb', XGBRegressor(random_state=42, n_jobs=-1))\n",
    "                     ])\n",
    "\n",
    "m21_gs_xgb_top_params = {\n",
    "    #'xgb__booster': ['gbtree','gblinear'],\n",
    "    'xgb__n_estimators': [300, 400],\n",
    "    'xgb__eta': [0.01, 0.03, 0.05],\n",
    "    'xgb__reg_alpha': [30, 40, 50],\n",
    "    'xgb__reg_lambda': [30, 40, 50],\n",
    "    'xgb__max_depth': [4,6,8],\n",
    "}\n",
    "\n",
    "m21_gs_xgb_top = GridSearchCV(m21_pipe_xgb_top,\n",
    "                        m21_gs_xgb_top_params,\n",
    "                        cv=5\n",
    "                       )\n",
    "\n",
    "# train the model\n",
    "print(datetime.datetime.now())\n",
    "m21_gs_xgb_top.fit(X_train_ohe_top, y_train)\n",
    "print(datetime.datetime.now())\n",
    "\n",
    "# predict\n",
    "m21_gs_xgb_top_pred_train = m21_gs_xgb_top.predict(X_train_ohe_top)\n",
    "m21_gs_xgb_top_pred_test = m21_gs_xgb_top.predict(X_test_ohe_top)\n",
    "\n",
    "# evaluate\n",
    "m21_gs_xgb_top_R2_train = m21_gs_xgb_top.score(X_train_ohe_top, y_train)\n",
    "m21_gs_xgb_top_R2_test = m21_gs_xgb_top.score(X_test_ohe_top, y_test)\n",
    "print(f'm21_gs_xgb_top_R2_train: {round(m21_gs_xgb_top_R2_train, 4)}')\n",
    "print(f'm21_gs_xgb_top_R2_test:  {round(m21_gs_xgb_top_R2_test, 4)}')\n",
    "\n",
    "m21_gs_xgb_top_mse_train = metrics.mean_squared_error(y_train, m21_gs_xgb_top_pred_train)\n",
    "m21_gs_xgb_top_mse_test = metrics.mean_squared_error(y_test, m21_gs_xgb_top_pred_test)\n",
    "print(f'm21_gs_xgb_top_mse_train: {round(m21_gs_xgb_top_mse_train, 4)}')\n",
    "print(f'm21_gs_xgb_top_mse_test:  {round(m21_gs_xgb_top_mse_test, 4)}')\n",
    "\n",
    "m21_gs_xgb.best_estimator_"
   ]
  },
  {
   "cell_type": "code",
   "execution_count": 239,
   "id": "0bcdc39b-ed86-411b-84dd-c33268f706d0",
   "metadata": {},
   "outputs": [
    {
     "data": {
      "text/html": [
       "<div>\n",
       "<style scoped>\n",
       "    .dataframe tbody tr th:only-of-type {\n",
       "        vertical-align: middle;\n",
       "    }\n",
       "\n",
       "    .dataframe tbody tr th {\n",
       "        vertical-align: top;\n",
       "    }\n",
       "\n",
       "    .dataframe thead th {\n",
       "        text-align: right;\n",
       "    }\n",
       "</style>\n",
       "<table border=\"1\" class=\"dataframe\">\n",
       "  <thead>\n",
       "    <tr style=\"text-align: right;\">\n",
       "      <th></th>\n",
       "      <th>feature</th>\n",
       "      <th>importance</th>\n",
       "    </tr>\n",
       "  </thead>\n",
       "  <tbody>\n",
       "    <tr>\n",
       "      <th>0</th>\n",
       "      <td>number_of_reviews_ltm</td>\n",
       "      <td>0.049890</td>\n",
       "    </tr>\n",
       "    <tr>\n",
       "      <th>3</th>\n",
       "      <td>neighborhood_recoded_Inner Sunset</td>\n",
       "      <td>0.047151</td>\n",
       "    </tr>\n",
       "    <tr>\n",
       "      <th>9</th>\n",
       "      <td>neighborhood_recoded_Noe Valley</td>\n",
       "      <td>0.039267</td>\n",
       "    </tr>\n",
       "    <tr>\n",
       "      <th>6</th>\n",
       "      <td>property_type_recoded_Entire guest suite</td>\n",
       "      <td>0.036121</td>\n",
       "    </tr>\n",
       "    <tr>\n",
       "      <th>1</th>\n",
       "      <td>host_acceptance_rate_f</td>\n",
       "      <td>0.035590</td>\n",
       "    </tr>\n",
       "    <tr>\n",
       "      <th>2</th>\n",
       "      <td>bathroom_type_shared</td>\n",
       "      <td>0.029771</td>\n",
       "    </tr>\n",
       "    <tr>\n",
       "      <th>5</th>\n",
       "      <td>county_San Francisco</td>\n",
       "      <td>0.029675</td>\n",
       "    </tr>\n",
       "    <tr>\n",
       "      <th>10</th>\n",
       "      <td>property_type_recoded_Room in boutique hotel</td>\n",
       "      <td>0.029211</td>\n",
       "    </tr>\n",
       "    <tr>\n",
       "      <th>4</th>\n",
       "      <td>property_type_recoded_Entire rental unit</td>\n",
       "      <td>0.029119</td>\n",
       "    </tr>\n",
       "    <tr>\n",
       "      <th>7</th>\n",
       "      <td>minimum_nights</td>\n",
       "      <td>0.027434</td>\n",
       "    </tr>\n",
       "    <tr>\n",
       "      <th>11</th>\n",
       "      <td>neighborhood_recoded_Potrero Hill</td>\n",
       "      <td>0.026517</td>\n",
       "    </tr>\n",
       "    <tr>\n",
       "      <th>19</th>\n",
       "      <td>property_type_recoded_Entire residential home</td>\n",
       "      <td>0.024776</td>\n",
       "    </tr>\n",
       "    <tr>\n",
       "      <th>12</th>\n",
       "      <td>number_of_reviews_l30d</td>\n",
       "      <td>0.024567</td>\n",
       "    </tr>\n",
       "    <tr>\n",
       "      <th>16</th>\n",
       "      <td>neighborhood_recoded_Inner Richmond</td>\n",
       "      <td>0.023777</td>\n",
       "    </tr>\n",
       "    <tr>\n",
       "      <th>41</th>\n",
       "      <td>neighborhood_recoded_Excelsior</td>\n",
       "      <td>0.022328</td>\n",
       "    </tr>\n",
       "  </tbody>\n",
       "</table>\n",
       "</div>"
      ],
      "text/plain": [
       "                                          feature  importance\n",
       "0                           number_of_reviews_ltm    0.049890\n",
       "3               neighborhood_recoded_Inner Sunset    0.047151\n",
       "9                 neighborhood_recoded_Noe Valley    0.039267\n",
       "6        property_type_recoded_Entire guest suite    0.036121\n",
       "1                          host_acceptance_rate_f    0.035590\n",
       "2                            bathroom_type_shared    0.029771\n",
       "5                            county_San Francisco    0.029675\n",
       "10   property_type_recoded_Room in boutique hotel    0.029211\n",
       "4        property_type_recoded_Entire rental unit    0.029119\n",
       "7                                  minimum_nights    0.027434\n",
       "11              neighborhood_recoded_Potrero Hill    0.026517\n",
       "19  property_type_recoded_Entire residential home    0.024776\n",
       "12                         number_of_reviews_l30d    0.024567\n",
       "16            neighborhood_recoded_Inner Richmond    0.023777\n",
       "41                 neighborhood_recoded_Excelsior    0.022328"
      ]
     },
     "execution_count": 239,
     "metadata": {},
     "output_type": "execute_result"
    }
   ],
   "source": [
    "# feature importance\n",
    "m21_gs_xgb_top_feature_importance = pd.DataFrame({'feature': X_train_ohe_top.columns,\n",
    "                                         'importance': m21_gs_xgb_top.best_estimator_['xgb'].feature_importances_})\n",
    "\n",
    "m21_gs_xgb_top_feature_importance.to_csv('../Data/m21_gs_xgb_top_feature_importance.csv')\n",
    "m21_gs_xgb_top_feature_importance.sort_values('importance', ascending=False).head(15)"
   ]
  },
  {
   "cell_type": "markdown",
   "id": "e4649eae-c16f-496d-8390-60bb6a633b08",
   "metadata": {},
   "source": [
    "#### Save m21_gs_xgb with joblib"
   ]
  },
  {
   "cell_type": "code",
   "execution_count": 254,
   "id": "af14a64d-d0d5-41af-a389-9673688e732f",
   "metadata": {},
   "outputs": [
    {
     "data": {
      "text/plain": [
       "['../Models/m21_gs_xgb_top_joblib.pkl']"
      ]
     },
     "execution_count": 254,
     "metadata": {},
     "output_type": "execute_result"
    }
   ],
   "source": [
    "# import joblib\n",
    "\n",
    "# save m21_gs_rf\n",
    "joblib.dump(m21_gs_xgb, '../Models/m21_gs_xgb_joblib.pkl')\n",
    "joblib.dump(m21_gs_xgb_top, '../Models/m21_gs_xgb_top_joblib.pkl')\n",
    "\n",
    "# reload \n",
    "#m21_gs_xgb_joblib = joblib.load(m21_gs_xgb_joblib_filename)\n",
    "# m21_gs_xgb_joblib\n",
    "\n",
    "# predict & evaluate\n",
    "#m21_gs_xgb_joblib_pred_test = m21_gs_xgb_joblib.predict(X_test)\n",
    "#round(m21_gs_xgb_joblib.score(X_test, y_test), 4)"
   ]
  },
  {
   "cell_type": "markdown",
   "id": "6b258550-5ed5-439f-a937-975caf2105b3",
   "metadata": {},
   "source": [
    "## Predict with input data"
   ]
  },
  {
   "cell_type": "code",
   "execution_count": 243,
   "id": "502b6ac0-e9e0-4800-8efe-a5ea58ba4241",
   "metadata": {},
   "outputs": [
    {
     "name": "stdout",
     "output_type": "stream",
     "text": [
      "shape of the input data after ohe: (1, 35)\n",
      "shape of the required input data: (1, 46)\n",
      "shape of useful input data: (1, 21))\n",
      "shape of the fillin data (to meet the model requirement): (1, 25)\n",
      "the shape of the input data ready for modeling: (1, 46)\n"
     ]
    },
    {
     "data": {
      "text/html": [
       "<div>\n",
       "<style scoped>\n",
       "    .dataframe tbody tr th:only-of-type {\n",
       "        vertical-align: middle;\n",
       "    }\n",
       "\n",
       "    .dataframe tbody tr th {\n",
       "        vertical-align: top;\n",
       "    }\n",
       "\n",
       "    .dataframe thead th {\n",
       "        text-align: right;\n",
       "    }\n",
       "</style>\n",
       "<table border=\"1\" class=\"dataframe\">\n",
       "  <thead>\n",
       "    <tr style=\"text-align: right;\">\n",
       "      <th></th>\n",
       "      <th>number_of_reviews_ltm</th>\n",
       "      <th>host_acceptance_rate_f</th>\n",
       "      <th>county_San Francisco</th>\n",
       "      <th>minimum_nights</th>\n",
       "      <th>number_of_reviews_l30d</th>\n",
       "      <th>property_type_recoded_Entire residential home</th>\n",
       "      <th>Patio_or_balcony</th>\n",
       "      <th>review_scores_accuracy</th>\n",
       "      <th>review_scores_value</th>\n",
       "      <th>bedrooms</th>\n",
       "      <th>...</th>\n",
       "      <th>property_type_recoded_Entire serviced apartment</th>\n",
       "      <th>property_type_recoded_Entire loft</th>\n",
       "      <th>neighborhood_recoded_Outer Richmond</th>\n",
       "      <th>neighborhood_recoded_Bernal Heights</th>\n",
       "      <th>neighborhood_recoded_Inner Sunset</th>\n",
       "      <th>property_type_recoded_Shared room in residential home</th>\n",
       "      <th>county_Santa Clara</th>\n",
       "      <th>property_type_recoded_Entire rental unit</th>\n",
       "      <th>neighborhood_recoded_Parkside</th>\n",
       "      <th>neighborhood_recoded_Redwood City</th>\n",
       "    </tr>\n",
       "  </thead>\n",
       "  <tbody>\n",
       "    <tr>\n",
       "      <th>0</th>\n",
       "      <td>20</td>\n",
       "      <td>0</td>\n",
       "      <td>1</td>\n",
       "      <td>1</td>\n",
       "      <td>5</td>\n",
       "      <td>1</td>\n",
       "      <td>1</td>\n",
       "      <td>4.8</td>\n",
       "      <td>4.8</td>\n",
       "      <td>3</td>\n",
       "      <td>...</td>\n",
       "      <td>0.0</td>\n",
       "      <td>0.0</td>\n",
       "      <td>0.0</td>\n",
       "      <td>0.0</td>\n",
       "      <td>0.0</td>\n",
       "      <td>0.0</td>\n",
       "      <td>0.0</td>\n",
       "      <td>0.0</td>\n",
       "      <td>0.0</td>\n",
       "      <td>0.0</td>\n",
       "    </tr>\n",
       "  </tbody>\n",
       "</table>\n",
       "<p>1 rows × 46 columns</p>\n",
       "</div>"
      ],
      "text/plain": [
       "   number_of_reviews_ltm  host_acceptance_rate_f  county_San Francisco  \\\n",
       "0                     20                       0                     1   \n",
       "\n",
       "   minimum_nights  number_of_reviews_l30d  \\\n",
       "0               1                       5   \n",
       "\n",
       "   property_type_recoded_Entire residential home  Patio_or_balcony  \\\n",
       "0                                              1                 1   \n",
       "\n",
       "   review_scores_accuracy  review_scores_value  bedrooms  ...  \\\n",
       "0                     4.8                  4.8         3  ...   \n",
       "\n",
       "   property_type_recoded_Entire serviced apartment  \\\n",
       "0                                              0.0   \n",
       "\n",
       "   property_type_recoded_Entire loft  neighborhood_recoded_Outer Richmond  \\\n",
       "0                                0.0                                  0.0   \n",
       "\n",
       "   neighborhood_recoded_Bernal Heights  neighborhood_recoded_Inner Sunset  \\\n",
       "0                                  0.0                                0.0   \n",
       "\n",
       "   property_type_recoded_Shared room in residential home  county_Santa Clara  \\\n",
       "0                                                0.0                     0.0   \n",
       "\n",
       "   property_type_recoded_Entire rental unit  neighborhood_recoded_Parkside  \\\n",
       "0                                       0.0                            0.0   \n",
       "\n",
       "   neighborhood_recoded_Redwood City  \n",
       "0                                0.0  \n",
       "\n",
       "[1 rows x 46 columns]"
      ]
     },
     "execution_count": 243,
     "metadata": {},
     "output_type": "execute_result"
    }
   ],
   "source": [
    "# Create mock input data and format it as needed by the model\n",
    "input_data = {'county': 'San Francisco',\n",
    "              'neighborhood_recoded': 'Russian Hill', \n",
    "              'property_type_recoded': 'Entire residential home', \n",
    "              'accommodates': 6, \n",
    "              'bedrooms': 3, \n",
    "              'beds': 3,\n",
    "              'bathrooms': 2.5, \n",
    "              'bathroom_type': 'private', \n",
    "              'minimum_nights': 1, \n",
    "              'maximum_nights': 3,\n",
    "              'Wifi': 1, \n",
    "              'Dedicated_workspace': 0,\n",
    "              'Private_entrance': 0, \n",
    "              'Patio_or_balcony': 1, \n",
    "              'Backyard': 1, \n",
    "              'BBQ_grill': 1, \n",
    "              'Outdoor_furniture': 1,\n",
    "              'Indoor_fireplace': 0, \n",
    "              'Pool': 1, \n",
    "              'review_scores_rating': 4.8,\n",
    "              'review_scores_accuracy': 4.8, \n",
    "              'review_scores_cleanliness': 4.8,\n",
    "              'review_scores_checkin': 4.8,\n",
    "              'review_scores_communication': 4.8,\n",
    "              'review_scores_location': 4.8, \n",
    "              'review_scores_value': 4.8, \n",
    "              'number_of_reviews': 4.8,\n",
    "              'number_of_reviews_ltm': 20, \n",
    "              'number_of_reviews_l30d': 5,\n",
    "              'neighborhood_overview_f': 1, \n",
    "              'host_about_f': 1, \n",
    "              'host_response_time_f': 0,\n",
    "              'host_response_rate_f': 0, \n",
    "              'host_acceptance_rate_f': 0,\n",
    "              'host_neighbourhood_f': 0\n",
    "}\n",
    "input_data_df = pd.DataFrame(input_data, index=[0])\n",
    "\n",
    "# one hot encoding - even though the shape and values don't change, the column names do change\n",
    "ohe = ce.one_hot.OneHotEncoder(use_cat_names=True, handle_unknown='value')\n",
    "input_data_df_ohe = ohe.fit_transform(input_data_df)\n",
    "print(f'shape of the input data after ohe: {input_data_df_ohe.shape}')\n",
    "# input_data_df_ohe\n",
    "print(f'shape of the required input data: (1, {X_train_ohe_top.shape[1]})')\n",
    "\n",
    "# take the columns in the input data that are needed in the model\n",
    "input_data_df_ohe_useful = input_data_df_ohe[X_train_ohe_top.columns.intersection(input_data_df_ohe.columns)]\n",
    "print(f'shape of useful input data: {input_data_df_ohe_useful.shape})')\n",
    "\n",
    "# create feature_list_left - the columns which are in prediction model but not in the input data\n",
    "# because they are all ohe columns, they are just filled with 0 \n",
    "feature_list_left = set(X_train_ohe_top.columns).difference(input_data_df_ohe.columns)\n",
    "fillin_data_df = pd.DataFrame(np.zeros([1, len(feature_list_left)]), columns=feature_list_left, index=[0])\n",
    "print(f'shape of the fillin data (to meet the model requirement): {fillin_data_df.shape}')\n",
    "\n",
    "input_data_df_final = pd.concat((input_data_df_ohe_useful, fillin_data_df), axis=1)\n",
    "print(f'the shape of the input data ready for modeling: {input_data_df_final.shape}')\n",
    "input_data_df_final"
   ]
  },
  {
   "cell_type": "code",
   "execution_count": 246,
   "id": "d74171a2-f947-422e-bc07-c9e0eb401aa1",
   "metadata": {},
   "outputs": [
    {
     "name": "stdout",
     "output_type": "stream",
     "text": [
      "Predicted 30-day vacancy is 5.56 days.\n"
     ]
    }
   ],
   "source": [
    "# load m21_gs_rf\n",
    "m21_gs_xgb_top_joblib = joblib.load('../Models/m21_gs_xgb_top_joblib.pkl')\n",
    "# m21_gs_xgb_top_joblib\n",
    "\n",
    "# predict & evaluate\n",
    "m21_gs_xgb_top_joblib_pred_input = m21_gs_xgb_top_joblib.predict(input_data_df_final)[0]\n",
    "print('Predicted 30-day vacancy is', round(m21_gs_xgb_top_joblib_pred_input, 2), 'days.')"
   ]
  },
  {
   "cell_type": "code",
   "execution_count": null,
   "id": "24f49b66-0fd0-4954-a990-21bc17b58963",
   "metadata": {},
   "outputs": [],
   "source": []
  },
  {
   "cell_type": "code",
   "execution_count": null,
   "id": "6fb0971b-bb28-4fa5-a8b7-782099ad4183",
   "metadata": {},
   "outputs": [],
   "source": []
  }
 ],
 "metadata": {
  "kernelspec": {
   "display_name": "Python 3 (ipykernel)",
   "language": "python",
   "name": "python3"
  },
  "language_info": {
   "codemirror_mode": {
    "name": "ipython",
    "version": 3
   },
   "file_extension": ".py",
   "mimetype": "text/x-python",
   "name": "python",
   "nbconvert_exporter": "python",
   "pygments_lexer": "ipython3",
   "version": "3.9.7"
  }
 },
 "nbformat": 4,
 "nbformat_minor": 5
}
