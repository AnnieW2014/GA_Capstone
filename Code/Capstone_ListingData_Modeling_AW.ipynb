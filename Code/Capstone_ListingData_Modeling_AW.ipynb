{
 "cells": [
  {
   "cell_type": "markdown",
   "id": "cf14df8f-b369-4937-96b7-4bac6cd4e580",
   "metadata": {},
   "source": [
    "# Model 1: predict listing price based on listing features"
   ]
  },
  {
   "cell_type": "code",
   "execution_count": 250,
   "id": "8e1b3980-503d-4f4b-878c-feb221e74182",
   "metadata": {},
   "outputs": [],
   "source": [
    "import numpy as np\n",
    "import pandas as pd\n",
    "import matplotlib.pyplot as plt\n",
    "import seaborn as sns\n",
    "\n",
    "from sklearn.preprocessing import StandardScaler, OneHotEncoder\n",
    "from sklearn.ensemble import RandomForestRegressor\n",
    "from sklearn.model_selection import train_test_split, cross_val_score, GridSearchCV\n",
    "from sklearn.pipeline import Pipeline\n",
    "from sklearn import metrics\n",
    "\n",
    "from xgboost import XGBRegressor\n",
    "import category_encoders as ce\n",
    "import datetime\n",
    "import joblib"
   ]
  },
  {
   "cell_type": "markdown",
   "id": "9f4a9f83-b873-4e76-a394-fef1fe8195b2",
   "metadata": {},
   "source": [
    "[Python - How to Save and Load ML Models](https://www.kaggle.com/prmohanty/python-how-to-save-and-load-ml-models)"
   ]
  },
  {
   "cell_type": "markdown",
   "id": "46d3d2a7-d961-49e9-809e-81e58b9282b9",
   "metadata": {},
   "source": [
    "## Finalize features and target variable\n",
    "- target variable is price"
   ]
  },
  {
   "cell_type": "code",
   "execution_count": 225,
   "id": "b2fff364-9971-4224-a16e-491aabfe3775",
   "metadata": {},
   "outputs": [
    {
     "data": {
      "text/html": [
       "<div>\n",
       "<style scoped>\n",
       "    .dataframe tbody tr th:only-of-type {\n",
       "        vertical-align: middle;\n",
       "    }\n",
       "\n",
       "    .dataframe tbody tr th {\n",
       "        vertical-align: top;\n",
       "    }\n",
       "\n",
       "    .dataframe thead th {\n",
       "        text-align: right;\n",
       "    }\n",
       "</style>\n",
       "<table border=\"1\" class=\"dataframe\">\n",
       "  <thead>\n",
       "    <tr style=\"text-align: right;\">\n",
       "      <th></th>\n",
       "      <th>neighborhood_recoded</th>\n",
       "      <th>county</th>\n",
       "      <th>property_type_recoded</th>\n",
       "      <th>accommodates</th>\n",
       "      <th>bedrooms</th>\n",
       "      <th>beds</th>\n",
       "      <th>bathrooms</th>\n",
       "      <th>bathroom_type</th>\n",
       "      <th>minimum_nights</th>\n",
       "      <th>maximum_nights</th>\n",
       "      <th>...</th>\n",
       "      <th>neighborhood_overview_f</th>\n",
       "      <th>host_about_f</th>\n",
       "      <th>host_response_time_f</th>\n",
       "      <th>host_response_rate_f</th>\n",
       "      <th>host_acceptance_rate_f</th>\n",
       "      <th>host_neighbourhood_f</th>\n",
       "      <th>price</th>\n",
       "      <th>availability_30</th>\n",
       "      <th>availability_60</th>\n",
       "      <th>availability_90</th>\n",
       "    </tr>\n",
       "  </thead>\n",
       "  <tbody>\n",
       "    <tr>\n",
       "      <th>0</th>\n",
       "      <td>Western Addition</td>\n",
       "      <td>San Francisco</td>\n",
       "      <td>Entire serviced apartment</td>\n",
       "      <td>3</td>\n",
       "      <td>1.0</td>\n",
       "      <td>2.0</td>\n",
       "      <td>1.0</td>\n",
       "      <td>private</td>\n",
       "      <td>2</td>\n",
       "      <td>30</td>\n",
       "      <td>...</td>\n",
       "      <td>1</td>\n",
       "      <td>1</td>\n",
       "      <td>1</td>\n",
       "      <td>1</td>\n",
       "      <td>1</td>\n",
       "      <td>1</td>\n",
       "      <td>161.0</td>\n",
       "      <td>7</td>\n",
       "      <td>7</td>\n",
       "      <td>10</td>\n",
       "    </tr>\n",
       "    <tr>\n",
       "      <th>1</th>\n",
       "      <td>Bernal Heights</td>\n",
       "      <td>San Francisco</td>\n",
       "      <td>Entire rental unit</td>\n",
       "      <td>5</td>\n",
       "      <td>2.0</td>\n",
       "      <td>3.0</td>\n",
       "      <td>1.0</td>\n",
       "      <td>private</td>\n",
       "      <td>30</td>\n",
       "      <td>60</td>\n",
       "      <td>...</td>\n",
       "      <td>1</td>\n",
       "      <td>1</td>\n",
       "      <td>1</td>\n",
       "      <td>1</td>\n",
       "      <td>1</td>\n",
       "      <td>1</td>\n",
       "      <td>235.0</td>\n",
       "      <td>30</td>\n",
       "      <td>60</td>\n",
       "      <td>90</td>\n",
       "    </tr>\n",
       "    <tr>\n",
       "      <th>2</th>\n",
       "      <td>Haight Ashbury</td>\n",
       "      <td>San Francisco</td>\n",
       "      <td>Private room in rental unit</td>\n",
       "      <td>2</td>\n",
       "      <td>1.0</td>\n",
       "      <td>1.0</td>\n",
       "      <td>4.0</td>\n",
       "      <td>shared</td>\n",
       "      <td>32</td>\n",
       "      <td>60</td>\n",
       "      <td>...</td>\n",
       "      <td>1</td>\n",
       "      <td>1</td>\n",
       "      <td>1</td>\n",
       "      <td>1</td>\n",
       "      <td>1</td>\n",
       "      <td>1</td>\n",
       "      <td>56.0</td>\n",
       "      <td>30</td>\n",
       "      <td>60</td>\n",
       "      <td>90</td>\n",
       "    </tr>\n",
       "    <tr>\n",
       "      <th>3</th>\n",
       "      <td>Haight Ashbury</td>\n",
       "      <td>San Francisco</td>\n",
       "      <td>Private room in rental unit</td>\n",
       "      <td>2</td>\n",
       "      <td>1.0</td>\n",
       "      <td>1.0</td>\n",
       "      <td>4.0</td>\n",
       "      <td>shared</td>\n",
       "      <td>32</td>\n",
       "      <td>90</td>\n",
       "      <td>...</td>\n",
       "      <td>0</td>\n",
       "      <td>1</td>\n",
       "      <td>1</td>\n",
       "      <td>1</td>\n",
       "      <td>1</td>\n",
       "      <td>1</td>\n",
       "      <td>56.0</td>\n",
       "      <td>30</td>\n",
       "      <td>60</td>\n",
       "      <td>90</td>\n",
       "    </tr>\n",
       "    <tr>\n",
       "      <th>4</th>\n",
       "      <td>Western Addition</td>\n",
       "      <td>San Francisco</td>\n",
       "      <td>Entire condominium (condo)</td>\n",
       "      <td>4</td>\n",
       "      <td>2.0</td>\n",
       "      <td>2.0</td>\n",
       "      <td>1.5</td>\n",
       "      <td>private</td>\n",
       "      <td>7</td>\n",
       "      <td>111</td>\n",
       "      <td>...</td>\n",
       "      <td>0</td>\n",
       "      <td>1</td>\n",
       "      <td>1</td>\n",
       "      <td>1</td>\n",
       "      <td>1</td>\n",
       "      <td>1</td>\n",
       "      <td>895.0</td>\n",
       "      <td>29</td>\n",
       "      <td>59</td>\n",
       "      <td>89</td>\n",
       "    </tr>\n",
       "  </tbody>\n",
       "</table>\n",
       "<p>5 rows × 39 columns</p>\n",
       "</div>"
      ],
      "text/plain": [
       "  neighborhood_recoded         county        property_type_recoded  \\\n",
       "0     Western Addition  San Francisco    Entire serviced apartment   \n",
       "1       Bernal Heights  San Francisco           Entire rental unit   \n",
       "2       Haight Ashbury  San Francisco  Private room in rental unit   \n",
       "3       Haight Ashbury  San Francisco  Private room in rental unit   \n",
       "4     Western Addition  San Francisco   Entire condominium (condo)   \n",
       "\n",
       "   accommodates  bedrooms  beds  bathrooms bathroom_type  minimum_nights  \\\n",
       "0             3       1.0   2.0        1.0       private               2   \n",
       "1             5       2.0   3.0        1.0       private              30   \n",
       "2             2       1.0   1.0        4.0        shared              32   \n",
       "3             2       1.0   1.0        4.0        shared              32   \n",
       "4             4       2.0   2.0        1.5       private               7   \n",
       "\n",
       "   maximum_nights  ...  neighborhood_overview_f  host_about_f  \\\n",
       "0              30  ...                        1             1   \n",
       "1              60  ...                        1             1   \n",
       "2              60  ...                        1             1   \n",
       "3              90  ...                        0             1   \n",
       "4             111  ...                        0             1   \n",
       "\n",
       "   host_response_time_f  host_response_rate_f  host_acceptance_rate_f  \\\n",
       "0                     1                     1                       1   \n",
       "1                     1                     1                       1   \n",
       "2                     1                     1                       1   \n",
       "3                     1                     1                       1   \n",
       "4                     1                     1                       1   \n",
       "\n",
       "   host_neighbourhood_f  price  availability_30  availability_60  \\\n",
       "0                     1  161.0                7                7   \n",
       "1                     1  235.0               30               60   \n",
       "2                     1   56.0               30               60   \n",
       "3                     1   56.0               30               60   \n",
       "4                     1  895.0               29               59   \n",
       "\n",
       "   availability_90  \n",
       "0               10  \n",
       "1               90  \n",
       "2               90  \n",
       "3               90  \n",
       "4               89  \n",
       "\n",
       "[5 rows x 39 columns]"
      ]
     },
     "execution_count": 225,
     "metadata": {},
     "output_type": "execute_result"
    }
   ],
   "source": [
    "df = pd.read_csv('../../Large_Data/Listings_combined_cleaned.csv')\n",
    "df.head()"
   ]
  },
  {
   "cell_type": "code",
   "execution_count": 226,
   "id": "ff0e5388-1bae-4875-8934-68a8adc7bedb",
   "metadata": {},
   "outputs": [
    {
     "data": {
      "text/plain": [
       "(9825, 39)"
      ]
     },
     "execution_count": 226,
     "metadata": {},
     "output_type": "execute_result"
    }
   ],
   "source": [
    "df.shape"
   ]
  },
  {
   "cell_type": "code",
   "execution_count": 227,
   "id": "aa239681-13eb-4acc-984f-42284ee5e344",
   "metadata": {},
   "outputs": [
    {
     "data": {
      "text/plain": [
       "Index(['neighborhood_recoded', 'county', 'property_type_recoded',\n",
       "       'accommodates', 'bedrooms', 'beds', 'bathrooms', 'bathroom_type',\n",
       "       'minimum_nights', 'maximum_nights', 'Wifi', 'Dedicated_workspace',\n",
       "       'Patio_or_balcony', 'Backyard', 'BBQ_grill', 'Outdoor_furniture',\n",
       "       'Indoor_fireplace', 'Private_entrance', 'Pool', 'review_scores_rating',\n",
       "       'review_scores_accuracy', 'review_scores_cleanliness',\n",
       "       'review_scores_checkin', 'review_scores_communication',\n",
       "       'review_scores_location', 'review_scores_value', 'number_of_reviews',\n",
       "       'number_of_reviews_ltm', 'number_of_reviews_l30d',\n",
       "       'neighborhood_overview_f', 'host_about_f', 'host_response_time_f',\n",
       "       'host_response_rate_f', 'host_acceptance_rate_f',\n",
       "       'host_neighbourhood_f', 'price', 'availability_30', 'availability_60',\n",
       "       'availability_90'],\n",
       "      dtype='object')"
      ]
     },
     "execution_count": 227,
     "metadata": {},
     "output_type": "execute_result"
    }
   ],
   "source": [
    "df.columns"
   ]
  },
  {
   "cell_type": "code",
   "execution_count": 228,
   "id": "26db4537-a475-4f2b-8f3a-7e45e1c67fe2",
   "metadata": {},
   "outputs": [
    {
     "data": {
      "text/plain": [
       "((7368, 35), (7368,), (2457, 35), (2457,))"
      ]
     },
     "execution_count": 228,
     "metadata": {},
     "output_type": "execute_result"
    }
   ],
   "source": [
    "# create\n",
    "X = df.drop(columns=['price','availability_30', 'availability_60','availability_90'])\n",
    "y = df['price']\n",
    "\n",
    "X_train, X_test, y_train, y_test = train_test_split(X, y, test_size=0.25, random_state=42)\n",
    "X_train.shape, y_train.shape, X_test.shape, y_test.shape"
   ]
  },
  {
   "cell_type": "code",
   "execution_count": 229,
   "id": "ef3b38f4-0e85-4676-af62-d48c197db46c",
   "metadata": {},
   "outputs": [
    {
     "name": "stdout",
     "output_type": "stream",
     "text": [
      "(9825, 39)\n"
     ]
    },
    {
     "data": {
      "text/html": [
       "<div>\n",
       "<style scoped>\n",
       "    .dataframe tbody tr th:only-of-type {\n",
       "        vertical-align: middle;\n",
       "    }\n",
       "\n",
       "    .dataframe tbody tr th {\n",
       "        vertical-align: top;\n",
       "    }\n",
       "\n",
       "    .dataframe thead th {\n",
       "        text-align: right;\n",
       "    }\n",
       "</style>\n",
       "<table border=\"1\" class=\"dataframe\">\n",
       "  <thead>\n",
       "    <tr style=\"text-align: right;\">\n",
       "      <th></th>\n",
       "      <th>neighborhood_recoded</th>\n",
       "      <th>county</th>\n",
       "      <th>property_type_recoded</th>\n",
       "      <th>accommodates</th>\n",
       "      <th>bedrooms</th>\n",
       "      <th>beds</th>\n",
       "      <th>bathrooms</th>\n",
       "      <th>bathroom_type</th>\n",
       "      <th>minimum_nights</th>\n",
       "      <th>maximum_nights</th>\n",
       "      <th>...</th>\n",
       "      <th>neighborhood_overview_f</th>\n",
       "      <th>host_about_f</th>\n",
       "      <th>host_response_time_f</th>\n",
       "      <th>host_response_rate_f</th>\n",
       "      <th>host_acceptance_rate_f</th>\n",
       "      <th>host_neighbourhood_f</th>\n",
       "      <th>price</th>\n",
       "      <th>availability_30</th>\n",
       "      <th>availability_60</th>\n",
       "      <th>availability_90</th>\n",
       "    </tr>\n",
       "  </thead>\n",
       "  <tbody>\n",
       "    <tr>\n",
       "      <th>0</th>\n",
       "      <td>Western Addition</td>\n",
       "      <td>San Francisco</td>\n",
       "      <td>Entire serviced apartment</td>\n",
       "      <td>3</td>\n",
       "      <td>1.0</td>\n",
       "      <td>2.0</td>\n",
       "      <td>1.0</td>\n",
       "      <td>private</td>\n",
       "      <td>2</td>\n",
       "      <td>30</td>\n",
       "      <td>...</td>\n",
       "      <td>1</td>\n",
       "      <td>1</td>\n",
       "      <td>1</td>\n",
       "      <td>1</td>\n",
       "      <td>1</td>\n",
       "      <td>1</td>\n",
       "      <td>161.0</td>\n",
       "      <td>7</td>\n",
       "      <td>7</td>\n",
       "      <td>10</td>\n",
       "    </tr>\n",
       "    <tr>\n",
       "      <th>1</th>\n",
       "      <td>Bernal Heights</td>\n",
       "      <td>San Francisco</td>\n",
       "      <td>Entire rental unit</td>\n",
       "      <td>5</td>\n",
       "      <td>2.0</td>\n",
       "      <td>3.0</td>\n",
       "      <td>1.0</td>\n",
       "      <td>private</td>\n",
       "      <td>30</td>\n",
       "      <td>60</td>\n",
       "      <td>...</td>\n",
       "      <td>1</td>\n",
       "      <td>1</td>\n",
       "      <td>1</td>\n",
       "      <td>1</td>\n",
       "      <td>1</td>\n",
       "      <td>1</td>\n",
       "      <td>235.0</td>\n",
       "      <td>30</td>\n",
       "      <td>60</td>\n",
       "      <td>90</td>\n",
       "    </tr>\n",
       "    <tr>\n",
       "      <th>2</th>\n",
       "      <td>Haight Ashbury</td>\n",
       "      <td>San Francisco</td>\n",
       "      <td>Private room in rental unit</td>\n",
       "      <td>2</td>\n",
       "      <td>1.0</td>\n",
       "      <td>1.0</td>\n",
       "      <td>4.0</td>\n",
       "      <td>shared</td>\n",
       "      <td>32</td>\n",
       "      <td>60</td>\n",
       "      <td>...</td>\n",
       "      <td>1</td>\n",
       "      <td>1</td>\n",
       "      <td>1</td>\n",
       "      <td>1</td>\n",
       "      <td>1</td>\n",
       "      <td>1</td>\n",
       "      <td>56.0</td>\n",
       "      <td>30</td>\n",
       "      <td>60</td>\n",
       "      <td>90</td>\n",
       "    </tr>\n",
       "    <tr>\n",
       "      <th>3</th>\n",
       "      <td>Haight Ashbury</td>\n",
       "      <td>San Francisco</td>\n",
       "      <td>Private room in rental unit</td>\n",
       "      <td>2</td>\n",
       "      <td>1.0</td>\n",
       "      <td>1.0</td>\n",
       "      <td>4.0</td>\n",
       "      <td>shared</td>\n",
       "      <td>32</td>\n",
       "      <td>90</td>\n",
       "      <td>...</td>\n",
       "      <td>0</td>\n",
       "      <td>1</td>\n",
       "      <td>1</td>\n",
       "      <td>1</td>\n",
       "      <td>1</td>\n",
       "      <td>1</td>\n",
       "      <td>56.0</td>\n",
       "      <td>30</td>\n",
       "      <td>60</td>\n",
       "      <td>90</td>\n",
       "    </tr>\n",
       "    <tr>\n",
       "      <th>4</th>\n",
       "      <td>Western Addition</td>\n",
       "      <td>San Francisco</td>\n",
       "      <td>Entire condominium (condo)</td>\n",
       "      <td>4</td>\n",
       "      <td>2.0</td>\n",
       "      <td>2.0</td>\n",
       "      <td>1.5</td>\n",
       "      <td>private</td>\n",
       "      <td>7</td>\n",
       "      <td>111</td>\n",
       "      <td>...</td>\n",
       "      <td>0</td>\n",
       "      <td>1</td>\n",
       "      <td>1</td>\n",
       "      <td>1</td>\n",
       "      <td>1</td>\n",
       "      <td>1</td>\n",
       "      <td>895.0</td>\n",
       "      <td>29</td>\n",
       "      <td>59</td>\n",
       "      <td>89</td>\n",
       "    </tr>\n",
       "  </tbody>\n",
       "</table>\n",
       "<p>5 rows × 39 columns</p>\n",
       "</div>"
      ],
      "text/plain": [
       "  neighborhood_recoded         county        property_type_recoded  \\\n",
       "0     Western Addition  San Francisco    Entire serviced apartment   \n",
       "1       Bernal Heights  San Francisco           Entire rental unit   \n",
       "2       Haight Ashbury  San Francisco  Private room in rental unit   \n",
       "3       Haight Ashbury  San Francisco  Private room in rental unit   \n",
       "4     Western Addition  San Francisco   Entire condominium (condo)   \n",
       "\n",
       "   accommodates  bedrooms  beds  bathrooms bathroom_type  minimum_nights  \\\n",
       "0             3       1.0   2.0        1.0       private               2   \n",
       "1             5       2.0   3.0        1.0       private              30   \n",
       "2             2       1.0   1.0        4.0        shared              32   \n",
       "3             2       1.0   1.0        4.0        shared              32   \n",
       "4             4       2.0   2.0        1.5       private               7   \n",
       "\n",
       "   maximum_nights  ...  neighborhood_overview_f  host_about_f  \\\n",
       "0              30  ...                        1             1   \n",
       "1              60  ...                        1             1   \n",
       "2              60  ...                        1             1   \n",
       "3              90  ...                        0             1   \n",
       "4             111  ...                        0             1   \n",
       "\n",
       "   host_response_time_f  host_response_rate_f  host_acceptance_rate_f  \\\n",
       "0                     1                     1                       1   \n",
       "1                     1                     1                       1   \n",
       "2                     1                     1                       1   \n",
       "3                     1                     1                       1   \n",
       "4                     1                     1                       1   \n",
       "\n",
       "   host_neighbourhood_f  price  availability_30  availability_60  \\\n",
       "0                     1  161.0                7                7   \n",
       "1                     1  235.0               30               60   \n",
       "2                     1   56.0               30               60   \n",
       "3                     1   56.0               30               60   \n",
       "4                     1  895.0               29               59   \n",
       "\n",
       "   availability_90  \n",
       "0               10  \n",
       "1               90  \n",
       "2               90  \n",
       "3               90  \n",
       "4               89  \n",
       "\n",
       "[5 rows x 39 columns]"
      ]
     },
     "execution_count": 229,
     "metadata": {},
     "output_type": "execute_result"
    }
   ],
   "source": [
    "# create train for EDA\n",
    "train = df.loc[df.index.isin(X.index), :]\n",
    "print(train.shape)\n",
    "train.head()"
   ]
  },
  {
   "cell_type": "code",
   "execution_count": 230,
   "id": "d90fc1d2-9b09-4f4d-8396-61a34251996e",
   "metadata": {},
   "outputs": [
    {
     "data": {
      "text/html": [
       "<div>\n",
       "<style scoped>\n",
       "    .dataframe tbody tr th:only-of-type {\n",
       "        vertical-align: middle;\n",
       "    }\n",
       "\n",
       "    .dataframe tbody tr th {\n",
       "        vertical-align: top;\n",
       "    }\n",
       "\n",
       "    .dataframe thead th {\n",
       "        text-align: right;\n",
       "    }\n",
       "</style>\n",
       "<table border=\"1\" class=\"dataframe\">\n",
       "  <thead>\n",
       "    <tr style=\"text-align: right;\">\n",
       "      <th></th>\n",
       "      <th>neighborhood_recoded</th>\n",
       "      <th>county</th>\n",
       "      <th>property_type_recoded</th>\n",
       "      <th>accommodates</th>\n",
       "      <th>bedrooms</th>\n",
       "      <th>beds</th>\n",
       "      <th>bathrooms</th>\n",
       "      <th>bathroom_type</th>\n",
       "      <th>minimum_nights</th>\n",
       "      <th>maximum_nights</th>\n",
       "      <th>...</th>\n",
       "      <th>review_scores_value</th>\n",
       "      <th>number_of_reviews</th>\n",
       "      <th>number_of_reviews_ltm</th>\n",
       "      <th>number_of_reviews_l30d</th>\n",
       "      <th>neighborhood_overview_f</th>\n",
       "      <th>host_about_f</th>\n",
       "      <th>host_response_time_f</th>\n",
       "      <th>host_response_rate_f</th>\n",
       "      <th>host_acceptance_rate_f</th>\n",
       "      <th>host_neighbourhood_f</th>\n",
       "    </tr>\n",
       "  </thead>\n",
       "  <tbody>\n",
       "    <tr>\n",
       "      <th>4852</th>\n",
       "      <td>Redwood City</td>\n",
       "      <td>San Mateo</td>\n",
       "      <td>Private room in residential home</td>\n",
       "      <td>4</td>\n",
       "      <td>2.0</td>\n",
       "      <td>2.0</td>\n",
       "      <td>1.0</td>\n",
       "      <td>shared</td>\n",
       "      <td>15</td>\n",
       "      <td>1125</td>\n",
       "      <td>...</td>\n",
       "      <td>4.81</td>\n",
       "      <td>63</td>\n",
       "      <td>0</td>\n",
       "      <td>0</td>\n",
       "      <td>1</td>\n",
       "      <td>0</td>\n",
       "      <td>1</td>\n",
       "      <td>1</td>\n",
       "      <td>1</td>\n",
       "      <td>1</td>\n",
       "    </tr>\n",
       "    <tr>\n",
       "      <th>4052</th>\n",
       "      <td>Noe Valley</td>\n",
       "      <td>San Francisco</td>\n",
       "      <td>Private room in residential home</td>\n",
       "      <td>2</td>\n",
       "      <td>1.0</td>\n",
       "      <td>1.0</td>\n",
       "      <td>1.5</td>\n",
       "      <td>shared</td>\n",
       "      <td>2</td>\n",
       "      <td>7</td>\n",
       "      <td>...</td>\n",
       "      <td>5.00</td>\n",
       "      <td>6</td>\n",
       "      <td>6</td>\n",
       "      <td>2</td>\n",
       "      <td>0</td>\n",
       "      <td>1</td>\n",
       "      <td>0</td>\n",
       "      <td>0</td>\n",
       "      <td>0</td>\n",
       "      <td>1</td>\n",
       "    </tr>\n",
       "    <tr>\n",
       "      <th>8104</th>\n",
       "      <td>San Jose</td>\n",
       "      <td>Santa Clara</td>\n",
       "      <td>Private room in residential home</td>\n",
       "      <td>2</td>\n",
       "      <td>1.0</td>\n",
       "      <td>1.0</td>\n",
       "      <td>3.0</td>\n",
       "      <td>shared</td>\n",
       "      <td>2</td>\n",
       "      <td>1125</td>\n",
       "      <td>...</td>\n",
       "      <td>4.87</td>\n",
       "      <td>67</td>\n",
       "      <td>18</td>\n",
       "      <td>1</td>\n",
       "      <td>1</td>\n",
       "      <td>1</td>\n",
       "      <td>1</td>\n",
       "      <td>1</td>\n",
       "      <td>1</td>\n",
       "      <td>1</td>\n",
       "    </tr>\n",
       "    <tr>\n",
       "      <th>1396</th>\n",
       "      <td>Bernal Heights</td>\n",
       "      <td>San Francisco</td>\n",
       "      <td>Private room in guest suite</td>\n",
       "      <td>2</td>\n",
       "      <td>1.0</td>\n",
       "      <td>1.0</td>\n",
       "      <td>1.0</td>\n",
       "      <td>private</td>\n",
       "      <td>2</td>\n",
       "      <td>14</td>\n",
       "      <td>...</td>\n",
       "      <td>4.90</td>\n",
       "      <td>141</td>\n",
       "      <td>11</td>\n",
       "      <td>3</td>\n",
       "      <td>0</td>\n",
       "      <td>0</td>\n",
       "      <td>0</td>\n",
       "      <td>0</td>\n",
       "      <td>0</td>\n",
       "      <td>1</td>\n",
       "    </tr>\n",
       "    <tr>\n",
       "      <th>7150</th>\n",
       "      <td>San Jose</td>\n",
       "      <td>Santa Clara</td>\n",
       "      <td>Private room in residential home</td>\n",
       "      <td>2</td>\n",
       "      <td>1.0</td>\n",
       "      <td>1.0</td>\n",
       "      <td>1.0</td>\n",
       "      <td>private</td>\n",
       "      <td>1</td>\n",
       "      <td>2</td>\n",
       "      <td>...</td>\n",
       "      <td>4.90</td>\n",
       "      <td>105</td>\n",
       "      <td>3</td>\n",
       "      <td>0</td>\n",
       "      <td>1</td>\n",
       "      <td>1</td>\n",
       "      <td>1</td>\n",
       "      <td>1</td>\n",
       "      <td>1</td>\n",
       "      <td>0</td>\n",
       "    </tr>\n",
       "  </tbody>\n",
       "</table>\n",
       "<p>5 rows × 35 columns</p>\n",
       "</div>"
      ],
      "text/plain": [
       "     neighborhood_recoded         county             property_type_recoded  \\\n",
       "4852         Redwood City      San Mateo  Private room in residential home   \n",
       "4052           Noe Valley  San Francisco  Private room in residential home   \n",
       "8104             San Jose    Santa Clara  Private room in residential home   \n",
       "1396       Bernal Heights  San Francisco       Private room in guest suite   \n",
       "7150             San Jose    Santa Clara  Private room in residential home   \n",
       "\n",
       "      accommodates  bedrooms  beds  bathrooms bathroom_type  minimum_nights  \\\n",
       "4852             4       2.0   2.0        1.0        shared              15   \n",
       "4052             2       1.0   1.0        1.5        shared               2   \n",
       "8104             2       1.0   1.0        3.0        shared               2   \n",
       "1396             2       1.0   1.0        1.0       private               2   \n",
       "7150             2       1.0   1.0        1.0       private               1   \n",
       "\n",
       "      maximum_nights  ...  review_scores_value  number_of_reviews  \\\n",
       "4852            1125  ...                 4.81                 63   \n",
       "4052               7  ...                 5.00                  6   \n",
       "8104            1125  ...                 4.87                 67   \n",
       "1396              14  ...                 4.90                141   \n",
       "7150               2  ...                 4.90                105   \n",
       "\n",
       "      number_of_reviews_ltm  number_of_reviews_l30d  neighborhood_overview_f  \\\n",
       "4852                      0                       0                        1   \n",
       "4052                      6                       2                        0   \n",
       "8104                     18                       1                        1   \n",
       "1396                     11                       3                        0   \n",
       "7150                      3                       0                        1   \n",
       "\n",
       "      host_about_f  host_response_time_f  host_response_rate_f  \\\n",
       "4852             0                     1                     1   \n",
       "4052             1                     0                     0   \n",
       "8104             1                     1                     1   \n",
       "1396             0                     0                     0   \n",
       "7150             1                     1                     1   \n",
       "\n",
       "      host_acceptance_rate_f  host_neighbourhood_f  \n",
       "4852                       1                     1  \n",
       "4052                       0                     1  \n",
       "8104                       1                     1  \n",
       "1396                       0                     1  \n",
       "7150                       1                     0  \n",
       "\n",
       "[5 rows x 35 columns]"
      ]
     },
     "execution_count": 230,
     "metadata": {},
     "output_type": "execute_result"
    }
   ],
   "source": [
    "X_train.head()"
   ]
  },
  {
   "cell_type": "markdown",
   "id": "e89fd63f-4e77-480a-9655-e2188157664d",
   "metadata": {},
   "source": [
    "## EDA"
   ]
  },
  {
   "cell_type": "code",
   "execution_count": 105,
   "id": "e95c659a-4432-41de-9721-7554bc467cc2",
   "metadata": {},
   "outputs": [
    {
     "data": {
      "text/html": [
       "<div>\n",
       "<style scoped>\n",
       "    .dataframe tbody tr th:only-of-type {\n",
       "        vertical-align: middle;\n",
       "    }\n",
       "\n",
       "    .dataframe tbody tr th {\n",
       "        vertical-align: top;\n",
       "    }\n",
       "\n",
       "    .dataframe thead th {\n",
       "        text-align: right;\n",
       "    }\n",
       "</style>\n",
       "<table border=\"1\" class=\"dataframe\">\n",
       "  <thead>\n",
       "    <tr style=\"text-align: right;\">\n",
       "      <th></th>\n",
       "      <th>accommodates</th>\n",
       "      <th>bedrooms</th>\n",
       "      <th>beds</th>\n",
       "      <th>bathrooms</th>\n",
       "      <th>minimum_nights</th>\n",
       "      <th>maximum_nights</th>\n",
       "      <th>review_scores_rating</th>\n",
       "      <th>review_scores_accuracy</th>\n",
       "      <th>review_scores_cleanliness</th>\n",
       "      <th>review_scores_checkin</th>\n",
       "      <th>...</th>\n",
       "      <th>neighborhood_overview_f</th>\n",
       "      <th>host_about_f</th>\n",
       "      <th>host_response_time_f</th>\n",
       "      <th>host_response_rate_f</th>\n",
       "      <th>host_acceptance_rate_f</th>\n",
       "      <th>host_neighbourhood_f</th>\n",
       "      <th>price</th>\n",
       "      <th>availability_30</th>\n",
       "      <th>availability_60</th>\n",
       "      <th>availability_90</th>\n",
       "    </tr>\n",
       "  </thead>\n",
       "  <tbody>\n",
       "    <tr>\n",
       "      <th>count</th>\n",
       "      <td>9825.000000</td>\n",
       "      <td>9825.000000</td>\n",
       "      <td>9825.000000</td>\n",
       "      <td>9825.000000</td>\n",
       "      <td>9825.000000</td>\n",
       "      <td>9825.000000</td>\n",
       "      <td>9825.000000</td>\n",
       "      <td>9825.000000</td>\n",
       "      <td>9825.000000</td>\n",
       "      <td>9825.000000</td>\n",
       "      <td>...</td>\n",
       "      <td>9825.000000</td>\n",
       "      <td>9825.000000</td>\n",
       "      <td>9825.000000</td>\n",
       "      <td>9825.000000</td>\n",
       "      <td>9825.000000</td>\n",
       "      <td>9825.000000</td>\n",
       "      <td>9825.000000</td>\n",
       "      <td>9825.000000</td>\n",
       "      <td>9825.000000</td>\n",
       "      <td>9825.000000</td>\n",
       "    </tr>\n",
       "    <tr>\n",
       "      <th>mean</th>\n",
       "      <td>3.480305</td>\n",
       "      <td>1.593181</td>\n",
       "      <td>2.028702</td>\n",
       "      <td>1.416896</td>\n",
       "      <td>13.044784</td>\n",
       "      <td>569.837150</td>\n",
       "      <td>4.764960</td>\n",
       "      <td>4.814749</td>\n",
       "      <td>4.757261</td>\n",
       "      <td>4.880370</td>\n",
       "      <td>...</td>\n",
       "      <td>0.731501</td>\n",
       "      <td>0.707277</td>\n",
       "      <td>0.828601</td>\n",
       "      <td>0.828601</td>\n",
       "      <td>0.861272</td>\n",
       "      <td>0.875623</td>\n",
       "      <td>178.069313</td>\n",
       "      <td>11.231552</td>\n",
       "      <td>27.325293</td>\n",
       "      <td>46.218626</td>\n",
       "    </tr>\n",
       "    <tr>\n",
       "      <th>std</th>\n",
       "      <td>2.415604</td>\n",
       "      <td>0.975522</td>\n",
       "      <td>1.569959</td>\n",
       "      <td>0.826013</td>\n",
       "      <td>30.318371</td>\n",
       "      <td>514.153885</td>\n",
       "      <td>0.407623</td>\n",
       "      <td>0.379128</td>\n",
       "      <td>0.420152</td>\n",
       "      <td>0.327301</td>\n",
       "      <td>...</td>\n",
       "      <td>0.443201</td>\n",
       "      <td>0.455035</td>\n",
       "      <td>0.376877</td>\n",
       "      <td>0.376877</td>\n",
       "      <td>0.345680</td>\n",
       "      <td>0.330027</td>\n",
       "      <td>148.448029</td>\n",
       "      <td>11.269745</td>\n",
       "      <td>22.415682</td>\n",
       "      <td>32.691111</td>\n",
       "    </tr>\n",
       "    <tr>\n",
       "      <th>min</th>\n",
       "      <td>1.000000</td>\n",
       "      <td>1.000000</td>\n",
       "      <td>0.000000</td>\n",
       "      <td>0.000000</td>\n",
       "      <td>1.000000</td>\n",
       "      <td>1.000000</td>\n",
       "      <td>1.000000</td>\n",
       "      <td>0.000000</td>\n",
       "      <td>0.000000</td>\n",
       "      <td>0.000000</td>\n",
       "      <td>...</td>\n",
       "      <td>0.000000</td>\n",
       "      <td>0.000000</td>\n",
       "      <td>0.000000</td>\n",
       "      <td>0.000000</td>\n",
       "      <td>0.000000</td>\n",
       "      <td>0.000000</td>\n",
       "      <td>10.000000</td>\n",
       "      <td>0.000000</td>\n",
       "      <td>0.000000</td>\n",
       "      <td>0.000000</td>\n",
       "    </tr>\n",
       "    <tr>\n",
       "      <th>25%</th>\n",
       "      <td>2.000000</td>\n",
       "      <td>1.000000</td>\n",
       "      <td>1.000000</td>\n",
       "      <td>1.000000</td>\n",
       "      <td>2.000000</td>\n",
       "      <td>30.000000</td>\n",
       "      <td>4.710000</td>\n",
       "      <td>4.790000</td>\n",
       "      <td>4.690000</td>\n",
       "      <td>4.890000</td>\n",
       "      <td>...</td>\n",
       "      <td>0.000000</td>\n",
       "      <td>0.000000</td>\n",
       "      <td>1.000000</td>\n",
       "      <td>1.000000</td>\n",
       "      <td>1.000000</td>\n",
       "      <td>1.000000</td>\n",
       "      <td>81.000000</td>\n",
       "      <td>0.000000</td>\n",
       "      <td>1.000000</td>\n",
       "      <td>13.000000</td>\n",
       "    </tr>\n",
       "    <tr>\n",
       "      <th>50%</th>\n",
       "      <td>2.000000</td>\n",
       "      <td>1.000000</td>\n",
       "      <td>1.000000</td>\n",
       "      <td>1.000000</td>\n",
       "      <td>3.000000</td>\n",
       "      <td>365.000000</td>\n",
       "      <td>4.880000</td>\n",
       "      <td>4.930000</td>\n",
       "      <td>4.890000</td>\n",
       "      <td>4.970000</td>\n",
       "      <td>...</td>\n",
       "      <td>1.000000</td>\n",
       "      <td>1.000000</td>\n",
       "      <td>1.000000</td>\n",
       "      <td>1.000000</td>\n",
       "      <td>1.000000</td>\n",
       "      <td>1.000000</td>\n",
       "      <td>134.000000</td>\n",
       "      <td>8.000000</td>\n",
       "      <td>27.000000</td>\n",
       "      <td>51.000000</td>\n",
       "    </tr>\n",
       "    <tr>\n",
       "      <th>75%</th>\n",
       "      <td>4.000000</td>\n",
       "      <td>2.000000</td>\n",
       "      <td>3.000000</td>\n",
       "      <td>2.000000</td>\n",
       "      <td>30.000000</td>\n",
       "      <td>1125.000000</td>\n",
       "      <td>5.000000</td>\n",
       "      <td>5.000000</td>\n",
       "      <td>5.000000</td>\n",
       "      <td>5.000000</td>\n",
       "      <td>...</td>\n",
       "      <td>1.000000</td>\n",
       "      <td>1.000000</td>\n",
       "      <td>1.000000</td>\n",
       "      <td>1.000000</td>\n",
       "      <td>1.000000</td>\n",
       "      <td>1.000000</td>\n",
       "      <td>219.000000</td>\n",
       "      <td>22.000000</td>\n",
       "      <td>49.000000</td>\n",
       "      <td>78.000000</td>\n",
       "    </tr>\n",
       "    <tr>\n",
       "      <th>max</th>\n",
       "      <td>16.000000</td>\n",
       "      <td>9.000000</td>\n",
       "      <td>27.000000</td>\n",
       "      <td>10.000000</td>\n",
       "      <td>1125.000000</td>\n",
       "      <td>1125.000000</td>\n",
       "      <td>5.000000</td>\n",
       "      <td>5.000000</td>\n",
       "      <td>5.000000</td>\n",
       "      <td>5.000000</td>\n",
       "      <td>...</td>\n",
       "      <td>1.000000</td>\n",
       "      <td>1.000000</td>\n",
       "      <td>1.000000</td>\n",
       "      <td>1.000000</td>\n",
       "      <td>1.000000</td>\n",
       "      <td>1.000000</td>\n",
       "      <td>1000.000000</td>\n",
       "      <td>30.000000</td>\n",
       "      <td>60.000000</td>\n",
       "      <td>90.000000</td>\n",
       "    </tr>\n",
       "  </tbody>\n",
       "</table>\n",
       "<p>8 rows × 26 columns</p>\n",
       "</div>"
      ],
      "text/plain": [
       "       accommodates     bedrooms         beds    bathrooms  minimum_nights  \\\n",
       "count   9825.000000  9825.000000  9825.000000  9825.000000     9825.000000   \n",
       "mean       3.480305     1.593181     2.028702     1.416896       13.044784   \n",
       "std        2.415604     0.975522     1.569959     0.826013       30.318371   \n",
       "min        1.000000     1.000000     0.000000     0.000000        1.000000   \n",
       "25%        2.000000     1.000000     1.000000     1.000000        2.000000   \n",
       "50%        2.000000     1.000000     1.000000     1.000000        3.000000   \n",
       "75%        4.000000     2.000000     3.000000     2.000000       30.000000   \n",
       "max       16.000000     9.000000    27.000000    10.000000     1125.000000   \n",
       "\n",
       "       maximum_nights  review_scores_rating  review_scores_accuracy  \\\n",
       "count     9825.000000           9825.000000             9825.000000   \n",
       "mean       569.837150              4.764960                4.814749   \n",
       "std        514.153885              0.407623                0.379128   \n",
       "min          1.000000              1.000000                0.000000   \n",
       "25%         30.000000              4.710000                4.790000   \n",
       "50%        365.000000              4.880000                4.930000   \n",
       "75%       1125.000000              5.000000                5.000000   \n",
       "max       1125.000000              5.000000                5.000000   \n",
       "\n",
       "       review_scores_cleanliness  review_scores_checkin  ...  \\\n",
       "count                9825.000000            9825.000000  ...   \n",
       "mean                    4.757261               4.880370  ...   \n",
       "std                     0.420152               0.327301  ...   \n",
       "min                     0.000000               0.000000  ...   \n",
       "25%                     4.690000               4.890000  ...   \n",
       "50%                     4.890000               4.970000  ...   \n",
       "75%                     5.000000               5.000000  ...   \n",
       "max                     5.000000               5.000000  ...   \n",
       "\n",
       "       neighborhood_overview_f  host_about_f  host_response_time_f  \\\n",
       "count              9825.000000   9825.000000           9825.000000   \n",
       "mean                  0.731501      0.707277              0.828601   \n",
       "std                   0.443201      0.455035              0.376877   \n",
       "min                   0.000000      0.000000              0.000000   \n",
       "25%                   0.000000      0.000000              1.000000   \n",
       "50%                   1.000000      1.000000              1.000000   \n",
       "75%                   1.000000      1.000000              1.000000   \n",
       "max                   1.000000      1.000000              1.000000   \n",
       "\n",
       "       host_response_rate_f  host_acceptance_rate_f  host_neighbourhood_f  \\\n",
       "count           9825.000000             9825.000000           9825.000000   \n",
       "mean               0.828601                0.861272              0.875623   \n",
       "std                0.376877                0.345680              0.330027   \n",
       "min                0.000000                0.000000              0.000000   \n",
       "25%                1.000000                1.000000              1.000000   \n",
       "50%                1.000000                1.000000              1.000000   \n",
       "75%                1.000000                1.000000              1.000000   \n",
       "max                1.000000                1.000000              1.000000   \n",
       "\n",
       "             price  availability_30  availability_60  availability_90  \n",
       "count  9825.000000      9825.000000      9825.000000      9825.000000  \n",
       "mean    178.069313        11.231552        27.325293        46.218626  \n",
       "std     148.448029        11.269745        22.415682        32.691111  \n",
       "min      10.000000         0.000000         0.000000         0.000000  \n",
       "25%      81.000000         0.000000         1.000000        13.000000  \n",
       "50%     134.000000         8.000000        27.000000        51.000000  \n",
       "75%     219.000000        22.000000        49.000000        78.000000  \n",
       "max    1000.000000        30.000000        60.000000        90.000000  \n",
       "\n",
       "[8 rows x 26 columns]"
      ]
     },
     "execution_count": 105,
     "metadata": {},
     "output_type": "execute_result"
    }
   ],
   "source": [
    "train.describe()"
   ]
  },
  {
   "cell_type": "code",
   "execution_count": 106,
   "id": "f1cc7627-d772-4e67-ab3d-858402850df0",
   "metadata": {},
   "outputs": [],
   "source": [
    "# Price"
   ]
  },
  {
   "cell_type": "code",
   "execution_count": 107,
   "id": "0c6e9521-e68f-4523-85c3-ae30b38044c7",
   "metadata": {},
   "outputs": [
    {
     "data": {
      "image/png": "[encoded data removed]",
      "text/plain": [
       "<Figure size 432x288 with 1 Axes>"
      ]
     },
     "metadata": {
      "needs_background": "light"
     },
     "output_type": "display_data"
    }
   ],
   "source": [
    "train['price'].hist();"
   ]
  },
  {
   "cell_type": "code",
   "execution_count": 108,
   "id": "32519036-4995-4aa8-906a-4153923a47d8",
   "metadata": {},
   "outputs": [
    {
     "data": {
      "text/plain": [
       "Text(0.5, 1.1, 'Price per night by county')"
      ]
     },
     "execution_count": 108,
     "metadata": {},
     "output_type": "execute_result"
    },
    {
     "data": {
      "image/png": "[encoded data removed]",
      "text/plain": [
       "<Figure size 1008x216 with 3 Axes>"
      ]
     },
     "metadata": {
      "needs_background": "light"
     },
     "output_type": "display_data"
    }
   ],
   "source": [
    "train.hist(column='price', by='county', figsize=(14,3), layout=(1,3), xrot=0, legend=False, sharex=True, sharey=True)\n",
    ";\n",
    "plt.suptitle('Price per night by county', x=0.5, y=1.1, fontsize=16)\n",
    "#plt.savefig('../Plots/price_bycounty_hist2.png')"
   ]
  },
  {
   "cell_type": "code",
   "execution_count": 109,
   "id": "1abbfa62-5cbb-4581-b87b-a31049d9f04f",
   "metadata": {},
   "outputs": [
    {
     "data": {
      "image/png": "[encoded data removed]",
      "text/plain": [
       "<Figure size 432x288 with 1 Axes>"
      ]
     },
     "metadata": {
      "needs_background": "light"
     },
     "output_type": "display_data"
    }
   ],
   "source": [
    "train.groupby('county')['price'].hist(alpha=0.3, legend=True)\n",
    "plt.legend()\n",
    "plt.title('Price by county', fontsize=16)\n",
    "plt.xlabel('price per night');\n",
    "\n",
    "#plt.savefig('../Plots/price_bycounty_hist.png')"
   ]
  },
  {
   "cell_type": "code",
   "execution_count": 118,
   "id": "642b7ece-0cde-4e85-85ab-af2218aef956",
   "metadata": {},
   "outputs": [
    {
     "data": {
      "text/plain": [
       "''"
      ]
     },
     "execution_count": 118,
     "metadata": {},
     "output_type": "execute_result"
    },
    {
     "data": {
      "image/png": "[encoded data removed]",
      "text/plain": [
       "<Figure size 432x864 with 2 Axes>"
      ]
     },
     "metadata": {
      "needs_background": "light"
     },
     "output_type": "display_data"
    }
   ],
   "source": [
    "plt.figure(figsize=(6,12))\n",
    "sns.heatmap(train.corr()[['price']].sort_values('price',ascending=False), annot=True, cmap='coolwarm', vmin=-1, vmax=1)\n",
    "; "
   ]
  },
  {
   "cell_type": "code",
   "execution_count": 119,
   "id": "93934faf-9565-4200-8ee7-dbbc7b95efa8",
   "metadata": {},
   "outputs": [
    {
     "data": {
      "image/png": "[encoded data removed]",
      "text/plain": [
       "<Figure size 720x576 with 2 Axes>"
      ]
     },
     "metadata": {
      "needs_background": "light"
     },
     "output_type": "display_data"
    }
   ],
   "source": [
    "mask = np.zeros_like(train[['accommodates','bedrooms','beds','bathrooms','bathroom_type','minimum_nights','maximum_nights']].corr())\n",
    "mask[np.triu_indices_from(mask)] = True\n",
    "\n",
    "plt.figure(figsize=(10,8))\n",
    "sns.heatmap(train[['accommodates','bedrooms','beds','bathrooms','bathroom_type','minimum_nights','maximum_nights']].corr(), \n",
    "            mask=mask, annot=True, cmap='coolwarm', vmin=-1, vmax=1);"
   ]
  },
  {
   "cell_type": "code",
   "execution_count": 120,
   "id": "d641d8c0-0cd9-47ca-8a3b-688ed3333013",
   "metadata": {},
   "outputs": [
    {
     "data": {
      "text/plain": [
       "Text(0.5, 0.98, 'Listing price by size related features')"
      ]
     },
     "execution_count": 120,
     "metadata": {},
     "output_type": "execute_result"
    },
    {
     "data": {
      "image/png": "[encoded data removed]",
      "text/plain": [
       "<Figure size 864x288 with 3 Axes>"
      ]
     },
     "metadata": {
      "needs_background": "light"
     },
     "output_type": "display_data"
    }
   ],
   "source": [
    "figure, axes = plt.subplots(1, 3, figsize=(12,4), sharex=True)\n",
    "\n",
    "ax1 = sns.regplot(x='bedrooms',     y='price', data=train, ax=axes[0], line_kws={'color':'orange'})\n",
    "ax2 = sns.regplot(x='beds',         y='price', data=train, ax=axes[1], line_kws={'color':'orange'})\n",
    "ax3 = sns.regplot(x='accommodates', y='price', data=train, ax=axes[2], line_kws={'color':'orange'})\n",
    "\n",
    "plt.suptitle('Listing price by size related features', fontsize=14)"
   ]
  },
  {
   "cell_type": "markdown",
   "id": "0f08498a-664d-415d-b00a-98e5803fc3bb",
   "metadata": {},
   "source": [
    "**Observations**: \n",
    "1. Listing price is correlated with the number of bedrooms and beds and the number of people it can accommodate. \n",
    "2. The number of beds, bedrooms and people the unit can accommodate are highly correlated."
   ]
  },
  {
   "cell_type": "code",
   "execution_count": 123,
   "id": "c6cb4b3d-34ae-4b57-9583-56ba8e4350a2",
   "metadata": {},
   "outputs": [],
   "source": [
    "# price by categorical "
   ]
  },
  {
   "cell_type": "code",
   "execution_count": 126,
   "id": "888034e9-ea6b-40ce-a5da-b3942b63ed55",
   "metadata": {},
   "outputs": [
    {
     "data": {
      "image/png": "[encoded data removed]",
      "text/plain": [
       "<Figure size 576x432 with 1 Axes>"
      ]
     },
     "metadata": {
      "needs_background": "light"
     },
     "output_type": "display_data"
    }
   ],
   "source": [
    "plt.figure(figsize=(8, 6))\n",
    "sns.barplot(y='property_type_recoded', x='price', data=train, orient='h');"
   ]
  },
  {
   "cell_type": "code",
   "execution_count": 128,
   "id": "cf35f5b3-6cf3-44c3-a2c3-0dc56a84bd2c",
   "metadata": {},
   "outputs": [
    {
     "data": {
      "image/png": "[encoded data removed]",
      "text/plain": [
       "<Figure size 576x576 with 1 Axes>"
      ]
     },
     "metadata": {
      "needs_background": "light"
     },
     "output_type": "display_data"
    }
   ],
   "source": [
    "plt.figure(figsize=(8,8))\n",
    "train.groupby('property_type_recoded').mean()['price'].sort_values(ascending=True).plot.barh()\n",
    "plt.title('Listing price by property type', fontsize=16); "
   ]
  },
  {
   "cell_type": "code",
   "execution_count": 138,
   "id": "a6029076-a1e2-4bd6-baa1-5476b2696459",
   "metadata": {},
   "outputs": [
    {
     "data": {
      "image/png": "[encoded data removed]",
      "text/plain": [
       "<Figure size 288x288 with 1 Axes>"
      ]
     },
     "metadata": {
      "needs_background": "light"
     },
     "output_type": "display_data"
    }
   ],
   "source": [
    "plt.figure(figsize=(4,4))\n",
    "train.groupby('neighborhood_recoded').mean()['price'].sort_values(ascending=True).tail(10).plot.barh(); "
   ]
  },
  {
   "cell_type": "markdown",
   "id": "d94ed668-2ed9-40ca-9a17-136699aadd4c",
   "metadata": {},
   "source": [
    "## Modeling"
   ]
  },
  {
   "cell_type": "code",
   "execution_count": 231,
   "id": "59b412a0-6dd4-424d-8dc4-69f49abf2d11",
   "metadata": {},
   "outputs": [
    {
     "data": {
      "text/plain": [
       "['Private room in residential home',\n",
       " 'Private room in guest suite',\n",
       " 'Entire guest suite',\n",
       " 'Room in boutique hotel',\n",
       " 'Private room in condominium (condo)',\n",
       " 'Entire residential home',\n",
       " 'Entire rental unit',\n",
       " 'Entire loft',\n",
       " 'Entire guesthouse',\n",
       " 'Entire serviced apartment',\n",
       " 'Other',\n",
       " 'Private room in rental unit',\n",
       " 'Room in hotel',\n",
       " 'Entire condominium (condo)',\n",
       " 'Entire townhouse',\n",
       " 'Private room in townhouse',\n",
       " 'Shared room in residential home']"
      ]
     },
     "execution_count": 231,
     "metadata": {},
     "output_type": "execute_result"
    }
   ],
   "source": [
    "list(X_train['property_type_recoded'].unique())"
   ]
  },
  {
   "cell_type": "code",
   "execution_count": 232,
   "id": "541b299c-87c3-44ab-9910-6049414b6ece",
   "metadata": {},
   "outputs": [
    {
     "name": "stdout",
     "output_type": "stream",
     "text": [
      "(7368, 35)\n"
     ]
    },
    {
     "data": {
      "text/html": [
       "<div>\n",
       "<style scoped>\n",
       "    .dataframe tbody tr th:only-of-type {\n",
       "        vertical-align: middle;\n",
       "    }\n",
       "\n",
       "    .dataframe tbody tr th {\n",
       "        vertical-align: top;\n",
       "    }\n",
       "\n",
       "    .dataframe thead th {\n",
       "        text-align: right;\n",
       "    }\n",
       "</style>\n",
       "<table border=\"1\" class=\"dataframe\">\n",
       "  <thead>\n",
       "    <tr style=\"text-align: right;\">\n",
       "      <th></th>\n",
       "      <th>neighborhood_recoded</th>\n",
       "      <th>county</th>\n",
       "      <th>property_type_recoded</th>\n",
       "      <th>accommodates</th>\n",
       "      <th>bedrooms</th>\n",
       "      <th>beds</th>\n",
       "      <th>bathrooms</th>\n",
       "      <th>bathroom_type</th>\n",
       "      <th>minimum_nights</th>\n",
       "      <th>maximum_nights</th>\n",
       "      <th>...</th>\n",
       "      <th>review_scores_value</th>\n",
       "      <th>number_of_reviews</th>\n",
       "      <th>number_of_reviews_ltm</th>\n",
       "      <th>number_of_reviews_l30d</th>\n",
       "      <th>neighborhood_overview_f</th>\n",
       "      <th>host_about_f</th>\n",
       "      <th>host_response_time_f</th>\n",
       "      <th>host_response_rate_f</th>\n",
       "      <th>host_acceptance_rate_f</th>\n",
       "      <th>host_neighbourhood_f</th>\n",
       "    </tr>\n",
       "  </thead>\n",
       "  <tbody>\n",
       "    <tr>\n",
       "      <th>4852</th>\n",
       "      <td>Redwood City</td>\n",
       "      <td>San Mateo</td>\n",
       "      <td>Private room in residential home</td>\n",
       "      <td>4</td>\n",
       "      <td>2.0</td>\n",
       "      <td>2.0</td>\n",
       "      <td>1.0</td>\n",
       "      <td>shared</td>\n",
       "      <td>15</td>\n",
       "      <td>1125</td>\n",
       "      <td>...</td>\n",
       "      <td>4.81</td>\n",
       "      <td>63</td>\n",
       "      <td>0</td>\n",
       "      <td>0</td>\n",
       "      <td>1</td>\n",
       "      <td>0</td>\n",
       "      <td>1</td>\n",
       "      <td>1</td>\n",
       "      <td>1</td>\n",
       "      <td>1</td>\n",
       "    </tr>\n",
       "    <tr>\n",
       "      <th>4052</th>\n",
       "      <td>Noe Valley</td>\n",
       "      <td>San Francisco</td>\n",
       "      <td>Private room in residential home</td>\n",
       "      <td>2</td>\n",
       "      <td>1.0</td>\n",
       "      <td>1.0</td>\n",
       "      <td>1.5</td>\n",
       "      <td>shared</td>\n",
       "      <td>2</td>\n",
       "      <td>7</td>\n",
       "      <td>...</td>\n",
       "      <td>5.00</td>\n",
       "      <td>6</td>\n",
       "      <td>6</td>\n",
       "      <td>2</td>\n",
       "      <td>0</td>\n",
       "      <td>1</td>\n",
       "      <td>0</td>\n",
       "      <td>0</td>\n",
       "      <td>0</td>\n",
       "      <td>1</td>\n",
       "    </tr>\n",
       "    <tr>\n",
       "      <th>8104</th>\n",
       "      <td>San Jose</td>\n",
       "      <td>Santa Clara</td>\n",
       "      <td>Private room in residential home</td>\n",
       "      <td>2</td>\n",
       "      <td>1.0</td>\n",
       "      <td>1.0</td>\n",
       "      <td>3.0</td>\n",
       "      <td>shared</td>\n",
       "      <td>2</td>\n",
       "      <td>1125</td>\n",
       "      <td>...</td>\n",
       "      <td>4.87</td>\n",
       "      <td>67</td>\n",
       "      <td>18</td>\n",
       "      <td>1</td>\n",
       "      <td>1</td>\n",
       "      <td>1</td>\n",
       "      <td>1</td>\n",
       "      <td>1</td>\n",
       "      <td>1</td>\n",
       "      <td>1</td>\n",
       "    </tr>\n",
       "    <tr>\n",
       "      <th>1396</th>\n",
       "      <td>Bernal Heights</td>\n",
       "      <td>San Francisco</td>\n",
       "      <td>Private room in guest suite</td>\n",
       "      <td>2</td>\n",
       "      <td>1.0</td>\n",
       "      <td>1.0</td>\n",
       "      <td>1.0</td>\n",
       "      <td>private</td>\n",
       "      <td>2</td>\n",
       "      <td>14</td>\n",
       "      <td>...</td>\n",
       "      <td>4.90</td>\n",
       "      <td>141</td>\n",
       "      <td>11</td>\n",
       "      <td>3</td>\n",
       "      <td>0</td>\n",
       "      <td>0</td>\n",
       "      <td>0</td>\n",
       "      <td>0</td>\n",
       "      <td>0</td>\n",
       "      <td>1</td>\n",
       "    </tr>\n",
       "    <tr>\n",
       "      <th>7150</th>\n",
       "      <td>San Jose</td>\n",
       "      <td>Santa Clara</td>\n",
       "      <td>Private room in residential home</td>\n",
       "      <td>2</td>\n",
       "      <td>1.0</td>\n",
       "      <td>1.0</td>\n",
       "      <td>1.0</td>\n",
       "      <td>private</td>\n",
       "      <td>1</td>\n",
       "      <td>2</td>\n",
       "      <td>...</td>\n",
       "      <td>4.90</td>\n",
       "      <td>105</td>\n",
       "      <td>3</td>\n",
       "      <td>0</td>\n",
       "      <td>1</td>\n",
       "      <td>1</td>\n",
       "      <td>1</td>\n",
       "      <td>1</td>\n",
       "      <td>1</td>\n",
       "      <td>0</td>\n",
       "    </tr>\n",
       "  </tbody>\n",
       "</table>\n",
       "<p>5 rows × 35 columns</p>\n",
       "</div>"
      ],
      "text/plain": [
       "     neighborhood_recoded         county             property_type_recoded  \\\n",
       "4852         Redwood City      San Mateo  Private room in residential home   \n",
       "4052           Noe Valley  San Francisco  Private room in residential home   \n",
       "8104             San Jose    Santa Clara  Private room in residential home   \n",
       "1396       Bernal Heights  San Francisco       Private room in guest suite   \n",
       "7150             San Jose    Santa Clara  Private room in residential home   \n",
       "\n",
       "      accommodates  bedrooms  beds  bathrooms bathroom_type  minimum_nights  \\\n",
       "4852             4       2.0   2.0        1.0        shared              15   \n",
       "4052             2       1.0   1.0        1.5        shared               2   \n",
       "8104             2       1.0   1.0        3.0        shared               2   \n",
       "1396             2       1.0   1.0        1.0       private               2   \n",
       "7150             2       1.0   1.0        1.0       private               1   \n",
       "\n",
       "      maximum_nights  ...  review_scores_value  number_of_reviews  \\\n",
       "4852            1125  ...                 4.81                 63   \n",
       "4052               7  ...                 5.00                  6   \n",
       "8104            1125  ...                 4.87                 67   \n",
       "1396              14  ...                 4.90                141   \n",
       "7150               2  ...                 4.90                105   \n",
       "\n",
       "      number_of_reviews_ltm  number_of_reviews_l30d  neighborhood_overview_f  \\\n",
       "4852                      0                       0                        1   \n",
       "4052                      6                       2                        0   \n",
       "8104                     18                       1                        1   \n",
       "1396                     11                       3                        0   \n",
       "7150                      3                       0                        1   \n",
       "\n",
       "      host_about_f  host_response_time_f  host_response_rate_f  \\\n",
       "4852             0                     1                     1   \n",
       "4052             1                     0                     0   \n",
       "8104             1                     1                     1   \n",
       "1396             0                     0                     0   \n",
       "7150             1                     1                     1   \n",
       "\n",
       "      host_acceptance_rate_f  host_neighbourhood_f  \n",
       "4852                       1                     1  \n",
       "4052                       0                     1  \n",
       "8104                       1                     1  \n",
       "1396                       0                     1  \n",
       "7150                       1                     0  \n",
       "\n",
       "[5 rows x 35 columns]"
      ]
     },
     "execution_count": 232,
     "metadata": {},
     "output_type": "execute_result"
    }
   ],
   "source": [
    "print(X_train.shape)\n",
    "X_train.head()"
   ]
  },
  {
   "cell_type": "code",
   "execution_count": 233,
   "id": "4b06f844-c253-4f15-8e55-1fc27865805e",
   "metadata": {},
   "outputs": [],
   "source": [
    "# save m1_X_train\n",
    "X_train.to_csv('../Data/m1_X_train.csv')"
   ]
  },
  {
   "cell_type": "code",
   "execution_count": 234,
   "id": "4feafe18-3eb6-4c08-9564-2a1128ebc58f",
   "metadata": {},
   "outputs": [
    {
     "data": {
      "text/plain": [
       "(7368, 98)"
      ]
     },
     "execution_count": 234,
     "metadata": {},
     "output_type": "execute_result"
    }
   ],
   "source": [
    "# get the data shape after one hot encoding \n",
    "\n",
    "# https://contrib.scikit-learn.org/category_encoders/onehot.html\n",
    "ohe = ce.one_hot.OneHotEncoder(use_cat_names=True, handle_unknown='value')\n",
    "\n",
    "X_train_ohe = ohe.fit_transform(X_train, use_cat_names=True)\n",
    "X_train_ohe.shape"
   ]
  },
  {
   "cell_type": "code",
   "execution_count": 235,
   "id": "de9f9b99-2af4-4873-9786-c06d3414ffe0",
   "metadata": {},
   "outputs": [],
   "source": [
    "#X_train_ohe.columns"
   ]
  },
  {
   "cell_type": "markdown",
   "id": "1d1063af-2f50-4f86-a90c-43ee0755f602",
   "metadata": {},
   "source": [
    "### Baseline model"
   ]
  },
  {
   "cell_type": "code",
   "execution_count": 244,
   "id": "dc03f363-74cf-4066-8ee7-085809dc79f8",
   "metadata": {},
   "outputs": [
    {
     "name": "stdout",
     "output_type": "stream",
     "text": [
      "Average listing price: 177.53\n",
      "price_base_mse: 21698\n"
     ]
    },
    {
     "data": {
      "text/plain": [
       "\"\\nprice_pred_base_R2_train = metrics.r2_score(y_train, price_pred_base_train)\\nprice_pred_base_mse_train = metrics.mean_squared_error(y_train, price_pred_base_train)\\nprint(f'price_pred_base_R2_train: {round(price_pred_base_R2_train, 4)}')\\nprint(f'price_pred_base_R2_train: {round(price_pred_base_R2_train, 4)}')\\n\\n# test set\\nprice_pred_base_test = y_test.mean()\\n\\nprice_pred_base_R2_test = metrics.r2_score(y_test, price_pred_base_test)\\nprice_pred_base_mse_test = metrics.mean_squared_error(y_test, price_pred_base_test)\\nprint(f'price_pred_base_R2_test: {round(price_pred_base_R2_test, 4)}')\\nprint(f'price_pred_base_mse_test: {round(price_pred_base_mse_test, 4)}')\\n\""
      ]
     },
     "execution_count": 244,
     "metadata": {},
     "output_type": "execute_result"
    }
   ],
   "source": [
    "# train set\n",
    "price_pred_base_train = y_train.mean()\n",
    "print(f'Average listing price: {round(price_pred_base_train, 2)}')\n",
    "\n",
    "price_base_mse = np.mean((y_train - price_pred_base_train)**2)\n",
    "print(f'price_base_mse: {round(price_base_mse)}')\n",
    "'''\n",
    "price_pred_base_R2_train = metrics.r2_score(y_train, price_pred_base_train)\n",
    "price_pred_base_mse_train = metrics.mean_squared_error(y_train, price_pred_base_train)\n",
    "print(f'price_pred_base_R2_train: {round(price_pred_base_R2_train, 4)}')\n",
    "print(f'price_pred_base_R2_train: {round(price_pred_base_R2_train, 4)}')\n",
    "\n",
    "# test set\n",
    "price_pred_base_test = y_test.mean()\n",
    "\n",
    "price_pred_base_R2_test = metrics.r2_score(y_test, price_pred_base_test)\n",
    "price_pred_base_mse_test = metrics.mean_squared_error(y_test, price_pred_base_test)\n",
    "print(f'price_pred_base_R2_test: {round(price_pred_base_R2_test, 4)}')\n",
    "print(f'price_pred_base_mse_test: {round(price_pred_base_mse_test, 4)}')\n",
    "'''"
   ]
  },
  {
   "cell_type": "code",
   "execution_count": null,
   "id": "fe3409bc-104c-48bc-99f3-b17bb84acdd1",
   "metadata": {},
   "outputs": [],
   "source": []
  },
  {
   "cell_type": "code",
   "execution_count": null,
   "id": "8c2b2358-5270-475f-b2fc-3452a2f789b3",
   "metadata": {},
   "outputs": [],
   "source": []
  },
  {
   "cell_type": "markdown",
   "id": "05ca74ae-5ea0-4683-9c77-331c8d94c65e",
   "metadata": {},
   "source": [
    "### Random Forest regressor"
   ]
  },
  {
   "cell_type": "markdown",
   "id": "5967a798-281f-4961-8a2e-63d55d3d204c",
   "metadata": {},
   "source": [
    "#### Default parameter values"
   ]
  },
  {
   "cell_type": "code",
   "execution_count": 143,
   "id": "9b77578d-b8e5-4962-9328-9923fde0496e",
   "metadata": {},
   "outputs": [
    {
     "name": "stdout",
     "output_type": "stream",
     "text": [
      "m1_pipe_rf_base_R2_train:  0.9504\n",
      "m1_pipe_rf_base_R2_test:  0.6592\n",
      "m1_pipe_rf_base_mse_train 1076.3492\n",
      "m1_pipe_rf_base_mse_test 7851.2171\n"
     ]
    }
   ],
   "source": [
    "m1_pipe_rf_base = Pipeline([\n",
    "    ('ohe', ce.one_hot.OneHotEncoder(use_cat_names=True, handle_unknown='value')),\n",
    "    ('rf', RandomForestRegressor(random_state=42, n_jobs=-1))\n",
    "])\n",
    "\n",
    "m1_pipe_rf_base.fit(X_train, y_train)\n",
    "m1_pipe_rf_base_pred_train = m1_pipe_rf_base.predict(X_train)\n",
    "m1_pipe_rf_base_pred_test = m1_pipe_rf_base.predict(X_test)\n",
    "\n",
    "m1_pipe_rf_base_R2_train = m1_pipe_rf_base.score(X_train, y_train)\n",
    "m1_pipe_rf_base_R2_test = m1_pipe_rf_base.score(X_test, y_test)\n",
    "print('m1_pipe_rf_base_R2_train: ', round(m1_pipe_rf_base_R2_train, 4))\n",
    "print('m1_pipe_rf_base_R2_test: ', round(m1_pipe_rf_base_R2_test, 4))\n",
    "\n",
    "m1_pipe_rf_base_mse_train = metrics.mean_squared_error(y_train, m1_pipe_rf_base_pred_train)\n",
    "m1_pipe_rf_base_mse_test = metrics.mean_squared_error(y_test, m1_pipe_rf_base_pred_test)\n",
    "print('m1_pipe_rf_base_mse_train', round(m1_pipe_rf_base_mse_train, 4))\n",
    "print('m1_pipe_rf_base_mse_test', round(m1_pipe_rf_base_mse_test, 4))"
   ]
  },
  {
   "cell_type": "markdown",
   "id": "c96a912a-99d0-4d0c-be99-93c0fa1bca42",
   "metadata": {},
   "source": [
    "#### GridSearchCV"
   ]
  },
  {
   "cell_type": "code",
   "execution_count": 153,
   "id": "baa0e25f-e121-4f5e-bca3-b77c54933c62",
   "metadata": {},
   "outputs": [
    {
     "name": "stdout",
     "output_type": "stream",
     "text": [
      "2022-02-03 17:10:19.385767\n",
      "2022-02-03 18:23:56.538816\n"
     ]
    }
   ],
   "source": [
    "m1_pipe_rf = Pipeline([\n",
    "    ('ohe', ce.one_hot.OneHotEncoder(use_cat_names=True, handle_unknown='value')),\n",
    "    ('rf', RandomForestRegressor(random_state=42, n_jobs=-1))\n",
    "])\n",
    "\n",
    "m1_pipe_rf_params = {\n",
    "    'rf__n_estimators': [400, 500, 600, 700, 800],\n",
    "    'rf__max_depth': [6, 8, 10, 12, 14, 16, 18, 20],\n",
    "    'rf__min_samples_split': [10, 20],\n",
    "    'rf__min_samples_leaf': [5],\n",
    "    #'rf__ccp_alpha': [0.0, 0.05, 0.1],\n",
    "    'rf__max_features': [15, 30, 60, 90]\n",
    "}\n",
    "    \n",
    "m1_gs_rf = GridSearchCV(m1_pipe_rf,\n",
    "                        m1_pipe_rf_params,\n",
    "                        cv=5)\n",
    "        \n",
    "print(datetime.datetime.now())\n",
    "\n",
    "m1_gs_rf.fit(X_train, y_train)\n",
    "\n",
    "print(datetime.datetime.now())\n",
    "    "
   ]
  },
  {
   "cell_type": "code",
   "execution_count": 155,
   "id": "8f986f03-933f-415a-936a-89684733df47",
   "metadata": {},
   "outputs": [
    {
     "name": "stdout",
     "output_type": "stream",
     "text": [
      "m1_gs_rf_R2_train:  0.8195\n",
      "m1_gs_rf_R2_test:   0.6489\n",
      "m1_gs_rf_mse_train:  3916.1887\n",
      "m1_gs_rf_mse_test:   8090.0729\n"
     ]
    },
    {
     "data": {
      "text/plain": [
       "Pipeline(steps=[('ohe',\n",
       "                 OneHotEncoder(cols=['neighborhood_recoded', 'county',\n",
       "                                     'property_type_recoded', 'bathroom_type'],\n",
       "                               use_cat_names=True)),\n",
       "                ('rf',\n",
       "                 RandomForestRegressor(max_depth=18, max_features=60,\n",
       "                                       min_samples_leaf=5, min_samples_split=10,\n",
       "                                       n_estimators=400, n_jobs=-1,\n",
       "                                       random_state=42))])"
      ]
     },
     "execution_count": 155,
     "metadata": {},
     "output_type": "execute_result"
    }
   ],
   "source": [
    "# predict\n",
    "m1_gs_rf_pred_train = m1_gs_rf.predict(X_train)\n",
    "m1_gs_rf_pred_test = m1_gs_rf.predict(X_test)\n",
    "\n",
    "# evaluate\n",
    "m1_gs_rf_R2_train = m1_gs_rf.score(X_train, y_train)\n",
    "m1_gs_rf_R2_test = m1_gs_rf.score(X_test, y_test)\n",
    "print('m1_gs_rf_R2_train: ', round(m1_gs_rf_R2_train, 4))\n",
    "print('m1_gs_rf_R2_test:  ', round(m1_gs_rf_R2_test, 4))\n",
    "\n",
    "m1_gs_rf_mse_train = metrics.mean_squared_error(y_train, m1_gs_rf_pred_train)\n",
    "m1_gs_rf_mse_test = metrics.mean_squared_error(y_test, m1_gs_rf_pred_test)\n",
    "print('m1_gs_rf_mse_train: ', round(m1_gs_rf_mse_train, 4))\n",
    "print('m1_gs_rf_mse_test:  ', round(m1_gs_rf_mse_test, 4))\n",
    "\n",
    "m1_gs_rf.best_estimator_"
   ]
  },
  {
   "cell_type": "code",
   "execution_count": 159,
   "id": "accb1c30-a1a7-42fe-9257-530ff222ba77",
   "metadata": {},
   "outputs": [
    {
     "data": {
      "text/html": [
       "<div>\n",
       "<style scoped>\n",
       "    .dataframe tbody tr th:only-of-type {\n",
       "        vertical-align: middle;\n",
       "    }\n",
       "\n",
       "    .dataframe tbody tr th {\n",
       "        vertical-align: top;\n",
       "    }\n",
       "\n",
       "    .dataframe thead th {\n",
       "        text-align: right;\n",
       "    }\n",
       "</style>\n",
       "<table border=\"1\" class=\"dataframe\">\n",
       "  <thead>\n",
       "    <tr style=\"text-align: right;\">\n",
       "      <th></th>\n",
       "      <th>feature</th>\n",
       "      <th>importance</th>\n",
       "    </tr>\n",
       "  </thead>\n",
       "  <tbody>\n",
       "    <tr>\n",
       "      <th>66</th>\n",
       "      <td>bedrooms</td>\n",
       "      <td>0.333338</td>\n",
       "    </tr>\n",
       "    <tr>\n",
       "      <th>65</th>\n",
       "      <td>accommodates</td>\n",
       "      <td>0.133263</td>\n",
       "    </tr>\n",
       "    <tr>\n",
       "      <th>68</th>\n",
       "      <td>bathrooms</td>\n",
       "      <td>0.064129</td>\n",
       "    </tr>\n",
       "    <tr>\n",
       "      <th>67</th>\n",
       "      <td>beds</td>\n",
       "      <td>0.043420</td>\n",
       "    </tr>\n",
       "    <tr>\n",
       "      <th>71</th>\n",
       "      <td>minimum_nights</td>\n",
       "      <td>0.036626</td>\n",
       "    </tr>\n",
       "    <tr>\n",
       "      <th>82</th>\n",
       "      <td>review_scores_rating</td>\n",
       "      <td>0.030064</td>\n",
       "    </tr>\n",
       "    <tr>\n",
       "      <th>88</th>\n",
       "      <td>review_scores_value</td>\n",
       "      <td>0.027649</td>\n",
       "    </tr>\n",
       "    <tr>\n",
       "      <th>87</th>\n",
       "      <td>review_scores_location</td>\n",
       "      <td>0.026085</td>\n",
       "    </tr>\n",
       "    <tr>\n",
       "      <th>72</th>\n",
       "      <td>maximum_nights</td>\n",
       "      <td>0.024939</td>\n",
       "    </tr>\n",
       "    <tr>\n",
       "      <th>70</th>\n",
       "      <td>bathroom_type_private</td>\n",
       "      <td>0.022662</td>\n",
       "    </tr>\n",
       "    <tr>\n",
       "      <th>90</th>\n",
       "      <td>number_of_reviews_ltm</td>\n",
       "      <td>0.022463</td>\n",
       "    </tr>\n",
       "    <tr>\n",
       "      <th>84</th>\n",
       "      <td>review_scores_cleanliness</td>\n",
       "      <td>0.021864</td>\n",
       "    </tr>\n",
       "    <tr>\n",
       "      <th>69</th>\n",
       "      <td>bathroom_type_shared</td>\n",
       "      <td>0.021656</td>\n",
       "    </tr>\n",
       "    <tr>\n",
       "      <th>89</th>\n",
       "      <td>number_of_reviews</td>\n",
       "      <td>0.021547</td>\n",
       "    </tr>\n",
       "    <tr>\n",
       "      <th>48</th>\n",
       "      <td>property_type_recoded_Private room in residential home</td>\n",
       "      <td>0.015837</td>\n",
       "    </tr>\n",
       "    <tr>\n",
       "      <th>46</th>\n",
       "      <td>county_San Francisco</td>\n",
       "      <td>0.015379</td>\n",
       "    </tr>\n",
       "    <tr>\n",
       "      <th>83</th>\n",
       "      <td>review_scores_accuracy</td>\n",
       "      <td>0.014001</td>\n",
       "    </tr>\n",
       "    <tr>\n",
       "      <th>86</th>\n",
       "      <td>review_scores_communication</td>\n",
       "      <td>0.011321</td>\n",
       "    </tr>\n",
       "    <tr>\n",
       "      <th>53</th>\n",
       "      <td>property_type_recoded_Entire residential home</td>\n",
       "      <td>0.010538</td>\n",
       "    </tr>\n",
       "    <tr>\n",
       "      <th>47</th>\n",
       "      <td>county_Santa Clara</td>\n",
       "      <td>0.010081</td>\n",
       "    </tr>\n",
       "    <tr>\n",
       "      <th>85</th>\n",
       "      <td>review_scores_checkin</td>\n",
       "      <td>0.008860</td>\n",
       "    </tr>\n",
       "    <tr>\n",
       "      <th>79</th>\n",
       "      <td>Indoor_fireplace</td>\n",
       "      <td>0.006660</td>\n",
       "    </tr>\n",
       "    <tr>\n",
       "      <th>91</th>\n",
       "      <td>number_of_reviews_l30d</td>\n",
       "      <td>0.005973</td>\n",
       "    </tr>\n",
       "    <tr>\n",
       "      <th>80</th>\n",
       "      <td>Private_entrance</td>\n",
       "      <td>0.005317</td>\n",
       "    </tr>\n",
       "    <tr>\n",
       "      <th>77</th>\n",
       "      <td>BBQ_grill</td>\n",
       "      <td>0.004494</td>\n",
       "    </tr>\n",
       "    <tr>\n",
       "      <th>24</th>\n",
       "      <td>neighborhood_recoded_Russian Hill</td>\n",
       "      <td>0.004282</td>\n",
       "    </tr>\n",
       "    <tr>\n",
       "      <th>2</th>\n",
       "      <td>neighborhood_recoded_San Jose</td>\n",
       "      <td>0.003944</td>\n",
       "    </tr>\n",
       "    <tr>\n",
       "      <th>75</th>\n",
       "      <td>Patio_or_balcony</td>\n",
       "      <td>0.003896</td>\n",
       "    </tr>\n",
       "    <tr>\n",
       "      <th>92</th>\n",
       "      <td>neighborhood_overview_f</td>\n",
       "      <td>0.003761</td>\n",
       "    </tr>\n",
       "    <tr>\n",
       "      <th>74</th>\n",
       "      <td>Dedicated_workspace</td>\n",
       "      <td>0.003299</td>\n",
       "    </tr>\n",
       "  </tbody>\n",
       "</table>\n",
       "</div>"
      ],
      "text/plain": [
       "                                                   feature  importance\n",
       "66                                                bedrooms    0.333338\n",
       "65                                            accommodates    0.133263\n",
       "68                                               bathrooms    0.064129\n",
       "67                                                    beds    0.043420\n",
       "71                                          minimum_nights    0.036626\n",
       "82                                    review_scores_rating    0.030064\n",
       "88                                     review_scores_value    0.027649\n",
       "87                                  review_scores_location    0.026085\n",
       "72                                          maximum_nights    0.024939\n",
       "70                                   bathroom_type_private    0.022662\n",
       "90                                   number_of_reviews_ltm    0.022463\n",
       "84                               review_scores_cleanliness    0.021864\n",
       "69                                    bathroom_type_shared    0.021656\n",
       "89                                       number_of_reviews    0.021547\n",
       "48  property_type_recoded_Private room in residential home    0.015837\n",
       "46                                    county_San Francisco    0.015379\n",
       "83                                  review_scores_accuracy    0.014001\n",
       "86                             review_scores_communication    0.011321\n",
       "53           property_type_recoded_Entire residential home    0.010538\n",
       "47                                      county_Santa Clara    0.010081\n",
       "85                                   review_scores_checkin    0.008860\n",
       "79                                        Indoor_fireplace    0.006660\n",
       "91                                  number_of_reviews_l30d    0.005973\n",
       "80                                        Private_entrance    0.005317\n",
       "77                                               BBQ_grill    0.004494\n",
       "24                       neighborhood_recoded_Russian Hill    0.004282\n",
       "2                            neighborhood_recoded_San Jose    0.003944\n",
       "75                                        Patio_or_balcony    0.003896\n",
       "92                                 neighborhood_overview_f    0.003761\n",
       "74                                     Dedicated_workspace    0.003299"
      ]
     },
     "execution_count": 159,
     "metadata": {},
     "output_type": "execute_result"
    }
   ],
   "source": [
    "m1_gs_rf_feature_importance = pd.DataFrame({'feature': m1_gs_rf.best_estimator_['ohe'].get_feature_names(),\n",
    "                                         'importance': m1_gs_rf.best_estimator_['rf'].feature_importances_})\n",
    "\n",
    "m1_gs_rf_feature_importance.to_csv('../Data/m1_gs_rf_feature_importance.csv', index=False)\n",
    "m1_gs_rf_feature_importance.sort_values('importance', ascending=False).head(30)"
   ]
  },
  {
   "cell_type": "code",
   "execution_count": 160,
   "id": "7642be6c-92f9-473a-bef5-0367bd556079",
   "metadata": {},
   "outputs": [
    {
     "data": {
      "text/plain": [
       "(0.8099105230959827, 0.0)"
      ]
     },
     "execution_count": 160,
     "metadata": {},
     "output_type": "execute_result"
    }
   ],
   "source": [
    "# correlation between actual and predicted prices\n",
    "\n",
    "import scipy\n",
    "scipy.stats.pearsonr(y_test, m1_gs_rf_pred_test)"
   ]
  },
  {
   "cell_type": "markdown",
   "id": "cd22730c-427c-4925-a97b-e151ef1e9cdf",
   "metadata": {},
   "source": [
    "#### Save (and reload) gs_rf model with Joblib"
   ]
  },
  {
   "cell_type": "code",
   "execution_count": 161,
   "id": "738aab67-6d91-4b24-b07e-b0e9b57e5ebd",
   "metadata": {},
   "outputs": [
    {
     "data": {
      "text/plain": [
       "['../Models/m1_gs_rf_joblib.pkl']"
      ]
     },
     "execution_count": 161,
     "metadata": {},
     "output_type": "execute_result"
    }
   ],
   "source": [
    "import joblib\n",
    "\n",
    "# save m1_gs_rf\n",
    "m1_gs_rf_joblib_filename = '../Models/m1_gs_rf_joblib.pkl'\n",
    "\n",
    "joblib.dump(m1_gs_rf, m1_gs_rf_joblib_filename)\n",
    "\n",
    "# reload \n",
    "#m1_gs_rf_joblib = joblib.load(m1_gs_rf_joblib_filename)\n",
    "\n",
    "# predict & evaluate\n",
    "#m1_gs_rf_joblib_pred_test = m1_gs_rf_joblib.predict(X_test)\n",
    "#m1_gs_rf_joblib.score(X_test, y_test)"
   ]
  },
  {
   "cell_type": "markdown",
   "id": "79d7cb03-3db7-4444-9395-abb1c35f8736",
   "metadata": {},
   "source": [
    "### XGBoost "
   ]
  },
  {
   "cell_type": "markdown",
   "id": "2e7f96c5-0f33-46d4-ae0d-db0a23d9dd01",
   "metadata": {},
   "source": [
    "#### Default parameter values"
   ]
  },
  {
   "cell_type": "code",
   "execution_count": 258,
   "id": "24960b21-5708-4bc2-8202-d1e72e08bafd",
   "metadata": {},
   "outputs": [
    {
     "name": "stdout",
     "output_type": "stream",
     "text": [
      "m1_pipe_xgb_base_R2_train:  0.9406\n",
      "m1_pipe_xgb_base_R2_test:  0.6595\n",
      "m1_pipe_xgb_base_mse_train:  1288.0335\n",
      "m1_pipe_xgb_base_mse_test:  7844.9063\n"
     ]
    },
    {
     "data": {
      "text/plain": [
       "['../Models/m1_pipe_xgb_base_joblib.pkl']"
      ]
     },
     "execution_count": 258,
     "metadata": {},
     "output_type": "execute_result"
    }
   ],
   "source": [
    "m1_pipe_xgb_base = Pipeline([\n",
    "    ('ohe', ce.one_hot.OneHotEncoder(use_cat_names=True, handle_unknown='value')),\n",
    "    ('xgb', XGBRegressor(random_state=42))\n",
    "])\n",
    "\n",
    "m1_pipe_xgb_base.fit(X_train, y_train)\n",
    "\n",
    "m1_pipe_xgb_base_pred_train = m1_pipe_xgb_base.predict(X_train)\n",
    "m1_pipe_xgb_base_pred_test = m1_pipe_xgb_base.predict(X_test)\n",
    "\n",
    "\n",
    "m1_pipe_xgb_base_R2_train = m1_pipe_xgb_base.score(X_train, y_train)\n",
    "m1_pipe_xgb_base_R2_test = m1_pipe_xgb_base.score(X_test, y_test)\n",
    "print('m1_pipe_xgb_base_R2_train: ', round(m1_pipe_xgb_base_R2_train, 4))\n",
    "print('m1_pipe_xgb_base_R2_test: ', round(m1_pipe_xgb_base_R2_test, 4))\n",
    "\n",
    "m1_pipe_xgb_base_mse_train = metrics.mean_squared_error(y_train, m1_pipe_xgb_base_pred_train)\n",
    "m1_pipe_xgb_base_mse_test = metrics.mean_squared_error(y_test, m1_pipe_xgb_base_pred_test)\n",
    "print('m1_pipe_xgb_base_mse_train: ', round(m1_pipe_xgb_base_mse_train, 4))\n",
    "print('m1_pipe_xgb_base_mse_test: ', round(m1_pipe_xgb_base_mse_test, 4))\n",
    "\n",
    "# save m1_gs_rf\n",
    "\n",
    "# import joblib\n",
    "m1_pipe_xgb_base_joblib_filename = '../Models/m1_pipe_xgb_base_joblib.pkl'\n",
    "\n",
    "joblib.dump(m1_pipe_xgb_base, m1_pipe_xgb_base_joblib_filename)"
   ]
  },
  {
   "cell_type": "markdown",
   "id": "47fd4710-879e-4a6c-ac86-cfb44f9c464b",
   "metadata": {},
   "source": [
    "#### GridSearchCV - to run!!!"
   ]
  },
  {
   "cell_type": "code",
   "execution_count": null,
   "id": "48a19fdc-406e-4125-b569-a9af8c7c8f80",
   "metadata": {},
   "outputs": [],
   "source": [
    "m1_xgb = XGBRegressor(random_state=42)\n",
    "\n",
    "m1_pipe_xgb = Pipeline([\n",
    "    ('ohe', ce.one_hot.OneHotEncoder(use_cat_names=True, handle_unknown='value')),\n",
    "    ('xgb', XGBRegressor(random_state=42))\n",
    "])\n",
    "\n",
    "m1_pipe_xgb_params = {\n",
    "    'xgb__booster': ['gbtree','gblinear'],\n",
    "    'xgb__n_estimators': [200,300,400],\n",
    "    'xgb__eta': [0.01, 0.03, 0.05, 0.1, 0.2, 0.3, 0.4],\n",
    "    'xgb__max_depth': [3,4,5,6,7,8]\n",
    "}\n",
    "\n",
    "m1_gs_xgb = GridSearchCV(m1_pipe_xgb,\n",
    "                         m1_pipe_xgb_params, \n",
    "                         cv = 5)\n",
    "\n",
    "print(datetime.datetime.now())\n",
    "\n",
    "m1_gs_xgb.fit(X_train, y_train)\n",
    "\n",
    "print(datetime.datetime.now())"
   ]
  },
  {
   "cell_type": "code",
   "execution_count": null,
   "id": "0700b57a-49cd-40af-924a-a3387b642a83",
   "metadata": {},
   "outputs": [],
   "source": [
    "# predict\n",
    "m1_gs_xgb_pred_train = m1_gs_xgb.predict(X_train)\n",
    "m1_gs_xgb_pred_test = m1_gs_xgb.predict(X_test)\n",
    "\n",
    "# evaluate\n",
    "m1_gs_xgb_R2_train = m1_gs_xgb.score(X_train, y_train)\n",
    "m1_gs_xgb_R2_test = m1_gs_xgb.score(X_test, y_test)\n",
    "print(f'm1_gs_xgb_R2_train: {m1_gs_xgb_R2_train}')\n",
    "print(f'm1_gs_xgb_R2_test: {m1_gs_xgb_R2_test}')\n",
    "\n",
    "m1_gs_xgb_mse_train = metrics.mean_squared_error(y_train, m1_gs_xgb_pred_train)\n",
    "m1_gs_xgb_mse_test = metrics.mean_squared_error(y_test, m1_gs_xgb_pred_test)\n",
    "print(f'm1_gs_xgb_mse_train: {m1_gs_xgb_mse_train}')\n",
    "print(f'm1_gs_xgb_mse_test: {m1_gs_xgb_mse_test}')"
   ]
  },
  {
   "cell_type": "code",
   "execution_count": null,
   "id": "85e8495a-26a6-4029-8af5-68450bcd5194",
   "metadata": {},
   "outputs": [],
   "source": [
    "m1_gs_xgb.best_estimator_"
   ]
  },
  {
   "cell_type": "code",
   "execution_count": null,
   "id": "1d08a18f-5431-4273-bea2-8fd05b6e904e",
   "metadata": {},
   "outputs": [],
   "source": [
    "m1_gs_xgb_feature_importance = pd.DataFrame({'feature': m1_gs_xgb.best_estimator_['ohe'].get_feature_names(),\n",
    "                                         'importance': m1_gs_xgb.best_estimator_['xgb'].feature_importances_})\n",
    "\n",
    "m1_gs_xgb_feature_importance.sort_values('importance', ascending=False).head(20)"
   ]
  },
  {
   "cell_type": "markdown",
   "id": "6fa82195-afaf-44c0-8606-dbd30f260155",
   "metadata": {},
   "source": [
    "#### Save and reload m1_gs_xgb with joblib"
   ]
  },
  {
   "cell_type": "code",
   "execution_count": null,
   "id": "cb616d00-b6d9-4acb-9dc6-4dd4e4d1949e",
   "metadata": {},
   "outputs": [],
   "source": [
    "# import joblib\n",
    "\n",
    "# save m1_gs_rf\n",
    "m1_gs_xgb_joblib_filename = '../Models/m1_gs_XGBoost_joblib.pkl'\n",
    "\n",
    "joblib.dump(m1_gs_xgb, m1_gs_xgb_joblib_filename)\n",
    "\n",
    "# reload \n",
    "m1_gs_xgb_joblib = joblib.load(m1_gs_xgb_joblib_filename)\n",
    "# m1_gs_xgb_joblib\n",
    "\n",
    "# predict & evaluate\n",
    "m1_gs_xgb_joblib_pred_test = m1_gs_xgb_joblib.predict(X_test)\n",
    "round(m1_gs_xgb_joblib.score(X_test, y_test), 4)"
   ]
  },
  {
   "cell_type": "code",
   "execution_count": null,
   "id": "9b416c2d-ff17-4497-9778-481006e38421",
   "metadata": {},
   "outputs": [],
   "source": [
    "X_train.columns"
   ]
  },
  {
   "cell_type": "markdown",
   "id": "b9d572f1-0321-4701-a2e3-1053a919cd95",
   "metadata": {},
   "source": [
    "## Predict with mock input data"
   ]
  },
  {
   "cell_type": "code",
   "execution_count": 164,
   "id": "c7f95e54-375a-4ec6-a54e-3ee22bcb5dc0",
   "metadata": {},
   "outputs": [],
   "source": [
    "input_data = {'county': 'San Francisco',\n",
    "              'neighborhood_recoded': 'Russian Hill', \n",
    "              'property_type_recoded': 'Entire residential home', \n",
    "              'accommodates': 6, \n",
    "              'bedrooms': 3, \n",
    "              'beds': 3,\n",
    "              'bathrooms': 2.5, \n",
    "              'bathroom_type': 'private', \n",
    "              'minimum_nights': 1, \n",
    "              'maximum_nights': 3,\n",
    "              'Wifi': 1, \n",
    "              'Dedicated_workspace': 0,\n",
    "              'Private_entrance': 0, \n",
    "              'Patio_or_balcony': 1, \n",
    "              'Backyard': 1, \n",
    "              'BBQ_grill': 1, \n",
    "              'Outdoor_furniture': 1,\n",
    "              'Indoor_fireplace': 0, \n",
    "              'Pool': 1, \n",
    "              'review_scores_rating': 4.8,\n",
    "              'review_scores_accuracy': 4.8, \n",
    "              'review_scores_cleanliness': 4.8,\n",
    "              'review_scores_checkin': 4.8,\n",
    "              'review_scores_communication': 4.8,\n",
    "              'review_scores_location': 4.8, \n",
    "              'review_scores_value': 4.8, \n",
    "              'number_of_reviews': 4.8,\n",
    "              'number_of_reviews_ltm': 20, \n",
    "              'number_of_reviews_l30d': 5,\n",
    "              'neighborhood_overview_f': 1, \n",
    "              'host_about_f': 1, \n",
    "              'host_response_time_f': 0,\n",
    "              'host_response_rate_f': 0, \n",
    "              'host_acceptance_rate_f': 0,\n",
    "              'host_neighbourhood_f': 0\n",
    "}\n",
    "input_data_df = pd.DataFrame(input_data, index=[0])"
   ]
  },
  {
   "cell_type": "code",
   "execution_count": 165,
   "id": "66619781-833c-4757-bb9d-454ef792dd6e",
   "metadata": {},
   "outputs": [
    {
     "name": "stdout",
     "output_type": "stream",
     "text": [
      "Predicted basic price is 401.58 dollars.\n"
     ]
    }
   ],
   "source": [
    "# load m1_gs_rf\n",
    "m1_gs_rf_joblib_filename = '../Models/m1_gs_rf_joblib.pkl'\n",
    "\n",
    "m1_gs_rf_joblib = joblib.load(m1_gs_rf_joblib_filename)\n",
    "# m1_gs_rf_joblib\n",
    "\n",
    "# predict & evaluate\n",
    "m1_gs_rf_joblib_pred_input = m1_gs_rf_joblib.predict(input_data_df)[0]\n",
    "print('Predicted basic price is', round(m1_gs_rf_joblib_pred_input, 2), 'dollars.')"
   ]
  },
  {
   "cell_type": "code",
   "execution_count": null,
   "id": "c1f6808f-b974-4723-8e1e-d0cf3fa38f16",
   "metadata": {},
   "outputs": [],
   "source": []
  },
  {
   "cell_type": "markdown",
   "id": "de4b4dc4-0a46-4c44-bcb1-ee4689a9900e",
   "metadata": {},
   "source": [
    "# Stage 2 model: predict 30-day vacancy \n",
    "- with unit features, listing price and predicted price"
   ]
  },
  {
   "cell_type": "code",
   "execution_count": 166,
   "id": "98baa935-57d0-49da-8871-3ea3c553eafe",
   "metadata": {},
   "outputs": [],
   "source": [
    "import numpy as np\n",
    "import pandas as pd\n",
    "import matplotlib.pyplot as plt\n",
    "import seaborn as sns\n",
    "\n",
    "from sklearn.preprocessing import StandardScaler, OneHotEncoder\n",
    "from sklearn.ensemble import RandomForestRegressor, GradientBoostingRegressor\n",
    "from sklearn.model_selection import train_test_split, cross_val_score, GridSearchCV\n",
    "from sklearn.pipeline import Pipeline\n",
    "from sklearn import metrics\n",
    "\n",
    "import category_encoders as ce\n",
    "import datetime \n",
    "import pickle\n",
    "import joblib"
   ]
  },
  {
   "cell_type": "markdown",
   "id": "42a257da-e078-47fb-9a81-6cb7f3d5e986",
   "metadata": {},
   "source": [
    "## Finalize features and label"
   ]
  },
  {
   "cell_type": "code",
   "execution_count": 179,
   "id": "5ce7bced-5ac6-491f-8e04-07de2a644586",
   "metadata": {},
   "outputs": [
    {
     "data": {
      "text/plain": [
       "(9825, 39)"
      ]
     },
     "execution_count": 179,
     "metadata": {},
     "output_type": "execute_result"
    }
   ],
   "source": [
    "df.shape"
   ]
  },
  {
   "cell_type": "code",
   "execution_count": 180,
   "id": "404adfa3-6cdf-4b5c-b84c-2ad6a7afc678",
   "metadata": {},
   "outputs": [
    {
     "name": "stdout",
     "output_type": "stream",
     "text": [
      "Number of rows with availability_30 as 0: 0.3378117048346056\n",
      "Number of rows if dropping availabilty_30 ==0: 6506\n"
     ]
    }
   ],
   "source": [
    "print(f'Number of rows with availability_30 as 0: {(df[\"availability_30\"]==0).mean()}')\n",
    "print(f'Number of rows if dropping availabilty_30 ==0: {(df[\"availability_30\"]>0).sum()}')"
   ]
  },
  {
   "cell_type": "markdown",
   "id": "01e516ba-9110-4ac9-9f4f-5ca6ebfc998f",
   "metadata": {},
   "source": [
    "**Decision**: Becauase the tool is for hosts to adjust their listing price to reduce 30-day vacancy, those with no vacancy in 30 days will be dropped from the data. "
   ]
  },
  {
   "cell_type": "code",
   "execution_count": null,
   "id": "4b7f72de-195b-4577-8683-85c7fb311f68",
   "metadata": {},
   "outputs": [],
   "source": [
    "df_m2 = df.loc[df['availability_30'] > 0,:]\n",
    "df_m2.shape"
   ]
  },
  {
   "cell_type": "code",
   "execution_count": null,
   "id": "34752e3a-0495-44df-bef4-5a5f766d42a3",
   "metadata": {},
   "outputs": [],
   "source": [
    "X = df_m2.drop(columns=['availability_30','availability_60','availability_90'])\n",
    "y = df_m2['availability_30']\n",
    "\n",
    "X_train, X_test, y_train, y_test = train_test_split(X, y, test_size=0.25, random_state=42)\n",
    "X_train.shape, y_train.shape, X_test.shape, y_test.shape"
   ]
  },
  {
   "cell_type": "code",
   "execution_count": null,
   "id": "1319e3ba-87e7-4267-b70a-cc289b4f0a0f",
   "metadata": {},
   "outputs": [],
   "source": [
    "train = df_m2.loc[df_m2.index.isin(X_train.index), :].sort_index()\n",
    "print(train.shape)\n",
    "train.head()  # include the 3 availability columns\n",
    "\n",
    "# double check\n",
    "# X_train.sort_index().index\n",
    "# y_train.sort_index().index\n",
    "# train.index"
   ]
  },
  {
   "cell_type": "code",
   "execution_count": null,
   "id": "7ef84a69-2a1d-4253-8859-591b5a416bd4",
   "metadata": {},
   "outputs": [],
   "source": [
    "# X_train.head()"
   ]
  },
  {
   "cell_type": "code",
   "execution_count": null,
   "id": "b889bb9d-d9e1-4dd4-a09e-28274be4863e",
   "metadata": {},
   "outputs": [],
   "source": [
    "# get df shape after dummification\n",
    "ohe = ce.one_hot.OneHotEncoder(use_cat_names=True, handle_unknown='value')\n",
    "X_train_ohe = ohe.fit_transform(X_train, use_cat_names=True)\n",
    "X_train_ohe\n",
    "X_train_ohe.shape"
   ]
  },
  {
   "cell_type": "markdown",
   "id": "b8d2b899-b5ca-4eb2-9460-ec126ee1ac9e",
   "metadata": {},
   "source": [
    "#### Create the price_basic column as the prediction from Stage 1 model"
   ]
  },
  {
   "cell_type": "code",
   "execution_count": null,
   "id": "78dc4fae-ba5c-4101-905d-f1001aaeeaba",
   "metadata": {},
   "outputs": [],
   "source": [
    "# reload m1_gs_rf_joblib\n",
    "m1_gs_rf_joblib_filename = '../Models/m1_gs_rf_joblib.pkl'\n",
    "m1_gs_rf_joblib = joblib.load(m1_gs_rf_joblib_filename)\n",
    "m1_gs_rf_joblib"
   ]
  },
  {
   "cell_type": "code",
   "execution_count": null,
   "id": "329cd133-25a8-49c8-b3ee-15051ad0e4a1",
   "metadata": {},
   "outputs": [],
   "source": [
    "# predict \n",
    "X_train['price_pred'] = m1_gs_rf_joblib.predict(X_train.drop(columns=['price']))\n",
    "X_train.head()\n",
    "X_train.loc[:, ['neighborhood_recoded','county','accommodates','bedrooms','bathrooms','price','price_pred']]"
   ]
  },
  {
   "cell_type": "code",
   "execution_count": null,
   "id": "9a3765e1-e5ff-490b-8127-c1781323e5c9",
   "metadata": {},
   "outputs": [],
   "source": [
    "# predict \n",
    "X_test['price_pred'] = m1_gs_rf_joblib.predict(X_test.drop(columns=['price']))\n",
    "X_test.head()\n",
    "X_test.loc[:, ['neighborhood_recoded','county','accommodates','bedrooms','bathrooms','price','price_pred']]"
   ]
  },
  {
   "cell_type": "markdown",
   "id": "aab7a486-ac92-410e-9de7-a5934f3008fb",
   "metadata": {},
   "source": [
    "## EDA"
   ]
  },
  {
   "cell_type": "markdown",
   "id": "b6f460a4-e6bb-4385-9aa8-2a9701d7de74",
   "metadata": {},
   "source": [
    "#### Features"
   ]
  },
  {
   "cell_type": "code",
   "execution_count": null,
   "id": "f4990a74-9615-4f55-beae-397632e7d288",
   "metadata": {},
   "outputs": [],
   "source": [
    "# review counts"
   ]
  },
  {
   "cell_type": "code",
   "execution_count": null,
   "id": "c4d29117-09bc-4236-a01c-87a60599e6ec",
   "metadata": {},
   "outputs": [],
   "source": [
    "# flag columns"
   ]
  },
  {
   "cell_type": "code",
   "execution_count": null,
   "id": "4cce1dab-54d7-4b50-8416-dbdb8c43322a",
   "metadata": {},
   "outputs": [],
   "source": [
    "# review scores\n",
    "X_train[col_review_score].describe()"
   ]
  },
  {
   "cell_type": "markdown",
   "id": "85099805-0c4c-487e-bb7a-7745b241828e",
   "metadata": {},
   "source": [
    "#### Target variable: 30-day vacancy"
   ]
  },
  {
   "cell_type": "markdown",
   "id": "38b1ec6f-fc99-4eea-9bb2-71f9a3e61c09",
   "metadata": {},
   "source": [
    "##### 30-day vacancy distribution"
   ]
  },
  {
   "cell_type": "code",
   "execution_count": null,
   "id": "43ee9ccc-4c34-4075-9ee3-f20b58d2d718",
   "metadata": {},
   "outputs": [],
   "source": [
    "train['availability_30'].mean()"
   ]
  },
  {
   "cell_type": "code",
   "execution_count": null,
   "id": "b43f0746-01d9-41e1-811c-9d5601789947",
   "metadata": {},
   "outputs": [],
   "source": [
    "train.groupby('county')['availability_30'].mean()"
   ]
  },
  {
   "cell_type": "code",
   "execution_count": null,
   "id": "a4b41481-f15e-4aa2-b937-ec7a4521a8ac",
   "metadata": {},
   "outputs": [],
   "source": [
    "train.groupby('county')['availability_30'].hist(alpha=0.3, legend=True)\n",
    "plt.legend()\n",
    "plt.title('30-day vacancy by county', fontsize=16)\n",
    "plt.xlabel('30-day vacancy');\n",
    "\n",
    "#plt.savefig('../Plots/avail90_bycounty_hist.png')"
   ]
  },
  {
   "cell_type": "code",
   "execution_count": null,
   "id": "2d94fc2e-dbb0-4618-b6be-71558ba19029",
   "metadata": {},
   "outputs": [],
   "source": [
    "train.hist(column='availability_30', by='county', figsize=(14,3), layout=(1,3), xrot=0, legend=False, sharex=True, sharey=True)\n",
    ";\n",
    "plt.suptitle('30-day vacancy by county', x=0.5, y=1.1, fontsize=16);\n",
    "#plt.savefig('../Plots/avail30_bycounty_hist2.png')"
   ]
  },
  {
   "cell_type": "code",
   "execution_count": null,
   "id": "bfcbde2b-ad86-412c-817e-ad0f4cb3cdf8",
   "metadata": {},
   "outputs": [],
   "source": [
    "train.groupby('county')['availability_30'].mean()"
   ]
  },
  {
   "cell_type": "markdown",
   "id": "d98cee62-ca03-49c4-acaa-8bb8f6c31f82",
   "metadata": {},
   "source": [
    "**Observation**: \n",
    "1. Santa Clara's 90-day vacancy is highest and that of San Francisco is the lowest."
   ]
  },
  {
   "cell_type": "markdown",
   "id": "8cba551f-fd90-4d8d-8647-71094580d512",
   "metadata": {},
   "source": [
    "##### 30-day vacancy by some features"
   ]
  },
  {
   "cell_type": "code",
   "execution_count": null,
   "id": "94e7c96b-91be-46df-9510-f584f048365c",
   "metadata": {},
   "outputs": [],
   "source": [
    "plt.figure(figsize=(10,8))\n",
    "\n",
    "mask = np.zeros_like(train[col_review_score + col_review_count + ['availability_30']].corr())\n",
    "mask[np.triu_indices_from(mask)] = True\n",
    "\n",
    "sns.heatmap(train[col_review_score + col_review_count + ['availability_30']].corr(),\n",
    "            annot=True, \n",
    "            vmin = -1,\n",
    "            vmax = 1,\n",
    "            mask = mask,\n",
    "            cmap='coolwarm');"
   ]
  },
  {
   "cell_type": "code",
   "execution_count": null,
   "id": "4497f257-4321-4563-bce9-be2f06c810be",
   "metadata": {},
   "outputs": [],
   "source": [
    "# review scores, review counts\n",
    "plt.figure(figsize=(6,6))\n",
    "sns.heatmap(train[col_review_score + col_review_count + ['availability_30']].corr()[['availability_30']].sort_values('availability_30',ascending=False),\n",
    "            annot=True, \n",
    "            vmin = -1, \n",
    "            vmax = 1,\n",
    "            cmap='coolwarm');"
   ]
  },
  {
   "cell_type": "markdown",
   "id": "fe15d553-b47c-45cf-bd45-5825405e1df9",
   "metadata": {},
   "source": [
    "**Obesrvation**: \n",
    "1. 90-day vacancy, availability in the next 90 days, is negative related to all review scores. This makes sense, as the listings with better reviews will look more attractive to potential guests and have less vacancy. \n",
    "> - The overall rating has the highest correlaton with the 90-day vacancy among all review related features.\n",
    "2. 90-day vacancy is negative related to all review counts. High review counts could also indicate high occupancy rate and/or high turnaround rate."
   ]
  },
  {
   "cell_type": "code",
   "execution_count": null,
   "id": "3244cec8-7846-43f7-8bed-3af17bfc8fce",
   "metadata": {},
   "outputs": [],
   "source": [
    "# inclusion of some information on the listing: neighborhood overivew, host intro, host response time, etc\n",
    "train[col_flags + ['availability_30']].corr()[['availability_30']].sort_values('availability_30',ascending=False)"
   ]
  },
  {
   "cell_type": "code",
   "execution_count": null,
   "id": "637e8e32-5f4d-4513-89ae-12d707edcf22",
   "metadata": {},
   "outputs": [],
   "source": [
    "plt.figure(figsize=(6,6))\n",
    "sns.heatmap(train[col_flags + ['availability_30']].corr()[['availability_30']].sort_values('availability_30',ascending=False),\n",
    "            annot=True, \n",
    "            vmin = -1, \n",
    "            vmax = 1,\n",
    "            cmap='coolwarm');"
   ]
  },
  {
   "cell_type": "markdown",
   "id": "8424eb6f-6b07-4847-9a49-3451d9f9e176",
   "metadata": {},
   "source": [
    "**Observation**: Listings with information on host acceptance rate and neighborhood review have lower 90-day vacancy. "
   ]
  },
  {
   "cell_type": "code",
   "execution_count": null,
   "id": "8ea6b48d-60ed-43bb-8c96-d94296734c0c",
   "metadata": {},
   "outputs": [],
   "source": [
    "train.groupby('neighborhood_overview_f')['availability_30'].mean()"
   ]
  },
  {
   "cell_type": "code",
   "execution_count": null,
   "id": "f94da25d-c7d8-40ac-a0f7-9a50414bf660",
   "metadata": {},
   "outputs": [],
   "source": [
    "train.groupby('neighborhood_overview_f')['availability_30'].hist(alpha=0.3, legend=True)\n",
    "plt.title('30-day vacancy by ');"
   ]
  },
  {
   "cell_type": "code",
   "execution_count": null,
   "id": "17313521-ed92-41f7-80c6-9271b637fdc1",
   "metadata": {},
   "outputs": [],
   "source": [
    "plt.figure(figsize=(5,3))\n",
    "\n",
    "train.groupby('neighborhood_overview_f')['availability_30'].mean().plot(kind='bar', alpha=0.3, rot=0)\n",
    "plt.title('30-day vacancy')\n",
    "plt.xlabel(None)\n",
    "plt.xticks(ticks  = [0,1],\n",
    "           labels = ['no neighborhood review','with neighborhood review'])\n",
    ";"
   ]
  },
  {
   "cell_type": "code",
   "execution_count": null,
   "id": "34e9fc1f-acd7-4906-9030-75d55a4fbbef",
   "metadata": {},
   "outputs": [],
   "source": [
    "train.groupby('neighborhood_overview_f')['availability_30'].mean()"
   ]
  },
  {
   "cell_type": "code",
   "execution_count": null,
   "id": "011ece88-39cd-49dd-83cc-15bc1ac08ff1",
   "metadata": {},
   "outputs": [],
   "source": [
    "train.groupby('host_about_f')['availability_30'].mean()"
   ]
  },
  {
   "cell_type": "code",
   "execution_count": null,
   "id": "b9c95542-fe58-4a10-9e32-cff3a4cc4210",
   "metadata": {},
   "outputs": [],
   "source": [
    "plt.figure(figsize=(5,3))\n",
    "\n",
    "train.groupby('host_about_f')['availability_30'].mean().plot(kind='bar', alpha=0.3, rot=0)\n",
    "plt.title('30-day vacancy')\n",
    "plt.xlabel(None)\n",
    "plt.xticks(ticks  = [0,1],\n",
    "           labels = ['no neighborhood review','with neighborhood review'])\n",
    ";"
   ]
  },
  {
   "cell_type": "markdown",
   "id": "79006102-5383-49ca-8a31-4c3183694e47",
   "metadata": {},
   "source": [
    "## Modeling"
   ]
  },
  {
   "cell_type": "markdown",
   "id": "2d26cb12-3532-465b-8f6d-ab9413641897",
   "metadata": {},
   "source": [
    "The availabilities in the next 30, 60 and 90 days were tried as the target variable. The 30-day availability worked better for model performancewhich makes sense as its the closest future. So decided to use availability_30 as the target."
   ]
  },
  {
   "cell_type": "code",
   "execution_count": 223,
   "id": "27a9b099-be5b-468d-bca8-b29fb336ede1",
   "metadata": {},
   "outputs": [
    {
     "data": {
      "text/plain": [
       "((7368, 35), (7368,), (2457, 35), (2457,))"
      ]
     },
     "execution_count": 223,
     "metadata": {},
     "output_type": "execute_result"
    }
   ],
   "source": [
    "X_train.shape, y_train.shape, X_test.shape, y_test.shape"
   ]
  },
  {
   "cell_type": "code",
   "execution_count": 116,
   "id": "bdbcb6f9-59ea-471e-8cee-43446edab9f0",
   "metadata": {},
   "outputs": [
    {
     "data": {
      "text/plain": [
       "(7368, 90)"
      ]
     },
     "execution_count": 116,
     "metadata": {},
     "output_type": "execute_result"
    }
   ],
   "source": [
    "# get the data shape after one hot encoding \n",
    "\n",
    "# https://contrib.scikit-learn.org/category_encoders/onehot.html\n",
    "ohe = ce.one_hot.OneHotEncoder(use_cat_names=True, handle_unknown='value')\n",
    "\n",
    "X_train_ohe = ohe.fit_transform(X_train, use_cat_names=True)\n",
    "\n",
    "X_train_ohe.shape"
   ]
  },
  {
   "cell_type": "markdown",
   "id": "6c43bd8f-ece2-4329-b5b6-fcc4240754d1",
   "metadata": {},
   "source": [
    "### Baseline model"
   ]
  },
  {
   "cell_type": "code",
   "execution_count": null,
   "id": "bf9cc659-5cd2-4b62-96e0-d7be0566e5d3",
   "metadata": {},
   "outputs": [],
   "source": [
    "# train set\n",
    "avail30_pred_base_train = y_train.mean()\n",
    "\n",
    "avail30_pred_base_R2_train = metrics.r2_score(y_train, avail30_pred_base_train)\n",
    "avail30_pred_base_mse_train = metrics.mean_squared_error(y_train, avail30_pred_base_train)\n",
    "print(f'avail30_pred_base_R2_train: {round(avail30_pred_base_R2_train, 4)}')\n",
    "print(f'avail30_pred_base_R2_train: {round(avail30_pred_base_R2_train, 4)}')\n",
    "\n",
    "# test set\n",
    "avail30_pred_base_test = y_test.mean()\n",
    "\n",
    "avail30_pred_base_R2_test = metrics.r2_score(y_test, avail30_pred_base_test)\n",
    "avail30_pred_base_mse_test = metrics.mean_squared_error(y_test, avail30_pred_base_test)\n",
    "print(f'avail30_pred_base_R2_test: {round(avail30_pred_base_R2_test, 4)}')\n",
    "print(f'avail30_pred_base_mse_test: {round(avail30_pred_base_mse_test, 4)}')"
   ]
  },
  {
   "cell_type": "markdown",
   "id": "ceff66a2-9c15-4863-867c-0d83f5cf136d",
   "metadata": {},
   "source": [
    "### Random Forest regressor"
   ]
  },
  {
   "cell_type": "markdown",
   "id": "3c5603fa-128c-4894-9c00-dc8790caa86b",
   "metadata": {},
   "source": [
    "#### Default parameter values"
   ]
  },
  {
   "cell_type": "code",
   "execution_count": 192,
   "id": "efa9876d-3756-45cb-897b-d0e8a2c25f0d",
   "metadata": {},
   "outputs": [
    {
     "name": "stdout",
     "output_type": "stream",
     "text": [
      "m21_pipe_rf_base_R2_train:  0.8944\n",
      "m21_pipe_rf_base_R2_test:  0.2315\n",
      "m21_pipe_rf_base_mse_train 10.004\n",
      "m21_pipe_rf_base_mse_test 72.3443\n"
     ]
    }
   ],
   "source": [
    "# Baseline model\n",
    "#ohe = ce.one_hot.OneHotEncoder(use_cat_names=True, handle_unknown='value')\n",
    "#rf = RandomForestRegressor(random_state=42, n_jobs=-1)\n",
    "\n",
    "m21_pipe_rf_base = Pipeline([\n",
    "    ('ohe', ce.one_hot.OneHotEncoder(use_cat_names=True, handle_unknown='value')),\n",
    "    ('rf', RandomForestRegressor(random_state=42, n_jobs=-1))\n",
    "])\n",
    "\n",
    "# train model\n",
    "print(datetime.datetime.now())\n",
    "m21_pipe_rf_base.fit(X_train, y_train)\n",
    "print(datetime.datetime.now())\n",
    "print()\n",
    "\n",
    "# predict\n",
    "m21_pipe_rf_base_pred_train = m21_pipe_rf_base.predict(X_train)\n",
    "m21_pipe_rf_base_pred_test = m21_pipe_rf_base.predict(X_test)\n",
    "\n",
    "# evaluate\n",
    "m21_pipe_rf_base_R2_train = m21_pipe_rf_base.score(X_train, y_train)\n",
    "m21_pipe_rf_base_R2_test = m21_pipe_rf_base.score(X_test, y_test)\n",
    "print('m21_pipe_rf_base_R2_train: ', round(m21_pipe_rf_base_R2_train, 4))\n",
    "print('m21_pipe_rf_base_R2_test: ', round(m21_pipe_rf_base_R2_test, 4))\n",
    "\n",
    "m21_pipe_rf_base_mse_train = metrics.mean_squared_error(y_train, m21_pipe_rf_base_pred_train)\n",
    "m21_pipe_rf_base_mse_test = metrics.mean_squared_error(y_test, m21_pipe_rf_base_pred_test)\n",
    "print('m21_pipe_rf_base_mse_train', round(m21_pipe_rf_base_mse_train, 4))\n",
    "print('m21_pipe_rf_base_mse_test', round(m21_pipe_rf_base_mse_test, 4))"
   ]
  },
  {
   "cell_type": "code",
   "execution_count": 201,
   "id": "9e7d45c7-b067-412d-a3b2-3bebe885b3f8",
   "metadata": {},
   "outputs": [
    {
     "data": {
      "text/plain": [
       "['../Models/m21_pipe_rf_base_joblib_poor.pkl']"
      ]
     },
     "execution_count": 201,
     "metadata": {},
     "output_type": "execute_result"
    }
   ],
   "source": [
    "# import joblib\n",
    "\n",
    "# Save\n",
    "m21_pipe_rf_base_joblib_filename = '../Models/m21_pipe_rf_base_joblib_poor.pkl'\n",
    "joblib.dump(m21_pipe_rf_base, m21_pipe_rf_base_joblib_filename)"
   ]
  },
  {
   "cell_type": "markdown",
   "id": "de391f64-b761-43eb-9e9a-c43c2eb35abd",
   "metadata": {},
   "source": [
    "#### GridSearchCV"
   ]
  },
  {
   "cell_type": "code",
   "execution_count": 196,
   "id": "ca50e710-acee-419e-8961-98f4c62712b5",
   "metadata": {},
   "outputs": [
    {
     "name": "stdout",
     "output_type": "stream",
     "text": [
      "2022-02-03 19:33:46.834055\n",
      "2022-02-03 22:40:38.778715\n"
     ]
    }
   ],
   "source": [
    "m21_pipe_rf = Pipeline([\n",
    "    ('ohe', ce.one_hot.OneHotEncoder(use_cat_names=True, handle_unknown='value')),\n",
    "    ('rf', RandomForestRegressor(random_state=42, n_jobs=-1))\n",
    "                     ])\n",
    "\n",
    "m21_pipe_rf_params = {\n",
    "    'rf__n_estimators': [400, 800, 900, 1000],\n",
    "    'rf__max_depth': [4, 8, 12, 16, 20],\n",
    "    'rf__min_samples_split': [10, 20],\n",
    "    'rf__min_samples_leaf': [5,10],\n",
    "    'rf__ccp_alpha': [0.0, 0.05, 0.1],\n",
    "    'rf__max_features': [20,60, 80, 90]\n",
    "}\n",
    "\n",
    "m21_gs_rf = GridSearchCV(m21_pipe_rf,\n",
    "                        m21_pipe_rf_params,\n",
    "                        cv=5\n",
    "                       )\n",
    "\n",
    "print(datetime.datetime.now())\n",
    "\n",
    "m21_gs_rf.fit(X_train, y_train)\n",
    "\n",
    "print(datetime.datetime.now())"
   ]
  },
  {
   "cell_type": "code",
   "execution_count": 199,
   "id": "451ec033-16c9-47b9-896a-2f6b84deea12",
   "metadata": {},
   "outputs": [
    {
     "name": "stdout",
     "output_type": "stream",
     "text": [
      "m21_gs_rf_R2_train: 0.6521\n",
      "m21_gs_rf_R2_test:  0.2294\n",
      "m21_gs_rf_mse_train: 32.9665\n",
      "m21_gs_rf_mse_test:  72.5412\n"
     ]
    },
    {
     "data": {
      "text/plain": [
       "Pipeline(steps=[('ohe',\n",
       "                 OneHotEncoder(cols=['neighborhood_recoded', 'county',\n",
       "                                     'property_type_recoded', 'bathroom_type'],\n",
       "                               use_cat_names=True)),\n",
       "                ('rf',\n",
       "                 RandomForestRegressor(max_depth=16, max_features=60,\n",
       "                                       min_samples_leaf=5, min_samples_split=10,\n",
       "                                       n_estimators=900, n_jobs=-1,\n",
       "                                       random_state=42))])"
      ]
     },
     "execution_count": 199,
     "metadata": {},
     "output_type": "execute_result"
    }
   ],
   "source": [
    "m21_gs_rf_pred_train = m21_gs_rf.predict(X_train)\n",
    "m21_gs_rf_pred_test = m21_gs_rf.predict(X_test)\n",
    "\n",
    "# evaluate\n",
    "m21_gs_rf_R2_train = m21_gs_rf.score(X_train, y_train)\n",
    "m21_gs_rf_R2_test = m21_gs_rf.score(X_test, y_test)\n",
    "print('m21_gs_rf_R2_train: ' + f'{round(m21_gs_rf_R2_train, 4)}')\n",
    "print('m21_gs_rf_R2_test:  ' + f'{round(m21_gs_rf_R2_test, 4)}')\n",
    "\n",
    "m21_gs_rf_mse_train = metrics.mean_squared_error(y_train, m21_gs_rf_pred_train)\n",
    "m21_gs_rf_mse_test = metrics.mean_squared_error(y_test, m21_gs_rf_pred_test)\n",
    "print('m21_gs_rf_mse_train: ' + f'{round(m21_gs_rf_mse_train, 4)}')\n",
    "print('m21_gs_rf_mse_test:  ' + f'{round(m21_gs_rf_mse_test, 4)}')\n",
    "\n",
    "m21_gs_rf.best_estimator_"
   ]
  },
  {
   "cell_type": "code",
   "execution_count": null,
   "id": "04fe9620-27b2-46ba-82e1-6a6b4cd1bb81",
   "metadata": {},
   "outputs": [],
   "source": [
    "m21_gs_rf_feature_importance = pd.DataFrame({'feature': m21_gs_rf.best_estimator_['ohe'].get_feature_names(),\n",
    "                                             'importance': m21_gs_rf.best_estimator_['rf'].feature_importances_})\n",
    "\n",
    "m21_gs_rf_feature_importance.sort_values('importance', ascending=False).head(30)"
   ]
  },
  {
   "cell_type": "code",
   "execution_count": 200,
   "id": "2cba45ff-7045-49be-8a2f-483e07c40407",
   "metadata": {},
   "outputs": [
    {
     "data": {
      "text/html": [
       "<div>\n",
       "<style scoped>\n",
       "    .dataframe tbody tr th:only-of-type {\n",
       "        vertical-align: middle;\n",
       "    }\n",
       "\n",
       "    .dataframe tbody tr th {\n",
       "        vertical-align: top;\n",
       "    }\n",
       "\n",
       "    .dataframe thead th {\n",
       "        text-align: right;\n",
       "    }\n",
       "</style>\n",
       "<table border=\"1\" class=\"dataframe\">\n",
       "  <thead>\n",
       "    <tr style=\"text-align: right;\">\n",
       "      <th></th>\n",
       "      <th>avail30</th>\n",
       "      <th>avail30_pred</th>\n",
       "    </tr>\n",
       "  </thead>\n",
       "  <tbody>\n",
       "    <tr>\n",
       "      <th>5595</th>\n",
       "      <td>19</td>\n",
       "      <td>12.264496</td>\n",
       "    </tr>\n",
       "    <tr>\n",
       "      <th>7641</th>\n",
       "      <td>29</td>\n",
       "      <td>25.337201</td>\n",
       "    </tr>\n",
       "    <tr>\n",
       "      <th>7502</th>\n",
       "      <td>21</td>\n",
       "      <td>12.530348</td>\n",
       "    </tr>\n",
       "    <tr>\n",
       "      <th>5646</th>\n",
       "      <td>16</td>\n",
       "      <td>18.980930</td>\n",
       "    </tr>\n",
       "    <tr>\n",
       "      <th>160</th>\n",
       "      <td>26</td>\n",
       "      <td>11.216278</td>\n",
       "    </tr>\n",
       "    <tr>\n",
       "      <th>5551</th>\n",
       "      <td>26</td>\n",
       "      <td>22.124289</td>\n",
       "    </tr>\n",
       "    <tr>\n",
       "      <th>6673</th>\n",
       "      <td>13</td>\n",
       "      <td>23.174949</td>\n",
       "    </tr>\n",
       "    <tr>\n",
       "      <th>8603</th>\n",
       "      <td>12</td>\n",
       "      <td>17.478715</td>\n",
       "    </tr>\n",
       "    <tr>\n",
       "      <th>9452</th>\n",
       "      <td>7</td>\n",
       "      <td>18.664756</td>\n",
       "    </tr>\n",
       "    <tr>\n",
       "      <th>5065</th>\n",
       "      <td>25</td>\n",
       "      <td>20.478497</td>\n",
       "    </tr>\n",
       "  </tbody>\n",
       "</table>\n",
       "</div>"
      ],
      "text/plain": [
       "      avail30  avail30_pred\n",
       "5595       19     12.264496\n",
       "7641       29     25.337201\n",
       "7502       21     12.530348\n",
       "5646       16     18.980930\n",
       "160        26     11.216278\n",
       "5551       26     22.124289\n",
       "6673       13     23.174949\n",
       "8603       12     17.478715\n",
       "9452        7     18.664756\n",
       "5065       25     20.478497"
      ]
     },
     "execution_count": 200,
     "metadata": {},
     "output_type": "execute_result"
    }
   ],
   "source": [
    "pd.DataFrame({'avail30': y_test, 'avail30_pred': m21_gs_rf_pred_test}).head(10)"
   ]
  },
  {
   "cell_type": "markdown",
   "id": "5cb44a88-5110-4bc9-9634-89e67f0fbbc0",
   "metadata": {},
   "source": [
    "#### Save (and reload) m2_gs_rf with joblib"
   ]
  },
  {
   "cell_type": "code",
   "execution_count": 203,
   "id": "66a15173-e3d3-4285-882a-4dd0ae0ca25c",
   "metadata": {},
   "outputs": [
    {
     "data": {
      "text/plain": [
       "['../Models/m21_gs_rf_joblib_poor.pkl']"
      ]
     },
     "execution_count": 203,
     "metadata": {},
     "output_type": "execute_result"
    }
   ],
   "source": [
    "# import joblib\n",
    "\n",
    "# Save\n",
    "m21_gs_rf_joblib_filename = '../Models/m21_gs_rf_joblib_poor.pkl'\n",
    "joblib.dump(m21_gs_rf, m21_gs_rf_joblib_filename)\n",
    "\n",
    "# Reload\n",
    "# m21_gs_rf_joblib = joblib.load(m21_gs_rf_joblib_filename)\n",
    "\n",
    "# Predict & Evaluate\n",
    "# m21_gs_rf_joblib_pred_test = m21_gs_rf_joblib.predict(X_test)\n",
    "# round(m21_gs_rf_joblib.score(X_test, y_test), 4)"
   ]
  },
  {
   "cell_type": "markdown",
   "id": "1d4b01a4-2429-4445-a462-3c78cea933aa",
   "metadata": {},
   "source": [
    "### XGBoost tree regressor - need to run!!!"
   ]
  },
  {
   "cell_type": "markdown",
   "id": "8595ec23-78c6-4917-8640-9edffde05870",
   "metadata": {},
   "source": [
    "#### Baseline - default parameter values"
   ]
  },
  {
   "cell_type": "code",
   "execution_count": null,
   "id": "a4d3c4c8-af94-4cc6-a45b-774c68828c0b",
   "metadata": {},
   "outputs": [],
   "source": [
    "# Baseline model\n",
    "m21_pipe_xgb_base = Pipeline([\n",
    "    ('ohe', ce.one_hot.OneHotEncoder(use_cat_names=True, handle_unknown='value')),\n",
    "    ('xgb', XGBoostRegressor(random_state=42, n_jobs=-1))\n",
    "])\n",
    "\n",
    "m21_pipe_xgb_base.fit(X_train, y_train)\n",
    "m21_pipe_xgb_base_pred_train = m21_pipe_xgb_base.predict(X_train)\n",
    "m21_pipe_xgb_base_pred_test = m21_pipe_xgb_base.predict(X_test)\n",
    "\n",
    "m21_pipe_xgb_base_R2_train = m21_pipe_xgb_base.score(X_train, y_train)\n",
    "m21_pipe_xgb_base_R2_test = m21_pipe_xgb_base.score(X_test, y_test)\n",
    "print('m21_pipe_xgb_base_R2_train: ', round(m21_pipe_xgb_base_R2_train, 4))\n",
    "print('m21_pipe_xgb_base_R2_test: ', round(m21_pipe_xgb_base_R2_test, 4))\n",
    "\n",
    "m21_pipe_xgb_base_mse_train = metrics.mean_squared_error(y_train, m21_pipe_xgb_base_pred_train)\n",
    "m21_pipe_xgb_base_mse_test = metrics.mean_squared_error(y_test, m21_pipe_xgb_base_pred_test)\n",
    "print('m21_pipe_xgb_base_mse_train', round(m21_pipe_xgb_base_mse_train, 4))\n",
    "print('m21_pipe_xgb_base_mse_test', round(m21_pipe_xgb_base_mse_test, 4))"
   ]
  },
  {
   "cell_type": "markdown",
   "id": "085b9bd8-201a-4f88-8b37-9e1d3aa2875e",
   "metadata": {},
   "source": [
    "#### GridSearchCV"
   ]
  },
  {
   "cell_type": "code",
   "execution_count": null,
   "id": "8623782b-0917-4c4b-bf31-ac8df2ff767f",
   "metadata": {},
   "outputs": [],
   "source": [
    "m21_pipe_xgb = Pipeline([\n",
    "    ('ohe', ce.one_hot.OneHotEncoder(use_cat_names=True, handle_unknown='value')),\n",
    "    ('xgb', XGBRegressor(random_state=42, n_jobs=-1))\n",
    "])\n",
    "\n",
    "m21_pipe_xgb_params = {\n",
    "    #'xgb__booster': ['gbtree','gblinear'],\n",
    "    'xgb__n_estimators': [400, 600, 800],\n",
    "    'xgb__eta': [0.01, 0.03, 0.05, 0.1, 0.2, 0.3, 0.4],\n",
    "    'xgb__reg_alpha': [0, 5],\n",
    "    'xgb__reg_lambda': [0, 5],\n",
    "    'xgb__max_depth': [4,6,8],\n",
    "}\n",
    "\n",
    "m21_gs_xgb = GridSearchCV(m21_pipe_xgb,\n",
    "                         m21_pipe_xgb_params, \n",
    "                         cv = 5)\n",
    "\n",
    "print(datetime.datetime.now())\n",
    "\n",
    "m21_gs_xgb.fit(X_train, y_train)\n",
    "\n",
    "print(datetime.datetime.now())"
   ]
  },
  {
   "cell_type": "code",
   "execution_count": null,
   "id": "7ac4b170-b4e5-4df5-a4f8-49360182d07a",
   "metadata": {},
   "outputs": [],
   "source": [
    "# predict\n",
    "m21_gs_xgb_pred_train = m21_gs_xgb.predict(X_train)\n",
    "m21_gs_xgb_pred_test = m21_gs_xgb.predict(X_test)\n",
    "\n",
    "# evaluate\n",
    "m21_gs_xgb_R2_train = m21_gs_xgb.score(X_train, y_train)\n",
    "m21_gs_xgb_R2_test = m21_gs_xgb.score(X_test, y_test)\n",
    "print(f'm21_gs_xgb_R2_train: {m21_gs_xgb_R2_train}')\n",
    "print(f'm21_gs_xgb_R2_test: {m21_gs_xgb_R2_test}')\n",
    "\n",
    "m21_gs_xgb_mse_train = metrics.mean_squared_error(y_train, m21_gs_xgb_pred_train)\n",
    "m21_gs_xgb_mse_test = metrics.mean_squared_error(y_test, m21_gs_xgb_pred_test)\n",
    "print(f'm21_gs_xgb_mse_train: {m21_gs_xgb_mse_train}')\n",
    "print(f'm21_gs_xgb_mse_test: {m21_gs_xgb_mse_test}')"
   ]
  },
  {
   "cell_type": "code",
   "execution_count": null,
   "id": "6d45860c-7a87-465d-b2e8-04102b85a753",
   "metadata": {},
   "outputs": [],
   "source": [
    "m21_gs_xgb.best_estimator_"
   ]
  },
  {
   "cell_type": "code",
   "execution_count": null,
   "id": "cdf9713b-2f6e-4a9b-adc1-e53e16f41497",
   "metadata": {},
   "outputs": [],
   "source": [
    "m21_gs_xgb_feature_importance = pd.DataFrame({'feature': m21_gs_xgb.best_estimator_['ohe'].get_feature_names(),\n",
    "                                         'importance': m21_gs_xgb.best_estimator_['xgb'].feature_importances_})\n",
    "\n",
    "m21_gs_xgb_feature_importance.sort_values('importance', ascending=False).head(20)"
   ]
  },
  {
   "cell_type": "markdown",
   "id": "e4649eae-c16f-496d-8390-60bb6a633b08",
   "metadata": {},
   "source": [
    "#### Save and reload m21_gs_xgb with joblib"
   ]
  },
  {
   "cell_type": "code",
   "execution_count": null,
   "id": "af14a64d-d0d5-41af-a389-9673688e732f",
   "metadata": {},
   "outputs": [],
   "source": [
    "# import joblib\n",
    "\n",
    "# save m21_gs_rf\n",
    "m21_gs_xgb_joblib_filename = '../Models/m21_gs_XGBoost_joblib.pkl'\n",
    "\n",
    "joblib.dump(m21_gs_xgb, m21_gs_xgb_joblib_filename)\n",
    "\n",
    "# reload \n",
    "#m21_gs_xgb_joblib = joblib.load(m21_gs_xgb_joblib_filename)\n",
    "# m21_gs_xgb_joblib\n",
    "\n",
    "# predict & evaluate\n",
    "#m21_gs_xgb_joblib_pred_test = m21_gs_xgb_joblib.predict(X_test)\n",
    "#round(m21_gs_xgb_joblib.score(X_test, y_test), 4)"
   ]
  },
  {
   "cell_type": "markdown",
   "id": "6b258550-5ed5-439f-a937-975caf2105b3",
   "metadata": {},
   "source": [
    "## Predict with input data"
   ]
  },
  {
   "cell_type": "code",
   "execution_count": null,
   "id": "502b6ac0-e9e0-4800-8efe-a5ea58ba4241",
   "metadata": {},
   "outputs": [],
   "source": [
    "# all the features should be of the same value as in \"Predict with input data' for Model 1\n",
    "# because it's for the same house. \n",
    "# price is the desired price entered on streamlit, price_pred is the predicted price from Model 1\n",
    "\n",
    "input_data = {'neighborhood_recoded': , \n",
    "              'county': 'San Francisco',\n",
    "              'property_type_recoded': 'Entire residential home', \n",
    "              'accommodates': 6, \n",
    "              'bedrooms': 3, \n",
    "              'beds': 3,\n",
    "              'bathrooms': 2.5, \n",
    "              'bathroom_type': 'private', \n",
    "              'minimum_nights': 1, \n",
    "              'maximum_nights': 3,\n",
    "              'Wifi': 1, \n",
    "              'Dedicated_workspace': 0,\n",
    "              'Patio_or_balcony': 1, \n",
    "              'Backyard': 1, \n",
    "              'BBQ_grill': , \n",
    "              'Outdoor_furniture': 1,\n",
    "              'Indoor_fireplace': 0, \n",
    "              'Private_entrance': 0, \n",
    "              'Pool': 1, \n",
    "              'review_scores_rating': 4.8,\n",
    "              'review_scores_accuracy': 4.8, \n",
    "              'review_scores_cleanliness': 4.8,\n",
    "              'review_scores_checkin': 4.8,\n",
    "              'review_scores_communication': 4.8,\n",
    "              'review_scores_location': 4.8, \n",
    "              'review_scores_value': 4.8, \n",
    "              'number_of_reviews': 4.8,\n",
    "              'number_of_reviews_ltm': 20, \n",
    "              'number_of_reviews_l30d': 5,\n",
    "              'neighborhood_overview_f': 1, \n",
    "              'host_about_f': 1, \n",
    "              'host_response_time_f': 0,\n",
    "              'host_response_rate_f': 0, \n",
    "              'host_acceptance_rate_f': 0,\n",
    "              'host_neighbourhood_f': 0,\n",
    "              'price_pred': m1_gs_rf_joblib_pred_input,  # predicted with model 1\n",
    "              'price': 350                               # entered on streamlit\n",
    "}\n",
    "input_data_df = pd.DataFrame(input_data, index=[0])"
   ]
  },
  {
   "cell_type": "code",
   "execution_count": 214,
   "id": "d74171a2-f947-422e-bc07-c9e0eb401aa1",
   "metadata": {},
   "outputs": [
    {
     "name": "stdout",
     "output_type": "stream",
     "text": [
      "Predicted basic price is 401.58 dollars.\n"
     ]
    }
   ],
   "source": [
    "# load m21_gs_rf\n",
    "m21_gs_rf_joblib_filename = '../Models/m1_gs_rf_joblib.pkl'\n",
    "\n",
    "m21_gs_rf_joblib = joblib.load(m21_gs_rf_joblib_filename)\n",
    "# m21_gs_rf_joblib\n",
    "\n",
    "# predict & evaluate\n",
    "m21_gs_rf_joblib_pred_input = m21_gs_rf_joblib.predict(input_data_df)[0]\n",
    "print('Predicted basic price is', round(m21_gs_rf_joblib_pred_input, 2), 'dollars.')\n",
    "\n"
   ]
  },
  {
   "cell_type": "markdown",
   "id": "daf380f3-a870-4e81-9581-c5bcf856c707",
   "metadata": {},
   "source": [
    "# Stage 3 model: predict 30-day vacancy\n",
    "- with unit features, listing price but NO predicted price"
   ]
  },
  {
   "cell_type": "markdown",
   "id": "e816b934-16c3-4913-b6f8-b93731df42e4",
   "metadata": {},
   "source": [
    "## Finalize features and label"
   ]
  },
  {
   "cell_type": "code",
   "execution_count": 208,
   "id": "c11824ca-c60e-4922-b456-e342cd9f2cca",
   "metadata": {},
   "outputs": [
    {
     "name": "stdout",
     "output_type": "stream",
     "text": [
      "(4879, 39)\n"
     ]
    },
    {
     "data": {
      "text/html": [
       "<div>\n",
       "<style scoped>\n",
       "    .dataframe tbody tr th:only-of-type {\n",
       "        vertical-align: middle;\n",
       "    }\n",
       "\n",
       "    .dataframe tbody tr th {\n",
       "        vertical-align: top;\n",
       "    }\n",
       "\n",
       "    .dataframe thead th {\n",
       "        text-align: right;\n",
       "    }\n",
       "</style>\n",
       "<table border=\"1\" class=\"dataframe\">\n",
       "  <thead>\n",
       "    <tr style=\"text-align: right;\">\n",
       "      <th></th>\n",
       "      <th>neighborhood_recoded</th>\n",
       "      <th>county</th>\n",
       "      <th>property_type_recoded</th>\n",
       "      <th>accommodates</th>\n",
       "      <th>bedrooms</th>\n",
       "      <th>beds</th>\n",
       "      <th>bathrooms</th>\n",
       "      <th>bathroom_type</th>\n",
       "      <th>minimum_nights</th>\n",
       "      <th>maximum_nights</th>\n",
       "      <th>...</th>\n",
       "      <th>neighborhood_overview_f</th>\n",
       "      <th>host_about_f</th>\n",
       "      <th>host_response_time_f</th>\n",
       "      <th>host_response_rate_f</th>\n",
       "      <th>host_acceptance_rate_f</th>\n",
       "      <th>host_neighbourhood_f</th>\n",
       "      <th>price</th>\n",
       "      <th>availability_30</th>\n",
       "      <th>availability_60</th>\n",
       "      <th>availability_90</th>\n",
       "    </tr>\n",
       "  </thead>\n",
       "  <tbody>\n",
       "    <tr>\n",
       "      <th>0</th>\n",
       "      <td>Western Addition</td>\n",
       "      <td>San Francisco</td>\n",
       "      <td>Entire serviced apartment</td>\n",
       "      <td>3</td>\n",
       "      <td>1.0</td>\n",
       "      <td>2.0</td>\n",
       "      <td>1.0</td>\n",
       "      <td>private</td>\n",
       "      <td>2</td>\n",
       "      <td>30</td>\n",
       "      <td>...</td>\n",
       "      <td>1</td>\n",
       "      <td>1</td>\n",
       "      <td>1</td>\n",
       "      <td>1</td>\n",
       "      <td>1</td>\n",
       "      <td>1</td>\n",
       "      <td>161.0</td>\n",
       "      <td>7</td>\n",
       "      <td>7</td>\n",
       "      <td>10</td>\n",
       "    </tr>\n",
       "    <tr>\n",
       "      <th>1</th>\n",
       "      <td>Bernal Heights</td>\n",
       "      <td>San Francisco</td>\n",
       "      <td>Entire rental unit</td>\n",
       "      <td>5</td>\n",
       "      <td>2.0</td>\n",
       "      <td>3.0</td>\n",
       "      <td>1.0</td>\n",
       "      <td>private</td>\n",
       "      <td>30</td>\n",
       "      <td>60</td>\n",
       "      <td>...</td>\n",
       "      <td>1</td>\n",
       "      <td>1</td>\n",
       "      <td>1</td>\n",
       "      <td>1</td>\n",
       "      <td>1</td>\n",
       "      <td>1</td>\n",
       "      <td>235.0</td>\n",
       "      <td>30</td>\n",
       "      <td>60</td>\n",
       "      <td>90</td>\n",
       "    </tr>\n",
       "    <tr>\n",
       "      <th>2</th>\n",
       "      <td>Haight Ashbury</td>\n",
       "      <td>San Francisco</td>\n",
       "      <td>Private room in rental unit</td>\n",
       "      <td>2</td>\n",
       "      <td>1.0</td>\n",
       "      <td>1.0</td>\n",
       "      <td>4.0</td>\n",
       "      <td>shared</td>\n",
       "      <td>32</td>\n",
       "      <td>60</td>\n",
       "      <td>...</td>\n",
       "      <td>1</td>\n",
       "      <td>1</td>\n",
       "      <td>1</td>\n",
       "      <td>1</td>\n",
       "      <td>1</td>\n",
       "      <td>1</td>\n",
       "      <td>56.0</td>\n",
       "      <td>30</td>\n",
       "      <td>60</td>\n",
       "      <td>90</td>\n",
       "    </tr>\n",
       "    <tr>\n",
       "      <th>3</th>\n",
       "      <td>Haight Ashbury</td>\n",
       "      <td>San Francisco</td>\n",
       "      <td>Private room in rental unit</td>\n",
       "      <td>2</td>\n",
       "      <td>1.0</td>\n",
       "      <td>1.0</td>\n",
       "      <td>4.0</td>\n",
       "      <td>shared</td>\n",
       "      <td>32</td>\n",
       "      <td>90</td>\n",
       "      <td>...</td>\n",
       "      <td>0</td>\n",
       "      <td>1</td>\n",
       "      <td>1</td>\n",
       "      <td>1</td>\n",
       "      <td>1</td>\n",
       "      <td>1</td>\n",
       "      <td>56.0</td>\n",
       "      <td>30</td>\n",
       "      <td>60</td>\n",
       "      <td>90</td>\n",
       "    </tr>\n",
       "    <tr>\n",
       "      <th>4</th>\n",
       "      <td>Western Addition</td>\n",
       "      <td>San Francisco</td>\n",
       "      <td>Entire condominium (condo)</td>\n",
       "      <td>4</td>\n",
       "      <td>2.0</td>\n",
       "      <td>2.0</td>\n",
       "      <td>1.5</td>\n",
       "      <td>private</td>\n",
       "      <td>7</td>\n",
       "      <td>111</td>\n",
       "      <td>...</td>\n",
       "      <td>0</td>\n",
       "      <td>1</td>\n",
       "      <td>1</td>\n",
       "      <td>1</td>\n",
       "      <td>1</td>\n",
       "      <td>1</td>\n",
       "      <td>895.0</td>\n",
       "      <td>29</td>\n",
       "      <td>59</td>\n",
       "      <td>89</td>\n",
       "    </tr>\n",
       "  </tbody>\n",
       "</table>\n",
       "<p>5 rows × 39 columns</p>\n",
       "</div>"
      ],
      "text/plain": [
       "  neighborhood_recoded         county        property_type_recoded  \\\n",
       "0     Western Addition  San Francisco    Entire serviced apartment   \n",
       "1       Bernal Heights  San Francisco           Entire rental unit   \n",
       "2       Haight Ashbury  San Francisco  Private room in rental unit   \n",
       "3       Haight Ashbury  San Francisco  Private room in rental unit   \n",
       "4     Western Addition  San Francisco   Entire condominium (condo)   \n",
       "\n",
       "   accommodates  bedrooms  beds  bathrooms bathroom_type  minimum_nights  \\\n",
       "0             3       1.0   2.0        1.0       private               2   \n",
       "1             5       2.0   3.0        1.0       private              30   \n",
       "2             2       1.0   1.0        4.0        shared              32   \n",
       "3             2       1.0   1.0        4.0        shared              32   \n",
       "4             4       2.0   2.0        1.5       private               7   \n",
       "\n",
       "   maximum_nights  ...  neighborhood_overview_f  host_about_f  \\\n",
       "0              30  ...                        1             1   \n",
       "1              60  ...                        1             1   \n",
       "2              60  ...                        1             1   \n",
       "3              90  ...                        0             1   \n",
       "4             111  ...                        0             1   \n",
       "\n",
       "   host_response_time_f  host_response_rate_f  host_acceptance_rate_f  \\\n",
       "0                     1                     1                       1   \n",
       "1                     1                     1                       1   \n",
       "2                     1                     1                       1   \n",
       "3                     1                     1                       1   \n",
       "4                     1                     1                       1   \n",
       "\n",
       "   host_neighbourhood_f  price  availability_30  availability_60  \\\n",
       "0                     1  161.0                7                7   \n",
       "1                     1  235.0               30               60   \n",
       "2                     1   56.0               30               60   \n",
       "3                     1   56.0               30               60   \n",
       "4                     1  895.0               29               59   \n",
       "\n",
       "   availability_90  \n",
       "0               10  \n",
       "1               90  \n",
       "2               90  \n",
       "3               90  \n",
       "4               89  \n",
       "\n",
       "[5 rows x 39 columns]"
      ]
     },
     "execution_count": 208,
     "metadata": {},
     "output_type": "execute_result"
    }
   ],
   "source": [
    "df_m2 = df.loc[df['availability_30'] > 0,:]\n",
    "df_m2.shape\n",
    "\n",
    "X = df_m2.drop(columns=['availability_30','availability_60','availability_90'])\n",
    "y = df_m2['availability_30']\n",
    "\n",
    "X_train, X_test, y_train, y_test = train_test_split(X, y, test_size=0.25, random_state=42)\n",
    "X_train.shape, y_train.shape, X_test.shape, y_test.shape\n",
    "\n",
    "train = df_m2.loc[df_m2.index.isin(X_train.index), :].sort_index()\n",
    "print(train.shape)\n",
    "train.head()  # include the 3 availability columns"
   ]
  },
  {
   "cell_type": "code",
   "execution_count": 209,
   "id": "2a1e777c-12d3-4bfc-b8d7-142c2f5caec7",
   "metadata": {},
   "outputs": [
    {
     "data": {
      "text/plain": [
       "Index(['neighborhood_recoded', 'county', 'property_type_recoded',\n",
       "       'accommodates', 'bedrooms', 'beds', 'bathrooms', 'bathroom_type',\n",
       "       'minimum_nights', 'maximum_nights', 'Wifi', 'Dedicated_workspace',\n",
       "       'Patio_or_balcony', 'Backyard', 'BBQ_grill', 'Outdoor_furniture',\n",
       "       'Indoor_fireplace', 'Private_entrance', 'Pool', 'review_scores_rating',\n",
       "       'review_scores_accuracy', 'review_scores_cleanliness',\n",
       "       'review_scores_checkin', 'review_scores_communication',\n",
       "       'review_scores_location', 'review_scores_value', 'number_of_reviews',\n",
       "       'number_of_reviews_ltm', 'number_of_reviews_l30d',\n",
       "       'neighborhood_overview_f', 'host_about_f', 'host_response_time_f',\n",
       "       'host_response_rate_f', 'host_acceptance_rate_f',\n",
       "       'host_neighbourhood_f', 'price'],\n",
       "      dtype='object')"
      ]
     },
     "execution_count": 209,
     "metadata": {},
     "output_type": "execute_result"
    }
   ],
   "source": [
    "X_train.columns"
   ]
  },
  {
   "cell_type": "code",
   "execution_count": 210,
   "id": "d6d6a250-f32e-48ef-b4a5-944e74cf23ea",
   "metadata": {},
   "outputs": [
    {
     "data": {
      "text/plain": [
       "(4879, 99)"
      ]
     },
     "execution_count": 210,
     "metadata": {},
     "output_type": "execute_result"
    }
   ],
   "source": [
    "# get df shape after dummification\n",
    "ohe = ce.one_hot.OneHotEncoder(use_cat_names=True, handle_unknown='value')\n",
    "X_train_ohe = ohe.fit_transform(X_train, use_cat_names=True)\n",
    "#X_train_ohe\n",
    "X_train_ohe.shape"
   ]
  },
  {
   "cell_type": "markdown",
   "id": "7e07f7b2-257d-4f77-8873-5d2b75515e39",
   "metadata": {},
   "source": [
    "### Random Forest regressor"
   ]
  },
  {
   "cell_type": "markdown",
   "id": "de339f6a-f4c1-40ce-8cbe-1523e4e9f563",
   "metadata": {},
   "source": [
    "#### Default parameter values"
   ]
  },
  {
   "cell_type": "code",
   "execution_count": 211,
   "id": "3b032441-b1b0-4ff1-939f-744579c25c25",
   "metadata": {},
   "outputs": [
    {
     "name": "stdout",
     "output_type": "stream",
     "text": [
      "m22_pipe_rf_base_R2_train:  0.8933\n",
      "m22_pipe_rf_base_R2_test:  0.2212\n",
      "m22_pipe_rf_base_mse_train 10.1086\n",
      "m22_pipe_rf_base_mse_test 73.3116\n"
     ]
    }
   ],
   "source": [
    "# Baseline model\n",
    "m22_pipe_rf_base = Pipeline([\n",
    "    ('ohe', ce.one_hot.OneHotEncoder(use_cat_names=True, handle_unknown='value')),\n",
    "    ('rf', RandomForestRegressor(random_state=42, n_jobs=-1))\n",
    "])\n",
    "\n",
    "print(datetime.datetime.now())\n",
    "m22_pipe_rf_base.fit(X_train, y_train)\n",
    "print(datetime.datetime.now())\n",
    "\n",
    "m22_pipe_rf_base_pred_train = m22_pipe_rf_base.predict(X_train)\n",
    "m22_pipe_rf_base_pred_test = m22_pipe_rf_base.predict(X_test)\n",
    "\n",
    "m22_pipe_rf_base_R2_train = m22_pipe_rf_base.score(X_train, y_train)\n",
    "m22_pipe_rf_base_R2_test = m22_pipe_rf_base.score(X_test, y_test)\n",
    "print('m22_pipe_rf_base_R2_train: ', round(m22_pipe_rf_base_R2_train, 4))\n",
    "print('m22_pipe_rf_base_R2_test: ', round(m22_pipe_rf_base_R2_test, 4))\n",
    "\n",
    "m22_pipe_rf_base_mse_train = metrics.mean_squared_error(y_train, m22_pipe_rf_base_pred_train)\n",
    "m22_pipe_rf_base_mse_test = metrics.mean_squared_error(y_test, m22_pipe_rf_base_pred_test)\n",
    "print('m22_pipe_rf_base_mse_train', round(m22_pipe_rf_base_mse_train, 4))\n",
    "print('m22_pipe_rf_base_mse_test', round(m22_pipe_rf_base_mse_test, 4))"
   ]
  },
  {
   "cell_type": "markdown",
   "id": "1301b2bf-4ec9-4c7b-afbd-c426c824d99e",
   "metadata": {},
   "source": [
    "#### GridSearchCVr2_score"
   ]
  },
  {
   "cell_type": "code",
   "execution_count": 215,
   "id": "1b1ad77a-c84f-46e8-ac40-73659adf525a",
   "metadata": {},
   "outputs": [
    {
     "name": "stdout",
     "output_type": "stream",
     "text": [
      "2022-02-04 07:19:21.086171\n"
     ]
    },
    {
     "ename": "KeyboardInterrupt",
     "evalue": "",
     "output_type": "error",
     "traceback": [
      "\u001b[0;31m---------------------------------------------------------------------------\u001b[0m",
      "\u001b[0;31mKeyboardInterrupt\u001b[0m                         Traceback (most recent call last)",
      "\u001b[0;32m/var/folders/j8/96h_tg051wg1_yyhlqp91w900000gn/T/ipykernel_89105/4109902566.py\u001b[0m in \u001b[0;36m<module>\u001b[0;34m\u001b[0m\n\u001b[1;32m     23\u001b[0m \u001b[0mprint\u001b[0m\u001b[0;34m(\u001b[0m\u001b[0mdatetime\u001b[0m\u001b[0;34m.\u001b[0m\u001b[0mdatetime\u001b[0m\u001b[0;34m.\u001b[0m\u001b[0mnow\u001b[0m\u001b[0;34m(\u001b[0m\u001b[0;34m)\u001b[0m\u001b[0;34m)\u001b[0m\u001b[0;34m\u001b[0m\u001b[0;34m\u001b[0m\u001b[0m\n\u001b[1;32m     24\u001b[0m \u001b[0;34m\u001b[0m\u001b[0m\n\u001b[0;32m---> 25\u001b[0;31m \u001b[0mm22_gs_rf\u001b[0m\u001b[0;34m.\u001b[0m\u001b[0mfit\u001b[0m\u001b[0;34m(\u001b[0m\u001b[0mX_train\u001b[0m\u001b[0;34m,\u001b[0m \u001b[0my_train\u001b[0m\u001b[0;34m)\u001b[0m\u001b[0;34m\u001b[0m\u001b[0;34m\u001b[0m\u001b[0m\n\u001b[0m\u001b[1;32m     26\u001b[0m \u001b[0;34m\u001b[0m\u001b[0m\n\u001b[1;32m     27\u001b[0m \u001b[0mprint\u001b[0m\u001b[0;34m(\u001b[0m\u001b[0mdatetime\u001b[0m\u001b[0;34m.\u001b[0m\u001b[0mdatetime\u001b[0m\u001b[0;34m.\u001b[0m\u001b[0mnow\u001b[0m\u001b[0;34m(\u001b[0m\u001b[0;34m)\u001b[0m\u001b[0;34m)\u001b[0m\u001b[0;34m\u001b[0m\u001b[0;34m\u001b[0m\u001b[0m\n",
      "\u001b[0;32m~/opt/anaconda3/envs/dsir-111/lib/python3.9/site-packages/sklearn/model_selection/_search.py\u001b[0m in \u001b[0;36mfit\u001b[0;34m(self, X, y, groups, **fit_params)\u001b[0m\n\u001b[1;32m    889\u001b[0m                 \u001b[0;32mreturn\u001b[0m \u001b[0mresults\u001b[0m\u001b[0;34m\u001b[0m\u001b[0;34m\u001b[0m\u001b[0m\n\u001b[1;32m    890\u001b[0m \u001b[0;34m\u001b[0m\u001b[0m\n\u001b[0;32m--> 891\u001b[0;31m             \u001b[0mself\u001b[0m\u001b[0;34m.\u001b[0m\u001b[0m_run_search\u001b[0m\u001b[0;34m(\u001b[0m\u001b[0mevaluate_candidates\u001b[0m\u001b[0;34m)\u001b[0m\u001b[0;34m\u001b[0m\u001b[0;34m\u001b[0m\u001b[0m\n\u001b[0m\u001b[1;32m    892\u001b[0m \u001b[0;34m\u001b[0m\u001b[0m\n\u001b[1;32m    893\u001b[0m             \u001b[0;31m# multimetric is determined here because in the case of a callable\u001b[0m\u001b[0;34m\u001b[0m\u001b[0;34m\u001b[0m\u001b[0m\n",
      "\u001b[0;32m~/opt/anaconda3/envs/dsir-111/lib/python3.9/site-packages/sklearn/model_selection/_search.py\u001b[0m in \u001b[0;36m_run_search\u001b[0;34m(self, evaluate_candidates)\u001b[0m\n\u001b[1;32m   1390\u001b[0m     \u001b[0;32mdef\u001b[0m \u001b[0m_run_search\u001b[0m\u001b[0;34m(\u001b[0m\u001b[0mself\u001b[0m\u001b[0;34m,\u001b[0m \u001b[0mevaluate_candidates\u001b[0m\u001b[0;34m)\u001b[0m\u001b[0;34m:\u001b[0m\u001b[0;34m\u001b[0m\u001b[0;34m\u001b[0m\u001b[0m\n\u001b[1;32m   1391\u001b[0m         \u001b[0;34m\"\"\"Search all candidates in param_grid\"\"\"\u001b[0m\u001b[0;34m\u001b[0m\u001b[0;34m\u001b[0m\u001b[0m\n\u001b[0;32m-> 1392\u001b[0;31m         \u001b[0mevaluate_candidates\u001b[0m\u001b[0;34m(\u001b[0m\u001b[0mParameterGrid\u001b[0m\u001b[0;34m(\u001b[0m\u001b[0mself\u001b[0m\u001b[0;34m.\u001b[0m\u001b[0mparam_grid\u001b[0m\u001b[0;34m)\u001b[0m\u001b[0;34m)\u001b[0m\u001b[0;34m\u001b[0m\u001b[0;34m\u001b[0m\u001b[0m\n\u001b[0m\u001b[1;32m   1393\u001b[0m \u001b[0;34m\u001b[0m\u001b[0m\n\u001b[1;32m   1394\u001b[0m \u001b[0;34m\u001b[0m\u001b[0m\n",
      "\u001b[0;32m~/opt/anaconda3/envs/dsir-111/lib/python3.9/site-packages/sklearn/model_selection/_search.py\u001b[0m in \u001b[0;36mevaluate_candidates\u001b[0;34m(candidate_params, cv, more_results)\u001b[0m\n\u001b[1;32m    836\u001b[0m                     )\n\u001b[1;32m    837\u001b[0m \u001b[0;34m\u001b[0m\u001b[0m\n\u001b[0;32m--> 838\u001b[0;31m                 out = parallel(\n\u001b[0m\u001b[1;32m    839\u001b[0m                     delayed(_fit_and_score)(\n\u001b[1;32m    840\u001b[0m                         \u001b[0mclone\u001b[0m\u001b[0;34m(\u001b[0m\u001b[0mbase_estimator\u001b[0m\u001b[0;34m)\u001b[0m\u001b[0;34m,\u001b[0m\u001b[0;34m\u001b[0m\u001b[0;34m\u001b[0m\u001b[0m\n",
      "\u001b[0;32m~/opt/anaconda3/envs/dsir-111/lib/python3.9/site-packages/joblib/parallel.py\u001b[0m in \u001b[0;36m__call__\u001b[0;34m(self, iterable)\u001b[0m\n\u001b[1;32m   1041\u001b[0m             \u001b[0;31m# remaining jobs.\u001b[0m\u001b[0;34m\u001b[0m\u001b[0;34m\u001b[0m\u001b[0m\n\u001b[1;32m   1042\u001b[0m             \u001b[0mself\u001b[0m\u001b[0;34m.\u001b[0m\u001b[0m_iterating\u001b[0m \u001b[0;34m=\u001b[0m \u001b[0;32mFalse\u001b[0m\u001b[0;34m\u001b[0m\u001b[0;34m\u001b[0m\u001b[0m\n\u001b[0;32m-> 1043\u001b[0;31m             \u001b[0;32mif\u001b[0m \u001b[0mself\u001b[0m\u001b[0;34m.\u001b[0m\u001b[0mdispatch_one_batch\u001b[0m\u001b[0;34m(\u001b[0m\u001b[0miterator\u001b[0m\u001b[0;34m)\u001b[0m\u001b[0;34m:\u001b[0m\u001b[0;34m\u001b[0m\u001b[0;34m\u001b[0m\u001b[0m\n\u001b[0m\u001b[1;32m   1044\u001b[0m                 \u001b[0mself\u001b[0m\u001b[0;34m.\u001b[0m\u001b[0m_iterating\u001b[0m \u001b[0;34m=\u001b[0m \u001b[0mself\u001b[0m\u001b[0;34m.\u001b[0m\u001b[0m_original_iterator\u001b[0m \u001b[0;32mis\u001b[0m \u001b[0;32mnot\u001b[0m \u001b[0;32mNone\u001b[0m\u001b[0;34m\u001b[0m\u001b[0;34m\u001b[0m\u001b[0m\n\u001b[1;32m   1045\u001b[0m \u001b[0;34m\u001b[0m\u001b[0m\n",
      "\u001b[0;32m~/opt/anaconda3/envs/dsir-111/lib/python3.9/site-packages/joblib/parallel.py\u001b[0m in \u001b[0;36mdispatch_one_batch\u001b[0;34m(self, iterator)\u001b[0m\n\u001b[1;32m    859\u001b[0m                 \u001b[0;32mreturn\u001b[0m \u001b[0;32mFalse\u001b[0m\u001b[0;34m\u001b[0m\u001b[0;34m\u001b[0m\u001b[0m\n\u001b[1;32m    860\u001b[0m             \u001b[0;32melse\u001b[0m\u001b[0;34m:\u001b[0m\u001b[0;34m\u001b[0m\u001b[0;34m\u001b[0m\u001b[0m\n\u001b[0;32m--> 861\u001b[0;31m                 \u001b[0mself\u001b[0m\u001b[0;34m.\u001b[0m\u001b[0m_dispatch\u001b[0m\u001b[0;34m(\u001b[0m\u001b[0mtasks\u001b[0m\u001b[0;34m)\u001b[0m\u001b[0;34m\u001b[0m\u001b[0;34m\u001b[0m\u001b[0m\n\u001b[0m\u001b[1;32m    862\u001b[0m                 \u001b[0;32mreturn\u001b[0m \u001b[0;32mTrue\u001b[0m\u001b[0;34m\u001b[0m\u001b[0;34m\u001b[0m\u001b[0m\n\u001b[1;32m    863\u001b[0m \u001b[0;34m\u001b[0m\u001b[0m\n",
      "\u001b[0;32m~/opt/anaconda3/envs/dsir-111/lib/python3.9/site-packages/joblib/parallel.py\u001b[0m in \u001b[0;36m_dispatch\u001b[0;34m(self, batch)\u001b[0m\n\u001b[1;32m    777\u001b[0m         \u001b[0;32mwith\u001b[0m \u001b[0mself\u001b[0m\u001b[0;34m.\u001b[0m\u001b[0m_lock\u001b[0m\u001b[0;34m:\u001b[0m\u001b[0;34m\u001b[0m\u001b[0;34m\u001b[0m\u001b[0m\n\u001b[1;32m    778\u001b[0m             \u001b[0mjob_idx\u001b[0m \u001b[0;34m=\u001b[0m \u001b[0mlen\u001b[0m\u001b[0;34m(\u001b[0m\u001b[0mself\u001b[0m\u001b[0;34m.\u001b[0m\u001b[0m_jobs\u001b[0m\u001b[0;34m)\u001b[0m\u001b[0;34m\u001b[0m\u001b[0;34m\u001b[0m\u001b[0m\n\u001b[0;32m--> 779\u001b[0;31m             \u001b[0mjob\u001b[0m \u001b[0;34m=\u001b[0m \u001b[0mself\u001b[0m\u001b[0;34m.\u001b[0m\u001b[0m_backend\u001b[0m\u001b[0;34m.\u001b[0m\u001b[0mapply_async\u001b[0m\u001b[0;34m(\u001b[0m\u001b[0mbatch\u001b[0m\u001b[0;34m,\u001b[0m \u001b[0mcallback\u001b[0m\u001b[0;34m=\u001b[0m\u001b[0mcb\u001b[0m\u001b[0;34m)\u001b[0m\u001b[0;34m\u001b[0m\u001b[0;34m\u001b[0m\u001b[0m\n\u001b[0m\u001b[1;32m    780\u001b[0m             \u001b[0;31m# A job can complete so quickly than its callback is\u001b[0m\u001b[0;34m\u001b[0m\u001b[0;34m\u001b[0m\u001b[0m\n\u001b[1;32m    781\u001b[0m             \u001b[0;31m# called before we get here, causing self._jobs to\u001b[0m\u001b[0;34m\u001b[0m\u001b[0;34m\u001b[0m\u001b[0m\n",
      "\u001b[0;32m~/opt/anaconda3/envs/dsir-111/lib/python3.9/site-packages/joblib/_parallel_backends.py\u001b[0m in \u001b[0;36mapply_async\u001b[0;34m(self, func, callback)\u001b[0m\n\u001b[1;32m    206\u001b[0m     \u001b[0;32mdef\u001b[0m \u001b[0mapply_async\u001b[0m\u001b[0;34m(\u001b[0m\u001b[0mself\u001b[0m\u001b[0;34m,\u001b[0m \u001b[0mfunc\u001b[0m\u001b[0;34m,\u001b[0m \u001b[0mcallback\u001b[0m\u001b[0;34m=\u001b[0m\u001b[0;32mNone\u001b[0m\u001b[0;34m)\u001b[0m\u001b[0;34m:\u001b[0m\u001b[0;34m\u001b[0m\u001b[0;34m\u001b[0m\u001b[0m\n\u001b[1;32m    207\u001b[0m         \u001b[0;34m\"\"\"Schedule a func to be run\"\"\"\u001b[0m\u001b[0;34m\u001b[0m\u001b[0;34m\u001b[0m\u001b[0m\n\u001b[0;32m--> 208\u001b[0;31m         \u001b[0mresult\u001b[0m \u001b[0;34m=\u001b[0m \u001b[0mImmediateResult\u001b[0m\u001b[0;34m(\u001b[0m\u001b[0mfunc\u001b[0m\u001b[0;34m)\u001b[0m\u001b[0;34m\u001b[0m\u001b[0;34m\u001b[0m\u001b[0m\n\u001b[0m\u001b[1;32m    209\u001b[0m         \u001b[0;32mif\u001b[0m \u001b[0mcallback\u001b[0m\u001b[0;34m:\u001b[0m\u001b[0;34m\u001b[0m\u001b[0;34m\u001b[0m\u001b[0m\n\u001b[1;32m    210\u001b[0m             \u001b[0mcallback\u001b[0m\u001b[0;34m(\u001b[0m\u001b[0mresult\u001b[0m\u001b[0;34m)\u001b[0m\u001b[0;34m\u001b[0m\u001b[0;34m\u001b[0m\u001b[0m\n",
      "\u001b[0;32m~/opt/anaconda3/envs/dsir-111/lib/python3.9/site-packages/joblib/_parallel_backends.py\u001b[0m in \u001b[0;36m__init__\u001b[0;34m(self, batch)\u001b[0m\n\u001b[1;32m    570\u001b[0m         \u001b[0;31m# Don't delay the application, to avoid keeping the input\u001b[0m\u001b[0;34m\u001b[0m\u001b[0;34m\u001b[0m\u001b[0m\n\u001b[1;32m    571\u001b[0m         \u001b[0;31m# arguments in memory\u001b[0m\u001b[0;34m\u001b[0m\u001b[0;34m\u001b[0m\u001b[0m\n\u001b[0;32m--> 572\u001b[0;31m         \u001b[0mself\u001b[0m\u001b[0;34m.\u001b[0m\u001b[0mresults\u001b[0m \u001b[0;34m=\u001b[0m \u001b[0mbatch\u001b[0m\u001b[0;34m(\u001b[0m\u001b[0;34m)\u001b[0m\u001b[0;34m\u001b[0m\u001b[0;34m\u001b[0m\u001b[0m\n\u001b[0m\u001b[1;32m    573\u001b[0m \u001b[0;34m\u001b[0m\u001b[0m\n\u001b[1;32m    574\u001b[0m     \u001b[0;32mdef\u001b[0m \u001b[0mget\u001b[0m\u001b[0;34m(\u001b[0m\u001b[0mself\u001b[0m\u001b[0;34m)\u001b[0m\u001b[0;34m:\u001b[0m\u001b[0;34m\u001b[0m\u001b[0;34m\u001b[0m\u001b[0m\n",
      "\u001b[0;32m~/opt/anaconda3/envs/dsir-111/lib/python3.9/site-packages/joblib/parallel.py\u001b[0m in \u001b[0;36m__call__\u001b[0;34m(self)\u001b[0m\n\u001b[1;32m    260\u001b[0m         \u001b[0;31m# change the default number of processes to -1\u001b[0m\u001b[0;34m\u001b[0m\u001b[0;34m\u001b[0m\u001b[0m\n\u001b[1;32m    261\u001b[0m         \u001b[0;32mwith\u001b[0m \u001b[0mparallel_backend\u001b[0m\u001b[0;34m(\u001b[0m\u001b[0mself\u001b[0m\u001b[0;34m.\u001b[0m\u001b[0m_backend\u001b[0m\u001b[0;34m,\u001b[0m \u001b[0mn_jobs\u001b[0m\u001b[0;34m=\u001b[0m\u001b[0mself\u001b[0m\u001b[0;34m.\u001b[0m\u001b[0m_n_jobs\u001b[0m\u001b[0;34m)\u001b[0m\u001b[0;34m:\u001b[0m\u001b[0;34m\u001b[0m\u001b[0;34m\u001b[0m\u001b[0m\n\u001b[0;32m--> 262\u001b[0;31m             return [func(*args, **kwargs)\n\u001b[0m\u001b[1;32m    263\u001b[0m                     for func, args, kwargs in self.items]\n\u001b[1;32m    264\u001b[0m \u001b[0;34m\u001b[0m\u001b[0m\n",
      "\u001b[0;32m~/opt/anaconda3/envs/dsir-111/lib/python3.9/site-packages/joblib/parallel.py\u001b[0m in \u001b[0;36m<listcomp>\u001b[0;34m(.0)\u001b[0m\n\u001b[1;32m    260\u001b[0m         \u001b[0;31m# change the default number of processes to -1\u001b[0m\u001b[0;34m\u001b[0m\u001b[0;34m\u001b[0m\u001b[0m\n\u001b[1;32m    261\u001b[0m         \u001b[0;32mwith\u001b[0m \u001b[0mparallel_backend\u001b[0m\u001b[0;34m(\u001b[0m\u001b[0mself\u001b[0m\u001b[0;34m.\u001b[0m\u001b[0m_backend\u001b[0m\u001b[0;34m,\u001b[0m \u001b[0mn_jobs\u001b[0m\u001b[0;34m=\u001b[0m\u001b[0mself\u001b[0m\u001b[0;34m.\u001b[0m\u001b[0m_n_jobs\u001b[0m\u001b[0;34m)\u001b[0m\u001b[0;34m:\u001b[0m\u001b[0;34m\u001b[0m\u001b[0;34m\u001b[0m\u001b[0m\n\u001b[0;32m--> 262\u001b[0;31m             return [func(*args, **kwargs)\n\u001b[0m\u001b[1;32m    263\u001b[0m                     for func, args, kwargs in self.items]\n\u001b[1;32m    264\u001b[0m \u001b[0;34m\u001b[0m\u001b[0m\n",
      "\u001b[0;32m~/opt/anaconda3/envs/dsir-111/lib/python3.9/site-packages/sklearn/utils/fixes.py\u001b[0m in \u001b[0;36m__call__\u001b[0;34m(self, *args, **kwargs)\u001b[0m\n\u001b[1;32m    214\u001b[0m     \u001b[0;32mdef\u001b[0m \u001b[0m__call__\u001b[0m\u001b[0;34m(\u001b[0m\u001b[0mself\u001b[0m\u001b[0;34m,\u001b[0m \u001b[0;34m*\u001b[0m\u001b[0margs\u001b[0m\u001b[0;34m,\u001b[0m \u001b[0;34m**\u001b[0m\u001b[0mkwargs\u001b[0m\u001b[0;34m)\u001b[0m\u001b[0;34m:\u001b[0m\u001b[0;34m\u001b[0m\u001b[0;34m\u001b[0m\u001b[0m\n\u001b[1;32m    215\u001b[0m         \u001b[0;32mwith\u001b[0m \u001b[0mconfig_context\u001b[0m\u001b[0;34m(\u001b[0m\u001b[0;34m**\u001b[0m\u001b[0mself\u001b[0m\u001b[0;34m.\u001b[0m\u001b[0mconfig\u001b[0m\u001b[0;34m)\u001b[0m\u001b[0;34m:\u001b[0m\u001b[0;34m\u001b[0m\u001b[0;34m\u001b[0m\u001b[0m\n\u001b[0;32m--> 216\u001b[0;31m             \u001b[0;32mreturn\u001b[0m \u001b[0mself\u001b[0m\u001b[0;34m.\u001b[0m\u001b[0mfunction\u001b[0m\u001b[0;34m(\u001b[0m\u001b[0;34m*\u001b[0m\u001b[0margs\u001b[0m\u001b[0;34m,\u001b[0m \u001b[0;34m**\u001b[0m\u001b[0mkwargs\u001b[0m\u001b[0;34m)\u001b[0m\u001b[0;34m\u001b[0m\u001b[0;34m\u001b[0m\u001b[0m\n\u001b[0m\u001b[1;32m    217\u001b[0m \u001b[0;34m\u001b[0m\u001b[0m\n\u001b[1;32m    218\u001b[0m \u001b[0;34m\u001b[0m\u001b[0m\n",
      "\u001b[0;32m~/opt/anaconda3/envs/dsir-111/lib/python3.9/site-packages/sklearn/model_selection/_validation.py\u001b[0m in \u001b[0;36m_fit_and_score\u001b[0;34m(estimator, X, y, scorer, train, test, verbose, parameters, fit_params, return_train_score, return_parameters, return_n_test_samples, return_times, return_estimator, split_progress, candidate_progress, error_score)\u001b[0m\n\u001b[1;32m    678\u001b[0m             \u001b[0mestimator\u001b[0m\u001b[0;34m.\u001b[0m\u001b[0mfit\u001b[0m\u001b[0;34m(\u001b[0m\u001b[0mX_train\u001b[0m\u001b[0;34m,\u001b[0m \u001b[0;34m**\u001b[0m\u001b[0mfit_params\u001b[0m\u001b[0;34m)\u001b[0m\u001b[0;34m\u001b[0m\u001b[0;34m\u001b[0m\u001b[0m\n\u001b[1;32m    679\u001b[0m         \u001b[0;32melse\u001b[0m\u001b[0;34m:\u001b[0m\u001b[0;34m\u001b[0m\u001b[0;34m\u001b[0m\u001b[0m\n\u001b[0;32m--> 680\u001b[0;31m             \u001b[0mestimator\u001b[0m\u001b[0;34m.\u001b[0m\u001b[0mfit\u001b[0m\u001b[0;34m(\u001b[0m\u001b[0mX_train\u001b[0m\u001b[0;34m,\u001b[0m \u001b[0my_train\u001b[0m\u001b[0;34m,\u001b[0m \u001b[0;34m**\u001b[0m\u001b[0mfit_params\u001b[0m\u001b[0;34m)\u001b[0m\u001b[0;34m\u001b[0m\u001b[0;34m\u001b[0m\u001b[0m\n\u001b[0m\u001b[1;32m    681\u001b[0m \u001b[0;34m\u001b[0m\u001b[0m\n\u001b[1;32m    682\u001b[0m     \u001b[0;32mexcept\u001b[0m \u001b[0mException\u001b[0m\u001b[0;34m:\u001b[0m\u001b[0;34m\u001b[0m\u001b[0;34m\u001b[0m\u001b[0m\n",
      "\u001b[0;32m~/opt/anaconda3/envs/dsir-111/lib/python3.9/site-packages/sklearn/pipeline.py\u001b[0m in \u001b[0;36mfit\u001b[0;34m(self, X, y, **fit_params)\u001b[0m\n\u001b[1;32m    392\u001b[0m             \u001b[0;32mif\u001b[0m \u001b[0mself\u001b[0m\u001b[0;34m.\u001b[0m\u001b[0m_final_estimator\u001b[0m \u001b[0;34m!=\u001b[0m \u001b[0;34m\"passthrough\"\u001b[0m\u001b[0;34m:\u001b[0m\u001b[0;34m\u001b[0m\u001b[0;34m\u001b[0m\u001b[0m\n\u001b[1;32m    393\u001b[0m                 \u001b[0mfit_params_last_step\u001b[0m \u001b[0;34m=\u001b[0m \u001b[0mfit_params_steps\u001b[0m\u001b[0;34m[\u001b[0m\u001b[0mself\u001b[0m\u001b[0;34m.\u001b[0m\u001b[0msteps\u001b[0m\u001b[0;34m[\u001b[0m\u001b[0;34m-\u001b[0m\u001b[0;36m1\u001b[0m\u001b[0;34m]\u001b[0m\u001b[0;34m[\u001b[0m\u001b[0;36m0\u001b[0m\u001b[0;34m]\u001b[0m\u001b[0;34m]\u001b[0m\u001b[0;34m\u001b[0m\u001b[0;34m\u001b[0m\u001b[0m\n\u001b[0;32m--> 394\u001b[0;31m                 \u001b[0mself\u001b[0m\u001b[0;34m.\u001b[0m\u001b[0m_final_estimator\u001b[0m\u001b[0;34m.\u001b[0m\u001b[0mfit\u001b[0m\u001b[0;34m(\u001b[0m\u001b[0mXt\u001b[0m\u001b[0;34m,\u001b[0m \u001b[0my\u001b[0m\u001b[0;34m,\u001b[0m \u001b[0;34m**\u001b[0m\u001b[0mfit_params_last_step\u001b[0m\u001b[0;34m)\u001b[0m\u001b[0;34m\u001b[0m\u001b[0;34m\u001b[0m\u001b[0m\n\u001b[0m\u001b[1;32m    395\u001b[0m \u001b[0;34m\u001b[0m\u001b[0m\n\u001b[1;32m    396\u001b[0m         \u001b[0;32mreturn\u001b[0m \u001b[0mself\u001b[0m\u001b[0;34m\u001b[0m\u001b[0;34m\u001b[0m\u001b[0m\n",
      "\u001b[0;32m~/opt/anaconda3/envs/dsir-111/lib/python3.9/site-packages/sklearn/ensemble/_forest.py\u001b[0m in \u001b[0;36mfit\u001b[0;34m(self, X, y, sample_weight)\u001b[0m\n\u001b[1;32m    448\u001b[0m             \u001b[0;31m# parallel_backend contexts set at a higher level,\u001b[0m\u001b[0;34m\u001b[0m\u001b[0;34m\u001b[0m\u001b[0m\n\u001b[1;32m    449\u001b[0m             \u001b[0;31m# since correctness does not rely on using threads.\u001b[0m\u001b[0;34m\u001b[0m\u001b[0;34m\u001b[0m\u001b[0m\n\u001b[0;32m--> 450\u001b[0;31m             trees = Parallel(\n\u001b[0m\u001b[1;32m    451\u001b[0m                 \u001b[0mn_jobs\u001b[0m\u001b[0;34m=\u001b[0m\u001b[0mself\u001b[0m\u001b[0;34m.\u001b[0m\u001b[0mn_jobs\u001b[0m\u001b[0;34m,\u001b[0m\u001b[0;34m\u001b[0m\u001b[0;34m\u001b[0m\u001b[0m\n\u001b[1;32m    452\u001b[0m                 \u001b[0mverbose\u001b[0m\u001b[0;34m=\u001b[0m\u001b[0mself\u001b[0m\u001b[0;34m.\u001b[0m\u001b[0mverbose\u001b[0m\u001b[0;34m,\u001b[0m\u001b[0;34m\u001b[0m\u001b[0;34m\u001b[0m\u001b[0m\n",
      "\u001b[0;32m~/opt/anaconda3/envs/dsir-111/lib/python3.9/site-packages/joblib/parallel.py\u001b[0m in \u001b[0;36m__call__\u001b[0;34m(self, iterable)\u001b[0m\n\u001b[1;32m    966\u001b[0m \u001b[0;34m\u001b[0m\u001b[0m\n\u001b[1;32m    967\u001b[0m         \u001b[0;32mif\u001b[0m \u001b[0;32mnot\u001b[0m \u001b[0mself\u001b[0m\u001b[0;34m.\u001b[0m\u001b[0m_managed_backend\u001b[0m\u001b[0;34m:\u001b[0m\u001b[0;34m\u001b[0m\u001b[0;34m\u001b[0m\u001b[0m\n\u001b[0;32m--> 968\u001b[0;31m             \u001b[0mn_jobs\u001b[0m \u001b[0;34m=\u001b[0m \u001b[0mself\u001b[0m\u001b[0;34m.\u001b[0m\u001b[0m_initialize_backend\u001b[0m\u001b[0;34m(\u001b[0m\u001b[0;34m)\u001b[0m\u001b[0;34m\u001b[0m\u001b[0;34m\u001b[0m\u001b[0m\n\u001b[0m\u001b[1;32m    969\u001b[0m         \u001b[0;32melse\u001b[0m\u001b[0;34m:\u001b[0m\u001b[0;34m\u001b[0m\u001b[0;34m\u001b[0m\u001b[0m\n\u001b[1;32m    970\u001b[0m             \u001b[0mn_jobs\u001b[0m \u001b[0;34m=\u001b[0m \u001b[0mself\u001b[0m\u001b[0;34m.\u001b[0m\u001b[0m_effective_n_jobs\u001b[0m\u001b[0;34m(\u001b[0m\u001b[0;34m)\u001b[0m\u001b[0;34m\u001b[0m\u001b[0;34m\u001b[0m\u001b[0m\n",
      "\u001b[0;32m~/opt/anaconda3/envs/dsir-111/lib/python3.9/site-packages/joblib/parallel.py\u001b[0m in \u001b[0;36m_initialize_backend\u001b[0;34m(self)\u001b[0m\n\u001b[1;32m    733\u001b[0m         \u001b[0;34m\"\"\"Build a process or thread pool and return the number of workers\"\"\"\u001b[0m\u001b[0;34m\u001b[0m\u001b[0;34m\u001b[0m\u001b[0m\n\u001b[1;32m    734\u001b[0m         \u001b[0;32mtry\u001b[0m\u001b[0;34m:\u001b[0m\u001b[0;34m\u001b[0m\u001b[0;34m\u001b[0m\u001b[0m\n\u001b[0;32m--> 735\u001b[0;31m             n_jobs = self._backend.configure(n_jobs=self.n_jobs, parallel=self,\n\u001b[0m\u001b[1;32m    736\u001b[0m                                              **self._backend_args)\n\u001b[1;32m    737\u001b[0m             \u001b[0;32mif\u001b[0m \u001b[0mself\u001b[0m\u001b[0;34m.\u001b[0m\u001b[0mtimeout\u001b[0m \u001b[0;32mis\u001b[0m \u001b[0;32mnot\u001b[0m \u001b[0;32mNone\u001b[0m \u001b[0;32mand\u001b[0m \u001b[0;32mnot\u001b[0m \u001b[0mself\u001b[0m\u001b[0;34m.\u001b[0m\u001b[0m_backend\u001b[0m\u001b[0;34m.\u001b[0m\u001b[0msupports_timeout\u001b[0m\u001b[0;34m:\u001b[0m\u001b[0;34m\u001b[0m\u001b[0;34m\u001b[0m\u001b[0m\n",
      "\u001b[0;32m~/opt/anaconda3/envs/dsir-111/lib/python3.9/site-packages/joblib/_parallel_backends.py\u001b[0m in \u001b[0;36mconfigure\u001b[0;34m(self, n_jobs, parallel, prefer, require, idle_worker_timeout, **memmappingexecutor_args)\u001b[0m\n\u001b[1;32m    492\u001b[0m                 SequentialBackend(nesting_level=self.nesting_level))\n\u001b[1;32m    493\u001b[0m \u001b[0;34m\u001b[0m\u001b[0m\n\u001b[0;32m--> 494\u001b[0;31m         self._workers = get_memmapping_executor(\n\u001b[0m\u001b[1;32m    495\u001b[0m             \u001b[0mn_jobs\u001b[0m\u001b[0;34m,\u001b[0m \u001b[0mtimeout\u001b[0m\u001b[0;34m=\u001b[0m\u001b[0midle_worker_timeout\u001b[0m\u001b[0;34m,\u001b[0m\u001b[0;34m\u001b[0m\u001b[0;34m\u001b[0m\u001b[0m\n\u001b[1;32m    496\u001b[0m             \u001b[0menv\u001b[0m\u001b[0;34m=\u001b[0m\u001b[0mself\u001b[0m\u001b[0;34m.\u001b[0m\u001b[0m_prepare_worker_env\u001b[0m\u001b[0;34m(\u001b[0m\u001b[0mn_jobs\u001b[0m\u001b[0;34m=\u001b[0m\u001b[0mn_jobs\u001b[0m\u001b[0;34m)\u001b[0m\u001b[0;34m,\u001b[0m\u001b[0;34m\u001b[0m\u001b[0;34m\u001b[0m\u001b[0m\n",
      "\u001b[0;32m~/opt/anaconda3/envs/dsir-111/lib/python3.9/site-packages/joblib/executor.py\u001b[0m in \u001b[0;36mget_memmapping_executor\u001b[0;34m(n_jobs, **kwargs)\u001b[0m\n\u001b[1;32m     18\u001b[0m \u001b[0;34m\u001b[0m\u001b[0m\n\u001b[1;32m     19\u001b[0m \u001b[0;32mdef\u001b[0m \u001b[0mget_memmapping_executor\u001b[0m\u001b[0;34m(\u001b[0m\u001b[0mn_jobs\u001b[0m\u001b[0;34m,\u001b[0m \u001b[0;34m**\u001b[0m\u001b[0mkwargs\u001b[0m\u001b[0;34m)\u001b[0m\u001b[0;34m:\u001b[0m\u001b[0;34m\u001b[0m\u001b[0;34m\u001b[0m\u001b[0m\n\u001b[0;32m---> 20\u001b[0;31m     \u001b[0;32mreturn\u001b[0m \u001b[0mMemmappingExecutor\u001b[0m\u001b[0;34m.\u001b[0m\u001b[0mget_memmapping_executor\u001b[0m\u001b[0;34m(\u001b[0m\u001b[0mn_jobs\u001b[0m\u001b[0;34m,\u001b[0m \u001b[0;34m**\u001b[0m\u001b[0mkwargs\u001b[0m\u001b[0;34m)\u001b[0m\u001b[0;34m\u001b[0m\u001b[0;34m\u001b[0m\u001b[0m\n\u001b[0m\u001b[1;32m     21\u001b[0m \u001b[0;34m\u001b[0m\u001b[0m\n\u001b[1;32m     22\u001b[0m \u001b[0;34m\u001b[0m\u001b[0m\n",
      "\u001b[0;32m~/opt/anaconda3/envs/dsir-111/lib/python3.9/site-packages/joblib/executor.py\u001b[0m in \u001b[0;36mget_memmapping_executor\u001b[0;34m(cls, n_jobs, timeout, initializer, initargs, env, temp_folder, context_id, **backend_args)\u001b[0m\n\u001b[1;32m     50\u001b[0m             \u001b[0mtemp_folder_resolver\u001b[0m\u001b[0;34m=\u001b[0m\u001b[0mmanager\u001b[0m\u001b[0;34m.\u001b[0m\u001b[0mresolve_temp_folder_name\u001b[0m\u001b[0;34m,\u001b[0m\u001b[0;34m\u001b[0m\u001b[0;34m\u001b[0m\u001b[0m\n\u001b[1;32m     51\u001b[0m             **backend_args)\n\u001b[0;32m---> 52\u001b[0;31m         _executor, executor_is_reused = super().get_reusable_executor(\n\u001b[0m\u001b[1;32m     53\u001b[0m             \u001b[0mn_jobs\u001b[0m\u001b[0;34m,\u001b[0m \u001b[0mjob_reducers\u001b[0m\u001b[0;34m=\u001b[0m\u001b[0mjob_reducers\u001b[0m\u001b[0;34m,\u001b[0m \u001b[0mresult_reducers\u001b[0m\u001b[0;34m=\u001b[0m\u001b[0mresult_reducers\u001b[0m\u001b[0;34m,\u001b[0m\u001b[0;34m\u001b[0m\u001b[0;34m\u001b[0m\u001b[0m\n\u001b[1;32m     54\u001b[0m             \u001b[0mreuse\u001b[0m\u001b[0;34m=\u001b[0m\u001b[0mreuse\u001b[0m\u001b[0;34m,\u001b[0m \u001b[0mtimeout\u001b[0m\u001b[0;34m=\u001b[0m\u001b[0mtimeout\u001b[0m\u001b[0;34m,\u001b[0m \u001b[0minitializer\u001b[0m\u001b[0;34m=\u001b[0m\u001b[0minitializer\u001b[0m\u001b[0;34m,\u001b[0m\u001b[0;34m\u001b[0m\u001b[0;34m\u001b[0m\u001b[0m\n",
      "\u001b[0;32m~/opt/anaconda3/envs/dsir-111/lib/python3.9/site-packages/joblib/externals/loky/reusable_executor.py\u001b[0m in \u001b[0;36mget_reusable_executor\u001b[0;34m(cls, max_workers, context, timeout, kill_workers, reuse, job_reducers, result_reducers, initializer, initargs, env)\u001b[0m\n\u001b[1;32m    158\u001b[0m                         \u001b[0;34m\"previous instance cannot be reused ({}).\"\u001b[0m\u001b[0;34m\u001b[0m\u001b[0;34m\u001b[0m\u001b[0m\n\u001b[1;32m    159\u001b[0m                         .format(max_workers, reason))\n\u001b[0;32m--> 160\u001b[0;31m                     \u001b[0mexecutor\u001b[0m\u001b[0;34m.\u001b[0m\u001b[0mshutdown\u001b[0m\u001b[0;34m(\u001b[0m\u001b[0mwait\u001b[0m\u001b[0;34m=\u001b[0m\u001b[0;32mTrue\u001b[0m\u001b[0;34m,\u001b[0m \u001b[0mkill_workers\u001b[0m\u001b[0;34m=\u001b[0m\u001b[0mkill_workers\u001b[0m\u001b[0;34m)\u001b[0m\u001b[0;34m\u001b[0m\u001b[0;34m\u001b[0m\u001b[0m\n\u001b[0m\u001b[1;32m    161\u001b[0m                     \u001b[0m_executor\u001b[0m \u001b[0;34m=\u001b[0m \u001b[0mexecutor\u001b[0m \u001b[0;34m=\u001b[0m \u001b[0m_executor_kwargs\u001b[0m \u001b[0;34m=\u001b[0m \u001b[0;32mNone\u001b[0m\u001b[0;34m\u001b[0m\u001b[0;34m\u001b[0m\u001b[0m\n\u001b[1;32m    162\u001b[0m                     \u001b[0;31m# Recursive call to build a new instance\u001b[0m\u001b[0;34m\u001b[0m\u001b[0;34m\u001b[0m\u001b[0m\n",
      "\u001b[0;32m~/opt/anaconda3/envs/dsir-111/lib/python3.9/site-packages/joblib/externals/loky/process_executor.py\u001b[0m in \u001b[0;36mshutdown\u001b[0;34m(self, wait, kill_workers)\u001b[0m\n\u001b[1;32m   1183\u001b[0m \u001b[0;34m\u001b[0m\u001b[0m\n\u001b[1;32m   1184\u001b[0m         \u001b[0;32mif\u001b[0m \u001b[0mexecutor_manager_thread\u001b[0m \u001b[0;32mis\u001b[0m \u001b[0;32mnot\u001b[0m \u001b[0;32mNone\u001b[0m \u001b[0;32mand\u001b[0m \u001b[0mwait\u001b[0m\u001b[0;34m:\u001b[0m\u001b[0;34m\u001b[0m\u001b[0;34m\u001b[0m\u001b[0m\n\u001b[0;32m-> 1185\u001b[0;31m             \u001b[0mexecutor_manager_thread\u001b[0m\u001b[0;34m.\u001b[0m\u001b[0mjoin\u001b[0m\u001b[0;34m(\u001b[0m\u001b[0;34m)\u001b[0m\u001b[0;34m\u001b[0m\u001b[0;34m\u001b[0m\u001b[0m\n\u001b[0m\u001b[1;32m   1186\u001b[0m \u001b[0;34m\u001b[0m\u001b[0m\n\u001b[1;32m   1187\u001b[0m         \u001b[0;31m# To reduce the risk of opening too many files, remove references to\u001b[0m\u001b[0;34m\u001b[0m\u001b[0;34m\u001b[0m\u001b[0m\n",
      "\u001b[0;32m~/opt/anaconda3/envs/dsir-111/lib/python3.9/threading.py\u001b[0m in \u001b[0;36mjoin\u001b[0;34m(self, timeout)\u001b[0m\n\u001b[1;32m   1051\u001b[0m \u001b[0;34m\u001b[0m\u001b[0m\n\u001b[1;32m   1052\u001b[0m         \u001b[0;32mif\u001b[0m \u001b[0mtimeout\u001b[0m \u001b[0;32mis\u001b[0m \u001b[0;32mNone\u001b[0m\u001b[0;34m:\u001b[0m\u001b[0;34m\u001b[0m\u001b[0;34m\u001b[0m\u001b[0m\n\u001b[0;32m-> 1053\u001b[0;31m             \u001b[0mself\u001b[0m\u001b[0;34m.\u001b[0m\u001b[0m_wait_for_tstate_lock\u001b[0m\u001b[0;34m(\u001b[0m\u001b[0;34m)\u001b[0m\u001b[0;34m\u001b[0m\u001b[0;34m\u001b[0m\u001b[0m\n\u001b[0m\u001b[1;32m   1054\u001b[0m         \u001b[0;32melse\u001b[0m\u001b[0;34m:\u001b[0m\u001b[0;34m\u001b[0m\u001b[0;34m\u001b[0m\u001b[0m\n\u001b[1;32m   1055\u001b[0m             \u001b[0;31m# the behavior of a negative timeout isn't documented, but\u001b[0m\u001b[0;34m\u001b[0m\u001b[0;34m\u001b[0m\u001b[0m\n",
      "\u001b[0;32m~/opt/anaconda3/envs/dsir-111/lib/python3.9/threading.py\u001b[0m in \u001b[0;36m_wait_for_tstate_lock\u001b[0;34m(self, block, timeout)\u001b[0m\n\u001b[1;32m   1067\u001b[0m         \u001b[0;32mif\u001b[0m \u001b[0mlock\u001b[0m \u001b[0;32mis\u001b[0m \u001b[0;32mNone\u001b[0m\u001b[0;34m:\u001b[0m  \u001b[0;31m# already determined that the C code is done\u001b[0m\u001b[0;34m\u001b[0m\u001b[0;34m\u001b[0m\u001b[0m\n\u001b[1;32m   1068\u001b[0m             \u001b[0;32massert\u001b[0m \u001b[0mself\u001b[0m\u001b[0;34m.\u001b[0m\u001b[0m_is_stopped\u001b[0m\u001b[0;34m\u001b[0m\u001b[0;34m\u001b[0m\u001b[0m\n\u001b[0;32m-> 1069\u001b[0;31m         \u001b[0;32melif\u001b[0m \u001b[0mlock\u001b[0m\u001b[0;34m.\u001b[0m\u001b[0macquire\u001b[0m\u001b[0;34m(\u001b[0m\u001b[0mblock\u001b[0m\u001b[0;34m,\u001b[0m \u001b[0mtimeout\u001b[0m\u001b[0;34m)\u001b[0m\u001b[0;34m:\u001b[0m\u001b[0;34m\u001b[0m\u001b[0;34m\u001b[0m\u001b[0m\n\u001b[0m\u001b[1;32m   1070\u001b[0m             \u001b[0mlock\u001b[0m\u001b[0;34m.\u001b[0m\u001b[0mrelease\u001b[0m\u001b[0;34m(\u001b[0m\u001b[0;34m)\u001b[0m\u001b[0;34m\u001b[0m\u001b[0;34m\u001b[0m\u001b[0m\n\u001b[1;32m   1071\u001b[0m             \u001b[0mself\u001b[0m\u001b[0;34m.\u001b[0m\u001b[0m_stop\u001b[0m\u001b[0;34m(\u001b[0m\u001b[0;34m)\u001b[0m\u001b[0;34m\u001b[0m\u001b[0;34m\u001b[0m\u001b[0m\n",
      "\u001b[0;31mKeyboardInterrupt\u001b[0m: "
     ]
    }
   ],
   "source": [
    "ohe = ce.one_hot.OneHotEncoder(use_cat_names=True)\n",
    "rf = RandomForestRegressor(random_state=42, n_jobs=-1)\n",
    "\n",
    "m22_pipe_rf = Pipeline([\n",
    "    ('ohe', ce.one_hot.OneHotEncoder(use_cat_names=True, handle_unknown='value')),\n",
    "    ('rf', RandomForestRegressor(random_state=42, n_jobs=-1))\n",
    "                     ])\n",
    "\n",
    "m22_pipe_rf_params = {\n",
    "    'rf__n_estimators': [400, 800, 900],\n",
    "    'rf__max_depth': [4, 8, 12, 20],\n",
    "    'rf__min_samples_split': [10, 20],\n",
    "    'rf__min_samples_leaf': [5,10],\n",
    "    #'rf__ccp_alpha': [0.0, 0.05],\n",
    "    'rf__max_features': [20, 60, 80, 90]\n",
    "}\n",
    "\n",
    "m22_gs_rf = GridSearchCV(m22_pipe_rf,\n",
    "                        m22_pipe_rf_params,\n",
    "                        cv=5\n",
    "                       )\n",
    "\n",
    "print(datetime.datetime.now())\n",
    "\n",
    "m22_gs_rf.fit(X_train, y_train)\n",
    "\n",
    "print(datetime.datetime.now())"
   ]
  },
  {
   "cell_type": "code",
   "execution_count": null,
   "id": "69312d68-c55e-41b7-a251-534cdc210ba0",
   "metadata": {},
   "outputs": [],
   "source": [
    "m22_gs_rf_pred_train = m22_gs_rf.predict(X_train)\n",
    "m22_gs_rf_pred_test = m22_gs_rf.predict(X_test)\n",
    "\n",
    "# evaluate\n",
    "m22_gs_rf_R2_train = m22_gs_rf.score(X_train, y_train)\n",
    "m22_gs_rf_R2_test = m22_gs_rf.score(X_test, y_test)\n",
    "print('m22_gs_rf_R2_train: ' + f'{round(m22_gs_rf_R2_train, 4)}')\n",
    "print('m22_gs_rf_R2_test:  ' + f'{round(m22_gs_rf_R2_test, 4)}')\n",
    "\n",
    "m22_gs_rf_mse_train = metrics.mean_squared_error(y_train, m22_gs_rf_pred_train)\n",
    "m22_gs_rf_mse_test = metrics.mean_squared_error(y_test, m22_gs_rf_pred_test)\n",
    "print('m22_gs_rf_mse_train: ' + f'{round(m22_gs_rf_mse_train, 4)}')\n",
    "print('m22_gs_rf_mse_test:  ' + f'{round(m22_gs_rf_mse_test, 4)}')\n",
    "\n",
    "m22_gs_rf.best_estimator_"
   ]
  },
  {
   "cell_type": "code",
   "execution_count": null,
   "id": "92694288-984a-4c9f-9658-bcebdb41bfd3",
   "metadata": {},
   "outputs": [],
   "source": []
  },
  {
   "cell_type": "code",
   "execution_count": null,
   "id": "24f49b66-0fd0-4954-a990-21bc17b58963",
   "metadata": {},
   "outputs": [],
   "source": []
  },
  {
   "cell_type": "code",
   "execution_count": null,
   "id": "6fb0971b-bb28-4fa5-a8b7-782099ad4183",
   "metadata": {},
   "outputs": [],
   "source": []
  }
 ],
 "metadata": {
  "kernelspec": {
   "display_name": "Python 3 (ipykernel)",
   "language": "python",
   "name": "python3"
  },
  "language_info": {
   "codemirror_mode": {
    "name": "ipython",
    "version": 3
   },
   "file_extension": ".py",
   "mimetype": "text/x-python",
   "name": "python",
   "nbconvert_exporter": "python",
   "pygments_lexer": "ipython3",
   "version": "3.9.7"
  }
 },
 "nbformat": 4,
 "nbformat_minor": 5
}
