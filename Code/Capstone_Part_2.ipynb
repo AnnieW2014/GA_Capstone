{
 "cells": [
  {
   "cell_type": "code",
   "execution_count": null,
   "id": "ffd5610f-e313-480b-ad42-fbaa79832cf0",
   "metadata": {},
   "outputs": [],
   "source": []
  },
  {
   "cell_type": "markdown",
   "id": "e766a534-1694-4d66-9dd5-d097d6d05934",
   "metadata": {},
   "source": [
    "# Topic: Predict Airbnb listing price in San Francisco \n",
    "\n",
    "## Problem Statement\n",
    "\n",
    "Goals: \n",
    "1. Help customers predict the reasonable price for their listings of interest  \n",
    "2. Help hosts target the reasonable listing price \n",
    "3. Help hosts understand what features of the house/room and of the listing itself are most important for the price\n",
    "\n",
    "If I could find customer data:\n",
    "4. Help Airbnb identify customers who are likely to book again (so send ads to them) and who are likely to be lost (so send incentives to them)\n",
    "\n",
    "Audience: Airbnb customers and hosts\n",
    "\n",
    "## Methods\n",
    "\n",
    "### Data\n",
    "Airbnb listing and review data from [Inside Airbnb](http://insideairbnb.com/get-the-data.html). \n",
    "\n",
    "The listing data includes \n",
    "- Features of the house/room: number of bedrooms and bathrooms, amenities, etc\n",
    "- Host services: communication, response time, etc\n",
    "- availability\n",
    "- Features of the listing itself: title, description\n",
    "- review scores: overall and on different categories \n",
    "\n",
    "The review data includes\n",
    "- reviews for the listings\n",
    "\n",
    "### Models\n",
    "1. Predict the listing price with regression models\n",
    "- Linear regression with \n",
    "- kNN\n",
    "- Decision tree\n",
    "- Random forest\n",
    "- Gradient Boosting regression\n",
    "\n",
    "2. Understand how the listing title and description affect the listing price and popularity\n",
    "- CountVectorizer / TfidfVectorizer + regression models\n",
    "\n",
    "3. Understand how the review texts are related to the review scores\n",
    "- CountVectorizer / TfidfVectorizer + regression models\n",
    "- Sentiment analysis of reviews + regression\n",
    "\n",
    "### Model selection\n",
    "1. performance metrics: mse, R2\n",
    "2. grid search"
   ]
  },
  {
   "cell_type": "code",
   "execution_count": null,
   "id": "fd5f750d-bdfa-4833-b89a-73ecf7c6688d",
   "metadata": {},
   "outputs": [],
   "source": []
  }
 ],
 "metadata": {
  "kernelspec": {
   "display_name": "Python 3",
   "language": "python",
   "name": "python3"
  },
  "language_info": {
   "codemirror_mode": {
    "name": "ipython",
    "version": 3
   },
   "file_extension": ".py",
   "mimetype": "text/x-python",
   "name": "python",
   "nbconvert_exporter": "python",
   "pygments_lexer": "ipython3",
   "version": "3.8.8"
  }
 },
 "nbformat": 4,
 "nbformat_minor": 5
}
