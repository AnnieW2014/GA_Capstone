{
 "cells": [
  {
   "cell_type": "code",
   "execution_count": 2,
   "id": "4f15a59b-4cf0-4f0c-8c65-a66d891a0ad9",
   "metadata": {},
   "outputs": [
    {
     "name": "stdout",
     "output_type": "stream",
     "text": [
      "test: 0.23\n"
     ]
    }
   ],
   "source": [
    "print(f'test: {round(0.2339, 2)}')"
   ]
  },
  {
   "cell_type": "code",
   "execution_count": null,
   "id": "f8e77737-29c0-49f0-9865-fd86352a29d6",
   "metadata": {},
   "outputs": [],
   "source": []
  }
 ],
 "metadata": {
  "kernelspec": {
   "display_name": "Python [conda env:anaconda3-dsir-111] *",
   "language": "python",
   "name": "conda-env-anaconda3-dsir-111-py"
  },
  "language_info": {
   "codemirror_mode": {
    "name": "ipython",
    "version": 3
   },
   "file_extension": ".py",
   "mimetype": "text/x-python",
   "name": "python",
   "nbconvert_exporter": "python",
   "pygments_lexer": "ipython3",
   "version": "3.9.7"
  }
 },
 "nbformat": 4,
 "nbformat_minor": 5
}
